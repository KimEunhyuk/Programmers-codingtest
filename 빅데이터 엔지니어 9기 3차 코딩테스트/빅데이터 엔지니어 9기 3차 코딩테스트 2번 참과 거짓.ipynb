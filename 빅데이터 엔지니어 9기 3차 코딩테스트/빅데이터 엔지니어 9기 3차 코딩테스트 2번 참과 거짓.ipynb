{
 "cells": [
  {
   "cell_type": "markdown",
   "id": "f5a7774b",
   "metadata": {},
   "source": [
    "## 참과 거짓"
   ]
  },
  {
   "cell_type": "markdown",
   "id": "f41f0e84",
   "metadata": {},
   "source": [
    "### 문제 설명 <br>\n",
    "스미드 교수는 논리 수업을 가르친다. 어느 날 그는 다음과 같은 문장을 칠판에 썼다.<br>\n",
    "이 문장들 중 정확히 a개의 문장이 참이다.<br>\n",
    "이 문장들 중 정확히 b개의 문장이 참이다.<br>\n",
    "이 문장들 중 정확히 c개의 문장이 참이다.<br>\n",
    "\n",
    ".<br>\n",
    ".<br>\n",
    ".<br>\n",
    "a, b, c 등은 각각 숫자이다. 그리고 그는 학생들에게 이 중 몇개의 문장이 참인지 물어보았다.<br>\n",
    "\n",
    "주어진 정수 배열 vector<int> statements에 Smith 교수가 쓴 숫자들이 적혀있다. 모두 몇 개의 문장이 참인지 리턴하시오.<br>\n",
    "만약 가능한 답이 두개 이상이라면 그 중 더 큰 숫자를 반환하여라. 가능한 답이 없다면 -1을 리턴하시오."
   ]
  },
  {
   "cell_type": "markdown",
   "id": "fd1b6b48",
   "metadata": {},
   "source": [
    "### 참고 / 제약 사항 <br>\n",
    "statements는 1개 이상, 50개 이하의 요소를 가지고 있다.\n",
    "statements의 각 요소는 0 이상, 50 이하이다."
   ]
  },
  {
   "cell_type": "markdown",
   "id": "d98c2e24",
   "metadata": {},
   "source": [
    "### 테스트 케이스 <br>\n",
    "vector<int> statements = [0,1,2,3]<br>\n",
    "리턴(정답): 1<br>\n",
    "2번째 문장만이 참이고 (이 문장들 중 정확히 하나의 문장만이 참이다) 나머지는 다 거짓이다.\n",
    "\n",
    "vector<int> statements = [0]<br>\n",
    "리턴(정답): -1<br>\n",
    "이 문제는 역설이다. 만약 문장이 참이라면 그것은 거짓을 주장하는 것이 되고, 거짓이라면 그것이 곧 참이 된다.\n",
    "\n",
    "vector<int> statements = [0,3,1,3,2,3]<br>\n",
    "    리턴(정답): 3<br>\n",
    "3번째 문장이 (1개의 문장이 참이다) 참이되는 경우와 2, 4, 6번째 문장이 (3개의 문장이 참이다) 참이 되는 경우 2가지가 있다. 더 큰 숫자를 반환하여야 하므로 답은 3이 된다.\n",
    "\n",
    "vector<int> statements = [1,1]<br>\n",
    "    리턴(정답): 0<br>\n",
    "vector<int> statements = [1]<br>\n",
    "    리턴(정답): 1"
   ]
  },
  {
   "cell_type": "code",
   "execution_count": null,
   "id": "54a427eb",
   "metadata": {},
   "outputs": [],
   "source": [
    "#핵심 소스코드의 설명을 주석으로 작성하면 평가에 큰 도움이 됩니다.\n",
    "class Solution:\n",
    "    def solution(self, statements):\n",
    "        return 0"
   ]
  },
  {
   "cell_type": "code",
   "execution_count": null,
   "id": "e44023a7",
   "metadata": {},
   "outputs": [],
   "source": []
  },
  {
   "cell_type": "markdown",
   "id": "5431bd3c",
   "metadata": {},
   "source": [
    "이해를 못하겠다........."
   ]
  },
  {
   "cell_type": "code",
   "execution_count": null,
   "id": "4ebc8f56",
   "metadata": {},
   "outputs": [],
   "source": []
  },
  {
   "cell_type": "code",
   "execution_count": null,
   "id": "d5e5479b",
   "metadata": {},
   "outputs": [],
   "source": []
  }
 ],
 "metadata": {
  "kernelspec": {
   "display_name": "Python 3 (ipykernel)",
   "language": "python",
   "name": "python3"
  },
  "language_info": {
   "codemirror_mode": {
    "name": "ipython",
    "version": 3
   },
   "file_extension": ".py",
   "mimetype": "text/x-python",
   "name": "python",
   "nbconvert_exporter": "python",
   "pygments_lexer": "ipython3",
   "version": "3.9.7"
  }
 },
 "nbformat": 4,
 "nbformat_minor": 5
}
