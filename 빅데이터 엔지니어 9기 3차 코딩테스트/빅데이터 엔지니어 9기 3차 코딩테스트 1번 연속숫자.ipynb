{
 "cells": [
  {
   "cell_type": "markdown",
   "id": "b6effbc2",
   "metadata": {},
   "source": [
    "## 연속숫자"
   ]
  },
  {
   "cell_type": "markdown",
   "id": "a97cb9f8",
   "metadata": {},
   "source": [
    "### 문제 설명\n",
    "두개의 정수 a와 b에 대하여 a와 b 사이에 있는 모든 정수가 한번씩만 등장했을 때, 이를 정수가 연속한다고 말한다.\n",
    "\n",
    "당신의 아들이 연속된 양의 정수를 임의의 순서대로 종이에 쓰고 있었다. 이 때, 각 숫자는 정확히 한번만 쓰여졌다. 그리고나서 그 중 하나의 숫자를 지웠다. 아들은 어느 숫자를 지웠는지 맞춰보라고 한다.\n",
    "\n",
    "예를 들어, (10, 7, 12, 8, 11)이 종이에 남아 있었다면 지운 숫자는 9가 된다. 만약 남은 숫자가 (2, 3)이라면 지운 숫자는 1 혹은 4가 된다. 남은 숫자가 (3, 6)이라면 당신의 아들이 실수한 것이다.\n",
    "\n",
    "종이에 남은 숫자는 numbers로 주어진다. 당신의 아들이 지웠을 가능성이 있는 모든 숫자를 정수 배열의 형태로 반환하여라. 숫자들은 높은 차순으로 정렬되어야하며 중복되는 숫자는 없어야 한다. 만약 아들이 실수를 했다면 아무것도 들어있지 않은 정수 배열을 반환하여라."
   ]
  },
  {
   "cell_type": "markdown",
   "id": "9aa30329",
   "metadata": {},
   "source": [
    "### 테스트 케이스\n",
    "numbers = [10,7,12,8,11]<br>\n",
    "리턴(정답): [9]<br>\n",
    "문제 내용에 나온 예제이다.<br>\n",
    "\n",
    "numbers = [3,6]<br>\n",
    "리턴(정답): []<br>\n",
    "문제 내용에 나온 예제이다.<br>\n",
    "\n",
    "numbers = [5,6,7,8]<br>\n",
    "리턴(정답): [4,9]<br>\n",
    "원래 숫자 목록은 {4,5,6,7,8} 혹은 {5,6,7,8,9}가 될 수 있다.<br>\n",
    "\n",
    "numbers = [1000000000]<br>\n",
    "리턴(정답): [999999999,1000000001]<br>\n",
    "numbers = [1,6,9,3,8,12,7,4,11,5,10]<br>\n",
    "리턴(정답): [2]"
   ]
  },
  {
   "cell_type": "code",
   "execution_count": null,
   "id": "f139f54a",
   "metadata": {},
   "outputs": [],
   "source": [
    "class Solution:\n",
    "    def solution(self, numbers):\n",
    "        return 0"
   ]
  },
  {
   "cell_type": "code",
   "execution_count": 1,
   "id": "e2efc850",
   "metadata": {},
   "outputs": [],
   "source": [
    "numbers = [10,7,12,8,11]"
   ]
  },
  {
   "cell_type": "code",
   "execution_count": 5,
   "id": "89818aa6",
   "metadata": {},
   "outputs": [],
   "source": [
    "numbers.sort()"
   ]
  },
  {
   "cell_type": "code",
   "execution_count": 13,
   "id": "f85cc2d9",
   "metadata": {},
   "outputs": [
    {
     "data": {
      "text/plain": [
       "[7, 8, 10, 11, 12]"
      ]
     },
     "execution_count": 13,
     "metadata": {},
     "output_type": "execute_result"
    }
   ],
   "source": [
    "numbers"
   ]
  },
  {
   "cell_type": "code",
   "execution_count": 9,
   "id": "009449ef",
   "metadata": {},
   "outputs": [
    {
     "data": {
      "text/plain": [
       "7"
      ]
     },
     "execution_count": 9,
     "metadata": {},
     "output_type": "execute_result"
    }
   ],
   "source": [
    "numbers[0]"
   ]
  },
  {
   "cell_type": "code",
   "execution_count": 16,
   "id": "980d493c",
   "metadata": {},
   "outputs": [
    {
     "data": {
      "text/plain": [
       "range(0, 4)"
      ]
     },
     "execution_count": 16,
     "metadata": {},
     "output_type": "execute_result"
    }
   ],
   "source": [
    "range(len(numbers)-1)"
   ]
  },
  {
   "cell_type": "code",
   "execution_count": 17,
   "id": "6b337247",
   "metadata": {},
   "outputs": [],
   "source": [
    "testanswer = []\n",
    "for i in range(len(numbers)-1):\n",
    "    if numbers[i]+2 == numbers[i+1]:\n",
    "        testanswer.append(numbers[i]+1)"
   ]
  },
  {
   "cell_type": "code",
   "execution_count": 18,
   "id": "3e328b39",
   "metadata": {},
   "outputs": [
    {
     "data": {
      "text/plain": [
       "[9]"
      ]
     },
     "execution_count": 18,
     "metadata": {},
     "output_type": "execute_result"
    }
   ],
   "source": [
    "testanswer"
   ]
  },
  {
   "cell_type": "code",
   "execution_count": 19,
   "id": "b52ac663",
   "metadata": {},
   "outputs": [],
   "source": [
    "numbers2 = [1,6,9,3,8,12,7,4,11,5,10]"
   ]
  },
  {
   "cell_type": "code",
   "execution_count": 23,
   "id": "abf344e8",
   "metadata": {},
   "outputs": [],
   "source": [
    "testanswer = []\n",
    "numbers2.sort()\n",
    "for i in range(len(numbers2)-1):\n",
    "    if numbers2[i]+2 == numbers2[i+1]:\n",
    "        testanswer.append(numbers2[i]+1)"
   ]
  },
  {
   "cell_type": "code",
   "execution_count": 26,
   "id": "34e9685c",
   "metadata": {},
   "outputs": [
    {
     "data": {
      "text/plain": [
       "[1, 3, 4, 5, 6, 7, 8, 9, 10, 11, 12]"
      ]
     },
     "execution_count": 26,
     "metadata": {},
     "output_type": "execute_result"
    }
   ],
   "source": [
    "numbers2"
   ]
  },
  {
   "cell_type": "code",
   "execution_count": 24,
   "id": "b2da7dcd",
   "metadata": {},
   "outputs": [
    {
     "data": {
      "text/plain": [
       "[2]"
      ]
     },
     "execution_count": 24,
     "metadata": {},
     "output_type": "execute_result"
    }
   ],
   "source": [
    "testanswer"
   ]
  },
  {
   "cell_type": "code",
   "execution_count": 25,
   "id": "2fe17ce0",
   "metadata": {},
   "outputs": [
    {
     "data": {
      "text/plain": [
       "12"
      ]
     },
     "execution_count": 25,
     "metadata": {},
     "output_type": "execute_result"
    }
   ],
   "source": [
    "numbers2[-1]"
   ]
  },
  {
   "cell_type": "code",
   "execution_count": 28,
   "id": "56e43bb5",
   "metadata": {},
   "outputs": [],
   "source": [
    "numbers3 = [5,6,7,8]"
   ]
  },
  {
   "cell_type": "code",
   "execution_count": 48,
   "id": "01ef0323",
   "metadata": {},
   "outputs": [],
   "source": [
    "testanswer2 = []"
   ]
  },
  {
   "cell_type": "code",
   "execution_count": 51,
   "id": "0daf049c",
   "metadata": {},
   "outputs": [],
   "source": [
    "testanswer2 = []\n",
    "numbers2.sort()\n",
    "for i in range(len(numbers2)-1):\n",
    "    if numbers2[i]+2 == numbers2[i+1]:\n",
    "        testanswer2.append(numbers2[i]+1)\n",
    "if testanswer2 == []:\n",
    "    testanswer2.extend([numbers2[0]-1, numbers2[-1]+1])"
   ]
  },
  {
   "cell_type": "code",
   "execution_count": 52,
   "id": "062f197d",
   "metadata": {},
   "outputs": [
    {
     "data": {
      "text/plain": [
       "[2]"
      ]
     },
     "execution_count": 52,
     "metadata": {},
     "output_type": "execute_result"
    }
   ],
   "source": [
    "testanswer2"
   ]
  },
  {
   "cell_type": "code",
   "execution_count": 39,
   "id": "e17f143c",
   "metadata": {},
   "outputs": [
    {
     "name": "stdout",
     "output_type": "stream",
     "text": [
      "[4, 9]\n"
     ]
    }
   ],
   "source": [
    "print([numbers3[0]-1, numbers3[-1]+1])"
   ]
  },
  {
   "cell_type": "code",
   "execution_count": 53,
   "id": "e355b6d3",
   "metadata": {},
   "outputs": [],
   "source": [
    "testanswer3 = []\n",
    "numbers3.sort()\n",
    "for i in range(len(numbers3)-1):\n",
    "    if numbers3[i]+2 == numbers3[i+1]:\n",
    "        testanswer3.append(numbers3[i]+1)\n",
    "if testanswer3 == []:\n",
    "    testanswer3.extend([numbers3[0]-1, numbers3[-1]+1])"
   ]
  },
  {
   "cell_type": "code",
   "execution_count": 54,
   "id": "ecc443d0",
   "metadata": {},
   "outputs": [
    {
     "data": {
      "text/plain": [
       "[4, 9]"
      ]
     },
     "execution_count": 54,
     "metadata": {},
     "output_type": "execute_result"
    }
   ],
   "source": [
    "testanswer3"
   ]
  },
  {
   "cell_type": "code",
   "execution_count": 55,
   "id": "c02b8150",
   "metadata": {},
   "outputs": [],
   "source": [
    "numbers4 = [3,6]"
   ]
  },
  {
   "cell_type": "code",
   "execution_count": 76,
   "id": "e49a89b9",
   "metadata": {},
   "outputs": [],
   "source": [
    "numbers5 = [1000000000]"
   ]
  },
  {
   "cell_type": "code",
   "execution_count": 74,
   "id": "99798db8",
   "metadata": {},
   "outputs": [],
   "source": [
    "testanswer4 = []\n",
    "numbers4.sort()\n",
    "for i in range(len(numbers4)-1):\n",
    "    if numbers4[i]+2 == numbers4[i+1]:\n",
    "        testanswer4.append(numbers4[i]+1)\n",
    "if len(testanswer4) >= 2:\n",
    "    testanswer4 = []\n",
    "elif testanswer4 == [] or len(numbers4) == 1:\n",
    "    testanswer4.extend([numbers4[0]-1, numbers4[-1]+1])"
   ]
  },
  {
   "cell_type": "code",
   "execution_count": 75,
   "id": "3e86e7e4",
   "metadata": {},
   "outputs": [
    {
     "data": {
      "text/plain": [
       "[2, 7]"
      ]
     },
     "execution_count": 75,
     "metadata": {},
     "output_type": "execute_result"
    }
   ],
   "source": [
    "testanswer4"
   ]
  },
  {
   "cell_type": "code",
   "execution_count": 84,
   "id": "726e987b",
   "metadata": {},
   "outputs": [],
   "source": [
    "testanswer5 = []\n",
    "numbers5.sort()\n",
    "answert = []\n",
    "if len(numbers5) > 1:\n",
    "    for i in range(len(numbers4)-1):\n",
    "        if numbers5[i]+2 == numbers5[i+1]:\n",
    "            testanswer5.append(numbers5[i]+1)\n",
    "            answert = testanswer5\n",
    "if len(testanswer5) >= 2:\n",
    "    answert = []\n",
    "elif testanswer5 == [] or len(numbers5) == 1:\n",
    "    answert = [numbers5[0]-1, numbers5[-1]+1]"
   ]
  },
  {
   "cell_type": "code",
   "execution_count": 85,
   "id": "a473401f",
   "metadata": {},
   "outputs": [
    {
     "data": {
      "text/plain": [
       "[]"
      ]
     },
     "execution_count": 85,
     "metadata": {},
     "output_type": "execute_result"
    }
   ],
   "source": [
    "testanswer5"
   ]
  },
  {
   "cell_type": "code",
   "execution_count": 86,
   "id": "daf54aa0",
   "metadata": {},
   "outputs": [
    {
     "data": {
      "text/plain": [
       "[999999999, 1000000001]"
      ]
     },
     "execution_count": 86,
     "metadata": {},
     "output_type": "execute_result"
    }
   ],
   "source": [
    "answert"
   ]
  },
  {
   "cell_type": "code",
   "execution_count": 125,
   "id": "b7b17062",
   "metadata": {},
   "outputs": [],
   "source": [
    "numbers = [5,6,7,8]"
   ]
  },
  {
   "cell_type": "code",
   "execution_count": 126,
   "id": "b49ecc44",
   "metadata": {},
   "outputs": [],
   "source": [
    "testanswer = []\n",
    "numbers.sort()\n",
    "answert = []\n",
    "if len(numbers) > 1:\n",
    "    for i in range(len(numbers)-1):\n",
    "        if numbers[i]+2 == numbers[i+1]:\n",
    "            testanswer.append(numbers[i]+1)\n",
    "            answert.extend(testanswer)\n",
    "elif len(testanswer) >= 2:\n",
    "    answert = []\n",
    "elif testanswer == [] or len(numbers) == 1:\n",
    "    answert = [numbers[0]-1, numbers[-1]+1]"
   ]
  },
  {
   "cell_type": "code",
   "execution_count": 127,
   "id": "ed46f0cf",
   "metadata": {},
   "outputs": [
    {
     "data": {
      "text/plain": [
       "[]"
      ]
     },
     "execution_count": 127,
     "metadata": {},
     "output_type": "execute_result"
    }
   ],
   "source": [
    "testanswer"
   ]
  },
  {
   "cell_type": "code",
   "execution_count": 128,
   "id": "522703ec",
   "metadata": {},
   "outputs": [
    {
     "data": {
      "text/plain": [
       "[]"
      ]
     },
     "execution_count": 128,
     "metadata": {},
     "output_type": "execute_result"
    }
   ],
   "source": [
    "answert"
   ]
  },
  {
   "cell_type": "code",
   "execution_count": 103,
   "id": "247b0536",
   "metadata": {},
   "outputs": [
    {
     "data": {
      "text/plain": [
       "2"
      ]
     },
     "execution_count": 103,
     "metadata": {},
     "output_type": "execute_result"
    }
   ],
   "source": [
    "len(numbers)"
   ]
  },
  {
   "cell_type": "code",
   "execution_count": 134,
   "id": "d899a887",
   "metadata": {},
   "outputs": [],
   "source": [
    "numbers = [1000000000]"
   ]
  },
  {
   "cell_type": "code",
   "execution_count": 135,
   "id": "07809ec6",
   "metadata": {},
   "outputs": [],
   "source": [
    "testanswer = []\n",
    "numbers.sort()\n",
    "answert = []\n",
    "if len(numbers) > 1:\n",
    "    for i in range(len(numbers)-1):\n",
    "        if numbers[i]+2 == numbers[i+1]:\n",
    "            testanswer.append(numbers[i]+1)\n",
    "            answert.extend(testanswer)\n",
    "elif testanswer == [] or len(numbers) == 1:\n",
    "    answert = [numbers[0]-1, numbers[-1]+1]"
   ]
  },
  {
   "cell_type": "code",
   "execution_count": 137,
   "id": "716b9cee",
   "metadata": {},
   "outputs": [
    {
     "data": {
      "text/plain": [
       "[]"
      ]
     },
     "execution_count": 137,
     "metadata": {},
     "output_type": "execute_result"
    }
   ],
   "source": [
    "testanswer"
   ]
  },
  {
   "cell_type": "code",
   "execution_count": 138,
   "id": "cb767122",
   "metadata": {},
   "outputs": [
    {
     "data": {
      "text/plain": [
       "[999999999, 1000000001]"
      ]
     },
     "execution_count": 138,
     "metadata": {},
     "output_type": "execute_result"
    }
   ],
   "source": [
    "answert"
   ]
  },
  {
   "cell_type": "code",
   "execution_count": 136,
   "id": "8da65329",
   "metadata": {},
   "outputs": [
    {
     "data": {
      "text/plain": [
       "True"
      ]
     },
     "execution_count": 136,
     "metadata": {},
     "output_type": "execute_result"
    }
   ],
   "source": [
    "testanswer == []"
   ]
  },
  {
   "cell_type": "code",
   "execution_count": 178,
   "id": "70d1e641",
   "metadata": {},
   "outputs": [],
   "source": [
    "numbers = [5,6,7,8]"
   ]
  },
  {
   "cell_type": "code",
   "execution_count": 179,
   "id": "b4f131db",
   "metadata": {},
   "outputs": [
    {
     "data": {
      "text/plain": [
       "[5, 6, 7, 8]"
      ]
     },
     "execution_count": 179,
     "metadata": {},
     "output_type": "execute_result"
    }
   ],
   "source": [
    "numbers"
   ]
  },
  {
   "cell_type": "code",
   "execution_count": 180,
   "id": "5951bcd7",
   "metadata": {},
   "outputs": [],
   "source": [
    "numbers.sort()"
   ]
  },
  {
   "cell_type": "code",
   "execution_count": 181,
   "id": "42e9a119",
   "metadata": {},
   "outputs": [
    {
     "data": {
      "text/plain": [
       "[5, 6, 7, 8]"
      ]
     },
     "execution_count": 181,
     "metadata": {},
     "output_type": "execute_result"
    }
   ],
   "source": [
    "numbers"
   ]
  },
  {
   "cell_type": "code",
   "execution_count": 156,
   "id": "00a8ba70",
   "metadata": {},
   "outputs": [],
   "source": [
    "testanswer = []\n",
    "numbers.sort()\n",
    "answert = []\n",
    "if len(numbers) > 1:\n",
    "    for i in range(len(numbers)-1):\n",
    "        if numbers[i]+2 == numbers[i+1]:\n",
    "            testanswer.append(numbers[i]+1)\n",
    "            answert.extend(testanswer)\n",
    "elif len(testanswer) >= 2:\n",
    "    answert = []\n",
    "elif testanswer == []:\n",
    "    answert = [numbers[0]-1, numbers[-1]+1]\n",
    "elif len(numbers) == 1:\n",
    "    answert = [numbers[0]-1, numbers[-1]+1]"
   ]
  },
  {
   "cell_type": "code",
   "execution_count": 157,
   "id": "3df511e5",
   "metadata": {},
   "outputs": [
    {
     "data": {
      "text/plain": [
       "[]"
      ]
     },
     "execution_count": 157,
     "metadata": {},
     "output_type": "execute_result"
    }
   ],
   "source": [
    "testanswer"
   ]
  },
  {
   "cell_type": "code",
   "execution_count": 158,
   "id": "d05b0850",
   "metadata": {},
   "outputs": [
    {
     "data": {
      "text/plain": [
       "[]"
      ]
     },
     "execution_count": 158,
     "metadata": {},
     "output_type": "execute_result"
    }
   ],
   "source": [
    "answert\n",
    "# 왜 == []이 안먹지????"
   ]
  },
  {
   "cell_type": "code",
   "execution_count": 259,
   "id": "23860d9d",
   "metadata": {},
   "outputs": [],
   "source": [
    "numbers = [10,7,12,8,11]"
   ]
  },
  {
   "cell_type": "code",
   "execution_count": 263,
   "id": "46065d13",
   "metadata": {},
   "outputs": [],
   "source": [
    "numbers = [1000000000]"
   ]
  },
  {
   "cell_type": "code",
   "execution_count": 282,
   "id": "5c54b67b",
   "metadata": {},
   "outputs": [],
   "source": [
    "numbers = [1,6,9,3,8,12,7,4,11,5,10]"
   ]
  },
  {
   "cell_type": "code",
   "execution_count": 310,
   "id": "e3bfc3d9",
   "metadata": {},
   "outputs": [],
   "source": [
    "numbers = [5,6,7,8]"
   ]
  },
  {
   "cell_type": "code",
   "execution_count": 295,
   "id": "28d663da",
   "metadata": {},
   "outputs": [],
   "source": [
    "numbers = [3,6]"
   ]
  },
  {
   "cell_type": "code",
   "execution_count": 284,
   "id": "d3f5c3b0",
   "metadata": {},
   "outputs": [],
   "source": [
    "numbers.sort()"
   ]
  },
  {
   "cell_type": "code",
   "execution_count": 311,
   "id": "abfc8d8e",
   "metadata": {},
   "outputs": [
    {
     "data": {
      "text/plain": [
       "[5, 6, 7, 8]"
      ]
     },
     "execution_count": 311,
     "metadata": {},
     "output_type": "execute_result"
    }
   ],
   "source": [
    "numbers"
   ]
  },
  {
   "cell_type": "code",
   "execution_count": 290,
   "id": "05ed50aa",
   "metadata": {},
   "outputs": [
    {
     "data": {
      "text/plain": [
       "4"
      ]
     },
     "execution_count": 290,
     "metadata": {},
     "output_type": "execute_result"
    }
   ],
   "source": [
    "len(numbers)"
   ]
  },
  {
   "cell_type": "code",
   "execution_count": 287,
   "id": "3c783db0",
   "metadata": {},
   "outputs": [
    {
     "data": {
      "text/plain": [
       "12"
      ]
     },
     "execution_count": 287,
     "metadata": {},
     "output_type": "execute_result"
    }
   ],
   "source": [
    "5+4-1"
   ]
  },
  {
   "cell_type": "code",
   "execution_count": 312,
   "id": "44af6741",
   "metadata": {},
   "outputs": [
    {
     "name": "stdout",
     "output_type": "stream",
     "text": [
      "값이 연속됩니다\n"
     ]
    }
   ],
   "source": [
    "testanswer = []\n",
    "numbers.sort()\n",
    "answert = 0\n",
    "if len(numbers) > 1:\n",
    "    for i in range(len(numbers)-1):\n",
    "        if numbers[i]+2 == numbers[i+1]:\n",
    "            testanswer.append(numbers[i]+1)\n",
    "            answert.extend(testanswer)\n",
    "            print(\"extend 했습니다\")\n",
    "    if testanswer == []:\n",
    "        if numbers[0]+len(numbers)-1 == numbers[-1]:\n",
    "            print(\"값이 연속됩니다\")\n",
    "            answert = [numbers[0]-1, numbers[-1]+1]\n",
    "        else :\n",
    "            print(\"오류값이 2개 이상입니다\")\n",
    "            answert = []\n",
    "    \n",
    "elif len(numbers) == 1:\n",
    "    answert = [numbers[0]-1, numbers[-1]+1]\n",
    "    print(\"숫자가 하나만 있습니다\")"
   ]
  },
  {
   "cell_type": "code",
   "execution_count": 313,
   "id": "4f9376fc",
   "metadata": {},
   "outputs": [
    {
     "data": {
      "text/plain": [
       "[]"
      ]
     },
     "execution_count": 313,
     "metadata": {},
     "output_type": "execute_result"
    }
   ],
   "source": [
    "testanswer"
   ]
  },
  {
   "cell_type": "code",
   "execution_count": 314,
   "id": "f63ca5d5",
   "metadata": {},
   "outputs": [
    {
     "data": {
      "text/plain": [
       "[4, 9]"
      ]
     },
     "execution_count": 314,
     "metadata": {},
     "output_type": "execute_result"
    }
   ],
   "source": [
    "answert"
   ]
  },
  {
   "cell_type": "code",
   "execution_count": 224,
   "id": "4d941f5b",
   "metadata": {},
   "outputs": [
    {
     "data": {
      "text/plain": [
       "False"
      ]
     },
     "execution_count": 224,
     "metadata": {},
     "output_type": "execute_result"
    }
   ],
   "source": [
    "testanswer == []"
   ]
  },
  {
   "cell_type": "code",
   "execution_count": 186,
   "id": "6c1131cb",
   "metadata": {},
   "outputs": [],
   "source": [
    "asdf = [1,34,234,5,3]"
   ]
  },
  {
   "cell_type": "code",
   "execution_count": 187,
   "id": "887b10cf",
   "metadata": {},
   "outputs": [
    {
     "data": {
      "text/plain": [
       "[1, 34, 234, 5, 3]"
      ]
     },
     "execution_count": 187,
     "metadata": {},
     "output_type": "execute_result"
    }
   ],
   "source": [
    "asdf"
   ]
  },
  {
   "cell_type": "code",
   "execution_count": 188,
   "id": "d79fcc6d",
   "metadata": {},
   "outputs": [],
   "source": [
    "asdf = [1,3]"
   ]
  },
  {
   "cell_type": "code",
   "execution_count": 189,
   "id": "cbe48c8b",
   "metadata": {},
   "outputs": [
    {
     "data": {
      "text/plain": [
       "[1, 3]"
      ]
     },
     "execution_count": 189,
     "metadata": {},
     "output_type": "execute_result"
    }
   ],
   "source": [
    "asdf"
   ]
  },
  {
   "cell_type": "code",
   "execution_count": 316,
   "id": "12bcf69b",
   "metadata": {},
   "outputs": [],
   "source": [
    "class Solution:\n",
    "    def solution(self, numbers):\n",
    "\n",
    "        testanswer = []\n",
    "        numbers.sort()\n",
    "        answert = []\n",
    "\n",
    "        if len(numbers) > 1:\n",
    "            for i in range(len(numbers)-1):\n",
    "                if numbers[i]+2 == numbers[i+1]:\n",
    "                    testanswer.append(numbers[i]+1)\n",
    "                    answert.extend(testanswer)\n",
    "                    print(\"extend 했습니다\")\n",
    "                    return answert\n",
    "            if testanswer == []:\n",
    "                if numbers[0]+len(numbers)-1 == numbers[-1]:\n",
    "                    print(\"값이 연속됩니다\")\n",
    "                    return [numbers[0]-1, numbers[-1]+1]\n",
    "                else :\n",
    "                    print(\"오류값이 2개 이상입니다\")\n",
    "                    return []\n",
    "        elif len(numbers) == 1:\n",
    "            print(\"숫자가 하나만 있습니다\")\n",
    "            return [numbers[0]-1, numbers[-1]+1]"
   ]
  },
  {
   "cell_type": "code",
   "execution_count": 363,
   "id": "ddb5d3a3",
   "metadata": {},
   "outputs": [],
   "source": [
    "numbers = [10,7,12,8,11]"
   ]
  },
  {
   "cell_type": "code",
   "execution_count": 380,
   "id": "e4a6bf54",
   "metadata": {},
   "outputs": [],
   "source": [
    "testanswer = []\n",
    "numbers.sort()\n",
    "answert = []\n",
    "if len(numbers) > 1:\n",
    "    for i in range(len(numbers)-1):\n",
    "        if numbers[i]+2 == numbers[i+1]:\n",
    "            testanswer.append(numbers[i]+1)\n",
    "            answert.extend(testanswer)\n",
    "            # print(\"extend 했습니다\")\n",
    "    if testanswer == []:\n",
    "        if numbers[0]+len(numbers)-1 == numbers[-1]:\n",
    "            # print(\"값이 연속됩니다\")\n",
    "            answert = [numbers[0]-1, numbers[-1]+1]\n",
    "        else :\n",
    "            # print(\"오류값이 2개 이상입니다\")\n",
    "            answert = []\n",
    "    elif len(testanswer) >= 2:\n",
    "            # print(\"오류값이 2개 이상입니다\")\n",
    "            answert = []\n",
    "\n",
    "elif len(numbers) == 1:\n",
    "    answert = [numbers[0]-1, numbers[-1]+1]\n",
    "    # print(\"숫자가 하나만 있습니다\")"
   ]
  },
  {
   "cell_type": "code",
   "execution_count": 381,
   "id": "1fb683e4",
   "metadata": {},
   "outputs": [
    {
     "data": {
      "text/plain": [
       "[2]"
      ]
     },
     "execution_count": 381,
     "metadata": {},
     "output_type": "execute_result"
    }
   ],
   "source": [
    "testanswer"
   ]
  },
  {
   "cell_type": "code",
   "execution_count": 382,
   "id": "052305ad",
   "metadata": {},
   "outputs": [
    {
     "data": {
      "text/plain": [
       "[2]"
      ]
     },
     "execution_count": 382,
     "metadata": {},
     "output_type": "execute_result"
    }
   ],
   "source": [
    "answert"
   ]
  },
  {
   "cell_type": "code",
   "execution_count": null,
   "id": "6054fd18",
   "metadata": {},
   "outputs": [],
   "source": [
    "testanswer = []\n",
    "numbers.sort()\n",
    "answert = []\n",
    "if len(numbers) > 1:\n",
    "    for i in range(len(numbers)-1):\n",
    "        if numbers[i]+1 != numbers[i+1]:\n",
    "            testanswer.append(numbers[i]+1)\n",
    "            answert.extend(testanswer)\n",
    "            print(\"extend 했습니다\")\n",
    "    if testanswer == []:\n",
    "        if numbers[0]+len(numbers)-1 == numbers[-1]:\n",
    "            print(\"값이 연속됩니다\")\n",
    "            answert = [numbers[0]-1, numbers[-1]+1]\n",
    "        else :\n",
    "            print(\"오류값이 2개 이상입니다\")\n",
    "            answert = []\n",
    "    \n",
    "elif len(numbers) == 1:\n",
    "    answert = [numbers[0]-1, numbers[-1]+1]\n",
    "    print(\"숫자가 하나만 있습니다\")\n",
    "    \n",
    "print(answert)"
   ]
  },
  {
   "cell_type": "code",
   "execution_count": 372,
   "id": "73bf4cbb",
   "metadata": {},
   "outputs": [],
   "source": [
    "numbers = [3,6]"
   ]
  },
  {
   "cell_type": "code",
   "execution_count": 374,
   "id": "859b64ce",
   "metadata": {},
   "outputs": [],
   "source": [
    "numbers = [10,7,12,8,11]"
   ]
  },
  {
   "cell_type": "code",
   "execution_count": 375,
   "id": "a627aa12",
   "metadata": {},
   "outputs": [],
   "source": [
    "numbers.sort()"
   ]
  },
  {
   "cell_type": "code",
   "execution_count": 377,
   "id": "5e16cc61",
   "metadata": {},
   "outputs": [
    {
     "data": {
      "text/plain": [
       "[7, 8, 10, 11, 12]"
      ]
     },
     "execution_count": 377,
     "metadata": {},
     "output_type": "execute_result"
    }
   ],
   "source": [
    "numbers"
   ]
  },
  {
   "cell_type": "code",
   "execution_count": null,
   "id": "522c4f9b",
   "metadata": {},
   "outputs": [],
   "source": [
    "testanswer = []\n",
    "numbers.sort()\n",
    "answert = []\n",
    "if len(numbers) > 1:\n",
    "    for i in range(len(numbers)-2):\n",
    "        if numbers[i+1] - numbers[i] != 1:\n",
    "            for j in range(numbers[i+1] - numbers[i]-1):\n",
    "                testanswer.append(numbers[0]+j+1)\n",
    "        answert.extend(testanswer)\n",
    "        print(\"extend 했습니다\")\n",
    "    if testanswer == []:\n",
    "        if numbers[0]+len(numbers)-1 == numbers[-1]:\n",
    "            print(\"값이 연속됩니다\")\n",
    "            answert = [numbers[0]-1, numbers[-1]+1]\n",
    "        else :\n",
    "            print(\"오류값이 2개 이상입니다\")\n",
    "            answert = []\n",
    "    \n",
    "elif len(numbers) == 1:\n",
    "    answert = [numbers[0]-1, numbers[-1]+1]\n",
    "    print(\"숫자가 하나만 있습니다\")\n",
    "    \n",
    "print(answert)"
   ]
  },
  {
   "cell_type": "code",
   "execution_count": 376,
   "id": "26b11e9f",
   "metadata": {},
   "outputs": [
    {
     "data": {
      "text/plain": [
       "range(0, 3)"
      ]
     },
     "execution_count": 376,
     "metadata": {},
     "output_type": "execute_result"
    }
   ],
   "source": [
    "range(len(numbers)-2)"
   ]
  },
  {
   "cell_type": "code",
   "execution_count": 371,
   "id": "9b8e3d6f",
   "metadata": {},
   "outputs": [
    {
     "data": {
      "text/plain": [
       "[0, 1]"
      ]
     },
     "execution_count": 371,
     "metadata": {},
     "output_type": "execute_result"
    }
   ],
   "source": [
    "list(range(3-1))"
   ]
  },
  {
   "cell_type": "code",
   "execution_count": 378,
   "id": "2b3fc20a",
   "metadata": {},
   "outputs": [
    {
     "data": {
      "text/plain": [
       "range(0, 1)"
      ]
     },
     "execution_count": 378,
     "metadata": {},
     "output_type": "execute_result"
    }
   ],
   "source": [
    "range(numbers[2] - numbers[1]-1)"
   ]
  },
  {
   "cell_type": "code",
   "execution_count": null,
   "id": "2b94452a",
   "metadata": {},
   "outputs": [],
   "source": []
  },
  {
   "cell_type": "code",
   "execution_count": 429,
   "id": "e12c7b13",
   "metadata": {},
   "outputs": [],
   "source": [
    "numbers = [1,2,4,5,6,9]"
   ]
  },
  {
   "cell_type": "code",
   "execution_count": 433,
   "id": "96f6768b",
   "metadata": {},
   "outputs": [],
   "source": [
    "numbers = [10,7,12,8,11]"
   ]
  },
  {
   "cell_type": "code",
   "execution_count": 437,
   "id": "19681466",
   "metadata": {},
   "outputs": [],
   "source": [
    "numbers = [3,6]"
   ]
  },
  {
   "cell_type": "code",
   "execution_count": 441,
   "id": "3e94cc83",
   "metadata": {},
   "outputs": [],
   "source": [
    "numbers = [5,6,7,8]"
   ]
  },
  {
   "cell_type": "code",
   "execution_count": 445,
   "id": "4018b16b",
   "metadata": {},
   "outputs": [],
   "source": [
    "numbers = [1000000000]"
   ]
  },
  {
   "cell_type": "code",
   "execution_count": 449,
   "id": "d80ab928",
   "metadata": {},
   "outputs": [],
   "source": [
    "numbers = [1,6,9,3,8,12,7,4,11,5,10]"
   ]
  },
  {
   "cell_type": "code",
   "execution_count": 453,
   "id": "33a44cbe",
   "metadata": {},
   "outputs": [],
   "source": [
    "numbers = [1,2,4,5,6,9]"
   ]
  },
  {
   "cell_type": "code",
   "execution_count": 463,
   "id": "3ddc5a74",
   "metadata": {},
   "outputs": [],
   "source": [
    "numbers = [999,1000,1001]"
   ]
  },
  {
   "cell_type": "code",
   "execution_count": 467,
   "id": "9a5b3dad",
   "metadata": {},
   "outputs": [],
   "source": [
    "testanswer = []\n",
    "numbers.sort()\n",
    "answert = []\n",
    "if len(numbers) > 1:\n",
    "    for i in range(len(numbers)-1):\n",
    "        if numbers[i+1] - numbers[i] > 1:\n",
    "            for j in range(numbers[i+1] - numbers[i] -1):\n",
    "                testanswer.append(numbers[i]+j+1)\n",
    "            answert = testanswer\n",
    "            # print(\"append 했습니다\")\n",
    "    if len(testanswer) == 0:\n",
    "        if numbers[0]+len(numbers)-1 == numbers[-1]:\n",
    "            # print(\"값이 연속됩니다\")\n",
    "            answert = [numbers[0]-1, numbers[-1]+1]\n",
    "    elif len(testanswer) > 1:\n",
    "            # print(\"오류값이 2개 이상입니다\")\n",
    "            answert = []\n",
    "\n",
    "elif len(numbers) == 1:\n",
    "    answert = [numbers[0]-1, numbers[0]+1]\n",
    "    # print(\"숫자가 하나만 있습니다\")"
   ]
  },
  {
   "cell_type": "code",
   "execution_count": 468,
   "id": "e35eac0e",
   "metadata": {},
   "outputs": [
    {
     "data": {
      "text/plain": [
       "[]"
      ]
     },
     "execution_count": 468,
     "metadata": {},
     "output_type": "execute_result"
    }
   ],
   "source": [
    "testanswer"
   ]
  },
  {
   "cell_type": "code",
   "execution_count": 469,
   "id": "8a16114b",
   "metadata": {},
   "outputs": [
    {
     "data": {
      "text/plain": [
       "[998, 1002]"
      ]
     },
     "execution_count": 469,
     "metadata": {},
     "output_type": "execute_result"
    }
   ],
   "source": [
    "answert"
   ]
  },
  {
   "cell_type": "code",
   "execution_count": 470,
   "id": "93c3bbd8",
   "metadata": {},
   "outputs": [
    {
     "data": {
      "text/plain": [
       "[]"
      ]
     },
     "execution_count": 470,
     "metadata": {},
     "output_type": "execute_result"
    }
   ],
   "source": [
    "list(range(numbers[2] - numbers[1] -1))"
   ]
  },
  {
   "cell_type": "code",
   "execution_count": 411,
   "id": "38fb37e8",
   "metadata": {},
   "outputs": [
    {
     "data": {
      "text/plain": [
       "[0, 1]"
      ]
     },
     "execution_count": 411,
     "metadata": {},
     "output_type": "execute_result"
    }
   ],
   "source": [
    "list(range(numbers[5] - numbers[4]-1))"
   ]
  },
  {
   "cell_type": "code",
   "execution_count": null,
   "id": "bc87b0ac",
   "metadata": {},
   "outputs": [],
   "source": []
  },
  {
   "cell_type": "code",
   "execution_count": 396,
   "id": "37dd4c11",
   "metadata": {},
   "outputs": [],
   "source": [
    "asdf2 = [1,2,3,4]\n",
    "qwer2 = [8,6,4,5]"
   ]
  },
  {
   "cell_type": "code",
   "execution_count": 399,
   "id": "e4997aab",
   "metadata": {},
   "outputs": [],
   "source": [
    "asdf2 = qwer2"
   ]
  },
  {
   "cell_type": "code",
   "execution_count": 400,
   "id": "8b6e148e",
   "metadata": {},
   "outputs": [
    {
     "data": {
      "text/plain": [
       "[8, 6, 4, 5]"
      ]
     },
     "execution_count": 400,
     "metadata": {},
     "output_type": "execute_result"
    }
   ],
   "source": [
    "asdf2"
   ]
  },
  {
   "cell_type": "code",
   "execution_count": 401,
   "id": "5fd64d8f",
   "metadata": {},
   "outputs": [
    {
     "data": {
      "text/plain": [
       "[8, 6, 4, 5]"
      ]
     },
     "execution_count": 401,
     "metadata": {},
     "output_type": "execute_result"
    }
   ],
   "source": [
    "qwer2"
   ]
  },
  {
   "cell_type": "code",
   "execution_count": 457,
   "id": "75c1d7bd",
   "metadata": {},
   "outputs": [],
   "source": [
    "numbers = [1000000000]"
   ]
  },
  {
   "cell_type": "code",
   "execution_count": 458,
   "id": "f74d67b6",
   "metadata": {},
   "outputs": [
    {
     "data": {
      "text/plain": [
       "1"
      ]
     },
     "execution_count": 458,
     "metadata": {},
     "output_type": "execute_result"
    }
   ],
   "source": [
    "len(numbers)"
   ]
  },
  {
   "cell_type": "markdown",
   "id": "06f3a484",
   "metadata": {},
   "source": [
    "7번 문제에서 에러가 나는데 해결하지 못했다.\n",
    "어떤 경우의수가 더 있는지 머리에 떠오르지 않는다.\n",
    "알고싶다"
   ]
  },
  {
   "cell_type": "code",
   "execution_count": null,
   "id": "07448e23",
   "metadata": {},
   "outputs": [],
   "source": []
  }
 ],
 "metadata": {
  "kernelspec": {
   "display_name": "Python 3 (ipykernel)",
   "language": "python",
   "name": "python3"
  },
  "language_info": {
   "codemirror_mode": {
    "name": "ipython",
    "version": 3
   },
   "file_extension": ".py",
   "mimetype": "text/x-python",
   "name": "python",
   "nbconvert_exporter": "python",
   "pygments_lexer": "ipython3",
   "version": "3.9.7"
  }
 },
 "nbformat": 4,
 "nbformat_minor": 5
}
