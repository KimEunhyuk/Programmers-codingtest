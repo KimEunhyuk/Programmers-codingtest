{
 "cells": [
  {
   "cell_type": "markdown",
   "id": "7123137d",
   "metadata": {},
   "source": [
    "## 가방 퀴즈"
   ]
  },
  {
   "cell_type": "markdown",
   "id": "e57a8288",
   "metadata": {},
   "source": [
    "### 문제 설명\n",
    "1부터 n까지 번호가 붙여진 n개의 가방이 있다. 각 가방은 다른 가방에 넣을 수 있으며, 다른 가방에 들어간 가방 역시 다른 가방을 넣고 있을 수 있다. 문제의 명확성을 위해 가방 i가 가방 j의 안에 있다는 것은 가방 i가 가방 j에 직접적으로 들어있음을 의미한다.\n",
    "예를 들어서, 가방 2가 가방 1 안에 있고, 가방 3이 가방 2 안에 있으면, 가방 3은 가방 2 안에 있지만 가방 1 안에 있지는 않다.<br>\n",
    "\n",
    "모든 가방은 처음에 다 빈 채로 바닥에 놓여 있다. 우리는 다음에 나열되는 것들 중 하나의 행동을 각각 단계적으로 취할 것이다.<br>\n",
    "\n",
    "PUT i INSIDE j - 가방 i를 가방 j안에 넣는다. 이 행동을 취하기 위해서는 가방 i와 j는 반드시 바닥에 놓여있어야 한다.<br>\n",
    "SET i LOOSE - 가방 i안에 있는 모든 가방을 다시 꺼내서 바닥에 놓는다. 이 행동을 취하기 위해서는 가방 i는 반드시 바닥에 놓여 있어야 한다.<br>\n",
    "SWAP i WITH j - 가방 i와 가방 j의 내용물을 서로 바꾼다 (다시 말하면, 가방 i의 모든 내용물을 꺼내서 가방 j에 넣고, 가방 j의 모든 내용물을 꺼내서 가방 i에 넣는다). 이 행동을 취하기 위해서는 가방 i와 j는 반드시 바닥에 놓여 있어야 한다.<br>\n",
    "<br>\n",
    "가방들이 놓여진 마지막 상태에서 어떤 가방도 자기보다 더 작은 번호의 가방 안에 들어가 있지 않을 때, 이 상태를 적절하다고 말한다. 주어진 가방의 개수 int n과 취할 행동의 단계 vector<string> actions를 이용하여 마지막 상태가 적절한지 판단하여라. 만약 적절하다면 마지막 상태에 바닥에 놓인 가방의 개수를 반환하여라. 적절하지 않거나 어느 단계의 행동이 유효하지 않다면 -1을 반환하여라."
   ]
  },
  {
   "cell_type": "markdown",
   "id": "ac46bdca",
   "metadata": {},
   "source": [
    "### 참고 / 제약 사항\n",
    "n은 1 이상, 50 이하이다. <br>\n",
    "actions는 0개 이상, 50개 이하의 요소를 가진다.<br>\n",
    "actions의 각 요소는 \"PUT i INSIDE j\" (이 때, i와 j는 1부터 n사이의 서로 다른 두 정수이며 leading zero는 없다), 혹은 \"SET i LOOSE\" (이 때, i는 1부터 n사이의 정수이며 leading zero는 없다), 혹은 \"SWAP i WITH j\" (이 때, i와 j는 1부터 n사이의 서로 다른 두 정수이며 leading zero는 없다)와 같은 형태로 이루어지며 따옴표는 문자열에 포함되지 않는다."
   ]
  },
  {
   "cell_type": "markdown",
   "id": "7e8d534d",
   "metadata": {},
   "source": [
    "### 테스트 케이스\n",
    "int n = 2 <br>\n",
    "vector<string> actions = [\"PUT 1 INSIDE 2\"]<br>\n",
    "리턴(정답): 1<br>\n",
    "가방 1이 가방 2 안에 들어가 있으므로 적절한 상태이고 오직 하나의 가방만이 바닥에 놓여있다.<br>\n",
    "<br>\n",
    "    \n",
    "int n = 2<br>\n",
    "vector<string> actions = [\"PUT 1 INSIDE 2\",\"SET 2 LOOSE\"]<br>\n",
    "리턴(정답): 2<br>\n",
    "처음 상태와 마지막 상태가 동일하게 된다.<br>\n",
    "<br>\n",
    "    \n",
    "int n = 2<br>\n",
    "vector<string> actions = [\"PUT 2 INSIDE 1\"]<br>\n",
    "리턴(정답): -1<br>\n",
    "가방 2가 가방 1 안에 들어가 있으므로, 더 적은 숫자의 가방 안에 들어가 있게 된다. 따라서 이 경우는 부적절한 상태이다.<br>\n",
    "<br>\n",
    "    \n",
    "int n = 4<br>\n",
    "vector<string> actions = [\"PUT 3 INSIDE 2\",\"SWAP 4 WITH 2\",\"PUT 2 INSIDE 4\",\"SET 1 LOOSE\"]<br>\n",
    "리턴(정답): 2<br>\n",
    "    \n",
    "int n = 3<br>\n",
    "vector<string> actions = [\"PUT 1 INSIDE 2\",\"PUT 3 INSIDE 1\"]<br>\n",
    "리턴(정답): -1<br>\n",
    "마지막 행동은 가방 1이 바닥에 놓여 있지 않으므로 유효하지 않다."
   ]
  },
  {
   "cell_type": "code",
   "execution_count": null,
   "id": "88421bcd",
   "metadata": {},
   "outputs": [],
   "source": []
  }
 ],
 "metadata": {
  "kernelspec": {
   "display_name": "Python 3 (ipykernel)",
   "language": "python",
   "name": "python3"
  },
  "language_info": {
   "codemirror_mode": {
    "name": "ipython",
    "version": 3
   },
   "file_extension": ".py",
   "mimetype": "text/x-python",
   "name": "python",
   "nbconvert_exporter": "python",
   "pygments_lexer": "ipython3",
   "version": "3.9.7"
  }
 },
 "nbformat": 4,
 "nbformat_minor": 5
}
