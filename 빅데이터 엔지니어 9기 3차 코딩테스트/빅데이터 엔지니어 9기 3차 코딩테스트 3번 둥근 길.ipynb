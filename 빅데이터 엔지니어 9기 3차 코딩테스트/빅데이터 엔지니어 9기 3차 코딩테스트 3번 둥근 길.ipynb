{
 "cells": [
  {
   "cell_type": "markdown",
   "id": "531322fa",
   "metadata": {},
   "source": [
    "## 둥근 길"
   ]
  },
  {
   "cell_type": "markdown",
   "id": "7ddd0d15",
   "metadata": {},
   "source": [
    "### 문제 설명 <br>\n",
    "엘보니아의 왕은 int width미터 * int length미터 넓이의 궁전에서 살고 있다. 그는 신하들을 진흙 위에 살고 있게 하였기 때문에 인기 있는 왕은 아니었다. 그는 방문자들이 그를 접견하기 위해 오래 걷게 만들고 싶어서 궁전을 나누고 싶어했다. 왕의 보안 고문은 나선형으로 나누자고 제안했다. 방문자는 남서쪽 모서리에서 입궁하여 동쪽으로 걷는다. 방문자 앞에 벽이 나타나면 왼쪽으로 방향을 바꾼다. 나선형 복도의 너비는 1미터이다.<br>\n",
    "<br>\n",
    "\n",
    "아래 다이어그램은 나선형 길의 한 예제이다:<br>\n",
    "방문객은 a (남서쪽 모서리)에서 출발하여 알파벳 순서대로 x (왕좌)까지 이동한다.<br>\n",
    "nmlkji<br>\n",
    "oxwvuh<br>\n",
    "pqrstg<br>\n",
    "abcdef<br>\n",
    "<br>\n",
    "왕은 궁전의 길을 새로 만들기 전에 그의 왕좌를 먼저 정확한 위치로 옮기고 싶어하기 때문에 나선형의 길이 어디서 끝날지 알아야 한다. 왕좌의 좌표를 두개의 정수로 리턴하시오.<br>\n",
    "\n",
    "남서쪽 모서리는 (0, 0)이고 남동쪽 모서리는 (width - 1, 0), 그리고 북동쪽 모서리는 (width - 1, length - 1)이다.<br>\n",
    "\n"
   ]
  },
  {
   "cell_type": "markdown",
   "id": "9f2142eb",
   "metadata": {},
   "source": [
    "참고 / 제약 사항 <br>\n",
    "width와 length는 둘 다 최소값 1, 최대값 5000의 범위를 가진다."
   ]
  },
  {
   "cell_type": "markdown",
   "id": "89dda9b3",
   "metadata": {},
   "source": [
    "### 테스트 케이스 \n",
    "int width = 6 <br>\n",
    "int length = 4<br>\n",
    "리턴(정답): [1,2]<br>\n",
    "문제 내용에 언급된 예제이다.<br>\n",
    "<br>\n",
    "int width = 6<br>\n",
    "int length = 5<br>\n",
    "리턴(정답): [3,2]<br>\n",
    "\n",
    "int width = 1<br>\n",
    "int length = 11<br>\n",
    "리턴(정답): [0,10]<br>\n",
    "\n",
    "int width = 12<br>\n",
    "int length = 50<br>\n",
    "리턴(정답): [5,6]<br>\n",
    "\n",
    "int width = 50<br>\n",
    "int length = 50<br>\n",
    "리턴(정답): [24,25]"
   ]
  },
  {
   "cell_type": "code",
   "execution_count": null,
   "id": "8e8769b4",
   "metadata": {},
   "outputs": [],
   "source": [
    "#핵심 소스코드의 설명을 주석으로 작성하면 평가에 큰 도움이 됩니다.\n",
    "class Solution:\n",
    "    def solution(self, width, length):\n",
    "        return 0"
   ]
  },
  {
   "cell_type": "code",
   "execution_count": 2,
   "id": "47b64101",
   "metadata": {},
   "outputs": [
    {
     "data": {
      "text/plain": [
       "23"
      ]
     },
     "execution_count": 2,
     "metadata": {},
     "output_type": "execute_result"
    }
   ],
   "source": [
    "sum([5,3,5,2,4,1,3])"
   ]
  },
  {
   "cell_type": "code",
   "execution_count": 1,
   "id": "d1d9e820",
   "metadata": {},
   "outputs": [
    {
     "data": {
      "text/plain": [
       "23"
      ]
     },
     "execution_count": 1,
     "metadata": {},
     "output_type": "execute_result"
    }
   ],
   "source": [
    "sum([5,4,5,3,4,2])"
   ]
  },
  {
   "cell_type": "code",
   "execution_count": 9,
   "id": "e85c09c8",
   "metadata": {},
   "outputs": [],
   "source": [
    "width = 6\n",
    "length = 5\n",
    "\n",
    "widthX = []\n",
    "lengthY = []"
   ]
  },
  {
   "cell_type": "code",
   "execution_count": 10,
   "id": "bb5b938e",
   "metadata": {},
   "outputs": [],
   "source": [
    "widthX += [width-1]"
   ]
  },
  {
   "cell_type": "code",
   "execution_count": 11,
   "id": "8a456818",
   "metadata": {},
   "outputs": [
    {
     "data": {
      "text/plain": [
       "[5]"
      ]
     },
     "execution_count": 11,
     "metadata": {},
     "output_type": "execute_result"
    }
   ],
   "source": [
    "widthX"
   ]
  },
  {
   "cell_type": "code",
   "execution_count": 12,
   "id": "afbad9aa",
   "metadata": {},
   "outputs": [],
   "source": [
    "lengthY += [length-1]"
   ]
  },
  {
   "cell_type": "code",
   "execution_count": 13,
   "id": "ea2a2ef5",
   "metadata": {},
   "outputs": [
    {
     "data": {
      "text/plain": [
       "[4]"
      ]
     },
     "execution_count": 13,
     "metadata": {},
     "output_type": "execute_result"
    }
   ],
   "source": [
    "lengthY"
   ]
  },
  {
   "cell_type": "code",
   "execution_count": 14,
   "id": "b86d3cd1",
   "metadata": {},
   "outputs": [],
   "source": [
    "widthX += [width-1]"
   ]
  },
  {
   "cell_type": "code",
   "execution_count": 15,
   "id": "8f72ec09",
   "metadata": {},
   "outputs": [
    {
     "data": {
      "text/plain": [
       "[5, 5]"
      ]
     },
     "execution_count": 15,
     "metadata": {},
     "output_type": "execute_result"
    }
   ],
   "source": [
    "widthX"
   ]
  },
  {
   "cell_type": "code",
   "execution_count": null,
   "id": "f6bf8c1f",
   "metadata": {},
   "outputs": [],
   "source": [
    "lengthY += "
   ]
  },
  {
   "cell_type": "code",
   "execution_count": null,
   "id": "1ede5469",
   "metadata": {},
   "outputs": [],
   "source": []
  },
  {
   "cell_type": "code",
   "execution_count": 28,
   "id": "82fe836d",
   "metadata": {},
   "outputs": [
    {
     "data": {
      "text/plain": [
       "[0, 1, 2, 3, 4, 5]"
      ]
     },
     "execution_count": 28,
     "metadata": {},
     "output_type": "execute_result"
    }
   ],
   "source": [
    "list(range(width))"
   ]
  },
  {
   "cell_type": "code",
   "execution_count": 51,
   "id": "84ef20ec",
   "metadata": {},
   "outputs": [],
   "source": [
    "widthX += [width-1]\n",
    "lengthY += [length-1]\n",
    "\n",
    "if widthX + lengthY != 25:\n",
    "    widthX += [width-1]\n",
    "    \n",
    "elif widthX + lengthY != 25:\n",
    "    lengthY += [length-2]\n",
    "    \n",
    "elif widthX + lengthY != 25:"
   ]
  },
  {
   "cell_type": "code",
   "execution_count": 52,
   "id": "59d8ce22",
   "metadata": {},
   "outputs": [
    {
     "data": {
      "text/plain": [
       "[5, 5]"
      ]
     },
     "execution_count": 52,
     "metadata": {},
     "output_type": "execute_result"
    }
   ],
   "source": [
    "widthX"
   ]
  },
  {
   "cell_type": "code",
   "execution_count": 53,
   "id": "cc8fc3d9",
   "metadata": {},
   "outputs": [
    {
     "data": {
      "text/plain": [
       "[4, 3]"
      ]
     },
     "execution_count": 53,
     "metadata": {},
     "output_type": "execute_result"
    }
   ],
   "source": [
    "lengthY"
   ]
  },
  {
   "cell_type": "code",
   "execution_count": 50,
   "id": "d9efb843",
   "metadata": {},
   "outputs": [],
   "source": [
    "widthX = []\n",
    "lengthY = []"
   ]
  },
  {
   "cell_type": "code",
   "execution_count": 62,
   "id": "7d8a563c",
   "metadata": {
    "scrolled": true
   },
   "outputs": [
    {
     "ename": "TypeError",
     "evalue": "'<' not supported between instances of 'list' and 'int'",
     "output_type": "error",
     "traceback": [
      "\u001b[1;31m---------------------------------------------------------------------------\u001b[0m",
      "\u001b[1;31mTypeError\u001b[0m                                 Traceback (most recent call last)",
      "\u001b[1;32m~\\AppData\\Local\\Temp/ipykernel_20112/2254035456.py\u001b[0m in \u001b[0;36m<module>\u001b[1;34m\u001b[0m\n\u001b[0;32m      1\u001b[0m \u001b[0mwidthX\u001b[0m \u001b[1;33m=\u001b[0m \u001b[1;33m[\u001b[0m\u001b[0mwidth\u001b[0m\u001b[1;33m-\u001b[0m\u001b[1;36m1\u001b[0m\u001b[1;33m]\u001b[0m\u001b[1;33m\u001b[0m\u001b[1;33m\u001b[0m\u001b[0m\n\u001b[0;32m      2\u001b[0m \u001b[0mlengthY\u001b[0m \u001b[1;33m=\u001b[0m \u001b[1;33m[\u001b[0m\u001b[1;33m]\u001b[0m\u001b[1;33m\u001b[0m\u001b[1;33m\u001b[0m\u001b[0m\n\u001b[1;32m----> 3\u001b[1;33m \u001b[1;32mwhile\u001b[0m \u001b[0mwidthX\u001b[0m \u001b[1;33m+\u001b[0m \u001b[0mlengthY\u001b[0m \u001b[1;33m<\u001b[0m \u001b[1;36m25\u001b[0m\u001b[1;33m:\u001b[0m\u001b[1;33m\u001b[0m\u001b[1;33m\u001b[0m\u001b[0m\n\u001b[0m\u001b[0;32m      4\u001b[0m     \u001b[0mi\u001b[0m \u001b[1;33m=\u001b[0m \u001b[1;36m1\u001b[0m\u001b[1;33m\u001b[0m\u001b[1;33m\u001b[0m\u001b[0m\n\u001b[0;32m      5\u001b[0m     \u001b[0mwidthX\u001b[0m \u001b[1;33m+=\u001b[0m \u001b[1;33m[\u001b[0m\u001b[0mwidth\u001b[0m\u001b[1;33m-\u001b[0m\u001b[0mi\u001b[0m\u001b[1;33m]\u001b[0m\u001b[1;33m\u001b[0m\u001b[1;33m\u001b[0m\u001b[0m\n",
      "\u001b[1;31mTypeError\u001b[0m: '<' not supported between instances of 'list' and 'int'"
     ]
    }
   ],
   "source": [
    "widthX = [width-1]\n",
    "lengthY = []\n",
    "\n",
    "for i in range(width):\n",
    "    widthX += width-i+1\n",
    "for j in range(length):\n",
    "    lengthY += length-i+1"
   ]
  },
  {
   "cell_type": "code",
   "execution_count": 64,
   "id": "a290fa8e",
   "metadata": {},
   "outputs": [
    {
     "data": {
      "text/plain": [
       "[0, 1, 2, 3, 4, 5]"
      ]
     },
     "execution_count": 64,
     "metadata": {},
     "output_type": "execute_result"
    }
   ],
   "source": [
    "list(range(width))"
   ]
  },
  {
   "cell_type": "code",
   "execution_count": 65,
   "id": "f45801fc",
   "metadata": {},
   "outputs": [
    {
     "data": {
      "text/plain": [
       "[0, 1, 2, 3, 4]"
      ]
     },
     "execution_count": 65,
     "metadata": {},
     "output_type": "execute_result"
    }
   ],
   "source": [
    "list(range(length))"
   ]
  },
  {
   "cell_type": "code",
   "execution_count": 138,
   "id": "e1086b30",
   "metadata": {},
   "outputs": [
    {
     "name": "stdout",
     "output_type": "stream",
     "text": [
      "[5, 5]\n",
      "[5, 5, 4]\n",
      "[5, 5, 4, 3]\n",
      "[5, 5, 4, 3, 2]\n",
      "[5, 5, 4, 3, 2, 1]\n",
      "[5, 5, 4, 3, 2, 1, 0]\n",
      "[4]\n",
      "[4, 3]\n",
      "[4, 3, 2]\n",
      "[4, 3, 2, 1]\n"
     ]
    }
   ],
   "source": [
    "widthX = [width-1]\n",
    "lengthY = []\n",
    "while sum(widthX) + sum(lengthY) < 23:\n",
    "    for i in range(width):\n",
    "        widthX.append(width-i-1)\n",
    "        print(widthX)\n",
    "    for j in range(length):\n",
    "        lengthY.append(length-j)\n",
    "        print(lengthY)"
   ]
  },
  {
   "cell_type": "code",
   "execution_count": null,
   "id": "0bfbde8c",
   "metadata": {},
   "outputs": [],
   "source": [
    "widthX"
   ]
  },
  {
   "cell_type": "code",
   "execution_count": 137,
   "id": "70fb47f9",
   "metadata": {},
   "outputs": [
    {
     "data": {
      "text/plain": [
       "[3, 2, 1, 0]"
      ]
     },
     "execution_count": 137,
     "metadata": {},
     "output_type": "execute_result"
    }
   ],
   "source": [
    "lengthY"
   ]
  },
  {
   "cell_type": "code",
   "execution_count": 106,
   "id": "19654fe7",
   "metadata": {},
   "outputs": [
    {
     "data": {
      "text/plain": [
       "[0, 1, 2, 3, 4, 5]"
      ]
     },
     "execution_count": 106,
     "metadata": {},
     "output_type": "execute_result"
    }
   ],
   "source": [
    "list(range(width))"
   ]
  },
  {
   "cell_type": "code",
   "execution_count": 143,
   "id": "588445ba",
   "metadata": {},
   "outputs": [],
   "source": [
    "length = 5"
   ]
  },
  {
   "cell_type": "code",
   "execution_count": 144,
   "id": "dc1a51d6",
   "metadata": {},
   "outputs": [],
   "source": [
    "widthX = [width-1]\n",
    "lengthY = []\n",
    "i = list(range(width))\n",
    "j = list(range(length))\n",
    "while sum(widthX) + sum(lengthY) < 23:\n",
    "    widthX.append(i[-1])\n",
    "    lengthY.append(j[-1])\n",
    "    i.remove(i[-1])\n",
    "    j.remove(j[-1])"
   ]
  },
  {
   "cell_type": "code",
   "execution_count": 145,
   "id": "73f6a382",
   "metadata": {},
   "outputs": [
    {
     "data": {
      "text/plain": [
       "[5, 5, 4, 3]"
      ]
     },
     "execution_count": 145,
     "metadata": {},
     "output_type": "execute_result"
    }
   ],
   "source": [
    "widthX"
   ]
  },
  {
   "cell_type": "code",
   "execution_count": 146,
   "id": "29a642f0",
   "metadata": {},
   "outputs": [
    {
     "data": {
      "text/plain": [
       "[4, 3, 2]"
      ]
     },
     "execution_count": 146,
     "metadata": {},
     "output_type": "execute_result"
    }
   ],
   "source": [
    "lengthY"
   ]
  },
  {
   "cell_type": "code",
   "execution_count": 112,
   "id": "eaabb58f",
   "metadata": {},
   "outputs": [
    {
     "data": {
      "text/plain": [
       "[0, 1, 2, 3, 4]"
      ]
     },
     "execution_count": 112,
     "metadata": {},
     "output_type": "execute_result"
    }
   ],
   "source": [
    "j"
   ]
  },
  {
   "cell_type": "code",
   "execution_count": 115,
   "id": "8bb79406",
   "metadata": {},
   "outputs": [],
   "source": [
    "i.remove(i[-1])"
   ]
  },
  {
   "cell_type": "code",
   "execution_count": 116,
   "id": "a3269327",
   "metadata": {},
   "outputs": [
    {
     "data": {
      "text/plain": [
       "[0, 1, 2, 3, 4]"
      ]
     },
     "execution_count": 116,
     "metadata": {},
     "output_type": "execute_result"
    }
   ],
   "source": [
    "i"
   ]
  },
  {
   "cell_type": "code",
   "execution_count": 120,
   "id": "28cc71d6",
   "metadata": {},
   "outputs": [
    {
     "data": {
      "text/plain": [
       "3"
      ]
     },
     "execution_count": 120,
     "metadata": {},
     "output_type": "execute_result"
    }
   ],
   "source": [
    "width - widthX[-1]"
   ]
  },
  {
   "cell_type": "code",
   "execution_count": 122,
   "id": "15fdcc70",
   "metadata": {},
   "outputs": [
    {
     "data": {
      "text/plain": [
       "2"
      ]
     },
     "execution_count": 122,
     "metadata": {},
     "output_type": "execute_result"
    }
   ],
   "source": [
    "length - lengthY[-1] -1"
   ]
  },
  {
   "cell_type": "code",
   "execution_count": null,
   "id": "68618bf8",
   "metadata": {},
   "outputs": [],
   "source": [
    "int width = 6\n",
    "int length = 4리턴(정답): [1,2]\n",
    "문제 내용에 언급된 예제이다.\n",
    "\n",
    "int width = 6\n",
    "int length = 5\n",
    "리턴(정답): [3,2]\n",
    "\n",
    "int width = 1\n",
    "int length = 11\n",
    "리턴(정답): [0,10]\n",
    "\n",
    "int width = 12\n",
    "int length = 50\n",
    "리턴(정답): [5,6]\n",
    "\n",
    "int width = 50\n",
    "int length = 50\n",
    "리턴(정답): [24,25]"
   ]
  },
  {
   "cell_type": "code",
   "execution_count": 147,
   "id": "825835e9",
   "metadata": {},
   "outputs": [],
   "source": [
    "width = 6\n",
    "length = 5"
   ]
  },
  {
   "cell_type": "code",
   "execution_count": 167,
   "id": "450e669a",
   "metadata": {},
   "outputs": [],
   "source": [
    "widthX = [width-1]\n",
    "lengthY = []\n",
    "i = list(range(width))\n",
    "j = list(range(length))\n",
    "while sum(widthX) + sum(lengthY) < 23:\n",
    "    widthX.append(i[-1])\n",
    "    lengthY.append(j[-1])\n",
    "    i.remove(i[-1])\n",
    "    j.remove(j[-1])\n",
    "    \n",
    "if sum(widthX) + sum(lengthY) > 23 :\n",
    "    if len(widthX) > len(lengthY) :\n",
    "        widthX.remove(widthX[-1])"
   ]
  },
  {
   "cell_type": "code",
   "execution_count": 168,
   "id": "81c06003",
   "metadata": {},
   "outputs": [
    {
     "data": {
      "text/plain": [
       "[5, 5, 4]"
      ]
     },
     "execution_count": 168,
     "metadata": {},
     "output_type": "execute_result"
    }
   ],
   "source": [
    "widthX"
   ]
  },
  {
   "cell_type": "code",
   "execution_count": 169,
   "id": "05ca9a9f",
   "metadata": {},
   "outputs": [
    {
     "data": {
      "text/plain": [
       "[4, 3, 2]"
      ]
     },
     "execution_count": 169,
     "metadata": {},
     "output_type": "execute_result"
    }
   ],
   "source": [
    "lengthY"
   ]
  },
  {
   "cell_type": "code",
   "execution_count": 149,
   "id": "9fe9117c",
   "metadata": {},
   "outputs": [
    {
     "data": {
      "text/plain": [
       "[4, 3, 2]"
      ]
     },
     "execution_count": 149,
     "metadata": {},
     "output_type": "execute_result"
    }
   ],
   "source": [
    "lengthY"
   ]
  },
  {
   "cell_type": "code",
   "execution_count": 151,
   "id": "bd31b908",
   "metadata": {},
   "outputs": [
    {
     "data": {
      "text/plain": [
       "[5, 5, 4, 3]"
      ]
     },
     "execution_count": 151,
     "metadata": {},
     "output_type": "execute_result"
    }
   ],
   "source": [
    "widthX"
   ]
  },
  {
   "cell_type": "code",
   "execution_count": 153,
   "id": "5388f891",
   "metadata": {},
   "outputs": [
    {
     "data": {
      "text/plain": [
       "[0, 1, 2]"
      ]
     },
     "execution_count": 153,
     "metadata": {},
     "output_type": "execute_result"
    }
   ],
   "source": [
    "list(range(len(lengthY)))"
   ]
  },
  {
   "cell_type": "code",
   "execution_count": 170,
   "id": "be371da5",
   "metadata": {},
   "outputs": [],
   "source": [
    "Xwhkvy = []\n",
    "Ywhkvy = []\n",
    "for i in range(len(widthX)):\n",
    "    if i % 2 :\n",
    "        Xwhkvy.append(-widthX[i])\n",
    "    else :\n",
    "        Xwhkvy.append(widthX[i])\n",
    "        \n",
    "for j in range(len(lengthY)):\n",
    "    if j % 2 :\n",
    "        Ywhkvy.append(-lengthY[j])\n",
    "    else :\n",
    "        Ywhkvy.append(lengthY[j])"
   ]
  },
  {
   "cell_type": "code",
   "execution_count": 171,
   "id": "b594d45c",
   "metadata": {},
   "outputs": [
    {
     "data": {
      "text/plain": [
       "23"
      ]
     },
     "execution_count": 171,
     "metadata": {},
     "output_type": "execute_result"
    }
   ],
   "source": [
    "sum(widthX) + sum(lengthY)"
   ]
  },
  {
   "cell_type": "code",
   "execution_count": 172,
   "id": "91c16740",
   "metadata": {},
   "outputs": [
    {
     "data": {
      "text/plain": [
       "[5, 5, 4]"
      ]
     },
     "execution_count": 172,
     "metadata": {},
     "output_type": "execute_result"
    }
   ],
   "source": [
    "widthX"
   ]
  },
  {
   "cell_type": "code",
   "execution_count": 173,
   "id": "679c4183",
   "metadata": {
    "scrolled": true
   },
   "outputs": [
    {
     "data": {
      "text/plain": [
       "3"
      ]
     },
     "execution_count": 173,
     "metadata": {},
     "output_type": "execute_result"
    }
   ],
   "source": [
    "len(widthX)"
   ]
  },
  {
   "cell_type": "code",
   "execution_count": 174,
   "id": "a5d44efb",
   "metadata": {},
   "outputs": [
    {
     "data": {
      "text/plain": [
       "[4, 3, 2]"
      ]
     },
     "execution_count": 174,
     "metadata": {},
     "output_type": "execute_result"
    }
   ],
   "source": [
    "lengthY"
   ]
  },
  {
   "cell_type": "code",
   "execution_count": 175,
   "id": "792cd47c",
   "metadata": {
    "scrolled": true
   },
   "outputs": [
    {
     "data": {
      "text/plain": [
       "3"
      ]
     },
     "execution_count": 175,
     "metadata": {},
     "output_type": "execute_result"
    }
   ],
   "source": [
    "len(lengthY)"
   ]
  },
  {
   "cell_type": "code",
   "execution_count": 176,
   "id": "2ce734cc",
   "metadata": {},
   "outputs": [
    {
     "data": {
      "text/plain": [
       "[5, -5, 4]"
      ]
     },
     "execution_count": 176,
     "metadata": {},
     "output_type": "execute_result"
    }
   ],
   "source": [
    "Xwhkvy"
   ]
  },
  {
   "cell_type": "code",
   "execution_count": 177,
   "id": "a74eeeae",
   "metadata": {},
   "outputs": [
    {
     "data": {
      "text/plain": [
       "[4, -3, 2]"
      ]
     },
     "execution_count": 177,
     "metadata": {},
     "output_type": "execute_result"
    }
   ],
   "source": [
    "Ywhkvy"
   ]
  },
  {
   "cell_type": "code",
   "execution_count": 180,
   "id": "f2f66243",
   "metadata": {},
   "outputs": [
    {
     "data": {
      "text/plain": [
       "3"
      ]
     },
     "execution_count": 180,
     "metadata": {},
     "output_type": "execute_result"
    }
   ],
   "source": [
    "sum(Xwhkvy)-1"
   ]
  },
  {
   "cell_type": "code",
   "execution_count": 181,
   "id": "7611f6be",
   "metadata": {},
   "outputs": [
    {
     "data": {
      "text/plain": [
       "2"
      ]
     },
     "execution_count": 181,
     "metadata": {},
     "output_type": "execute_result"
    }
   ],
   "source": [
    "sum(Ywhkvy)-1"
   ]
  },
  {
   "cell_type": "code",
   "execution_count": 127,
   "id": "245af99a",
   "metadata": {},
   "outputs": [
    {
     "data": {
      "text/plain": [
       "[5, 5, 4, 3, 2]"
      ]
     },
     "execution_count": 127,
     "metadata": {},
     "output_type": "execute_result"
    }
   ],
   "source": [
    "widthX"
   ]
  },
  {
   "cell_type": "code",
   "execution_count": 128,
   "id": "485a3b10",
   "metadata": {},
   "outputs": [
    {
     "data": {
      "text/plain": [
       "[3, 2, 1, 0]"
      ]
     },
     "execution_count": 128,
     "metadata": {},
     "output_type": "execute_result"
    }
   ],
   "source": [
    "lengthY"
   ]
  },
  {
   "cell_type": "code",
   "execution_count": 125,
   "id": "2eb7f531",
   "metadata": {},
   "outputs": [
    {
     "data": {
      "text/plain": [
       "4"
      ]
     },
     "execution_count": 125,
     "metadata": {},
     "output_type": "execute_result"
    }
   ],
   "source": [
    "width - widthX[-1]"
   ]
  },
  {
   "cell_type": "code",
   "execution_count": 126,
   "id": "f89e33a1",
   "metadata": {},
   "outputs": [
    {
     "data": {
      "text/plain": [
       "3"
      ]
     },
     "execution_count": 126,
     "metadata": {},
     "output_type": "execute_result"
    }
   ],
   "source": [
    "length - lengthY[-1] -1"
   ]
  },
  {
   "cell_type": "code",
   "execution_count": null,
   "id": "92cd47c1",
   "metadata": {},
   "outputs": [],
   "source": []
  },
  {
   "cell_type": "code",
   "execution_count": null,
   "id": "72c9ddce",
   "metadata": {},
   "outputs": [],
   "source": []
  },
  {
   "cell_type": "code",
   "execution_count": null,
   "id": "0384e3dd",
   "metadata": {},
   "outputs": [],
   "source": []
  },
  {
   "cell_type": "code",
   "execution_count": null,
   "id": "5dc67199",
   "metadata": {},
   "outputs": [],
   "source": []
  },
  {
   "cell_type": "code",
   "execution_count": 193,
   "id": "2307e2f5",
   "metadata": {},
   "outputs": [
    {
     "name": "stdout",
     "output_type": "stream",
     "text": [
      "[5, 5, 4] [4, 3, 2] = widthX lengthY\n",
      "[5, -5, 4] [4, -3, 2] = Xwhkvy Ywhkvy\n",
      "3 2\n",
      "[3, 2]\n"
     ]
    }
   ],
   "source": [
    "widthX = [width-1]\n",
    "lengthY = []\n",
    "i = list(range(width))\n",
    "j = list(range(length))\n",
    "while sum(widthX) + sum(lengthY) < 23:\n",
    "    widthX.append(i[-1])\n",
    "    lengthY.append(j[-1])\n",
    "    i.remove(i[-1])\n",
    "    j.remove(j[-1])\n",
    "    \n",
    "if sum(widthX) + sum(lengthY) > 23 :\n",
    "    if len(widthX) > len(lengthY) :\n",
    "        widthX.remove(widthX[-1])\n",
    "\n",
    "Xwhkvy = []\n",
    "Ywhkvy = []\n",
    "for i in range(len(widthX)):\n",
    "    if i % 2 :\n",
    "        Xwhkvy.append(-widthX[i])\n",
    "    else :\n",
    "        Xwhkvy.append(widthX[i])\n",
    "        \n",
    "for j in range(len(lengthY)):\n",
    "    if j % 2 :\n",
    "        Ywhkvy.append(-lengthY[j])\n",
    "    else :\n",
    "        Ywhkvy.append(lengthY[j])\n",
    "        \n",
    "print(widthX, lengthY, \"= widthX lengthY\")\n",
    "print(Xwhkvy, Ywhkvy, \"= Xwhkvy Ywhkvy\")\n",
    "print(sum(Xwhkvy)-1, sum(Ywhkvy)-1)\n",
    "\n",
    "answer = [sum(Xwhkvy)-1, sum(Ywhkvy)-1]\n",
    "print(answer)"
   ]
  },
  {
   "cell_type": "code",
   "execution_count": null,
   "id": "758ec38b",
   "metadata": {},
   "outputs": [],
   "source": []
  },
  {
   "cell_type": "code",
   "execution_count": null,
   "id": "7057bd67",
   "metadata": {},
   "outputs": [],
   "source": []
  },
  {
   "cell_type": "code",
   "execution_count": null,
   "id": "7e00eb9a",
   "metadata": {},
   "outputs": [],
   "source": [
    "int width = 6\n",
    "int length = 4리턴(정답): [1,2]\n",
    "문제 내용에 언급된 예제이다.\n",
    "\n",
    "int width = 6\n",
    "int length = 5\n",
    "리턴(정답): [3,2]\n",
    "\n",
    "int width = 1\n",
    "int length = 11\n",
    "리턴(정답): [0,10]\n",
    "\n",
    "int width = 12\n",
    "int length = 50\n",
    "리턴(정답): [5,6]\n",
    "\n",
    "int width = 50\n",
    "int length = 50\n",
    "리턴(정답): [24,25]"
   ]
  },
  {
   "cell_type": "code",
   "execution_count": 202,
   "id": "900e47b1",
   "metadata": {},
   "outputs": [],
   "source": [
    "width = 12\n",
    "length = 50"
   ]
  },
  {
   "cell_type": "code",
   "execution_count": 203,
   "id": "2029726f",
   "metadata": {},
   "outputs": [
    {
     "name": "stdout",
     "output_type": "stream",
     "text": [
      "[11] [49] = widthX lengthY\n",
      "[11] [49] = Xwhkvy Ywhkvy\n",
      "10 48\n",
      "[10, 48]\n"
     ]
    }
   ],
   "source": [
    "widthX = [width-1]\n",
    "lengthY = []\n",
    "i = list(range(width))\n",
    "j = list(range(length))\n",
    "while sum(widthX) + sum(lengthY) < 23:\n",
    "    widthX.append(i[-1])\n",
    "    lengthY.append(j[-1])\n",
    "    i.remove(i[-1])\n",
    "    j.remove(j[-1])\n",
    "    \n",
    "if sum(widthX) + sum(lengthY) > 23 :\n",
    "    if len(widthX) > len(lengthY) :\n",
    "        widthX.remove(widthX[-1])\n",
    "    else :\n",
    "        lengthY.remove(lengthY[-1])\n",
    "\n",
    "Xwhkvy = []\n",
    "Ywhkvy = []\n",
    "for i in range(len(widthX)):\n",
    "    if i % 2 :\n",
    "        Xwhkvy.append(-widthX[i])\n",
    "    else :\n",
    "        Xwhkvy.append(widthX[i])\n",
    "        \n",
    "for j in range(len(lengthY)):\n",
    "    if j % 2 :\n",
    "        Ywhkvy.append(-lengthY[j])\n",
    "    else :\n",
    "        Ywhkvy.append(lengthY[j])\n",
    "        \n",
    "print(widthX, lengthY, \"= widthX lengthY\")\n",
    "print(Xwhkvy, Ywhkvy, \"= Xwhkvy Ywhkvy\")\n",
    "print(sum(Xwhkvy)-1, sum(Ywhkvy)-1)\n",
    "\n",
    "answer = [sum(Xwhkvy)-1, sum(Ywhkvy)-1]\n",
    "print(answer)"
   ]
  },
  {
   "cell_type": "markdown",
   "id": "a5e5e43d",
   "metadata": {},
   "source": [
    "답이 나오는걸보니 문제를 확실하게 이해하지 못한것같다.\n",
    "돌고돌아 가는거 알겠는데 콤마가 다르다.. 알고싶다"
   ]
  },
  {
   "attachments": {
    "image.png": {
     "image/png": "[encoded data removed]"
    }
   },
   "cell_type": "markdown",
   "id": "5f1b4f28",
   "metadata": {},
   "source": [
    "테스트 케이스 1번 2번 수작업인데 2번부터 내머리랑 답이 다르다.\n",
    "\n",
    "![image.png](attachment:image.png)"
   ]
  },
  {
   "cell_type": "code",
   "execution_count": null,
   "id": "96f6f939",
   "metadata": {},
   "outputs": [],
   "source": []
  }
 ],
 "metadata": {
  "kernelspec": {
   "display_name": "Python 3 (ipykernel)",
   "language": "python",
   "name": "python3"
  },
  "language_info": {
   "codemirror_mode": {
    "name": "ipython",
    "version": 3
   },
   "file_extension": ".py",
   "mimetype": "text/x-python",
   "name": "python",
   "nbconvert_exporter": "python",
   "pygments_lexer": "ipython3",
   "version": "3.9.7"
  }
 },
 "nbformat": 4,
 "nbformat_minor": 5
}
