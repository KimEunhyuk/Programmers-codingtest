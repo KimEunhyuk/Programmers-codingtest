{
 "cells": [
  {
   "cell_type": "markdown",
   "id": "aa168bf7",
   "metadata": {},
   "source": [
    "## 행렬의 덧셈"
   ]
  },
  {
   "cell_type": "code",
   "execution_count": 1,
   "id": "6f1c6efa",
   "metadata": {},
   "outputs": [],
   "source": [
    "arr1 = [[1,2],[2,3]]\n",
    "arr2 = [[3,4],[5,6]]"
   ]
  },
  {
   "cell_type": "code",
   "execution_count": 6,
   "id": "14f8ecec",
   "metadata": {},
   "outputs": [
    {
     "data": {
      "text/plain": [
       "[1, 2, 3, 4]"
      ]
     },
     "execution_count": 6,
     "metadata": {},
     "output_type": "execute_result"
    }
   ],
   "source": [
    "arr1[0] + arr2[0]"
   ]
  },
  {
   "cell_type": "code",
   "execution_count": 40,
   "id": "18c73ad1",
   "metadata": {
    "scrolled": true
   },
   "outputs": [
    {
     "data": {
      "text/plain": [
       "[[1, 2, 3, 4], [2, 3, 5, 6]]"
      ]
     },
     "execution_count": 40,
     "metadata": {},
     "output_type": "execute_result"
    }
   ],
   "source": [
    "[x+y for x,y in zip(arr1, arr2)]"
   ]
  },
  {
   "cell_type": "code",
   "execution_count": 41,
   "id": "023ce7e2",
   "metadata": {},
   "outputs": [
    {
     "data": {
      "text/plain": [
       "2"
      ]
     },
     "execution_count": 41,
     "metadata": {},
     "output_type": "execute_result"
    }
   ],
   "source": [
    "len(arr1)"
   ]
  },
  {
   "cell_type": "code",
   "execution_count": 49,
   "id": "89b21a5c",
   "metadata": {},
   "outputs": [
    {
     "data": {
      "text/plain": [
       "2"
      ]
     },
     "execution_count": 49,
     "metadata": {},
     "output_type": "execute_result"
    }
   ],
   "source": [
    "len(arr1[0])"
   ]
  },
  {
   "cell_type": "code",
   "execution_count": 56,
   "id": "5fb2b5a1",
   "metadata": {},
   "outputs": [
    {
     "data": {
      "text/plain": [
       "2"
      ]
     },
     "execution_count": 56,
     "metadata": {},
     "output_type": "execute_result"
    }
   ],
   "source": [
    "len(arr1)"
   ]
  },
  {
   "cell_type": "code",
   "execution_count": 112,
   "id": "58d558a5",
   "metadata": {},
   "outputs": [],
   "source": [
    "answer1=[]\n",
    "answer=[]\n",
    "for j in range(len(arr1)):\n",
    "    for i in range(len(arr1[0])):\n",
    "        answer.append(arr1[j][i] + arr2[j][i])\n",
    "    answer1.append(answer)"
   ]
  },
  {
   "cell_type": "code",
   "execution_count": 113,
   "id": "b698ce71",
   "metadata": {},
   "outputs": [
    {
     "data": {
      "text/plain": [
       "[4, 6, 7, 9]"
      ]
     },
     "execution_count": 113,
     "metadata": {},
     "output_type": "execute_result"
    }
   ],
   "source": [
    "answer"
   ]
  },
  {
   "cell_type": "code",
   "execution_count": 114,
   "id": "dd42e7ab",
   "metadata": {},
   "outputs": [
    {
     "data": {
      "text/plain": [
       "[[4, 6, 7, 9], [4, 6, 7, 9]]"
      ]
     },
     "execution_count": 114,
     "metadata": {},
     "output_type": "execute_result"
    }
   ],
   "source": [
    "answer1"
   ]
  },
  {
   "cell_type": "code",
   "execution_count": 115,
   "id": "fea0dcec",
   "metadata": {},
   "outputs": [
    {
     "data": {
      "text/plain": [
       "range(0, 2)"
      ]
     },
     "execution_count": 115,
     "metadata": {},
     "output_type": "execute_result"
    }
   ],
   "source": [
    "range(len(arr1))"
   ]
  },
  {
   "cell_type": "code",
   "execution_count": 83,
   "id": "498c0eb9",
   "metadata": {},
   "outputs": [
    {
     "data": {
      "text/plain": [
       "3"
      ]
     },
     "execution_count": 83,
     "metadata": {},
     "output_type": "execute_result"
    }
   ],
   "source": [
    "arr1[1][1]"
   ]
  },
  {
   "cell_type": "markdown",
   "id": "ecd0e58f",
   "metadata": {},
   "source": [
    "흠........ 4679의 늪에 빠졌다"
   ]
  },
  {
   "cell_type": "markdown",
   "id": "990a773e",
   "metadata": {},
   "source": [
    "## 핸드폰 번호 가리기"
   ]
  },
  {
   "cell_type": "code",
   "execution_count": 121,
   "id": "1183bf4e",
   "metadata": {},
   "outputs": [],
   "source": [
    "phone_number=\"01033334444\""
   ]
  },
  {
   "cell_type": "code",
   "execution_count": 117,
   "id": "6e433938",
   "metadata": {},
   "outputs": [
    {
     "data": {
      "text/plain": [
       "'4444'"
      ]
     },
     "execution_count": 117,
     "metadata": {},
     "output_type": "execute_result"
    }
   ],
   "source": [
    "phone_number[-4:]"
   ]
  },
  {
   "cell_type": "code",
   "execution_count": 118,
   "id": "1c2d8a64",
   "metadata": {},
   "outputs": [
    {
     "data": {
      "text/plain": [
       "'0103333'"
      ]
     },
     "execution_count": 118,
     "metadata": {},
     "output_type": "execute_result"
    }
   ],
   "source": [
    "phone_number[:-4]"
   ]
  },
  {
   "cell_type": "code",
   "execution_count": 120,
   "id": "2c087845",
   "metadata": {},
   "outputs": [],
   "source": [
    "phone_number1=\"027778888\""
   ]
  },
  {
   "cell_type": "code",
   "execution_count": 130,
   "id": "80eb2c99",
   "metadata": {},
   "outputs": [
    {
     "data": {
      "text/plain": [
       "'8888'"
      ]
     },
     "execution_count": 130,
     "metadata": {},
     "output_type": "execute_result"
    }
   ],
   "source": [
    "phone_number1[-4:]"
   ]
  },
  {
   "cell_type": "code",
   "execution_count": 127,
   "id": "5a02477c",
   "metadata": {},
   "outputs": [
    {
     "data": {
      "text/plain": [
       "5"
      ]
     },
     "execution_count": 127,
     "metadata": {},
     "output_type": "execute_result"
    }
   ],
   "source": [
    "len(phone_number1[:-4])"
   ]
  },
  {
   "cell_type": "code",
   "execution_count": 132,
   "id": "98ecb82c",
   "metadata": {},
   "outputs": [
    {
     "data": {
      "text/plain": [
       "'*****8888'"
      ]
     },
     "execution_count": 132,
     "metadata": {},
     "output_type": "execute_result"
    }
   ],
   "source": [
    "answer = len(phone_number1[:-4])*'*' + phone_number1[-4:]\n",
    "answer"
   ]
  },
  {
   "cell_type": "code",
   "execution_count": 133,
   "id": "f88a3a2a",
   "metadata": {},
   "outputs": [],
   "source": [
    "def solution(phone_number):\n",
    "    return len(phone_number[:-4])*'*' + phone_number[-4:]"
   ]
  },
  {
   "cell_type": "markdown",
   "id": "99a72476",
   "metadata": {},
   "source": [
    "정답!!!!!!!!!!!!!!!"
   ]
  }
 ],
 "metadata": {
  "kernelspec": {
   "display_name": "Python 3 (ipykernel)",
   "language": "python",
   "name": "python3"
  },
  "language_info": {
   "codemirror_mode": {
    "name": "ipython",
    "version": 3
   },
   "file_extension": ".py",
   "mimetype": "text/x-python",
   "name": "python",
   "nbconvert_exporter": "python",
   "pygments_lexer": "ipython3",
   "version": "3.9.7"
  }
 },
 "nbformat": 4,
 "nbformat_minor": 5
}
