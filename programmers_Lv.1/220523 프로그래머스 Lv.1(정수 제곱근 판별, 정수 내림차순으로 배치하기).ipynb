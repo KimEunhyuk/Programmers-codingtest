{
 "cells": [
  {
   "cell_type": "markdown",
   "id": "3c0f8523",
   "metadata": {},
   "source": [
    "## 정수 제곱근 판별"
   ]
  },
  {
   "cell_type": "markdown",
   "id": "31fd1676",
   "metadata": {},
   "source": [
    "문제 설명\n",
    "임의의 양의 정수 n에 대해, n이 어떤 양의 정수 x의 제곱인지 아닌지 판단하려 합니다.\n",
    "n이 양의 정수 x의 제곱이라면 x+1의 제곱을 리턴하고, n이 양의 정수 x의 제곱이 아니라면 -1을 리턴하는 함수를 완성하세요."
   ]
  },
  {
   "cell_type": "markdown",
   "id": "909c5534",
   "metadata": {},
   "source": [
    "입출력 예 <br>\n",
    "n\treturn <br>\n",
    "121\t144 <br>\n",
    "3\t-1"
   ]
  },
  {
   "cell_type": "code",
   "execution_count": 59,
   "id": "57259ca2",
   "metadata": {},
   "outputs": [],
   "source": [
    "# 틀\n",
    "def solution(n):\n",
    "    answer = 0\n",
    "    return answer"
   ]
  },
  {
   "cell_type": "code",
   "execution_count": 7,
   "id": "2ccb03c8",
   "metadata": {},
   "outputs": [
    {
     "data": {
      "text/plain": [
       "121"
      ]
     },
     "execution_count": 7,
     "metadata": {},
     "output_type": "execute_result"
    }
   ],
   "source": [
    "11**2"
   ]
  },
  {
   "cell_type": "code",
   "execution_count": 23,
   "id": "ec30aa1a",
   "metadata": {},
   "outputs": [
    {
     "ename": "SyntaxError",
     "evalue": "cannot assign to operator (Temp/ipykernel_9000/3334424287.py, line 1)",
     "output_type": "error",
     "traceback": [
      "\u001b[1;36m  File \u001b[1;32m\"C:\\Users\\82103\\AppData\\Local\\Temp/ipykernel_9000/3334424287.py\"\u001b[1;36m, line \u001b[1;32m1\u001b[0m\n\u001b[1;33m    a**2 = 121\u001b[0m\n\u001b[1;37m    ^\u001b[0m\n\u001b[1;31mSyntaxError\u001b[0m\u001b[1;31m:\u001b[0m cannot assign to operator\n"
     ]
    }
   ],
   "source": [
    "a**2 = 121"
   ]
  },
  {
   "cell_type": "code",
   "execution_count": 29,
   "id": "bd7f27c2",
   "metadata": {},
   "outputs": [
    {
     "data": {
      "text/plain": [
       "11.0"
      ]
     },
     "execution_count": 29,
     "metadata": {},
     "output_type": "execute_result"
    }
   ],
   "source": [
    "121**(1/2)"
   ]
  },
  {
   "cell_type": "code",
   "execution_count": 30,
   "id": "c4a16ba8",
   "metadata": {},
   "outputs": [
    {
     "data": {
      "text/plain": [
       "12.0"
      ]
     },
     "execution_count": 30,
     "metadata": {},
     "output_type": "execute_result"
    }
   ],
   "source": [
    "144**(1/2)"
   ]
  },
  {
   "cell_type": "code",
   "execution_count": 31,
   "id": "354de4f4",
   "metadata": {},
   "outputs": [],
   "source": [
    "a = 121"
   ]
  },
  {
   "cell_type": "code",
   "execution_count": 37,
   "id": "341c0054",
   "metadata": {},
   "outputs": [
    {
     "data": {
      "text/plain": [
       "float"
      ]
     },
     "execution_count": 37,
     "metadata": {},
     "output_type": "execute_result"
    }
   ],
   "source": [
    "type(a**(1/2))"
   ]
  },
  {
   "cell_type": "code",
   "execution_count": 39,
   "id": "07f02ef7",
   "metadata": {},
   "outputs": [
    {
     "data": {
      "text/plain": [
       "float"
      ]
     },
     "execution_count": 39,
     "metadata": {},
     "output_type": "execute_result"
    }
   ],
   "source": [
    "type(120**(1/2))"
   ]
  },
  {
   "cell_type": "code",
   "execution_count": 40,
   "id": "d0b15c0e",
   "metadata": {},
   "outputs": [
    {
     "data": {
      "text/plain": [
       "1.7320508075688772"
      ]
     },
     "execution_count": 40,
     "metadata": {},
     "output_type": "execute_result"
    }
   ],
   "source": [
    "3**(1/2)"
   ]
  },
  {
   "cell_type": "code",
   "execution_count": 49,
   "id": "5f7877f4",
   "metadata": {},
   "outputs": [
    {
     "data": {
      "text/plain": [
       "True"
      ]
     },
     "execution_count": 49,
     "metadata": {},
     "output_type": "execute_result"
    }
   ],
   "source": [
    "(a**(1/2)).is_integer()"
   ]
  },
  {
   "cell_type": "code",
   "execution_count": 50,
   "id": "254000a5",
   "metadata": {},
   "outputs": [
    {
     "data": {
      "text/plain": [
       "False"
      ]
     },
     "execution_count": 50,
     "metadata": {},
     "output_type": "execute_result"
    }
   ],
   "source": [
    "(3**(1/2)).is_integer()"
   ]
  },
  {
   "cell_type": "code",
   "execution_count": 53,
   "id": "52bee9d4",
   "metadata": {},
   "outputs": [],
   "source": [
    "b = a**(1/2)"
   ]
  },
  {
   "cell_type": "code",
   "execution_count": 56,
   "id": "9217566c",
   "metadata": {},
   "outputs": [
    {
     "data": {
      "text/plain": [
       "144.0"
      ]
     },
     "execution_count": 56,
     "metadata": {},
     "output_type": "execute_result"
    }
   ],
   "source": [
    "(b+1) ** 2"
   ]
  },
  {
   "cell_type": "code",
   "execution_count": 58,
   "id": "84b25077",
   "metadata": {},
   "outputs": [],
   "source": [
    "def solution1(n):\n",
    "    answer = 0\n",
    "    root_n = n**(1/2)\n",
    "    root_n_int = (root_n).is_integer()\n",
    "    if root_n_int :\n",
    "        answer = (root_n+1)**2\n",
    "    else :\n",
    "        answer = -1\n",
    "    return answer"
   ]
  },
  {
   "cell_type": "code",
   "execution_count": 63,
   "id": "14efc12d",
   "metadata": {},
   "outputs": [
    {
     "data": {
      "text/plain": [
       "196.0"
      ]
     },
     "execution_count": 63,
     "metadata": {},
     "output_type": "execute_result"
    }
   ],
   "source": [
    "solution1(169)"
   ]
  },
  {
   "cell_type": "markdown",
   "id": "042a7493",
   "metadata": {},
   "source": [
    "### if 줄이기"
   ]
  },
  {
   "cell_type": "code",
   "execution_count": 64,
   "id": "8e4e9286",
   "metadata": {},
   "outputs": [],
   "source": [
    "def solution2(n):\n",
    "    answer = 0\n",
    "    root_n = n**(1/2)\n",
    "    root_n_int = (root_n).is_integer()\n",
    "    answer = (root_n+1)**2 if root_n_int else -1\n",
    "    return answer"
   ]
  },
  {
   "cell_type": "code",
   "execution_count": 65,
   "id": "d0610b1b",
   "metadata": {},
   "outputs": [
    {
     "data": {
      "text/plain": [
       "169.0"
      ]
     },
     "execution_count": 65,
     "metadata": {},
     "output_type": "execute_result"
    }
   ],
   "source": [
    "solution2(144)"
   ]
  },
  {
   "cell_type": "code",
   "execution_count": null,
   "id": "e59283fa",
   "metadata": {},
   "outputs": [],
   "source": []
  },
  {
   "cell_type": "markdown",
   "id": "75df414b",
   "metadata": {},
   "source": [
    "## 정수 내림차순으로 배치하기"
   ]
  },
  {
   "cell_type": "markdown",
   "id": "824bb94e",
   "metadata": {},
   "source": [
    "문제 설명\n",
    "함수 solution은 정수 n을 매개변수로 입력받습니다. n의 각 자릿수를 큰것부터 작은 순으로 정렬한 새로운 정수를 리턴해주세요. 예를들어 n이 118372면 873211을 리턴하면 됩니다."
   ]
  },
  {
   "cell_type": "markdown",
   "id": "15a72a3a",
   "metadata": {},
   "source": [
    "입출력 예 <br>\n",
    "n\treturn <br>\n",
    "118372\t873211"
   ]
  },
  {
   "cell_type": "code",
   "execution_count": 147,
   "id": "57e76c67",
   "metadata": {},
   "outputs": [],
   "source": [
    "a2 = str(118372)"
   ]
  },
  {
   "cell_type": "code",
   "execution_count": 148,
   "id": "2471577f",
   "metadata": {},
   "outputs": [
    {
     "data": {
      "text/plain": [
       "'118372'"
      ]
     },
     "execution_count": 148,
     "metadata": {},
     "output_type": "execute_result"
    }
   ],
   "source": [
    "a2"
   ]
  },
  {
   "cell_type": "code",
   "execution_count": 155,
   "id": "2638b65f",
   "metadata": {
    "scrolled": true
   },
   "outputs": [
    {
     "data": {
      "text/plain": [
       "'1,1,8,3,7,2'"
      ]
     },
     "execution_count": 155,
     "metadata": {},
     "output_type": "execute_result"
    }
   ],
   "source": [
    "b2 = ','.join(a2)\n",
    "b2"
   ]
  },
  {
   "cell_type": "code",
   "execution_count": 163,
   "id": "2cd93fa4",
   "metadata": {},
   "outputs": [
    {
     "data": {
      "text/plain": [
       "[',', ',', ',', ',', ',', '1', '1', '2', '3', '7', '8']"
      ]
     },
     "execution_count": 163,
     "metadata": {},
     "output_type": "execute_result"
    }
   ],
   "source": [
    "c2 = sorted(b2)\n",
    "c2"
   ]
  },
  {
   "cell_type": "code",
   "execution_count": 165,
   "id": "67f91a0b",
   "metadata": {},
   "outputs": [
    {
     "ename": "SyntaxError",
     "evalue": "invalid syntax (Temp/ipykernel_9000/1508399830.py, line 1)",
     "output_type": "error",
     "traceback": [
      "\u001b[1;36m  File \u001b[1;32m\"C:\\Users\\82103\\AppData\\Local\\Temp/ipykernel_9000/1508399830.py\"\u001b[1;36m, line \u001b[1;32m1\u001b[0m\n\u001b[1;33m    c2.pop(,)\u001b[0m\n\u001b[1;37m           ^\u001b[0m\n\u001b[1;31mSyntaxError\u001b[0m\u001b[1;31m:\u001b[0m invalid syntax\n"
     ]
    }
   ],
   "source": [
    "c2.pop(,)"
   ]
  },
  {
   "cell_type": "code",
   "execution_count": 162,
   "id": "14d159cd",
   "metadata": {},
   "outputs": [
    {
     "data": {
      "text/plain": [
       "[',', ',', ',', ',', '1', '1', '2', '3', '7', '8']"
      ]
     },
     "execution_count": 162,
     "metadata": {},
     "output_type": "execute_result"
    }
   ],
   "source": [
    "c2"
   ]
  },
  {
   "cell_type": "code",
   "execution_count": 139,
   "id": "ea7dcabc",
   "metadata": {},
   "outputs": [],
   "source": [
    "b2.sort()"
   ]
  },
  {
   "cell_type": "code",
   "execution_count": 167,
   "id": "b81e240d",
   "metadata": {},
   "outputs": [
    {
     "data": {
      "text/plain": [
       "118372"
      ]
     },
     "execution_count": 167,
     "metadata": {},
     "output_type": "execute_result"
    }
   ],
   "source": [
    "a2 = 118372\n",
    "a2"
   ]
  },
  {
   "cell_type": "code",
   "execution_count": 185,
   "id": "ce5c18c9",
   "metadata": {},
   "outputs": [
    {
     "data": {
      "text/plain": [
       "['8', '7', '3', '2', '1', '1']"
      ]
     },
     "execution_count": 185,
     "metadata": {},
     "output_type": "execute_result"
    }
   ],
   "source": [
    "b2 = sorted(list(str(a2)),reverse=True)\n",
    "b2"
   ]
  },
  {
   "cell_type": "code",
   "execution_count": 199,
   "id": "83f247bb",
   "metadata": {},
   "outputs": [
    {
     "data": {
      "text/plain": [
       "'8,7,3,2,1,1'"
      ]
     },
     "execution_count": 199,
     "metadata": {},
     "output_type": "execute_result"
    }
   ],
   "source": [
    "\",\".join(b2)"
   ]
  },
  {
   "cell_type": "code",
   "execution_count": 203,
   "id": "0150f529",
   "metadata": {},
   "outputs": [
    {
     "data": {
      "text/plain": [
       "'8d7d3d2d1d1'"
      ]
     },
     "execution_count": 203,
     "metadata": {},
     "output_type": "execute_result"
    }
   ],
   "source": [
    "\"d\".join(b2)"
   ]
  },
  {
   "cell_type": "code",
   "execution_count": 202,
   "id": "9b890651",
   "metadata": {},
   "outputs": [
    {
     "data": {
      "text/plain": [
       "'873211'"
      ]
     },
     "execution_count": 202,
     "metadata": {},
     "output_type": "execute_result"
    }
   ],
   "source": [
    "\"\".join(b2)"
   ]
  },
  {
   "cell_type": "code",
   "execution_count": 205,
   "id": "56bf53c8",
   "metadata": {},
   "outputs": [
    {
     "data": {
      "text/plain": [
       "873211"
      ]
     },
     "execution_count": 205,
     "metadata": {},
     "output_type": "execute_result"
    }
   ],
   "source": [
    "int(\"\".join(b2))"
   ]
  },
  {
   "cell_type": "markdown",
   "id": "70b162f3",
   "metadata": {},
   "source": [
    "### 답"
   ]
  },
  {
   "cell_type": "code",
   "execution_count": 206,
   "id": "afa72792",
   "metadata": {},
   "outputs": [],
   "source": [
    "def solution3(n):\n",
    "    a = sorted(list(str(n)),reverse=True)\n",
    "    return int(\"\".join(a))"
   ]
  },
  {
   "cell_type": "code",
   "execution_count": null,
   "id": "73ebe978",
   "metadata": {},
   "outputs": [],
   "source": []
  },
  {
   "cell_type": "markdown",
   "id": "e151b708",
   "metadata": {},
   "source": [
    "여러개 해보기"
   ]
  },
  {
   "cell_type": "code",
   "execution_count": 207,
   "id": "c19e7baf",
   "metadata": {},
   "outputs": [
    {
     "data": {
      "text/plain": [
       "876651"
      ]
     },
     "execution_count": 207,
     "metadata": {},
     "output_type": "execute_result"
    }
   ],
   "source": [
    "solution3(657681)"
   ]
  },
  {
   "cell_type": "code",
   "execution_count": null,
   "id": "b31a3b11",
   "metadata": {},
   "outputs": [],
   "source": [
    "def solution5(n):\n",
    "    a = sorted(list(str(n)),reverse=True)\n",
    "    answer=[]\n",
    "    for i in range(len(a)):\n",
    "        answer.append(a)\n",
    "        \n",
    "    return "
   ]
  },
  {
   "cell_type": "code",
   "execution_count": 220,
   "id": "5246436b",
   "metadata": {},
   "outputs": [],
   "source": [
    "n = 6824527456\n",
    "a = sorted(list(str(n)),reverse=True)\n",
    "answer=[]\n",
    "for i in range(len(a)):\n",
    "    answer.append(a)"
   ]
  },
  {
   "cell_type": "code",
   "execution_count": 221,
   "id": "3c5126cf",
   "metadata": {},
   "outputs": [
    {
     "data": {
      "text/plain": [
       "[['8', '7', '6', '6', '5', '5', '4', '4', '2', '2'],\n",
       " ['8', '7', '6', '6', '5', '5', '4', '4', '2', '2'],\n",
       " ['8', '7', '6', '6', '5', '5', '4', '4', '2', '2'],\n",
       " ['8', '7', '6', '6', '5', '5', '4', '4', '2', '2'],\n",
       " ['8', '7', '6', '6', '5', '5', '4', '4', '2', '2'],\n",
       " ['8', '7', '6', '6', '5', '5', '4', '4', '2', '2'],\n",
       " ['8', '7', '6', '6', '5', '5', '4', '4', '2', '2'],\n",
       " ['8', '7', '6', '6', '5', '5', '4', '4', '2', '2'],\n",
       " ['8', '7', '6', '6', '5', '5', '4', '4', '2', '2'],\n",
       " ['8', '7', '6', '6', '5', '5', '4', '4', '2', '2']]"
      ]
     },
     "execution_count": 221,
     "metadata": {},
     "output_type": "execute_result"
    }
   ],
   "source": [
    "answer"
   ]
  },
  {
   "cell_type": "code",
   "execution_count": 276,
   "id": "4b60116a",
   "metadata": {},
   "outputs": [],
   "source": [
    "n = 6824527456\n",
    "a = list(str(n))\n",
    "a.sort(reverse=True)\n",
    "answer=[]\n",
    "for i in range(len(a)):\n",
    "    answer.append(str(a[i]))"
   ]
  },
  {
   "cell_type": "code",
   "execution_count": 277,
   "id": "821aae7b",
   "metadata": {},
   "outputs": [
    {
     "data": {
      "text/plain": [
       "['8', '7', '6', '6', '5', '5', '4', '4', '2', '2']"
      ]
     },
     "execution_count": 277,
     "metadata": {},
     "output_type": "execute_result"
    }
   ],
   "source": [
    "answer"
   ]
  },
  {
   "cell_type": "code",
   "execution_count": 295,
   "id": "7e9fae46",
   "metadata": {},
   "outputs": [],
   "source": [
    "n = 6824527456\n",
    "a = list(str(n))\n",
    "a.sort(reverse=True)\n",
    "answer=[]\n",
    "for i in range(len(a)):\n",
    "    answer+=(str(a[i]))"
   ]
  },
  {
   "cell_type": "code",
   "execution_count": 296,
   "id": "d1339006",
   "metadata": {},
   "outputs": [
    {
     "data": {
      "text/plain": [
       "['8', '7', '6', '6', '5', '5', '4', '4', '2', '2']"
      ]
     },
     "execution_count": 296,
     "metadata": {},
     "output_type": "execute_result"
    }
   ],
   "source": [
    "answer"
   ]
  },
  {
   "cell_type": "code",
   "execution_count": 302,
   "id": "49e8c766",
   "metadata": {},
   "outputs": [
    {
     "name": "stdout",
     "output_type": "stream",
     "text": [
      "8766554422\n"
     ]
    }
   ],
   "source": [
    "print(*answer, sep=\",\".replace(\",\",\"\"))"
   ]
  },
  {
   "cell_type": "code",
   "execution_count": 269,
   "id": "a4b3fdfb",
   "metadata": {},
   "outputs": [],
   "source": [
    "n = 6824527456\n",
    "a = list(str(n))\n",
    "a.sort(reverse=True)\n",
    "answer=\"\"\n",
    "for i in range(len(a)):\n",
    "    answer+=str(a[i])"
   ]
  },
  {
   "cell_type": "code",
   "execution_count": 264,
   "id": "585469ab",
   "metadata": {},
   "outputs": [
    {
     "data": {
      "text/plain": [
       "'8766554422'"
      ]
     },
     "execution_count": 264,
     "metadata": {},
     "output_type": "execute_result"
    }
   ],
   "source": [
    "answer"
   ]
  },
  {
   "cell_type": "code",
   "execution_count": 265,
   "id": "f7935bb0",
   "metadata": {},
   "outputs": [
    {
     "data": {
      "text/plain": [
       "8766554422"
      ]
     },
     "execution_count": 265,
     "metadata": {},
     "output_type": "execute_result"
    }
   ],
   "source": [
    "int(answer)"
   ]
  },
  {
   "cell_type": "code",
   "execution_count": null,
   "id": "682b601b",
   "metadata": {},
   "outputs": [],
   "source": []
  }
 ],
 "metadata": {
  "kernelspec": {
   "display_name": "Python 3 (ipykernel)",
   "language": "python",
   "name": "python3"
  },
  "language_info": {
   "codemirror_mode": {
    "name": "ipython",
    "version": 3
   },
   "file_extension": ".py",
   "mimetype": "text/x-python",
   "name": "python",
   "nbconvert_exporter": "python",
   "pygments_lexer": "ipython3",
   "version": "3.9.7"
  }
 },
 "nbformat": 4,
 "nbformat_minor": 5
}
