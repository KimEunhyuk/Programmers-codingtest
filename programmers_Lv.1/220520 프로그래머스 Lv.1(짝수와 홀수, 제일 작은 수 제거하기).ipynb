{
 "cells": [
  {
   "cell_type": "markdown",
   "id": "1277d19e",
   "metadata": {},
   "source": [
    "## 짝수와 홀수"
   ]
  },
  {
   "cell_type": "markdown",
   "id": "706677cb",
   "metadata": {},
   "source": [
    "문제 설명\n",
    "정수 num이 짝수일 경우 \"Even\"을 반환하고 홀수인 경우 \"Odd\"를 반환하는 함수, solution을 완성해주세요."
   ]
  },
  {
   "cell_type": "markdown",
   "id": "fd72f137",
   "metadata": {},
   "source": [
    "입출력 예 <br>\n",
    "num\treturn <br>\n",
    "3\t\"Odd\" <br>\n",
    "4\t\"Even\" <br>"
   ]
  },
  {
   "cell_type": "code",
   "execution_count": 28,
   "id": "22859904",
   "metadata": {},
   "outputs": [],
   "source": [
    "def solution(num):\n",
    "    answer = ''\n",
    "    if num % 2 == 0 :\n",
    "        answer = \"Even\"\n",
    "    else :\n",
    "        answer = \"Odd\"\n",
    "    return answer"
   ]
  },
  {
   "cell_type": "code",
   "execution_count": 10,
   "id": "88d419ca",
   "metadata": {},
   "outputs": [
    {
     "data": {
      "text/plain": [
       "'Even'"
      ]
     },
     "execution_count": 10,
     "metadata": {},
     "output_type": "execute_result"
    }
   ],
   "source": [
    "solution(3)"
   ]
  },
  {
   "cell_type": "code",
   "execution_count": 29,
   "id": "645d8786",
   "metadata": {},
   "outputs": [],
   "source": [
    "def solution2(num):\n",
    "    answer = ''\n",
    "    if (num % 2) :\n",
    "        answer = \"Odd\"\n",
    "    else :\n",
    "        answer = \"Even\"\n",
    "    return answer"
   ]
  },
  {
   "cell_type": "code",
   "execution_count": 12,
   "id": "1ed77f71",
   "metadata": {},
   "outputs": [
    {
     "data": {
      "text/plain": [
       "'Odd'"
      ]
     },
     "execution_count": 12,
     "metadata": {},
     "output_type": "execute_result"
    }
   ],
   "source": [
    "solution2(3)"
   ]
  },
  {
   "cell_type": "code",
   "execution_count": null,
   "id": "d94eb9c7",
   "metadata": {},
   "outputs": [],
   "source": []
  },
  {
   "cell_type": "markdown",
   "id": "e2973e36",
   "metadata": {},
   "source": [
    "## 제일 작은 수 제거하기"
   ]
  },
  {
   "cell_type": "markdown",
   "id": "313ddb35",
   "metadata": {},
   "source": [
    "정수를 저장한 배열, arr 에서 가장 작은 수를 제거한 배열을 리턴하는 함수, solution을 완성해주세요. 단, 리턴하려는 배열이 빈 배열인 경우엔 배열에 -1을 채워 리턴하세요. 예를들어 arr이 [4,3,2,1]인 경우는 [4,3,2]를 리턴 하고, [10]면 [-1]을 리턴 합니다."
   ]
  },
  {
   "cell_type": "markdown",
   "id": "d99ced3a",
   "metadata": {},
   "source": [
    "입출력 예 <br>\n",
    "arr return <br>\n",
    "[4,3,2,1]\t[4,3,2] <br>\n",
    "[10]\t[-1] <br>"
   ]
  },
  {
   "cell_type": "code",
   "execution_count": 30,
   "id": "af3abafa",
   "metadata": {},
   "outputs": [],
   "source": [
    "def solution3(arr):\n",
    "    answer = []\n",
    "    return answer"
   ]
  },
  {
   "cell_type": "code",
   "execution_count": null,
   "id": "0e55ace9",
   "metadata": {},
   "outputs": [],
   "source": []
  },
  {
   "cell_type": "code",
   "execution_count": 14,
   "id": "80983dc4",
   "metadata": {},
   "outputs": [
    {
     "data": {
      "text/plain": [
       "[4, 3, 2, 1]"
      ]
     },
     "execution_count": 14,
     "metadata": {},
     "output_type": "execute_result"
    }
   ],
   "source": [
    "arr3 = [4,3,2,1]\n",
    "arr3"
   ]
  },
  {
   "cell_type": "code",
   "execution_count": 15,
   "id": "0d748f0f",
   "metadata": {},
   "outputs": [
    {
     "data": {
      "text/plain": [
       "[4, 3, 2]"
      ]
     },
     "execution_count": 15,
     "metadata": {},
     "output_type": "execute_result"
    }
   ],
   "source": [
    "arr3[:-1]"
   ]
  },
  {
   "cell_type": "code",
   "execution_count": 3,
   "id": "24748a77",
   "metadata": {},
   "outputs": [
    {
     "data": {
      "text/plain": [
       "[10]"
      ]
     },
     "execution_count": 3,
     "metadata": {},
     "output_type": "execute_result"
    }
   ],
   "source": [
    "arr4 = [10]\n",
    "arr4"
   ]
  },
  {
   "cell_type": "code",
   "execution_count": 16,
   "id": "a29d7396",
   "metadata": {},
   "outputs": [
    {
     "ename": "SyntaxError",
     "evalue": "cannot assign to operator (Temp/ipykernel_12984/4249271552.py, line 1)",
     "output_type": "error",
     "traceback": [
      "\u001b[1;36m  File \u001b[1;32m\"C:\\Users\\82103\\AppData\\Local\\Temp/ipykernel_12984/4249271552.py\"\u001b[1;36m, line \u001b[1;32m1\u001b[0m\n\u001b[1;33m    arr-1 = 3\u001b[0m\n\u001b[1;37m    ^\u001b[0m\n\u001b[1;31mSyntaxError\u001b[0m\u001b[1;31m:\u001b[0m cannot assign to operator\n"
     ]
    }
   ],
   "source": [
    "arr-1 = 3"
   ]
  },
  {
   "cell_type": "code",
   "execution_count": 17,
   "id": "1b5c4e93",
   "metadata": {},
   "outputs": [
    {
     "ename": "NameError",
     "evalue": "name 'ar' is not defined",
     "output_type": "error",
     "traceback": [
      "\u001b[1;31m---------------------------------------------------------------------------\u001b[0m",
      "\u001b[1;31mNameError\u001b[0m                                 Traceback (most recent call last)",
      "\u001b[1;32m~\\AppData\\Local\\Temp/ipykernel_12984/409442304.py\u001b[0m in \u001b[0;36m<module>\u001b[1;34m\u001b[0m\n\u001b[1;32m----> 1\u001b[1;33m \u001b[0mar\u001b[0m\u001b[1;33m\u001b[0m\u001b[1;33m\u001b[0m\u001b[0m\n\u001b[0m",
      "\u001b[1;31mNameError\u001b[0m: name 'ar' is not defined"
     ]
    }
   ],
   "source": [
    "ar"
   ]
  },
  {
   "cell_type": "code",
   "execution_count": 4,
   "id": "b4466650",
   "metadata": {},
   "outputs": [
    {
     "data": {
      "text/plain": [
       "0"
      ]
     },
     "execution_count": 4,
     "metadata": {},
     "output_type": "execute_result"
    }
   ],
   "source": [
    "len(arr4[:-1])"
   ]
  },
  {
   "cell_type": "code",
   "execution_count": 34,
   "id": "fa2ca3e8",
   "metadata": {},
   "outputs": [],
   "source": [
    "def solution4(arr):\n",
    "    answer = []\n",
    "    ar = arr[:-1]\n",
    "    if not len(ar) :\n",
    "        ar = [-1]\n",
    "    return ar"
   ]
  },
  {
   "cell_type": "code",
   "execution_count": 35,
   "id": "7a1c5e32",
   "metadata": {},
   "outputs": [
    {
     "data": {
      "text/plain": [
       "[4, 3, 2]"
      ]
     },
     "execution_count": 35,
     "metadata": {},
     "output_type": "execute_result"
    }
   ],
   "source": [
    "solution4([4,3,2,1])"
   ]
  },
  {
   "cell_type": "code",
   "execution_count": 36,
   "id": "94fc6ec7",
   "metadata": {},
   "outputs": [
    {
     "data": {
      "text/plain": [
       "[-1]"
      ]
     },
     "execution_count": 36,
     "metadata": {},
     "output_type": "execute_result"
    }
   ],
   "source": [
    "solution4([10])"
   ]
  },
  {
   "cell_type": "markdown",
   "id": "73d24f9c",
   "metadata": {},
   "source": [
    "아 가장 작은수를 제거라서 틀렸다 <br>\n",
    "다시"
   ]
  },
  {
   "cell_type": "code",
   "execution_count": 49,
   "id": "409339ea",
   "metadata": {},
   "outputs": [
    {
     "data": {
      "text/plain": [
       "[4, 3, 2, 1]"
      ]
     },
     "execution_count": 49,
     "metadata": {},
     "output_type": "execute_result"
    }
   ],
   "source": [
    "arr3 = [4,3,2,1]\n",
    "arr3"
   ]
  },
  {
   "cell_type": "code",
   "execution_count": 51,
   "id": "5b9ea50d",
   "metadata": {},
   "outputs": [
    {
     "data": {
      "text/plain": [
       "[2, 3, 4]"
      ]
     },
     "execution_count": 51,
     "metadata": {},
     "output_type": "execute_result"
    }
   ],
   "source": [
    "arr5 = sorted(arr3)[1:]\n",
    "arr5"
   ]
  },
  {
   "cell_type": "code",
   "execution_count": 41,
   "id": "87ea31b9",
   "metadata": {},
   "outputs": [],
   "source": [
    "def solution5(arr):\n",
    "    answer = []\n",
    "    ar = sorted(arr)[1:]\n",
    "    if not len(ar) :\n",
    "        ar = [-1]\n",
    "    return ar"
   ]
  },
  {
   "cell_type": "code",
   "execution_count": 42,
   "id": "11a949cf",
   "metadata": {},
   "outputs": [
    {
     "data": {
      "text/plain": [
       "[2, 3, 5, 7, 8]"
      ]
     },
     "execution_count": 42,
     "metadata": {},
     "output_type": "execute_result"
    }
   ],
   "source": [
    "solution5([5,7,8,3,2,1])"
   ]
  },
  {
   "cell_type": "markdown",
   "id": "2a5b957d",
   "metadata": {},
   "source": [
    "* 실행한 결괏값 [2,3,4]이(가) 기댓값 [4,3,2]와(과) 다릅니다."
   ]
  },
  {
   "cell_type": "markdown",
   "id": "ae7022f7",
   "metadata": {},
   "source": [
    "이렇게하니까 가장 작은수는 제거되지만\n",
    "순서가 바뀌어서 다르다고 함. <br>\n",
    "다시"
   ]
  },
  {
   "cell_type": "markdown",
   "id": "f4c11f5a",
   "metadata": {},
   "source": [
    "원래 리스트의 순서를 어떻게 유지시키지?"
   ]
  },
  {
   "cell_type": "markdown",
   "id": "33be0adc",
   "metadata": {},
   "source": [
    "arr이 [7,36,87,1,71,9,2] 라면 <br>\n",
    "[7,36,87,71,9,2] 가 나와야 하는데"
   ]
  },
  {
   "cell_type": "code",
   "execution_count": 101,
   "id": "17999746",
   "metadata": {},
   "outputs": [
    {
     "data": {
      "text/plain": [
       "[7, 36, 87, 1, 71, 9, 2]"
      ]
     },
     "execution_count": 101,
     "metadata": {},
     "output_type": "execute_result"
    }
   ],
   "source": [
    "aaaa6 = [7,36,87,1,71,9,2]\n",
    "aaaa6"
   ]
  },
  {
   "cell_type": "code",
   "execution_count": 91,
   "id": "76fbfd3c",
   "metadata": {},
   "outputs": [
    {
     "data": {
      "text/plain": [
       "1"
      ]
     },
     "execution_count": 91,
     "metadata": {},
     "output_type": "execute_result"
    }
   ],
   "source": [
    "min(aaaa6)"
   ]
  },
  {
   "cell_type": "code",
   "execution_count": 92,
   "id": "03277978",
   "metadata": {},
   "outputs": [
    {
     "data": {
      "text/plain": [
       "{1, 2, 7, 9, 36, 71, 87}"
      ]
     },
     "execution_count": 92,
     "metadata": {},
     "output_type": "execute_result"
    }
   ],
   "source": [
    "set(aaaa6)"
   ]
  },
  {
   "cell_type": "code",
   "execution_count": 93,
   "id": "58934c56",
   "metadata": {},
   "outputs": [
    {
     "data": {
      "text/plain": [
       "{2, 7, 9, 36, 71, 87}"
      ]
     },
     "execution_count": 93,
     "metadata": {},
     "output_type": "execute_result"
    }
   ],
   "source": [
    "set(aaaa6) - set([min(aaaa6)])\n",
    "# 정렬됨..."
   ]
  },
  {
   "cell_type": "code",
   "execution_count": 103,
   "id": "581f9e0a",
   "metadata": {},
   "outputs": [],
   "source": [
    "aaaa6.remove(min(aaaa6))"
   ]
  },
  {
   "cell_type": "code",
   "execution_count": 105,
   "id": "b8d6ea23",
   "metadata": {},
   "outputs": [
    {
     "data": {
      "text/plain": [
       "[7, 36, 87, 71, 9, 2]"
      ]
     },
     "execution_count": 105,
     "metadata": {},
     "output_type": "execute_result"
    }
   ],
   "source": [
    "aaaa6"
   ]
  },
  {
   "cell_type": "code",
   "execution_count": 113,
   "id": "2c7581e6",
   "metadata": {},
   "outputs": [],
   "source": [
    "aaaa7=aaaa6"
   ]
  },
  {
   "cell_type": "code",
   "execution_count": 114,
   "id": "4c5b698a",
   "metadata": {},
   "outputs": [
    {
     "data": {
      "text/plain": [
       "5"
      ]
     },
     "execution_count": 114,
     "metadata": {},
     "output_type": "execute_result"
    }
   ],
   "source": [
    "len(aaaa7)"
   ]
  },
  {
   "cell_type": "markdown",
   "id": "5c7d5a94",
   "metadata": {},
   "source": [
    "오......됐다"
   ]
  },
  {
   "cell_type": "code",
   "execution_count": 136,
   "id": "ef41c510",
   "metadata": {},
   "outputs": [],
   "source": [
    "def solution6(arr):\n",
    "    answer = []\n",
    "    answer = arr.remove(min(arr))\n",
    "    if not len(answer) :\n",
    "        answer = [-1]\n",
    "    return answer"
   ]
  },
  {
   "cell_type": "code",
   "execution_count": 127,
   "id": "0b3f6baa",
   "metadata": {},
   "outputs": [
    {
     "ename": "TypeError",
     "evalue": "object of type 'NoneType' has no len()",
     "output_type": "error",
     "traceback": [
      "\u001b[1;31m---------------------------------------------------------------------------\u001b[0m",
      "\u001b[1;31mTypeError\u001b[0m                                 Traceback (most recent call last)",
      "\u001b[1;32m~\\AppData\\Local\\Temp/ipykernel_12984/85182892.py\u001b[0m in \u001b[0;36m<module>\u001b[1;34m\u001b[0m\n\u001b[1;32m----> 1\u001b[1;33m \u001b[0msolution5\u001b[0m\u001b[1;33m(\u001b[0m\u001b[1;33m[\u001b[0m\u001b[1;36m7\u001b[0m\u001b[1;33m,\u001b[0m\u001b[1;36m36\u001b[0m\u001b[1;33m,\u001b[0m\u001b[1;36m87\u001b[0m\u001b[1;33m,\u001b[0m\u001b[1;36m1\u001b[0m\u001b[1;33m,\u001b[0m\u001b[1;36m71\u001b[0m\u001b[1;33m,\u001b[0m\u001b[1;36m9\u001b[0m\u001b[1;33m,\u001b[0m\u001b[1;36m2\u001b[0m\u001b[1;33m]\u001b[0m\u001b[1;33m)\u001b[0m\u001b[1;33m\u001b[0m\u001b[1;33m\u001b[0m\u001b[0m\n\u001b[0m",
      "\u001b[1;32m~\\AppData\\Local\\Temp/ipykernel_12984/345897878.py\u001b[0m in \u001b[0;36msolution5\u001b[1;34m(arr)\u001b[0m\n\u001b[0;32m      2\u001b[0m     \u001b[0manswer\u001b[0m \u001b[1;33m=\u001b[0m \u001b[1;33m[\u001b[0m\u001b[1;33m]\u001b[0m\u001b[1;33m\u001b[0m\u001b[1;33m\u001b[0m\u001b[0m\n\u001b[0;32m      3\u001b[0m     \u001b[0manswer\u001b[0m \u001b[1;33m=\u001b[0m \u001b[0marr\u001b[0m\u001b[1;33m.\u001b[0m\u001b[0mremove\u001b[0m\u001b[1;33m(\u001b[0m\u001b[0mmin\u001b[0m\u001b[1;33m(\u001b[0m\u001b[0marr\u001b[0m\u001b[1;33m)\u001b[0m\u001b[1;33m)\u001b[0m\u001b[1;33m\u001b[0m\u001b[1;33m\u001b[0m\u001b[0m\n\u001b[1;32m----> 4\u001b[1;33m     \u001b[1;32mif\u001b[0m \u001b[1;32mnot\u001b[0m \u001b[0mlen\u001b[0m\u001b[1;33m(\u001b[0m\u001b[0manswer\u001b[0m\u001b[1;33m)\u001b[0m \u001b[1;33m:\u001b[0m\u001b[1;33m\u001b[0m\u001b[1;33m\u001b[0m\u001b[0m\n\u001b[0m\u001b[0;32m      5\u001b[0m         \u001b[0manswer\u001b[0m \u001b[1;33m=\u001b[0m \u001b[1;33m[\u001b[0m\u001b[1;33m-\u001b[0m\u001b[1;36m1\u001b[0m\u001b[1;33m]\u001b[0m\u001b[1;33m\u001b[0m\u001b[1;33m\u001b[0m\u001b[0m\n\u001b[0;32m      6\u001b[0m     \u001b[1;32mreturn\u001b[0m \u001b[0manswer\u001b[0m\u001b[1;33m\u001b[0m\u001b[1;33m\u001b[0m\u001b[0m\n",
      "\u001b[1;31mTypeError\u001b[0m: object of type 'NoneType' has no len()"
     ]
    }
   ],
   "source": [
    "solution5([7,36,87,1,71,9,2])"
   ]
  },
  {
   "cell_type": "markdown",
   "id": "8e9132fc",
   "metadata": {},
   "source": [
    "????? 왜이런지 알아보자"
   ]
  },
  {
   "cell_type": "code",
   "execution_count": 130,
   "id": "a14e07f8",
   "metadata": {},
   "outputs": [],
   "source": [
    "ans = []\n",
    "arr999 = [7,3,21,54,684,5]\n",
    "ans = arr999.remove(min(arr999))"
   ]
  },
  {
   "cell_type": "code",
   "execution_count": 132,
   "id": "a120fd5c",
   "metadata": {},
   "outputs": [
    {
     "data": {
      "text/plain": [
       "NoneType"
      ]
     },
     "execution_count": 132,
     "metadata": {},
     "output_type": "execute_result"
    }
   ],
   "source": [
    "type(ans)"
   ]
  },
  {
   "cell_type": "code",
   "execution_count": 133,
   "id": "63cba39a",
   "metadata": {},
   "outputs": [],
   "source": [
    "arr999.remove(min(arr999))\n",
    "ans = arr999"
   ]
  },
  {
   "cell_type": "code",
   "execution_count": 134,
   "id": "14fadd9d",
   "metadata": {},
   "outputs": [
    {
     "data": {
      "text/plain": [
       "[7, 21, 54, 684]"
      ]
     },
     "execution_count": 134,
     "metadata": {},
     "output_type": "execute_result"
    }
   ],
   "source": [
    "ans"
   ]
  },
  {
   "cell_type": "markdown",
   "id": "4e22580a",
   "metadata": {},
   "source": [
    "됐다"
   ]
  },
  {
   "cell_type": "code",
   "execution_count": 137,
   "id": "e8c6a93d",
   "metadata": {},
   "outputs": [],
   "source": [
    "def solution7(arr):\n",
    "    arr.remove(min(arr))\n",
    "    if not len(arr) :\n",
    "        arr = [-1]\n",
    "    return arr"
   ]
  },
  {
   "cell_type": "code",
   "execution_count": 139,
   "id": "07f05c17",
   "metadata": {},
   "outputs": [
    {
     "data": {
      "text/plain": [
       "[7, 21, 54, 684, 5]"
      ]
     },
     "execution_count": 139,
     "metadata": {},
     "output_type": "execute_result"
    }
   ],
   "source": [
    "solution5([7,3,21,54,684,5])"
   ]
  },
  {
   "cell_type": "code",
   "execution_count": null,
   "id": "b69ea00b",
   "metadata": {},
   "outputs": [],
   "source": []
  }
 ],
 "metadata": {
  "kernelspec": {
   "display_name": "Python 3 (ipykernel)",
   "language": "python",
   "name": "python3"
  },
  "language_info": {
   "codemirror_mode": {
    "name": "ipython",
    "version": 3
   },
   "file_extension": ".py",
   "mimetype": "text/x-python",
   "name": "python",
   "nbconvert_exporter": "python",
   "pygments_lexer": "ipython3",
   "version": "3.9.7"
  }
 },
 "nbformat": 4,
 "nbformat_minor": 5
}
