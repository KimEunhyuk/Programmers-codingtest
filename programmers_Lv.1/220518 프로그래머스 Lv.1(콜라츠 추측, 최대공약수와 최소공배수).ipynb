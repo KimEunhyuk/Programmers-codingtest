{
 "cells": [
  {
   "cell_type": "markdown",
   "id": "4b1bd788",
   "metadata": {},
   "source": [
    "## 콜라츠 추측"
   ]
  },
  {
   "cell_type": "markdown",
   "id": "cc7dd133",
   "metadata": {},
   "source": [
    "1937년 Collatz란 사람에 의해 제기된 이 추측은, 주어진 수가 1이 될때까지 다음 작업을 반복하면, 모든 수를 1로 만들 수 있다는 추측입니다. 작업은 다음과 같습니다.\n",
    "\n",
    "1-1. 입력된 수가 짝수라면 2로 나눕니다. \n",
    "1-2. 입력된 수가 홀수라면 3을 곱하고 1을 더합니다.\n",
    "2. 결과로 나온 수에 같은 작업을 1이 될 때까지 반복합니다.\n",
    "\n",
    "예를 들어, 입력된 수가 6이라면 6→3→10→5→16→8→4→2→1 이 되어 총 8번 만에 1이 됩니다. 위 작업을 몇 번이나 반복해야하는지 반환하는 함수, solution을 완성해 주세요. 단, 작업을 500번을 반복해도 1이 되지 않는다면 –1을 반환해 주세요."
   ]
  },
  {
   "cell_type": "code",
   "execution_count": 18,
   "id": "f10d4723",
   "metadata": {},
   "outputs": [],
   "source": [
    "def solution(num):\n",
    "    answer = 0\n",
    "    while num > 1 :\n",
    "        if num % 2 == 0 :\n",
    "            num = num / 2\n",
    "            answer += 1\n",
    "        else :\n",
    "            num = num * 3 + 1\n",
    "            answer += 1\n",
    "        \n",
    "    return answer"
   ]
  },
  {
   "cell_type": "code",
   "execution_count": 19,
   "id": "471dcbc1",
   "metadata": {},
   "outputs": [],
   "source": [
    "def solution(num):\n",
    "    answer = 0\n",
    "    while num > 1 :\n",
    "        num = num / 2 if num % 2 == 0 else num * 3 + 1\n",
    "        answer +=1 if answer < 500 else -(answer+1)\n",
    "    return answer"
   ]
  },
  {
   "cell_type": "code",
   "execution_count": 20,
   "id": "208fb82d",
   "metadata": {},
   "outputs": [
    {
     "data": {
      "text/plain": [
       "6"
      ]
     },
     "execution_count": 20,
     "metadata": {},
     "output_type": "execute_result"
    }
   ],
   "source": [
    "solution(626331)"
   ]
  },
  {
   "cell_type": "code",
   "execution_count": 21,
   "id": "024b1db2",
   "metadata": {},
   "outputs": [
    {
     "ename": "IndentationError",
     "evalue": "expected an indented block (Temp/ipykernel_22808/787905539.py, line 5)",
     "output_type": "error",
     "traceback": [
      "\u001b[1;36m  File \u001b[1;32m\"C:\\Users\\82103\\AppData\\Local\\Temp/ipykernel_22808/787905539.py\"\u001b[1;36m, line \u001b[1;32m5\u001b[0m\n\u001b[1;33m    \u001b[0m\n\u001b[1;37m    ^\u001b[0m\n\u001b[1;31mIndentationError\u001b[0m\u001b[1;31m:\u001b[0m expected an indented block\n"
     ]
    }
   ],
   "source": [
    "def solution(num):\n",
    "    answer = []\n",
    "    while num > 1 :"
   ]
  },
  {
   "cell_type": "code",
   "execution_count": 22,
   "id": "dda1554a",
   "metadata": {},
   "outputs": [
    {
     "name": "stdout",
     "output_type": "stream",
     "text": [
      "-1\n"
     ]
    }
   ],
   "source": [
    "num = 626331\n",
    "answer = 0\n",
    "while num > 1 :\n",
    "    if 0 <= answer < 500 :\n",
    "        num = num / 2 if num % 2 == 0 else num * 3 + 1\n",
    "        answer += 1\n",
    "    else :\n",
    "        answer = -1 \n",
    "        break\n",
    "print(answer)"
   ]
  },
  {
   "cell_type": "code",
   "execution_count": 23,
   "id": "c04f98f7",
   "metadata": {},
   "outputs": [],
   "source": [
    "def solution(num):\n",
    "    answer = 0  \n",
    "    while num > 1 :\n",
    "        if 0 <= answer < 500 :\n",
    "            num = num / 2 if num % 2 == 0 else num * 3 + 1\n",
    "            answer += 1\n",
    "        else :\n",
    "            answer = -1 \n",
    "            break\n",
    "    return answer"
   ]
  },
  {
   "cell_type": "markdown",
   "id": "fcde9505",
   "metadata": {},
   "source": [
    "## 최대공약수와 최소공배수"
   ]
  },
  {
   "cell_type": "markdown",
   "id": "0af955f5",
   "metadata": {},
   "source": [
    "문제 설명 두 수를 입력받아 두 수의 최대공약수와 최소공배수를 반환하는 함수, solution을 완성해 보세요. 배열의 맨 앞에 최대공약수, 그다음 최소공배수를 넣어 반환하면 됩니다. 예를 들어 두 수 3, 12의 최대공약수는 3, 최소공배수는 12이므로 solution(3, 12)는 [3, 12]를 반환해야 합니다."
   ]
  },
  {
   "cell_type": "markdown",
   "id": "f80825c4",
   "metadata": {},
   "source": [
    "* 입출력 예 <br>\n",
    "n\tm\treturn <br>\n",
    "3\t12\t[3, 12] <br>\n",
    "2\t5\t[1, 10] <br>"
   ]
  },
  {
   "cell_type": "code",
   "execution_count": 24,
   "id": "ac732923",
   "metadata": {},
   "outputs": [],
   "source": [
    "def solution(n, m):\n",
    "    answer = []\n",
    "    return answer"
   ]
  },
  {
   "cell_type": "code",
   "execution_count": 25,
   "id": "702f7c7f",
   "metadata": {},
   "outputs": [],
   "source": [
    "a = 12\n",
    "b = 3\n",
    "a_rhd = []\n",
    "b_rhd = []\n",
    "for i in range(1,a+1) :\n",
    "    if a % i == 0 :\n",
    "        a_rhd.append(i)\n",
    "\n",
    "for i in range(1,b+1) :\n",
    "    if b % i == 0 :\n",
    "        b_rhd.append(i)"
   ]
  },
  {
   "cell_type": "code",
   "execution_count": 26,
   "id": "4b805e05",
   "metadata": {},
   "outputs": [
    {
     "name": "stdout",
     "output_type": "stream",
     "text": [
      "[1, 2, 3, 4, 6, 12]\n",
      "[1, 3]\n"
     ]
    }
   ],
   "source": [
    "print(a_rhd)\n",
    "print(b_rhd)"
   ]
  },
  {
   "cell_type": "code",
   "execution_count": 28,
   "id": "ccde4678",
   "metadata": {},
   "outputs": [
    {
     "data": {
      "text/plain": [
       "[1, 3]"
      ]
     },
     "execution_count": 28,
     "metadata": {},
     "output_type": "execute_result"
    }
   ],
   "source": [
    "chlrhd = list(set(b_rhd) & set(a_rhd))\n",
    "chlrhd"
   ]
  },
  {
   "cell_type": "code",
   "execution_count": 40,
   "id": "f8ead0a7",
   "metadata": {},
   "outputs": [
    {
     "data": {
      "text/plain": [
       "3"
      ]
     },
     "execution_count": 40,
     "metadata": {},
     "output_type": "execute_result"
    }
   ],
   "source": [
    "chlrhd = list(set(b_rhd) & set(a_rhd))[-1]\n",
    "chlrhd"
   ]
  },
  {
   "cell_type": "code",
   "execution_count": 29,
   "id": "4648d0e3",
   "metadata": {},
   "outputs": [
    {
     "data": {
      "text/plain": [
       "3"
      ]
     },
     "execution_count": 29,
     "metadata": {},
     "output_type": "execute_result"
    }
   ],
   "source": [
    "list((set(b_rhd) & set(a_rhd)))[-1]"
   ]
  },
  {
   "cell_type": "code",
   "execution_count": 30,
   "id": "712d9835",
   "metadata": {},
   "outputs": [],
   "source": [
    "e = ['가', '장', '미', '칼', '위']\n",
    "g = ['거', '위' , '장']"
   ]
  },
  {
   "cell_type": "code",
   "execution_count": 31,
   "id": "9d98d806",
   "metadata": {},
   "outputs": [
    {
     "data": {
      "text/plain": [
       "['위', '장']"
      ]
     },
     "execution_count": 31,
     "metadata": {},
     "output_type": "execute_result"
    }
   ],
   "source": [
    "list((set(e) & set(g)))"
   ]
  },
  {
   "cell_type": "code",
   "execution_count": 32,
   "id": "168cb0a1",
   "metadata": {},
   "outputs": [
    {
     "data": {
      "text/plain": [
       "[1, 3]"
      ]
     },
     "execution_count": 32,
     "metadata": {},
     "output_type": "execute_result"
    }
   ],
   "source": [
    "asd = list((set(b_rhd) & set(a_rhd)))\n",
    "asd"
   ]
  },
  {
   "cell_type": "code",
   "execution_count": 33,
   "id": "731ffaa7",
   "metadata": {},
   "outputs": [
    {
     "data": {
      "text/plain": [
       "3"
      ]
     },
     "execution_count": 33,
     "metadata": {},
     "output_type": "execute_result"
    }
   ],
   "source": [
    "sorted(asd)[-1]"
   ]
  },
  {
   "cell_type": "code",
   "execution_count": 34,
   "id": "bf8c09aa",
   "metadata": {},
   "outputs": [
    {
     "data": {
      "text/plain": [
       "3"
      ]
     },
     "execution_count": 34,
     "metadata": {},
     "output_type": "execute_result"
    }
   ],
   "source": [
    "sorted(list((set(b_rhd) & set(a_rhd))))[-1]"
   ]
  },
  {
   "cell_type": "code",
   "execution_count": 35,
   "id": "f1ace797",
   "metadata": {},
   "outputs": [
    {
     "data": {
      "text/plain": [
       "[1, 3]"
      ]
     },
     "execution_count": 35,
     "metadata": {},
     "output_type": "execute_result"
    }
   ],
   "source": [
    "max(b_rhd, a_rhd)"
   ]
  },
  {
   "cell_type": "code",
   "execution_count": 41,
   "id": "a6b89d53",
   "metadata": {},
   "outputs": [
    {
     "data": {
      "text/plain": [
       "12.0"
      ]
     },
     "execution_count": 41,
     "metadata": {},
     "output_type": "execute_result"
    }
   ],
   "source": [
    "(b_rhd[-1] / chlrhd) * (a_rhd[-1] / chlrhd) * chlrhd"
   ]
  },
  {
   "cell_type": "code",
   "execution_count": 42,
   "id": "447382c7",
   "metadata": {},
   "outputs": [],
   "source": [
    "def solution(n, m):\n",
    "    \n",
    "    answer = []\n",
    "    n_divisor = []\n",
    "    m_divisor = []\n",
    "    \n",
    "    for i in range(1,n+1) :\n",
    "        if n % i == 0 :\n",
    "            n_divisor.append(i)\n",
    "            \n",
    "    for j in range(1,m+1) :\n",
    "        if m % j == 0 :\n",
    "            m_divisor.append(j)\n",
    "            \n",
    "    GCD = sorted(list(set(n_divisor) & set(m_divisor)))[-1]\n",
    "    LCM = n * m / GCD\n",
    "    answer = [GCD, LCM]\n",
    "    \n",
    "    return answer"
   ]
  },
  {
   "cell_type": "code",
   "execution_count": null,
   "id": "9be16204",
   "metadata": {},
   "outputs": [],
   "source": []
  }
 ],
 "metadata": {
  "kernelspec": {
   "display_name": "Python 3 (ipykernel)",
   "language": "python",
   "name": "python3"
  },
  "language_info": {
   "codemirror_mode": {
    "name": "ipython",
    "version": 3
   },
   "file_extension": ".py",
   "mimetype": "text/x-python",
   "name": "python",
   "nbconvert_exporter": "python",
   "pygments_lexer": "ipython3",
   "version": "3.9.7"
  }
 },
 "nbformat": 4,
 "nbformat_minor": 5
}
