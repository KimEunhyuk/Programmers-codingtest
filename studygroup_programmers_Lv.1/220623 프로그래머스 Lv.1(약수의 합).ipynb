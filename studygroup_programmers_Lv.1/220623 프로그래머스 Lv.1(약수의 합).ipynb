{
 "cells": [
  {
   "cell_type": "markdown",
   "id": "a0ca0a9b",
   "metadata": {},
   "source": [
    "## 약수의 합"
   ]
  },
  {
   "cell_type": "markdown",
   "id": "643098cf",
   "metadata": {},
   "source": [
    "문제 설명 <br>\n",
    "정수 n을 입력받아 n의 약수를 모두 더한 값을 리턴하는 함수, solution을 완성해주세요."
   ]
  },
  {
   "cell_type": "markdown",
   "id": "dc0105bf",
   "metadata": {},
   "source": [
    "입출력 예 <br>\n",
    "n\treturn <br>\n",
    "12\t28 <br>\n",
    "5\t6"
   ]
  },
  {
   "cell_type": "markdown",
   "id": "7740fcd6",
   "metadata": {},
   "source": [
    "제한 사항 <br>\n",
    "n은 0 이상 3000이하인 정수입니다."
   ]
  },
  {
   "cell_type": "markdown",
   "id": "3941044d",
   "metadata": {},
   "source": [
    "입출력 예 설명 <br> \n",
    "입출력 예 #1 <br>\n",
    "12의 약수는 1, 2, 3, 4, 6, 12입니다. 이를 모두 더하면 28입니다. <br>\n",
    "\n",
    "입출력 예 #2 <br>\n",
    "5의 약수는 1, 5입니다. 이를 모두 더하면 6입니다. <br>"
   ]
  },
  {
   "cell_type": "code",
   "execution_count": null,
   "id": "c6e36721",
   "metadata": {},
   "outputs": [],
   "source": [
    "def solution(n):\n",
    "    answer = 0\n",
    "    return answer"
   ]
  },
  {
   "cell_type": "code",
   "execution_count": 14,
   "id": "6b304917",
   "metadata": {},
   "outputs": [],
   "source": [
    "number = 12"
   ]
  },
  {
   "cell_type": "code",
   "execution_count": 19,
   "id": "00bfcd4f",
   "metadata": {},
   "outputs": [
    {
     "data": {
      "text/plain": [
       "2"
      ]
     },
     "execution_count": 19,
     "metadata": {},
     "output_type": "execute_result"
    }
   ],
   "source": [
    "int(number / 5)"
   ]
  },
  {
   "cell_type": "code",
   "execution_count": 34,
   "id": "6d26a8fe",
   "metadata": {},
   "outputs": [
    {
     "name": "stdout",
     "output_type": "stream",
     "text": [
      "0\n",
      "1\n",
      "2\n",
      "3\n",
      "4\n",
      "5\n",
      "6\n",
      "7\n",
      "8\n",
      "9\n",
      "10\n",
      "11\n"
     ]
    }
   ],
   "source": [
    "testlist = []\n",
    "for i in range(12):\n",
    "    print(i)\n",
    "    if number/(i+1) - int(number / (i+1)) == 0:\n",
    "        testlist.append(i+1)"
   ]
  },
  {
   "cell_type": "code",
   "execution_count": 35,
   "id": "38545f71",
   "metadata": {},
   "outputs": [
    {
     "data": {
      "text/plain": [
       "[1, 2, 3, 4, 6, 12]"
      ]
     },
     "execution_count": 35,
     "metadata": {},
     "output_type": "execute_result"
    }
   ],
   "source": [
    "testlist"
   ]
  },
  {
   "cell_type": "code",
   "execution_count": 36,
   "id": "04d1a8e2",
   "metadata": {},
   "outputs": [
    {
     "data": {
      "text/plain": [
       "28"
      ]
     },
     "execution_count": 36,
     "metadata": {},
     "output_type": "execute_result"
    }
   ],
   "source": [
    "sum(testlist)"
   ]
  },
  {
   "cell_type": "code",
   "execution_count": 27,
   "id": "7c821dd6",
   "metadata": {},
   "outputs": [
    {
     "data": {
      "text/plain": [
       "0.09090909090909083"
      ]
     },
     "execution_count": 27,
     "metadata": {},
     "output_type": "execute_result"
    }
   ],
   "source": [
    "12/11 - int(12/11)"
   ]
  },
  {
   "cell_type": "code",
   "execution_count": 31,
   "id": "92321e0c",
   "metadata": {},
   "outputs": [
    {
     "data": {
      "text/plain": [
       "True"
      ]
     },
     "execution_count": 31,
     "metadata": {},
     "output_type": "execute_result"
    }
   ],
   "source": [
    "12/6 - int(12/6) == 0"
   ]
  },
  {
   "cell_type": "markdown",
   "id": "849e9498",
   "metadata": {},
   "source": [
    "## 답 제출"
   ]
  },
  {
   "cell_type": "code",
   "execution_count": 45,
   "id": "a96b37b5",
   "metadata": {},
   "outputs": [],
   "source": [
    "def solution(n):\n",
    "    answer = []\n",
    "    for i in range(n):\n",
    "        if n/(i+1) - int(n / (i+1)) == 0:\n",
    "            answer.append(i+1)\n",
    "    return sum(answer)"
   ]
  },
  {
   "cell_type": "code",
   "execution_count": 48,
   "id": "d208d9c6",
   "metadata": {},
   "outputs": [
    {
     "data": {
      "text/plain": [
       "6"
      ]
     },
     "execution_count": 48,
     "metadata": {},
     "output_type": "execute_result"
    }
   ],
   "source": [
    "solution(5)"
   ]
  },
  {
   "cell_type": "code",
   "execution_count": null,
   "id": "69efbca5",
   "metadata": {},
   "outputs": [],
   "source": []
  }
 ],
 "metadata": {
  "kernelspec": {
   "display_name": "Python 3 (ipykernel)",
   "language": "python",
   "name": "python3"
  },
  "language_info": {
   "codemirror_mode": {
    "name": "ipython",
    "version": 3
   },
   "file_extension": ".py",
   "mimetype": "text/x-python",
   "name": "python",
   "nbconvert_exporter": "python",
   "pygments_lexer": "ipython3",
   "version": "3.9.7"
  }
 },
 "nbformat": 4,
 "nbformat_minor": 5
}
