{
 "cells": [
  {
   "cell_type": "markdown",
   "id": "52446c93",
   "metadata": {},
   "source": [
    "## 나누어 떨어지는 숫자 배열"
   ]
  },
  {
   "cell_type": "markdown",
   "id": "13ac0637",
   "metadata": {},
   "source": [
    "### 문제 설명\n",
    "array의 각 element 중 divisor로 나누어 떨어지는 값을 오름차순으로 정렬한 배열을 반환하는 함수, solution을 작성해주세요.\n",
    "divisor로 나누어 떨어지는 element가 하나도 없다면 배열에 -1을 담아 반환하세요."
   ]
  },
  {
   "cell_type": "markdown",
   "id": "084aa33e",
   "metadata": {},
   "source": [
    "### 제한사항\n",
    "- arr은 자연수를 담은 배열입니다.\n",
    "- 정수 i, j에 대해 i ≠ j 이면 arr[i] ≠ arr[j] 입니다.\n",
    "- divisor는 자연수입니다.\n",
    "- array는 길이 1 이상인 배열입니다."
   ]
  },
  {
   "cell_type": "markdown",
   "id": "d57c29ac",
   "metadata": {},
   "source": [
    "### 입출력 예\n",
    "    arr\tdivisor\treturn\n",
    "    [5, 9, 7, 10]\t5\t[5, 10]\n",
    "    [2, 36, 1, 3]\t1\t[1, 2, 3, 36]\n",
    "    [3,2,6]\t10\t[-1]"
   ]
  },
  {
   "cell_type": "markdown",
   "id": "441de3c0",
   "metadata": {},
   "source": [
    "### 입출력 예 설명\n",
    "입출력 예#1 <br>\n",
    "arr의 원소 중 5로 나누어 떨어지는 원소는 5와 10입니다. 따라서 [5, 10]을 리턴합니다.\n",
    "\n",
    "입출력 예#2 <br>\n",
    "arr의 모든 원소는 1으로 나누어 떨어집니다. 원소를 오름차순으로 정렬해 [1, 2, 3, 36]을 리턴합니다.\n",
    "\n",
    "입출력 예#3 <br>\n",
    "3, 2, 6은 10으로 나누어 떨어지지 않습니다. 나누어 떨어지는 원소가 없으므로 [-1]을 리턴합니다."
   ]
  },
  {
   "cell_type": "code",
   "execution_count": null,
   "id": "c2bb4ef7",
   "metadata": {},
   "outputs": [],
   "source": [
    "def solution(arr, divisor):\n",
    "    answer = []\n",
    "    return answer"
   ]
  },
  {
   "cell_type": "code",
   "execution_count": null,
   "id": "bd9fa103",
   "metadata": {},
   "outputs": [],
   "source": []
  },
  {
   "cell_type": "code",
   "execution_count": 5,
   "id": "0c36231b",
   "metadata": {},
   "outputs": [
    {
     "data": {
      "text/plain": [
       "0"
      ]
     },
     "execution_count": 5,
     "metadata": {},
     "output_type": "execute_result"
    }
   ],
   "source": [
    "10 % 5"
   ]
  },
  {
   "cell_type": "code",
   "execution_count": 6,
   "id": "7426d25a",
   "metadata": {},
   "outputs": [],
   "source": [
    "arr1 = [5, 9, 7, 10]"
   ]
  },
  {
   "cell_type": "code",
   "execution_count": 7,
   "id": "b7c5aeaf",
   "metadata": {},
   "outputs": [],
   "source": [
    "divisor1 = 5"
   ]
  },
  {
   "cell_type": "code",
   "execution_count": 11,
   "id": "98b56f2c",
   "metadata": {},
   "outputs": [
    {
     "data": {
      "text/plain": [
       "[5, 10]"
      ]
     },
     "execution_count": 11,
     "metadata": {},
     "output_type": "execute_result"
    }
   ],
   "source": [
    "asdf1 = []\n",
    "for i in arr1:\n",
    "    if i%divisor1 == 0:\n",
    "        asdf1.append(i)\n",
    "if len(asdf1) == 0:\n",
    "    print(-1)\n",
    "asdf1.sort()\n",
    "asdf1"
   ]
  },
  {
   "cell_type": "markdown",
   "id": "32190c1f",
   "metadata": {},
   "source": [
    "## 답 제출"
   ]
  },
  {
   "cell_type": "code",
   "execution_count": null,
   "id": "232a12f1",
   "metadata": {},
   "outputs": [],
   "source": [
    "def solution(arr, divisor):\n",
    "    answer = []\n",
    "    for i in arr:\n",
    "        if i%divisor == 0:\n",
    "            answer.append(i)\n",
    "    if len(answer) == 0:\n",
    "        return [-1]\n",
    "    answer.sort()\n",
    "    return answer"
   ]
  },
  {
   "cell_type": "markdown",
   "id": "683d9395",
   "metadata": {},
   "source": [
    "### 다른사람의 코드 (파이썬 스러운)"
   ]
  },
  {
   "cell_type": "code",
   "execution_count": null,
   "id": "b7f97ac7",
   "metadata": {},
   "outputs": [],
   "source": [
    "def solution(arr, divisor): \n",
    "    return sorted([n for n in arr if n%divisor == 0]) or [-1]"
   ]
  },
  {
   "cell_type": "code",
   "execution_count": 12,
   "id": "86596108",
   "metadata": {
    "scrolled": false
   },
   "outputs": [
    {
     "data": {
      "text/plain": [
       "[5, 10]"
      ]
     },
     "execution_count": 12,
     "metadata": {},
     "output_type": "execute_result"
    }
   ],
   "source": [
    "sorted([i for i in arr1 if i%divisor1 == 0]) or [-1]"
   ]
  },
  {
   "cell_type": "code",
   "execution_count": null,
   "id": "c47fc229",
   "metadata": {},
   "outputs": [],
   "source": []
  },
  {
   "cell_type": "code",
   "execution_count": null,
   "id": "3e9c86d6",
   "metadata": {},
   "outputs": [],
   "source": []
  },
  {
   "cell_type": "code",
   "execution_count": 20,
   "id": "51fd45f5",
   "metadata": {},
   "outputs": [
    {
     "data": {
      "text/plain": [
       "[5, 10]"
      ]
     },
     "execution_count": 20,
     "metadata": {},
     "output_type": "execute_result"
    }
   ],
   "source": [
    "sorted([i for i in arr1 if i%divisor1 == 0]) or [-1]\n",
    "\n",
    "# or[-1] 대박..."
   ]
  },
  {
   "cell_type": "code",
   "execution_count": null,
   "id": "1025f7e7",
   "metadata": {},
   "outputs": [],
   "source": []
  }
 ],
 "metadata": {
  "kernelspec": {
   "display_name": "Python 3 (ipykernel)",
   "language": "python",
   "name": "python3"
  },
  "language_info": {
   "codemirror_mode": {
    "name": "ipython",
    "version": 3
   },
   "file_extension": ".py",
   "mimetype": "text/x-python",
   "name": "python",
   "nbconvert_exporter": "python",
   "pygments_lexer": "ipython3",
   "version": "3.9.7"
  }
 },
 "nbformat": 4,
 "nbformat_minor": 5
}
