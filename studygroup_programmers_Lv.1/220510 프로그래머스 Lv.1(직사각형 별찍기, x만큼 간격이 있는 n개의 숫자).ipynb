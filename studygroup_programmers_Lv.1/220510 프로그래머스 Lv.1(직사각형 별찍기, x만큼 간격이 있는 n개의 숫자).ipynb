{
 "cells": [
  {
   "cell_type": "markdown",
   "id": "b2c5abc2",
   "metadata": {},
   "source": [
    "직사각형 별찍기"
   ]
  },
  {
   "cell_type": "code",
   "execution_count": null,
   "id": "aa3198cb",
   "metadata": {
    "scrolled": true
   },
   "outputs": [],
   "source": [
    "print('*'*3)"
   ]
  },
  {
   "cell_type": "code",
   "execution_count": 2,
   "id": "b68fee22",
   "metadata": {},
   "outputs": [],
   "source": [
    "def star(a, b):\n",
    "    listb = []\n",
    "    for x in range(b) :\n",
    "        lista = '*' * a\n",
    "        listb.append(lista)\n",
    "    return print(*listb, sep='\\n')"
   ]
  },
  {
   "cell_type": "code",
   "execution_count": 3,
   "id": "331c1e94",
   "metadata": {
    "scrolled": true
   },
   "outputs": [
    {
     "name": "stdout",
     "output_type": "stream",
     "text": [
      "*****\n",
      "*****\n",
      "*****\n"
     ]
    }
   ],
   "source": [
    "star(5, 3)"
   ]
  },
  {
   "cell_type": "markdown",
   "id": "52302a35",
   "metadata": {},
   "source": [
    "프로그래머스 답안 제출"
   ]
  },
  {
   "cell_type": "code",
   "execution_count": null,
   "id": "1df6518a",
   "metadata": {},
   "outputs": [],
   "source": [
    "a, b = map(int, input().strip().split(' '))\n",
    "\n",
    "listb = []\n",
    "for x in range(b) :\n",
    "    lista = '*' * a\n",
    "    listb.append(lista)\n",
    "print(*listb, sep='\\n')"
   ]
  },
  {
   "cell_type": "markdown",
   "id": "bdb95062",
   "metadata": {},
   "source": [
    "위와 같이 *를 사용해서 unpacking한 데이터로 전달해야 sep를 적용할 수 있다.\n",
    "\n",
    "출처: https://earthteacher.tistory.com/111 [개발자를 위한 4차원 주머니]"
   ]
  },
  {
   "cell_type": "markdown",
   "id": "9f88c06d",
   "metadata": {},
   "source": [
    "x만큼 간격이 있는 n개의 숫자"
   ]
  },
  {
   "cell_type": "code",
   "execution_count": 77,
   "id": "7f344bb8",
   "metadata": {},
   "outputs": [],
   "source": [
    "# 은혁\n",
    "def solution(x, n):\n",
    "    answer = []\n",
    "    for i in range(n) :\n",
    "        answer.append(x * (i+1))\n",
    "    return answer"
   ]
  },
  {
   "cell_type": "code",
   "execution_count": null,
   "id": "a76fab31",
   "metadata": {},
   "outputs": [],
   "source": [
    "def solution(arr1, arr2):\n",
    "    answer = [[]]\n",
    "    return answer"
   ]
  },
  {
   "cell_type": "code",
   "execution_count": 6,
   "id": "fe5b6727",
   "metadata": {},
   "outputs": [],
   "source": [
    "arr1 = [[1,2],[2,3]]\n",
    "arr2 = [[3,4],[5,6]]"
   ]
  },
  {
   "cell_type": "code",
   "execution_count": 17,
   "id": "ad3f8d6b",
   "metadata": {},
   "outputs": [
    {
     "data": {
      "text/plain": [
       "[1, 2]"
      ]
     },
     "execution_count": 17,
     "metadata": {},
     "output_type": "execute_result"
    }
   ],
   "source": [
    "arr1[0]"
   ]
  },
  {
   "cell_type": "code",
   "execution_count": 13,
   "id": "56d6352f",
   "metadata": {},
   "outputs": [
    {
     "name": "stdout",
     "output_type": "stream",
     "text": [
      "4\n"
     ]
    },
    {
     "data": {
      "text/plain": [
       "6"
      ]
     },
     "execution_count": 13,
     "metadata": {},
     "output_type": "execute_result"
    }
   ],
   "source": [
    "print(arr1[0][0] + arr2[0][0])\n",
    "arr1[0][1] + arr2[0][1]"
   ]
  },
  {
   "cell_type": "code",
   "execution_count": null,
   "id": "ee8bbafe",
   "metadata": {},
   "outputs": [],
   "source": []
  }
 ],
 "metadata": {
  "kernelspec": {
   "display_name": "Python 3 (ipykernel)",
   "language": "python",
   "name": "python3"
  },
  "language_info": {
   "codemirror_mode": {
    "name": "ipython",
    "version": 3
   },
   "file_extension": ".py",
   "mimetype": "text/x-python",
   "name": "python",
   "nbconvert_exporter": "python",
   "pygments_lexer": "ipython3",
   "version": "3.9.7"
  }
 },
 "nbformat": 4,
 "nbformat_minor": 5
}
