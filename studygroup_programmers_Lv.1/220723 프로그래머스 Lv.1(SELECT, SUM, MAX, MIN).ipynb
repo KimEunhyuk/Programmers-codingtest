{
 "cells": [
  {
   "cell_type": "markdown",
   "id": "149aedbb",
   "metadata": {},
   "source": [
    "## 상위 n개 레코드"
   ]
  },
  {
   "cell_type": "markdown",
   "id": "18ecc78b",
   "metadata": {},
   "source": [
    "### 문제 설명\n",
    "ANIMAL_INS 테이블은 동물 보호소에 들어온 동물의 정보를 담은 테이블입니다. ANIMAL_INS 테이블 구조는 다음과 같으며, ANIMAL_ID, ANIMAL_TYPE, DATETIME, INTAKE_CONDITION, NAME, SEX_UPON_INTAKE는 각각 동물의 아이디, 생물 종, 보호 시작일, 보호 시작 시 상태, 이름, 성별 및 중성화 여부를 나타냅니다."
   ]
  },
  {
   "cell_type": "code",
   "execution_count": 1,
   "id": "630c1cf9",
   "metadata": {},
   "outputs": [],
   "source": [
    "import pandas as pd"
   ]
  },
  {
   "cell_type": "code",
   "execution_count": 2,
   "id": "f5210334",
   "metadata": {},
   "outputs": [
    {
     "data": {
      "text/html": [
       "<div>\n",
       "<style scoped>\n",
       "    .dataframe tbody tr th:only-of-type {\n",
       "        vertical-align: middle;\n",
       "    }\n",
       "\n",
       "    .dataframe tbody tr th {\n",
       "        vertical-align: top;\n",
       "    }\n",
       "\n",
       "    .dataframe thead th {\n",
       "        text-align: right;\n",
       "    }\n",
       "</style>\n",
       "<table border=\"1\" class=\"dataframe\">\n",
       "  <thead>\n",
       "    <tr style=\"text-align: right;\">\n",
       "      <th></th>\n",
       "      <th>NAME</th>\n",
       "      <th>TYPE</th>\n",
       "      <th>NULLABLE</th>\n",
       "    </tr>\n",
       "  </thead>\n",
       "  <tbody>\n",
       "    <tr>\n",
       "      <th>0</th>\n",
       "      <td>ANIMAL_ID</td>\n",
       "      <td>VARCHAR(N)</td>\n",
       "      <td>FALSE</td>\n",
       "    </tr>\n",
       "    <tr>\n",
       "      <th>1</th>\n",
       "      <td>ANIMAL_TYPE</td>\n",
       "      <td>VARCHAR(N)</td>\n",
       "      <td>FALSE</td>\n",
       "    </tr>\n",
       "    <tr>\n",
       "      <th>2</th>\n",
       "      <td>DATETIME</td>\n",
       "      <td>DATETIME</td>\n",
       "      <td>FALSE</td>\n",
       "    </tr>\n",
       "    <tr>\n",
       "      <th>3</th>\n",
       "      <td>INTAKE_CONDITION</td>\n",
       "      <td>VARCHAR(N)</td>\n",
       "      <td>FALSE</td>\n",
       "    </tr>\n",
       "    <tr>\n",
       "      <th>4</th>\n",
       "      <td>NAME</td>\n",
       "      <td>VARCHAR(N)</td>\n",
       "      <td>TRUE</td>\n",
       "    </tr>\n",
       "    <tr>\n",
       "      <th>5</th>\n",
       "      <td>SEX_UPON_INTAKE</td>\n",
       "      <td>VARCHAR(N)</td>\n",
       "      <td>FALSE</td>\n",
       "    </tr>\n",
       "  </tbody>\n",
       "</table>\n",
       "</div>"
      ],
      "text/plain": [
       "               NAME        TYPE NULLABLE\n",
       "0         ANIMAL_ID  VARCHAR(N)    FALSE\n",
       "1       ANIMAL_TYPE  VARCHAR(N)    FALSE\n",
       "2          DATETIME    DATETIME    FALSE\n",
       "3  INTAKE_CONDITION  VARCHAR(N)    FALSE\n",
       "4              NAME  VARCHAR(N)     TRUE\n",
       "5   SEX_UPON_INTAKE  VARCHAR(N)    FALSE"
      ]
     },
     "execution_count": 2,
     "metadata": {},
     "output_type": "execute_result"
    }
   ],
   "source": [
    "pd.DataFrame({\"NAME\":[\"ANIMAL_ID\", \"ANIMAL_TYPE\", \"DATETIME\", \"INTAKE_CONDITION\", \"NAME\", \"SEX_UPON_INTAKE\"],\n",
    "             \"TYPE\":[\"VARCHAR(N)\", \"VARCHAR(N)\", \"DATETIME\", \"VARCHAR(N)\", \"VARCHAR(N)\", \"VARCHAR(N)\"],\n",
    "             \"NULLABLE\":[\"FALSE\", \"FALSE\", \"FALSE\", \"FALSE\", \"TRUE\", \"FALSE\"]})"
   ]
  },
  {
   "cell_type": "markdown",
   "id": "9a04c0d4",
   "metadata": {},
   "source": [
    "동물 보호소에 가장 먼저 들어온 동물의 이름을 조회하는 SQL 문을 작성해주세요."
   ]
  },
  {
   "cell_type": "markdown",
   "id": "c4adf378",
   "metadata": {},
   "source": [
    "### 예시\n",
    "예를 들어 ANIMAL_INS 테이블이 다음과 같다면"
   ]
  },
  {
   "cell_type": "code",
   "execution_count": 4,
   "id": "3f302b2e",
   "metadata": {},
   "outputs": [
    {
     "data": {
      "text/html": [
       "<div>\n",
       "<style scoped>\n",
       "    .dataframe tbody tr th:only-of-type {\n",
       "        vertical-align: middle;\n",
       "    }\n",
       "\n",
       "    .dataframe tbody tr th {\n",
       "        vertical-align: top;\n",
       "    }\n",
       "\n",
       "    .dataframe thead th {\n",
       "        text-align: right;\n",
       "    }\n",
       "</style>\n",
       "<table border=\"1\" class=\"dataframe\">\n",
       "  <thead>\n",
       "    <tr style=\"text-align: right;\">\n",
       "      <th></th>\n",
       "      <th>ANIMAL_ID</th>\n",
       "      <th>ANIMAL_TYPE</th>\n",
       "      <th>DATETIME</th>\n",
       "      <th>INTAKE_CONDITION</th>\n",
       "      <th>NAME</th>\n",
       "      <th>SEX_UPON_INTAKE</th>\n",
       "    </tr>\n",
       "  </thead>\n",
       "  <tbody>\n",
       "    <tr>\n",
       "      <th>0</th>\n",
       "      <td>A399552</td>\n",
       "      <td>Dog</td>\n",
       "      <td>2013-10-14 15:38:00</td>\n",
       "      <td>Normal</td>\n",
       "      <td>Jack</td>\n",
       "      <td>Neutered Male</td>\n",
       "    </tr>\n",
       "    <tr>\n",
       "      <th>1</th>\n",
       "      <td>A379998</td>\n",
       "      <td>Dog</td>\n",
       "      <td>2013-10-23 11:42:00</td>\n",
       "      <td>Normal</td>\n",
       "      <td>Disciple</td>\n",
       "      <td>Intact Male</td>\n",
       "    </tr>\n",
       "    <tr>\n",
       "      <th>2</th>\n",
       "      <td>A370852</td>\n",
       "      <td>Dog</td>\n",
       "      <td>2013-11-03 15:04:00</td>\n",
       "      <td>Normal</td>\n",
       "      <td>Katie</td>\n",
       "      <td>Spayed Female</td>\n",
       "    </tr>\n",
       "    <tr>\n",
       "      <th>3</th>\n",
       "      <td>A403564</td>\n",
       "      <td>Dog</td>\n",
       "      <td>2013-11-18 17:03:00</td>\n",
       "      <td>Normal</td>\n",
       "      <td>Anna</td>\n",
       "      <td>Spayed Female</td>\n",
       "    </tr>\n",
       "  </tbody>\n",
       "</table>\n",
       "</div>"
      ],
      "text/plain": [
       "  ANIMAL_ID ANIMAL_TYPE             DATETIME INTAKE_CONDITION      NAME  \\\n",
       "0   A399552         Dog  2013-10-14 15:38:00           Normal      Jack   \n",
       "1   A379998         Dog  2013-10-23 11:42:00           Normal  Disciple   \n",
       "2   A370852         Dog  2013-11-03 15:04:00           Normal     Katie   \n",
       "3   A403564         Dog  2013-11-18 17:03:00           Normal      Anna   \n",
       "\n",
       "  SEX_UPON_INTAKE  \n",
       "0   Neutered Male  \n",
       "1     Intact Male  \n",
       "2   Spayed Female  \n",
       "3   Spayed Female  "
      ]
     },
     "execution_count": 4,
     "metadata": {},
     "output_type": "execute_result"
    }
   ],
   "source": [
    "pd.DataFrame({\"ANIMAL_ID\":[\"A399552\", \"A379998\", \"A370852\", \"A403564\"],\n",
    "             \"ANIMAL_TYPE\":[\"Dog\", \"Dog\", \"Dog\", \"Dog\"],\n",
    "             \"DATETIME\":[\"2013-10-14 15:38:00\", \"2013-10-23 11:42:00\", \"2013-11-03 15:04:00\", \"2013-11-18 17:03:00\"],\n",
    "             \"INTAKE_CONDITION\":[\"Normal\", \"Normal\", \"Normal\", \"Normal\"],\n",
    "             \"NAME\":[\"Jack\", \"Disciple\", \"Katie\", \"Anna\"],\n",
    "             \"SEX_UPON_INTAKE\":[\"Neutered Male\", \"Intact Male\", \"Spayed Female\", \"Spayed Female\"]})"
   ]
  },
  {
   "cell_type": "markdown",
   "id": "92f5b9f2",
   "metadata": {},
   "source": [
    "이 중 가장 보호소에 먼저 들어온 동물은 Jack입니다. 따라서 SQL문을 실행하면 다음과 같이 나와야 합니다. <br>\n",
    "NAME <br>\n",
    "Jack <br>"
   ]
  },
  {
   "cell_type": "markdown",
   "id": "cb82c90b",
   "metadata": {},
   "source": [
    "※ 보호소에 가장 먼저 들어온 동물은 한 마리인 경우만 테스트 케이스로 주어집니다."
   ]
  },
  {
   "cell_type": "code",
   "execution_count": null,
   "id": "5142ab2b",
   "metadata": {},
   "outputs": [],
   "source": [
    "create table animal_ins (\n",
    "    -> animal_id VARCHAR(100) not null,\n",
    "    -> animal_type VARCHAR(100) not null,\n",
    "    -> datetime datetime not null,\n",
    "    -> intake_condition VARCHAR(100) not null,\n",
    "    -> name VARCHAR(100),\n",
    "    -> sex_upon_intake VARCHAR(100) not null\n",
    "    -> );"
   ]
  },
  {
   "cell_type": "code",
   "execution_count": null,
   "id": "7d15f2f6",
   "metadata": {},
   "outputs": [],
   "source": [
    "insert into animal_ins values('A399552', 'Dog', '2013-10-14 15:38:00', 'Normal', 'Jack', 'Neutered Male');\n",
    "insert into animal_ins values('A379998', 'Dog', '2013-10-23 11:42:00', 'Normal', 'Disciple', 'Intact Male');\n",
    "insert into animal_ins values('A370852', 'Dog', '2013-11-03 15:04:00', 'Normal', 'Katie', 'Spayed Female');\n",
    "insert into animal_ins values('A403564', 'Dog', '2013-11-18 17:03:00', 'Normal', 'Anna', 'Spayed Female');"
   ]
  },
  {
   "attachments": {
    "image.png": {
     "image/png": "[encoded data removed]"
    }
   },
   "cell_type": "markdown",
   "id": "f6358090",
   "metadata": {},
   "source": [
    "![image.png](attachment:image.png)"
   ]
  },
  {
   "attachments": {
    "image.png": {
     "image/png": "[encoded data removed]"
    }
   },
   "cell_type": "markdown",
   "id": "f6938b6c",
   "metadata": {},
   "source": [
    "![image.png](attachment:image.png)"
   ]
  },
  {
   "cell_type": "code",
   "execution_count": null,
   "id": "06b2ba26",
   "metadata": {},
   "outputs": [],
   "source": [
    "SELECT NAME\n",
    "FROM ANIMAL_INS\n",
    "ORDER BY DATETIME\n",
    "LIMIT 1"
   ]
  },
  {
   "attachments": {
    "image.png": {
     "image/png": "[encoded data removed]"
    }
   },
   "cell_type": "markdown",
   "id": "3303b4ff",
   "metadata": {},
   "source": [
    "![image.png](attachment:image.png)"
   ]
  },
  {
   "cell_type": "code",
   "execution_count": null,
   "id": "03607723",
   "metadata": {},
   "outputs": [],
   "source": []
  },
  {
   "cell_type": "code",
   "execution_count": null,
   "id": "e04be577",
   "metadata": {},
   "outputs": [],
   "source": []
  },
  {
   "cell_type": "markdown",
   "id": "71507699",
   "metadata": {},
   "source": [
    "## 2번. 최댓값 구하기"
   ]
  },
  {
   "cell_type": "markdown",
   "id": "73f1a93e",
   "metadata": {},
   "source": [
    "가장 최근에 들어온 동물은 언제 들어왔는지 조회하는 SQL 문을 작성해주세요."
   ]
  },
  {
   "cell_type": "markdown",
   "id": "2a40706f",
   "metadata": {},
   "source": [
    "가장 늦게 들어온 동물은 Anna이고, Anna는 2013-11-18 17:03:00에 들어왔습니다. 따라서 SQL문을 실행하면 다음과 같이 나와야 합니다."
   ]
  },
  {
   "cell_type": "markdown",
   "id": "2dae8250",
   "metadata": {},
   "source": [
    "시간 <br>\n",
    "2013-11-18 17:03:00"
   ]
  },
  {
   "cell_type": "code",
   "execution_count": null,
   "id": "ebf60927",
   "metadata": {},
   "outputs": [],
   "source": [
    "SELECT DATETIME\n",
    "FROM ANIMAL_INS\n",
    "ORDER BY DATETIME DESC\n",
    "LIMIT 1"
   ]
  },
  {
   "attachments": {
    "image.png": {
     "image/png": "[encoded data removed]"
    }
   },
   "cell_type": "markdown",
   "id": "c8aa5554",
   "metadata": {},
   "source": [
    "![image.png](attachment:image.png)"
   ]
  },
  {
   "cell_type": "code",
   "execution_count": null,
   "id": "ba953606",
   "metadata": {},
   "outputs": [],
   "source": []
  },
  {
   "cell_type": "code",
   "execution_count": null,
   "id": "916f8179",
   "metadata": {},
   "outputs": [],
   "source": []
  },
  {
   "cell_type": "markdown",
   "id": "bb2569a1",
   "metadata": {},
   "source": [
    "## 3번. 최솟값 구하기"
   ]
  },
  {
   "cell_type": "markdown",
   "id": "13718ba5",
   "metadata": {},
   "source": [
    "동물 보호소에 가장 먼저 들어온 동물은 언제 들어왔는지 조회하는 SQL 문을 작성해주세요."
   ]
  },
  {
   "cell_type": "markdown",
   "id": "15e19b94",
   "metadata": {},
   "source": [
    "가장 먼저 들어온 동물은 Jack이고, Jack은 2013-10-14 15:38:00에 들어왔습니다. 따라서 SQL문을 실행하면 다음과 같이 나와야 합니다."
   ]
  },
  {
   "cell_type": "markdown",
   "id": "5c6ed8e4",
   "metadata": {},
   "source": [
    "시간 <br>\n",
    "2013-10-14 15:38:00"
   ]
  },
  {
   "cell_type": "code",
   "execution_count": null,
   "id": "05b0d479",
   "metadata": {},
   "outputs": [],
   "source": [
    "SELECT DATETIME\n",
    "FROM ANIMAL_INS\n",
    "ORDER BY DATETIME\n",
    "LIMIT 1;"
   ]
  },
  {
   "attachments": {
    "image.png": {
     "image/png": "[encoded data removed]"
    }
   },
   "cell_type": "markdown",
   "id": "45f46a2d",
   "metadata": {},
   "source": [
    "![image.png](attachment:image.png)"
   ]
  },
  {
   "cell_type": "code",
   "execution_count": null,
   "id": "9002eb30",
   "metadata": {},
   "outputs": [],
   "source": []
  },
  {
   "cell_type": "code",
   "execution_count": null,
   "id": "787709c0",
   "metadata": {},
   "outputs": [],
   "source": []
  },
  {
   "cell_type": "markdown",
   "id": "0dd28a79",
   "metadata": {},
   "source": [
    "## 4번. 동물 수 구하기"
   ]
  },
  {
   "cell_type": "markdown",
   "id": "d70c94db",
   "metadata": {},
   "source": [
    "동물 보호소에 동물이 몇 마리 들어왔는지 조회하는 SQL 문을 작성해주세요."
   ]
  },
  {
   "cell_type": "markdown",
   "id": "507dca28",
   "metadata": {},
   "source": [
    "동물 보호소에 들어온 동물은 4마리입니다. 따라서 SQL문을 실행하면 다음과 같이 나와야 합니다."
   ]
  },
  {
   "cell_type": "markdown",
   "id": "12404f83",
   "metadata": {},
   "source": [
    "count <br>\n",
    "4"
   ]
  },
  {
   "cell_type": "code",
   "execution_count": null,
   "id": "fc9f3109",
   "metadata": {},
   "outputs": [],
   "source": [
    "create table animal_ins2 as select * from animal_ins where 1=2;\n",
    "\n",
    "insert into animal_ins2 values('A562649', 'Dog', '2014-03-20 18:06:00', 'Sick', NULL, 'Spayed Female');\n",
    "insert into animal_ins2 values('A412626', 'Dog', '2016-03-13 11:17:00', 'Normal', '*Sam', 'Neutered Male');\n",
    "insert into animal_ins2 values('A563492', 'Dog', '2014-10-24 14:45:00', 'Normal', '*Sam', 'Neutered Male');\n",
    "insert into animal_ins2 values('A513956', 'Dog', '2017-06-14 11:54:00', 'Normal', '*Sweetie', 'Spayed Female');"
   ]
  },
  {
   "cell_type": "code",
   "execution_count": null,
   "id": "a736a65c",
   "metadata": {},
   "outputs": [],
   "source": [
    "SELECT COUNT(*)\n",
    "FROM ANIMAL_INS;"
   ]
  },
  {
   "attachments": {
    "image.png": {
     "image/png": "[encoded data removed]"
    }
   },
   "cell_type": "markdown",
   "id": "fe2c919c",
   "metadata": {},
   "source": [
    "![image.png](attachment:image.png)"
   ]
  },
  {
   "cell_type": "code",
   "execution_count": null,
   "id": "3607ec2d",
   "metadata": {},
   "outputs": [],
   "source": []
  },
  {
   "cell_type": "code",
   "execution_count": null,
   "id": "df58e25f",
   "metadata": {},
   "outputs": [],
   "source": []
  },
  {
   "cell_type": "markdown",
   "id": "181c79e9",
   "metadata": {},
   "source": [
    "## 5번. 중복제거"
   ]
  },
  {
   "cell_type": "markdown",
   "id": "6c9a7c55",
   "metadata": {},
   "source": [
    "동물 보호소에 들어온 동물의 이름은 몇 개인지 조회하는 SQL 문을 작성해주세요. 이때 이름이 NULL인 경우는 집계하지 않으며 중복되는 이름은 하나로 칩니다."
   ]
  },
  {
   "attachments": {
    "image.png": {
     "image/png": "[encoded data removed]"
    }
   },
   "cell_type": "markdown",
   "id": "214d967e",
   "metadata": {},
   "source": [
    "![image.png](attachment:image.png)"
   ]
  },
  {
   "cell_type": "code",
   "execution_count": null,
   "id": "399b3f7e",
   "metadata": {},
   "outputs": [],
   "source": [
    "SELECT COUNT(DISTINCT NAME)\n",
    "FROM ANIMAL_INS2\n",
    "WHERE NAME IS NOT NULL;"
   ]
  },
  {
   "attachments": {
    "image.png": {
     "image/png": "[encoded data removed]"
    }
   },
   "cell_type": "markdown",
   "id": "b2a6b114",
   "metadata": {},
   "source": [
    "![image.png](attachment:image.png)"
   ]
  },
  {
   "cell_type": "code",
   "execution_count": null,
   "id": "ccc5caa9",
   "metadata": {},
   "outputs": [],
   "source": []
  },
  {
   "cell_type": "code",
   "execution_count": null,
   "id": "c3e19767",
   "metadata": {},
   "outputs": [],
   "source": []
  }
 ],
 "metadata": {
  "kernelspec": {
   "display_name": "Python 3 (ipykernel)",
   "language": "python",
   "name": "python3"
  },
  "language_info": {
   "codemirror_mode": {
    "name": "ipython",
    "version": 3
   },
   "file_extension": ".py",
   "mimetype": "text/x-python",
   "name": "python",
   "nbconvert_exporter": "python",
   "pygments_lexer": "ipython3",
   "version": "3.9.7"
  }
 },
 "nbformat": 4,
 "nbformat_minor": 5
}
