{
 "cells": [
  {
   "cell_type": "markdown",
   "id": "68f01159",
   "metadata": {},
   "source": [
    "## 문자열 내림차순으로 배치하기"
   ]
  },
  {
   "cell_type": "markdown",
   "id": "a911aed2",
   "metadata": {},
   "source": [
    "### 문제 설명\n",
    "문자열 s에 나타나는 문자를 큰것부터 작은 순으로 정렬해 새로운 문자열을 리턴하는 함수, solution을 완성해주세요.<br>\n",
    "s는 영문 대소문자로만 구성되어 있으며, 대문자는 소문자보다 작은 것으로 간주합니다."
   ]
  },
  {
   "cell_type": "markdown",
   "id": "2b64e4ec",
   "metadata": {},
   "source": [
    "### 제한 사항\n",
    "- str은 길이 1 이상인 문자열입니다."
   ]
  },
  {
   "cell_type": "markdown",
   "id": "6c8d4521",
   "metadata": {},
   "source": [
    "### 입출력 예\n",
    "        s\t     return\n",
    "    \"Zbcdefg\"\t\"gfedcbZ\""
   ]
  },
  {
   "cell_type": "code",
   "execution_count": 13,
   "id": "fef2e46d",
   "metadata": {},
   "outputs": [
    {
     "data": {
      "text/plain": [
       "98"
      ]
     },
     "execution_count": 13,
     "metadata": {},
     "output_type": "execute_result"
    }
   ],
   "source": [
    "ord('b')"
   ]
  },
  {
   "cell_type": "code",
   "execution_count": 16,
   "id": "f4899c6e",
   "metadata": {},
   "outputs": [],
   "source": [
    "sss = \"Zbcdefg\""
   ]
  },
  {
   "cell_type": "code",
   "execution_count": 25,
   "id": "9acbf83b",
   "metadata": {},
   "outputs": [
    {
     "data": {
      "text/plain": [
       "['Z', 'b', 'c', 'd', 'e', 'f', 'g']"
      ]
     },
     "execution_count": 25,
     "metadata": {},
     "output_type": "execute_result"
    }
   ],
   "source": [
    "list(sss)"
   ]
  },
  {
   "cell_type": "code",
   "execution_count": 20,
   "id": "0bab7239",
   "metadata": {},
   "outputs": [],
   "source": [
    "for i in sss:\n",
    "    ord('i')"
   ]
  },
  {
   "cell_type": "code",
   "execution_count": 30,
   "id": "af34dd57",
   "metadata": {},
   "outputs": [],
   "source": [
    "asdfasdf = ord('Z'),ord('a')"
   ]
  },
  {
   "cell_type": "code",
   "execution_count": 35,
   "id": "370fcd87",
   "metadata": {},
   "outputs": [
    {
     "ename": "TypeError",
     "evalue": "sort() takes no positional arguments",
     "output_type": "error",
     "traceback": [
      "\u001b[1;31m---------------------------------------------------------------------------\u001b[0m",
      "\u001b[1;31mTypeError\u001b[0m                                 Traceback (most recent call last)",
      "\u001b[1;32m~\\AppData\\Local\\Temp/ipykernel_12112/3443799055.py\u001b[0m in \u001b[0;36m<module>\u001b[1;34m\u001b[0m\n\u001b[1;32m----> 1\u001b[1;33m \u001b[0mlist\u001b[0m\u001b[1;33m(\u001b[0m\u001b[0masdfasdf\u001b[0m\u001b[1;33m)\u001b[0m\u001b[1;33m.\u001b[0m\u001b[0msort\u001b[0m\u001b[1;33m(\u001b[0m\u001b[1;32mFalse\u001b[0m\u001b[1;33m)\u001b[0m\u001b[1;33m\u001b[0m\u001b[1;33m\u001b[0m\u001b[0m\n\u001b[0m",
      "\u001b[1;31mTypeError\u001b[0m: sort() takes no positional arguments"
     ]
    }
   ],
   "source": [
    "list(asdfasdf).sort()"
   ]
  },
  {
   "cell_type": "code",
   "execution_count": 34,
   "id": "61a292dc",
   "metadata": {},
   "outputs": [
    {
     "data": {
      "text/plain": [
       "[90, 97]"
      ]
     },
     "execution_count": 34,
     "metadata": {},
     "output_type": "execute_result"
    }
   ],
   "source": [
    "list(asdfasdf)"
   ]
  },
  {
   "cell_type": "code",
   "execution_count": 36,
   "id": "4be308fa",
   "metadata": {},
   "outputs": [],
   "source": [
    "asdfasdfasd = ord('a'), ord('Z')"
   ]
  },
  {
   "cell_type": "code",
   "execution_count": 41,
   "id": "59928405",
   "metadata": {},
   "outputs": [],
   "source": [
    "asd = list(asdfasdfasd)"
   ]
  },
  {
   "cell_type": "code",
   "execution_count": 42,
   "id": "20140f4b",
   "metadata": {},
   "outputs": [],
   "source": [
    "asd.sort()"
   ]
  },
  {
   "cell_type": "code",
   "execution_count": 43,
   "id": "2b926074",
   "metadata": {},
   "outputs": [
    {
     "data": {
      "text/plain": [
       "[90, 97]"
      ]
     },
     "execution_count": 43,
     "metadata": {},
     "output_type": "execute_result"
    }
   ],
   "source": [
    "asd"
   ]
  },
  {
   "cell_type": "markdown",
   "id": "cd52b823",
   "metadata": {},
   "source": [
    "숫자도 작은순서로 정렬되는거 확인."
   ]
  },
  {
   "cell_type": "code",
   "execution_count": 45,
   "id": "2d519d16",
   "metadata": {},
   "outputs": [],
   "source": [
    "tests = list(sss)"
   ]
  },
  {
   "cell_type": "code",
   "execution_count": 48,
   "id": "e3107763",
   "metadata": {},
   "outputs": [
    {
     "name": "stdout",
     "output_type": "stream",
     "text": [
      "Z\n",
      "b\n",
      "c\n",
      "d\n",
      "e\n",
      "f\n",
      "g\n"
     ]
    }
   ],
   "source": [
    "for i in tests:\n",
    "    print(i)"
   ]
  },
  {
   "cell_type": "code",
   "execution_count": 51,
   "id": "eaefb19b",
   "metadata": {},
   "outputs": [],
   "source": [
    "answer = []\n",
    "for i in tests:\n",
    "    answer.append(ord(i))"
   ]
  },
  {
   "cell_type": "code",
   "execution_count": 52,
   "id": "30692e38",
   "metadata": {},
   "outputs": [
    {
     "data": {
      "text/plain": [
       "[90, 98, 99, 100, 101, 102, 103]"
      ]
     },
     "execution_count": 52,
     "metadata": {},
     "output_type": "execute_result"
    }
   ],
   "source": [
    "answer"
   ]
  },
  {
   "cell_type": "code",
   "execution_count": 53,
   "id": "7ef680ed",
   "metadata": {},
   "outputs": [],
   "source": [
    "answer = []\n",
    "for i in tests:\n",
    "    answer.append(ord(i))\n",
    "answer.sort(reverse=True)"
   ]
  },
  {
   "cell_type": "code",
   "execution_count": 54,
   "id": "45dce78f",
   "metadata": {},
   "outputs": [
    {
     "data": {
      "text/plain": [
       "[103, 102, 101, 100, 99, 98, 90]"
      ]
     },
     "execution_count": 54,
     "metadata": {},
     "output_type": "execute_result"
    }
   ],
   "source": [
    "answer"
   ]
  },
  {
   "cell_type": "code",
   "execution_count": 55,
   "id": "60cf422e",
   "metadata": {},
   "outputs": [],
   "source": [
    "answer = []\n",
    "answer2 = []\n",
    "for i in tests:\n",
    "    answer.append(ord(i))\n",
    "answer.sort(reverse=True)\n",
    "for i in answer:\n",
    "    answer2.append(chr(i))"
   ]
  },
  {
   "cell_type": "code",
   "execution_count": 57,
   "id": "d80857bd",
   "metadata": {},
   "outputs": [
    {
     "data": {
      "text/plain": [
       "'gfedcbZ'"
      ]
     },
     "execution_count": 57,
     "metadata": {},
     "output_type": "execute_result"
    }
   ],
   "source": [
    "\"\".join(answer2)"
   ]
  },
  {
   "cell_type": "markdown",
   "id": "ea4027be",
   "metadata": {},
   "source": [
    "## 답 제출"
   ]
  },
  {
   "cell_type": "code",
   "execution_count": null,
   "id": "a6ecfd83",
   "metadata": {},
   "outputs": [],
   "source": [
    "def solution(s):\n",
    "    answer = []\n",
    "    answer2 = []\n",
    "    for i in tests:\n",
    "        answer.append(ord(i))\n",
    "    answer.sort(reverse=True)\n",
    "    for i in answer:\n",
    "        answer2.append(chr(i))\n",
    "    return \"\".join(answer2)"
   ]
  },
  {
   "cell_type": "code",
   "execution_count": null,
   "id": "95bdd513",
   "metadata": {},
   "outputs": [],
   "source": []
  },
  {
   "cell_type": "code",
   "execution_count": null,
   "id": "6d25911f",
   "metadata": {},
   "outputs": [],
   "source": []
  },
  {
   "cell_type": "markdown",
   "id": "7587abdb",
   "metadata": {},
   "source": [
    "## 다른사람 풀이"
   ]
  },
  {
   "cell_type": "code",
   "execution_count": 58,
   "id": "1638de7b",
   "metadata": {},
   "outputs": [
    {
     "data": {
      "text/plain": [
       "'gfedcbZ'"
      ]
     },
     "execution_count": 58,
     "metadata": {},
     "output_type": "execute_result"
    }
   ],
   "source": [
    "''.join(sorted(tests, reverse=True))"
   ]
  },
  {
   "cell_type": "markdown",
   "id": "62342d8f",
   "metadata": {},
   "source": [
    "### 풀이 뜯어보기"
   ]
  },
  {
   "cell_type": "code",
   "execution_count": 59,
   "id": "dacc02aa",
   "metadata": {},
   "outputs": [
    {
     "data": {
      "text/plain": [
       "['g', 'f', 'e', 'd', 'c', 'b', 'Z']"
      ]
     },
     "execution_count": 59,
     "metadata": {},
     "output_type": "execute_result"
    }
   ],
   "source": [
    "sorted(tests, reverse=True)"
   ]
  },
  {
   "cell_type": "code",
   "execution_count": 60,
   "id": "e1b3c421",
   "metadata": {},
   "outputs": [
    {
     "data": {
      "text/plain": [
       "['Z', 'b', 'c', 'd', 'e', 'f', 'g']"
      ]
     },
     "execution_count": 60,
     "metadata": {},
     "output_type": "execute_result"
    }
   ],
   "source": [
    "sorted(tests)"
   ]
  },
  {
   "cell_type": "code",
   "execution_count": 62,
   "id": "6e332435",
   "metadata": {},
   "outputs": [],
   "source": [
    "tests2 = \"aedfcgb\""
   ]
  },
  {
   "cell_type": "code",
   "execution_count": 63,
   "id": "cf7308a0",
   "metadata": {},
   "outputs": [
    {
     "data": {
      "text/plain": [
       "['a', 'b', 'c', 'd', 'e', 'f', 'g']"
      ]
     },
     "execution_count": 63,
     "metadata": {},
     "output_type": "execute_result"
    }
   ],
   "source": [
    "sorted(tests2)"
   ]
  },
  {
   "cell_type": "markdown",
   "id": "4dde2b96",
   "metadata": {},
   "source": [
    "sorted 하면 그냥 알파벳도 정렬된다.... 내가 한 코드처럼 고생할 필요가 없었음"
   ]
  },
  {
   "cell_type": "code",
   "execution_count": 64,
   "id": "67d66cef",
   "metadata": {},
   "outputs": [],
   "source": [
    "tests3 = \"ㄱㅁㄴㅇ\""
   ]
  },
  {
   "cell_type": "code",
   "execution_count": 66,
   "id": "908391c0",
   "metadata": {},
   "outputs": [
    {
     "data": {
      "text/plain": [
       "['ㄱ', 'ㄴ', 'ㅁ', 'ㅇ']"
      ]
     },
     "execution_count": 66,
     "metadata": {},
     "output_type": "execute_result"
    }
   ],
   "source": [
    "sorted(tests3)"
   ]
  },
  {
   "cell_type": "code",
   "execution_count": 67,
   "id": "b7d94dbc",
   "metadata": {},
   "outputs": [],
   "source": [
    "tests4 = \"가휙몽나두\""
   ]
  },
  {
   "cell_type": "code",
   "execution_count": 68,
   "id": "3d784183",
   "metadata": {},
   "outputs": [
    {
     "data": {
      "text/plain": [
       "['가', '나', '두', '몽', '휙']"
      ]
     },
     "execution_count": 68,
     "metadata": {},
     "output_type": "execute_result"
    }
   ],
   "source": [
    "sorted(tests4)"
   ]
  },
  {
   "cell_type": "markdown",
   "id": "6b8b58c8",
   "metadata": {},
   "source": [
    "한글도.... 정렬된다"
   ]
  }
 ],
 "metadata": {
  "kernelspec": {
   "display_name": "Python 3 (ipykernel)",
   "language": "python",
   "name": "python3"
  },
  "language_info": {
   "codemirror_mode": {
    "name": "ipython",
    "version": 3
   },
   "file_extension": ".py",
   "mimetype": "text/x-python",
   "name": "python",
   "nbconvert_exporter": "python",
   "pygments_lexer": "ipython3",
   "version": "3.9.7"
  }
 },
 "nbformat": 4,
 "nbformat_minor": 5
}
