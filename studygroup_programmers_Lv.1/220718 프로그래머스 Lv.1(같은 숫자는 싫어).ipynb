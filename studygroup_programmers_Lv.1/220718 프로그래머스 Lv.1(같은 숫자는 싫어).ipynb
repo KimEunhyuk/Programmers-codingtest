{
 "cells": [
  {
   "cell_type": "markdown",
   "id": "aac385a8",
   "metadata": {},
   "source": [
    "## 같은 숫자는 싫어"
   ]
  },
  {
   "cell_type": "markdown",
   "id": "dc2a2a66",
   "metadata": {},
   "source": [
    "### 문제 설명\n",
    "배열 arr가 주어집니다. 배열 arr의 각 원소는 숫자 0부터 9까지로 이루어져 있습니다. 이때, 배열 arr에서 연속적으로 나타나는 숫자는 하나만 남기고 전부 제거하려고 합니다. 단, 제거된 후 남은 수들을 반환할 때는 배열 arr의 원소들의 순서를 유지해야 합니다. 예를 들면,\n",
    "\n",
    "arr = [1, 1, 3, 3, 0, 1, 1] 이면 [1, 3, 0, 1] 을 return 합니다. <br>\n",
    "arr = [4, 4, 4, 3, 3] 이면 [4, 3] 을 return 합니다. <br>\n",
    "배열 arr에서 연속적으로 나타나는 숫자는 제거하고 남은 수들을 return 하는 solution 함수를 완성해 주세요."
   ]
  },
  {
   "cell_type": "markdown",
   "id": "96101e62",
   "metadata": {},
   "source": [
    "### 제한사항\n",
    "- 배열 arr의 크기 : 1,000,000 이하의 자연수\n",
    "- 배열 arr의 원소의 크기 : 0보다 크거나 같고 9보다 작거나 같은 정수"
   ]
  },
  {
   "cell_type": "markdown",
   "id": "3be3cdde",
   "metadata": {},
   "source": [
    "### 입출력 예\n",
    "    arr\tanswer\n",
    "    [1,1,3,3,0,1,1]\t[1,3,0,1]\n",
    "    [4,4,4,3,3]\t[4,3]"
   ]
  },
  {
   "cell_type": "markdown",
   "id": "e73aba46",
   "metadata": {},
   "source": [
    "### 코딩을 처음 접한시기에 풀었던 자바코딩"
   ]
  },
  {
   "cell_type": "code",
   "execution_count": null,
   "id": "98b9f89a",
   "metadata": {},
   "outputs": [],
   "source": [
    "import java.util.*;\n",
    "\n",
    "public class Solution {\n",
    "    public ArrayList<Integer> solution(int[] arr)  {\n",
    "        ArrayList<Integer> answer = new ArrayList<Integer>();\n",
    "        \n",
    "        for(int i=0; i<arr.length; i++) {\n",
    "            \n",
    "\t\t\tif(answer.size() == 0) {\n",
    "\t\t\t\tanswer.add(0, arr[0]);\n",
    "\t\t\t\tcontinue;\n",
    "                \n",
    "\t\t\t}"
   ]
  },
  {
   "cell_type": "code",
   "execution_count": null,
   "id": "76036dc9",
   "metadata": {},
   "outputs": [],
   "source": []
  },
  {
   "cell_type": "code",
   "execution_count": null,
   "id": "59ba172c",
   "metadata": {},
   "outputs": [],
   "source": [
    "def solution(arr):\n",
    "    answer = []\n",
    "    return answer"
   ]
  },
  {
   "cell_type": "code",
   "execution_count": 169,
   "id": "38389911",
   "metadata": {},
   "outputs": [],
   "source": [
    "arr = [1,1,3,3,0,1,1]"
   ]
  },
  {
   "cell_type": "code",
   "execution_count": 18,
   "id": "e83d7a01",
   "metadata": {},
   "outputs": [
    {
     "data": {
      "text/plain": [
       "7"
      ]
     },
     "execution_count": 18,
     "metadata": {},
     "output_type": "execute_result"
    }
   ],
   "source": [
    "len(arr)"
   ]
  },
  {
   "cell_type": "code",
   "execution_count": 60,
   "id": "42e8b725",
   "metadata": {},
   "outputs": [],
   "source": [
    "arr1 = arr.copy()"
   ]
  },
  {
   "cell_type": "code",
   "execution_count": 61,
   "id": "9999e9d5",
   "metadata": {},
   "outputs": [
    {
     "data": {
      "text/plain": [
       "[1, 1, 3, 3, 0, 1, 1]"
      ]
     },
     "execution_count": 61,
     "metadata": {},
     "output_type": "execute_result"
    }
   ],
   "source": [
    "arr1"
   ]
  },
  {
   "cell_type": "code",
   "execution_count": 54,
   "id": "7a30ecc3",
   "metadata": {},
   "outputs": [
    {
     "ename": "NameError",
     "evalue": "name 'index' is not defined",
     "output_type": "error",
     "traceback": [
      "\u001b[1;31m---------------------------------------------------------------------------\u001b[0m",
      "\u001b[1;31mNameError\u001b[0m                                 Traceback (most recent call last)",
      "\u001b[1;32m~\\AppData\\Local\\Temp/ipykernel_22008/1431944196.py\u001b[0m in \u001b[0;36m<module>\u001b[1;34m\u001b[0m\n\u001b[1;32m----> 1\u001b[1;33m \u001b[0marr1\u001b[0m\u001b[1;33m.\u001b[0m\u001b[0mremove\u001b[0m\u001b[1;33m(\u001b[0m\u001b[0mindex\u001b[0m\u001b[1;33m(\u001b[0m\u001b[1;36m1\u001b[0m\u001b[1;33m)\u001b[0m\u001b[1;33m)\u001b[0m\u001b[1;33m\u001b[0m\u001b[1;33m\u001b[0m\u001b[0m\n\u001b[0m",
      "\u001b[1;31mNameError\u001b[0m: name 'index' is not defined"
     ]
    }
   ],
   "source": [
    "arr1.remove()"
   ]
  },
  {
   "cell_type": "code",
   "execution_count": 62,
   "id": "816e7515",
   "metadata": {},
   "outputs": [],
   "source": [
    "del arr1[2]"
   ]
  },
  {
   "cell_type": "code",
   "execution_count": 91,
   "id": "ec30124f",
   "metadata": {},
   "outputs": [
    {
     "data": {
      "text/plain": [
       "[1, 1, 3, 0, 1, 1]"
      ]
     },
     "execution_count": 91,
     "metadata": {},
     "output_type": "execute_result"
    }
   ],
   "source": [
    "arr1"
   ]
  },
  {
   "cell_type": "code",
   "execution_count": 101,
   "id": "19a62111",
   "metadata": {},
   "outputs": [
    {
     "data": {
      "text/plain": [
       "range(0, 6)"
      ]
     },
     "execution_count": 101,
     "metadata": {},
     "output_type": "execute_result"
    }
   ],
   "source": [
    "range(len(arr)-1)"
   ]
  },
  {
   "cell_type": "code",
   "execution_count": 140,
   "id": "003039f0",
   "metadata": {},
   "outputs": [
    {
     "data": {
      "text/plain": [
       "7"
      ]
     },
     "execution_count": 140,
     "metadata": {},
     "output_type": "execute_result"
    }
   ],
   "source": [
    "len(arr)"
   ]
  },
  {
   "cell_type": "code",
   "execution_count": 142,
   "id": "eccad754",
   "metadata": {},
   "outputs": [
    {
     "data": {
      "text/plain": [
       "1"
      ]
     },
     "execution_count": 142,
     "metadata": {},
     "output_type": "execute_result"
    }
   ],
   "source": [
    "arr[6]"
   ]
  },
  {
   "cell_type": "code",
   "execution_count": 139,
   "id": "6cf84340",
   "metadata": {},
   "outputs": [
    {
     "ename": "IndexError",
     "evalue": "list index out of range",
     "output_type": "error",
     "traceback": [
      "\u001b[1;31m---------------------------------------------------------------------------\u001b[0m",
      "\u001b[1;31mIndexError\u001b[0m                                Traceback (most recent call last)",
      "\u001b[1;32m~\\AppData\\Local\\Temp/ipykernel_22008/647775285.py\u001b[0m in \u001b[0;36m<module>\u001b[1;34m\u001b[0m\n\u001b[1;32m----> 1\u001b[1;33m \u001b[0marr\u001b[0m\u001b[1;33m[\u001b[0m\u001b[0mlen\u001b[0m\u001b[1;33m(\u001b[0m\u001b[0marr\u001b[0m\u001b[1;33m)\u001b[0m\u001b[1;33m-\u001b[0m\u001b[1;36m0\u001b[0m\u001b[1;33m]\u001b[0m\u001b[1;33m\u001b[0m\u001b[1;33m\u001b[0m\u001b[0m\n\u001b[0m",
      "\u001b[1;31mIndexError\u001b[0m: list index out of range"
     ]
    }
   ],
   "source": [
    "arr[len(arr)-0]"
   ]
  },
  {
   "cell_type": "code",
   "execution_count": 146,
   "id": "99893b4e",
   "metadata": {},
   "outputs": [
    {
     "name": "stdout",
     "output_type": "stream",
     "text": [
      "i = 1\n",
      "arr = [1, 1, 3, 3, 0, 1]\n",
      "i = 0\n",
      "arr = [1, 1, 3, 3, 0, 1]\n",
      "i = 3\n",
      "arr = [1, 1, 3, 0, 1]\n",
      "i = 1\n",
      "arr = [1, 3, 0, 1]\n",
      "i = 1\n",
      "arr = [1, 3, 0, 1]\n",
      "i = 0\n",
      "arr = [1, 3, 0, 1]\n"
     ]
    }
   ],
   "source": [
    "arr = [1,1,3,3,0,1,1]\n",
    "for i in range(len(arr)-1):\n",
    "    print(\"i =\", arr[len(arr)-1-i])\n",
    "    if arr[len(arr)-1-i] == arr[len(arr)-2-i]:\n",
    "        del arr[len(arr)-1-i]\n",
    "    print(\"arr =\", arr)"
   ]
  },
  {
   "cell_type": "code",
   "execution_count": null,
   "id": "b88eb919",
   "metadata": {},
   "outputs": [],
   "source": []
  },
  {
   "cell_type": "code",
   "execution_count": 129,
   "id": "48ee1b0f",
   "metadata": {},
   "outputs": [
    {
     "data": {
      "text/plain": [
       "[1, 3, 0, 1]"
      ]
     },
     "execution_count": 129,
     "metadata": {},
     "output_type": "execute_result"
    }
   ],
   "source": [
    "arr"
   ]
  },
  {
   "cell_type": "code",
   "execution_count": 116,
   "id": "dd9b8aac",
   "metadata": {},
   "outputs": [],
   "source": [
    "def solution(arr):\n",
    "    for i in range(len(arr)-1):\n",
    "        if arr[len(arr)-1-i] == arr[len(arr)-2-i]:\n",
    "            del arr[len(arr)-1-i]\n",
    "    return arr\n",
    "\n",
    "# 테스트 2번 에러남"
   ]
  },
  {
   "cell_type": "code",
   "execution_count": 150,
   "id": "6cc8c255",
   "metadata": {},
   "outputs": [],
   "source": [
    "arr2 = [4,4,4,3,3]"
   ]
  },
  {
   "cell_type": "code",
   "execution_count": 154,
   "id": "5670dc09",
   "metadata": {},
   "outputs": [
    {
     "data": {
      "text/plain": [
       "[4, 4, 4, 0, 3]"
      ]
     },
     "execution_count": 154,
     "metadata": {},
     "output_type": "execute_result"
    }
   ],
   "source": [
    "arr2"
   ]
  },
  {
   "cell_type": "markdown",
   "id": "f4b3bcc1",
   "metadata": {},
   "source": [
    "### 자꾸 인덱스가 밀리는 현상"
   ]
  },
  {
   "cell_type": "markdown",
   "id": "6eaa22d5",
   "metadata": {},
   "source": [
    "### 때문에 숫자만 있는 리스트에 분별가능하게 스트링인 a를 넣어주고 나중에 a를 삭제함."
   ]
  },
  {
   "cell_type": "code",
   "execution_count": 165,
   "id": "7a0f9739",
   "metadata": {},
   "outputs": [
    {
     "name": "stdout",
     "output_type": "stream",
     "text": [
      "i = 3\n",
      "i = 3\n",
      "i = 4\n",
      "i = 4\n",
      "arr2 = [4, 3]\n"
     ]
    }
   ],
   "source": [
    "arr2 = [4,4,4,3,3]\n",
    "for i in range(len(arr2)-1):\n",
    "    print(\"i =\", arr2[len(arr2)-1-i])\n",
    "    if arr2[len(arr2)-1-i] == arr2[len(arr2)-2-i]:\n",
    "        arr2[len(arr2)-1-i] = \"a\"\n",
    "while \"a\" in arr2:\n",
    "    arr2.remove(\"a\")\n",
    "print(\"arr2 =\", arr2)"
   ]
  },
  {
   "cell_type": "markdown",
   "id": "0a0879e1",
   "metadata": {},
   "source": [
    "### 인덱스 밀림현상을 해결했으므로 처음에 했던 방식대로 간단하게 수정"
   ]
  },
  {
   "cell_type": "code",
   "execution_count": 166,
   "id": "7c4eb7d6",
   "metadata": {},
   "outputs": [
    {
     "name": "stdout",
     "output_type": "stream",
     "text": [
      "i = 3\n",
      "i = 3\n",
      "i = 4\n",
      "i = a\n",
      "arr2 = [4, 3]\n"
     ]
    }
   ],
   "source": [
    "arr2 = [4,4,4,3,3]\n",
    "for i in range(len(arr2)-1):\n",
    "    if arr2[i] == arr2[i+1]:\n",
    "        arr2[i] = \"a\"\n",
    "while \"a\" in arr2:\n",
    "    arr2.remove(\"a\")\n",
    "print(\"arr2 =\", arr2)"
   ]
  },
  {
   "cell_type": "code",
   "execution_count": null,
   "id": "70f76a42",
   "metadata": {},
   "outputs": [],
   "source": [
    "def solution(arr):\n",
    "    for i in range(len(arr)-1):\n",
    "        if arr[i] == arr[i+1]:\n",
    "            arr[i] = \"a\"\n",
    "    while \"a\" in arr:\n",
    "        arr.remove(\"a\")\n",
    "    return arr"
   ]
  },
  {
   "cell_type": "markdown",
   "id": "292ff703",
   "metadata": {},
   "source": [
    "↑ 정답은 맞추지만 효율성에서 떨어져서 오답처리됨."
   ]
  },
  {
   "cell_type": "code",
   "execution_count": 170,
   "id": "38a416db",
   "metadata": {},
   "outputs": [],
   "source": [
    "arr_1 = arr.copy()"
   ]
  },
  {
   "cell_type": "code",
   "execution_count": 182,
   "id": "f0d490e3",
   "metadata": {},
   "outputs": [
    {
     "data": {
      "text/plain": [
       "[1, 1, 3, 3, 0, 1, 1]"
      ]
     },
     "execution_count": 182,
     "metadata": {},
     "output_type": "execute_result"
    }
   ],
   "source": [
    "arr_1"
   ]
  },
  {
   "cell_type": "code",
   "execution_count": 178,
   "id": "c384361f",
   "metadata": {},
   "outputs": [
    {
     "name": "stdout",
     "output_type": "stream",
     "text": [
      "[1, 3, 0, 1]\n"
     ]
    }
   ],
   "source": [
    "testlist = []\n",
    "for i in range(len(arr_1)-1):\n",
    "    if arr_1[i] != arr_1[i+1]:\n",
    "        testlist.append(arr_1[i])\n",
    "testlist.append(arr_1[-1])\n",
    "print(testlist)"
   ]
  },
  {
   "cell_type": "code",
   "execution_count": 203,
   "id": "82aca11a",
   "metadata": {},
   "outputs": [
    {
     "data": {
      "text/plain": [
       "1"
      ]
     },
     "execution_count": 203,
     "metadata": {},
     "output_type": "execute_result"
    }
   ],
   "source": [
    "arr_1[-1]"
   ]
  },
  {
   "cell_type": "markdown",
   "id": "141e05aa",
   "metadata": {},
   "source": [
    "### 요약!"
   ]
  },
  {
   "cell_type": "code",
   "execution_count": 211,
   "id": "307a4e59",
   "metadata": {},
   "outputs": [
    {
     "data": {
      "text/plain": [
       "[1, 3, 0, 1]"
      ]
     },
     "execution_count": 211,
     "metadata": {},
     "output_type": "execute_result"
    }
   ],
   "source": [
    "answer = [arr_1[i] for i in range(len(arr_1)-1) if arr_1[i] != arr_1[i+1]]\n",
    "answer.append(arr_1[-1])\n",
    "answer"
   ]
  },
  {
   "cell_type": "markdown",
   "id": "9f9a57ad",
   "metadata": {},
   "source": [
    "## 답 제출 정답!!"
   ]
  },
  {
   "cell_type": "code",
   "execution_count": null,
   "id": "60d25e3b",
   "metadata": {},
   "outputs": [],
   "source": [
    "def solution(arr):\n",
    "    answer = [arr[i] for i in range(len(arr)-1) if arr[i] != arr[i+1]]\n",
    "    answer.append(arr[-1])\n",
    "    return answer"
   ]
  },
  {
   "cell_type": "markdown",
   "id": "4fa71f05",
   "metadata": {},
   "source": [
    "### 다른 사람의 풀이"
   ]
  },
  {
   "cell_type": "code",
   "execution_count": 219,
   "id": "7f291216",
   "metadata": {},
   "outputs": [],
   "source": [
    "arr_1 = [1, 1, 3, 3, 0, 1, 1]\n",
    "a = []\n",
    "for i in arr_1:\n",
    "    if a[-1:] == [i]: continue\n",
    "    a.append(i)"
   ]
  },
  {
   "cell_type": "code",
   "execution_count": 214,
   "id": "3d524da5",
   "metadata": {},
   "outputs": [
    {
     "data": {
      "text/plain": [
       "[1, 3, 0, 1]"
      ]
     },
     "execution_count": 214,
     "metadata": {},
     "output_type": "execute_result"
    }
   ],
   "source": [
    "a"
   ]
  },
  {
   "cell_type": "markdown",
   "id": "bd87a4ff",
   "metadata": {},
   "source": [
    "### 코드 뜯어보고 이해하기"
   ]
  },
  {
   "cell_type": "code",
   "execution_count": 231,
   "id": "a2cc1a07",
   "metadata": {},
   "outputs": [
    {
     "name": "stdout",
     "output_type": "stream",
     "text": [
      "i = 1 a = []\n",
      "if = 1 a = []\n",
      "i = 1 a = [1]\n",
      "i = 3 a = [1]\n",
      "if = 3 a = [1]\n",
      "i = 3 a = [1, 3]\n",
      "i = 0 a = [1, 3]\n",
      "if = 0 a = [1, 3]\n",
      "i = 1 a = [1, 3, 0]\n",
      "if = 1 a = [1, 3, 0]\n",
      "i = 1 a = [1, 3, 0, 1]\n"
     ]
    }
   ],
   "source": [
    "a = []\n",
    "for i in arr_1:\n",
    "    print(\"i =\",i, \"a =\", a)\n",
    "    if a[-1:] == [i]: continue\n",
    "    print(\"if =\", i, \"a =\", a)\n",
    "    a.append(i)"
   ]
  },
  {
   "cell_type": "code",
   "execution_count": 220,
   "id": "3fe72548",
   "metadata": {},
   "outputs": [
    {
     "data": {
      "text/plain": [
       "[1]"
      ]
     },
     "execution_count": 220,
     "metadata": {},
     "output_type": "execute_result"
    }
   ],
   "source": [
    "arr_1[-1:]"
   ]
  },
  {
   "cell_type": "markdown",
   "id": "b3afaa40",
   "metadata": {},
   "source": [
    "continue... 이름처럼 계속해서가 아니고 밑에 구문은 실행하지않고 다시 반복문으로 돌아가는...재밌다"
   ]
  },
  {
   "cell_type": "code",
   "execution_count": null,
   "id": "8f7e8f59",
   "metadata": {},
   "outputs": [],
   "source": []
  }
 ],
 "metadata": {
  "kernelspec": {
   "display_name": "Python 3 (ipykernel)",
   "language": "python",
   "name": "python3"
  },
  "language_info": {
   "codemirror_mode": {
    "name": "ipython",
    "version": 3
   },
   "file_extension": ".py",
   "mimetype": "text/x-python",
   "name": "python",
   "nbconvert_exporter": "python",
   "pygments_lexer": "ipython3",
   "version": "3.9.7"
  }
 },
 "nbformat": 4,
 "nbformat_minor": 5
}
