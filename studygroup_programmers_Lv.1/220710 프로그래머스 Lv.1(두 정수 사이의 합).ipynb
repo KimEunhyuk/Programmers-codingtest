{
 "cells": [
  {
   "cell_type": "markdown",
   "id": "d0d068a4",
   "metadata": {},
   "source": [
    "## 두 정수 사이의 합"
   ]
  },
  {
   "cell_type": "markdown",
   "id": "edab0015",
   "metadata": {},
   "source": [
    "### 문제 설명\n",
    "두 정수 a, b가 주어졌을 때 a와 b 사이에 속한 모든 정수의 합을 리턴하는 함수, solution을 완성하세요.\n",
    "예를 들어 a = 3, b = 5인 경우, 3 + 4 + 5 = 12이므로 12를 리턴합니다."
   ]
  },
  {
   "cell_type": "markdown",
   "id": "578f21db",
   "metadata": {},
   "source": [
    "### 제한 조건\n",
    "- a와 b가 같은 경우는 둘 중 아무 수나 리턴하세요.\n",
    "- a와 b는 -10,000,000 이상 10,000,000 이하인 정수입니다.\n",
    "- a와 b의 대소관계는 정해져있지 않습니다."
   ]
  },
  {
   "cell_type": "markdown",
   "id": "6170fe1d",
   "metadata": {},
   "source": [
    "### 입출력 예\n",
    "    a\tb\treturn\n",
    "    3\t5\t12\n",
    "    3\t3\t3\n",
    "    5\t3\t12"
   ]
  },
  {
   "cell_type": "markdown",
   "id": "97cd3b1b",
   "metadata": {},
   "source": [
    "### 코딩을 처음 접했을 때 풀었던 java 코드"
   ]
  },
  {
   "cell_type": "code",
   "execution_count": null,
   "id": "8fa6e5ab",
   "metadata": {},
   "outputs": [],
   "source": [
    "class Solution {\n",
    "    public long solution(int a, int b) {\n",
    "        long answer = 0;\n",
    "                \n",
    "        if(-10000000 < a&b <10000000){                   \n",
    "            if(a < b){\n",
    "                for(int i=a; i<b+1; i++){\n",
    "                    answer += i;\n",
    "                }\n",
    "            }\n",
    "            else if(b < a){\n",
    "                for(int i=b; i<a+1; i++){\n",
    "                    answer += i;\n",
    "                }\n",
    "            }\n",
    "            else{\n",
    "                return a;\n",
    "            }\n",
    "        }//if\n",
    "        return answer;\n",
    "    }//solution\n",
    "}//class"
   ]
  },
  {
   "cell_type": "code",
   "execution_count": null,
   "id": "27ec84c9",
   "metadata": {},
   "outputs": [],
   "source": []
  },
  {
   "cell_type": "markdown",
   "id": "95aca663",
   "metadata": {},
   "source": [
    "### python"
   ]
  },
  {
   "cell_type": "code",
   "execution_count": null,
   "id": "11bccb1b",
   "metadata": {},
   "outputs": [],
   "source": [
    "def solution(a, b):\n",
    "    answer = 0\n",
    "    return answer"
   ]
  },
  {
   "cell_type": "code",
   "execution_count": 2,
   "id": "d080146d",
   "metadata": {},
   "outputs": [],
   "source": [
    "a = 3\n",
    "b = 5"
   ]
  },
  {
   "cell_type": "code",
   "execution_count": 3,
   "id": "eca4ed85",
   "metadata": {},
   "outputs": [
    {
     "data": {
      "text/plain": [
       "(3, 5)"
      ]
     },
     "execution_count": 3,
     "metadata": {},
     "output_type": "execute_result"
    }
   ],
   "source": [
    "a, b"
   ]
  },
  {
   "cell_type": "code",
   "execution_count": 6,
   "id": "1de29ba3",
   "metadata": {},
   "outputs": [
    {
     "data": {
      "text/plain": [
       "[3, 4, 5]"
      ]
     },
     "execution_count": 6,
     "metadata": {},
     "output_type": "execute_result"
    }
   ],
   "source": [
    "list(range(3,6))"
   ]
  },
  {
   "cell_type": "code",
   "execution_count": 7,
   "id": "6c697111",
   "metadata": {},
   "outputs": [
    {
     "data": {
      "text/plain": [
       "[3]"
      ]
     },
     "execution_count": 7,
     "metadata": {},
     "output_type": "execute_result"
    }
   ],
   "source": [
    "list(range(3,4))"
   ]
  },
  {
   "cell_type": "code",
   "execution_count": 8,
   "id": "4f4c18a6",
   "metadata": {},
   "outputs": [
    {
     "data": {
      "text/plain": [
       "[3, 4, 5]"
      ]
     },
     "execution_count": 8,
     "metadata": {},
     "output_type": "execute_result"
    }
   ],
   "source": [
    "list(range(a,b+1))"
   ]
  },
  {
   "cell_type": "code",
   "execution_count": 9,
   "id": "de3493b4",
   "metadata": {},
   "outputs": [
    {
     "data": {
      "text/plain": [
       "12"
      ]
     },
     "execution_count": 9,
     "metadata": {},
     "output_type": "execute_result"
    }
   ],
   "source": [
    "sum(list(range(a,b+1)))"
   ]
  },
  {
   "cell_type": "code",
   "execution_count": null,
   "id": "71e64e43",
   "metadata": {},
   "outputs": [],
   "source": []
  },
  {
   "cell_type": "markdown",
   "id": "0487cc93",
   "metadata": {},
   "source": [
    "a가 b보다 클 때. 의 경우의 수를 생각하고 풀어보자."
   ]
  },
  {
   "cell_type": "code",
   "execution_count": 12,
   "id": "3328020b",
   "metadata": {},
   "outputs": [
    {
     "name": "stdout",
     "output_type": "stream",
     "text": [
      "12\n"
     ]
    }
   ],
   "source": [
    "if a <= b:\n",
    "    print(sum(list(range(a,b+1))))\n",
    "else:\n",
    "    print(sum(list(range(b,a+1))))"
   ]
  },
  {
   "cell_type": "markdown",
   "id": "a43c6dee",
   "metadata": {},
   "source": [
    "## 답 제출"
   ]
  },
  {
   "cell_type": "code",
   "execution_count": null,
   "id": "8b23de61",
   "metadata": {},
   "outputs": [],
   "source": [
    "def solution(a, b):\n",
    "    if a <= b:\n",
    "        return sum(list(range(a,b+1)))\n",
    "    else:\n",
    "        return sum(list(range(b,a+1)))"
   ]
  },
  {
   "cell_type": "code",
   "execution_count": null,
   "id": "56ed72e9",
   "metadata": {},
   "outputs": [],
   "source": []
  },
  {
   "cell_type": "code",
   "execution_count": 15,
   "id": "b28ed21a",
   "metadata": {},
   "outputs": [
    {
     "data": {
      "text/plain": [
       "12"
      ]
     },
     "execution_count": 15,
     "metadata": {},
     "output_type": "execute_result"
    }
   ],
   "source": [
    "sum(range(a,b+1))\n",
    "\n",
    "# list로 만들지 않고 그냥 range에 sum이 된다.........\n",
    "# 문제를 풀기전에 알았다면 더 깔끔했을 것..."
   ]
  },
  {
   "cell_type": "markdown",
   "id": "87a1be69",
   "metadata": {},
   "source": [
    "### 간소화 해보자."
   ]
  },
  {
   "cell_type": "code",
   "execution_count": 17,
   "id": "9a504b9d",
   "metadata": {},
   "outputs": [],
   "source": [
    "a = 5\n",
    "b = 2"
   ]
  },
  {
   "cell_type": "code",
   "execution_count": 21,
   "id": "eceac3b5",
   "metadata": {},
   "outputs": [
    {
     "data": {
      "text/plain": [
       "14"
      ]
     },
     "execution_count": 21,
     "metadata": {},
     "output_type": "execute_result"
    }
   ],
   "source": [
    "sum(range(a,b+1)) if a <= b else sum(range(b,a+1))"
   ]
  },
  {
   "cell_type": "markdown",
   "id": "f139a649",
   "metadata": {},
   "source": [
    "### sum을 한번에 크게 묶어서 else 에 sum을 안써도 된다..."
   ]
  },
  {
   "cell_type": "code",
   "execution_count": 23,
   "id": "69bc1f99",
   "metadata": {},
   "outputs": [
    {
     "data": {
      "text/plain": [
       "14"
      ]
     },
     "execution_count": 23,
     "metadata": {},
     "output_type": "execute_result"
    }
   ],
   "source": [
    "sum(range(a,b+1) if a <= b else range(b,a+1))"
   ]
  },
  {
   "cell_type": "code",
   "execution_count": null,
   "id": "745d843e",
   "metadata": {},
   "outputs": [],
   "source": [
    "def solution(a, b):\n",
    "        return sum(range(a,b+1)) if a <= b else sum(range(b,a+1))"
   ]
  },
  {
   "cell_type": "code",
   "execution_count": null,
   "id": "1c8ea923",
   "metadata": {},
   "outputs": [],
   "source": [
    "def solution(a, b):\n",
    "        return sum(range(a,b+1) if a <= b else range(b,a+1))"
   ]
  },
  {
   "cell_type": "markdown",
   "id": "ee4f4e19",
   "metadata": {},
   "source": [
    "### 이렇게 간소화 된다. (파이썬 스럽게)"
   ]
  },
  {
   "cell_type": "code",
   "execution_count": null,
   "id": "4d187705",
   "metadata": {},
   "outputs": [],
   "source": []
  }
 ],
 "metadata": {
  "kernelspec": {
   "display_name": "Python 3 (ipykernel)",
   "language": "python",
   "name": "python3"
  },
  "language_info": {
   "codemirror_mode": {
    "name": "ipython",
    "version": 3
   },
   "file_extension": ".py",
   "mimetype": "text/x-python",
   "name": "python",
   "nbconvert_exporter": "python",
   "pygments_lexer": "ipython3",
   "version": "3.9.7"
  }
 },
 "nbformat": 4,
 "nbformat_minor": 5
}
