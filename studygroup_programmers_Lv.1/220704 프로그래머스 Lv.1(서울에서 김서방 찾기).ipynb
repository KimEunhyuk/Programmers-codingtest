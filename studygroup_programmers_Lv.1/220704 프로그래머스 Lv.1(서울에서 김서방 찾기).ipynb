{
 "cells": [
  {
   "cell_type": "markdown",
   "id": "a76c65a9",
   "metadata": {},
   "source": [
    "## 서울에서 김서방 찾기"
   ]
  },
  {
   "cell_type": "markdown",
   "id": "662f8f56",
   "metadata": {},
   "source": [
    "### 문제 설명\n",
    "String형 배열 seoul의 element중 \"Kim\"의 위치 x를 찾아, \"김서방은 x에 있다\"는 String을 반환하는 함수, solution을 완성하세요. seoul에 \"Kim\"은 오직 한 번만 나타나며 잘못된 값이 입력되는 경우는 없습니다."
   ]
  },
  {
   "cell_type": "markdown",
   "id": "e2d6a786",
   "metadata": {},
   "source": [
    "### 제한 사항\n",
    "- seoul은 길이 1 이상, 1000 이하인 배열입니다.\n",
    "- seoul의 원소는 길이 1 이상, 20 이하인 문자열입니다.\n",
    "- \"Kim\"은 반드시 seoul 안에 포함되어 있습니다."
   ]
  },
  {
   "cell_type": "markdown",
   "id": "70fac862",
   "metadata": {},
   "source": [
    "### 입출력 예\n",
    "    seoul\t           return\n",
    "    [\"Jane\", \"Kim\"]\t\"김서방은 1에 있다\""
   ]
  },
  {
   "cell_type": "code",
   "execution_count": null,
   "id": "a25095f5",
   "metadata": {},
   "outputs": [],
   "source": [
    "def solution(seoul):\n",
    "    answer = ''\n",
    "    return answer"
   ]
  },
  {
   "cell_type": "code",
   "execution_count": null,
   "id": "3ad65426",
   "metadata": {},
   "outputs": [],
   "source": []
  },
  {
   "cell_type": "code",
   "execution_count": 2,
   "id": "944e2ab2",
   "metadata": {},
   "outputs": [],
   "source": [
    "seoul = [\"Jane\", \"Jane\",\"Jane\",\"Jane\",\"Jane\",\"Jane\", \"Kim\", \"Jane\",\"Jane\",\"Jane\",\"Jane\",\"Jane\"] "
   ]
  },
  {
   "cell_type": "code",
   "execution_count": 10,
   "id": "76f9f033",
   "metadata": {},
   "outputs": [
    {
     "name": "stdout",
     "output_type": "stream",
     "text": [
      "6\n"
     ]
    }
   ],
   "source": [
    "if \"Kim\" in seoul:\n",
    "    print(seoul.index(\"Kim\"))"
   ]
  },
  {
   "cell_type": "code",
   "execution_count": 11,
   "id": "57aad51d",
   "metadata": {},
   "outputs": [
    {
     "data": {
      "text/plain": [
       "6"
      ]
     },
     "execution_count": 11,
     "metadata": {},
     "output_type": "execute_result"
    }
   ],
   "source": [
    "seoul.index(\"Kim\")"
   ]
  },
  {
   "cell_type": "code",
   "execution_count": 12,
   "id": "a50d0108",
   "metadata": {},
   "outputs": [],
   "source": [
    "seoul = [\"Jane\", \"Jane\",\"Jane\",\"Jane\",\"Jane\",\"Jane\", \"Jane\",\"Jane\",\"Jane\",\"Jane\",\"Jane\",\"Jane\",\"Jane\",\"Jane\", \"Kim\", \"Jane\",\"Jane\",\"Jane\",\"Jane\",\"Jane\"] "
   ]
  },
  {
   "cell_type": "code",
   "execution_count": 13,
   "id": "e0e94432",
   "metadata": {},
   "outputs": [
    {
     "data": {
      "text/plain": [
       "14"
      ]
     },
     "execution_count": 13,
     "metadata": {},
     "output_type": "execute_result"
    }
   ],
   "source": [
    "seoul.index(\"Kim\")"
   ]
  },
  {
   "cell_type": "markdown",
   "id": "f9375726",
   "metadata": {},
   "source": [
    "## 답 제출"
   ]
  },
  {
   "cell_type": "code",
   "execution_count": null,
   "id": "98cba92e",
   "metadata": {},
   "outputs": [],
   "source": [
    "def solution(seoul):\n",
    "    answer = seoul.index(\"Kim\")\n",
    "    return \"김서방은 {}에 있다\".format(answer)"
   ]
  },
  {
   "cell_type": "markdown",
   "id": "096b1799",
   "metadata": {},
   "source": [
    "## 억지로 코드 줄이면"
   ]
  },
  {
   "cell_type": "code",
   "execution_count": null,
   "id": "e0527ddb",
   "metadata": {},
   "outputs": [],
   "source": [
    "def solution(seoul):\n",
    "    return \"김서방은 {}에 있다\".format(seoul.index(\"Kim\"))"
   ]
  }
 ],
 "metadata": {
  "kernelspec": {
   "display_name": "Python 3 (ipykernel)",
   "language": "python",
   "name": "python3"
  },
  "language_info": {
   "codemirror_mode": {
    "name": "ipython",
    "version": 3
   },
   "file_extension": ".py",
   "mimetype": "text/x-python",
   "name": "python",
   "nbconvert_exporter": "python",
   "pygments_lexer": "ipython3",
   "version": "3.9.7"
  }
 },
 "nbformat": 4,
 "nbformat_minor": 5
}
