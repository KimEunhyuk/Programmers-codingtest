{
 "cells": [
  {
   "cell_type": "markdown",
   "id": "7c14f86e",
   "metadata": {},
   "source": [
    "## 소수 찾기"
   ]
  },
  {
   "cell_type": "markdown",
   "id": "d92fc8b1",
   "metadata": {},
   "source": [
    "### 문제 설명\n",
    "1부터 입력받은 숫자 n 사이에 있는 소수의 개수를 반환하는 함수, solution을 만들어 보세요. \n",
    "\n",
    "소수는 1과 자기 자신으로만 나누어지는 수를 의미합니다.\n",
    "(1은 소수가 아닙니다.)"
   ]
  },
  {
   "cell_type": "markdown",
   "id": "eb1a84ca",
   "metadata": {},
   "source": [
    "### 제한 조건\n",
    "- n은 2이상 1000000이하의 자연수입니다."
   ]
  },
  {
   "cell_type": "markdown",
   "id": "289dc198",
   "metadata": {},
   "source": [
    "### 입출력 예\n",
    "    - n\tresult\n",
    "    - 10   4\n",
    "    - 5\t3"
   ]
  },
  {
   "cell_type": "markdown",
   "id": "b9857d83",
   "metadata": {},
   "source": [
    "### 입출력 예 설명\n",
    "입출력 예 #1 <br>\n",
    "1부터 10 사이의 소수는 [2,3,5,7] 4개가 존재하므로 4를 반환\n",
    "\n",
    "입출력 예 #2<br>\n",
    "1부터 5 사이의 소수는 [2,3,5] 3개가 존재하므로 3를 반환"
   ]
  },
  {
   "cell_type": "code",
   "execution_count": null,
   "id": "cbef3bc7",
   "metadata": {},
   "outputs": [],
   "source": [
    "def solution(n):\n",
    "    answer = 0\n",
    "    return answer"
   ]
  },
  {
   "cell_type": "code",
   "execution_count": null,
   "id": "f6df7625",
   "metadata": {},
   "outputs": [],
   "source": []
  },
  {
   "cell_type": "code",
   "execution_count": 1,
   "id": "efee0b85",
   "metadata": {},
   "outputs": [],
   "source": [
    "testn = 10"
   ]
  },
  {
   "cell_type": "code",
   "execution_count": 9,
   "id": "b3d8efaf",
   "metadata": {},
   "outputs": [
    {
     "data": {
      "text/plain": [
       "[2, 3, 4, 5, 6, 7, 8, 9, 10]"
      ]
     },
     "execution_count": 9,
     "metadata": {},
     "output_type": "execute_result"
    }
   ],
   "source": [
    "list(range(2, testn+1))"
   ]
  },
  {
   "cell_type": "code",
   "execution_count": 29,
   "id": "878a14ef",
   "metadata": {
    "scrolled": true
   },
   "outputs": [
    {
     "data": {
      "text/plain": [
       "[]"
      ]
     },
     "execution_count": 29,
     "metadata": {},
     "output_type": "execute_result"
    }
   ],
   "source": [
    "thtn"
   ]
  },
  {
   "cell_type": "code",
   "execution_count": 30,
   "id": "4124c48f",
   "metadata": {},
   "outputs": [
    {
     "data": {
      "text/plain": [
       "[2, 3, 2, 1, 1, 3, 1, 1, 4, 1, 9, 2, 10]"
      ]
     },
     "execution_count": 30,
     "metadata": {},
     "output_type": "execute_result"
    }
   ],
   "source": [
    "thtndla"
   ]
  },
  {
   "cell_type": "code",
   "execution_count": 39,
   "id": "6a39b62d",
   "metadata": {},
   "outputs": [
    {
     "name": "stdout",
     "output_type": "stream",
     "text": [
      "i = 2 , j+1 = 1\n",
      "i = 2 , j+1 = 2\n",
      "thtn [1, 2]\n",
      "i = 3 , j+1 = 1\n",
      "i = 3 , j+1 = 3\n",
      "thtn [1, 3]\n",
      "i = 4 , j+1 = 1\n",
      "i = 4 , j+1 = 2\n",
      "thtn [1, 2]\n",
      "i = 4 , j+1 = 4\n",
      "i = 5 , j+1 = 1\n",
      "thtn [4, 1]\n",
      "i = 5 , j+1 = 5\n",
      "i = 6 , j+1 = 1\n",
      "thtn [5, 1]\n",
      "i = 6 , j+1 = 2\n",
      "i = 6 , j+1 = 3\n",
      "thtn [2, 3]\n",
      "i = 6 , j+1 = 6\n",
      "i = 7 , j+1 = 1\n",
      "thtn [6, 1]\n",
      "i = 7 , j+1 = 7\n",
      "i = 8 , j+1 = 1\n",
      "thtn [7, 1]\n",
      "i = 8 , j+1 = 2\n",
      "i = 8 , j+1 = 4\n",
      "thtn [2, 4]\n",
      "i = 8 , j+1 = 8\n",
      "i = 9 , j+1 = 1\n",
      "thtn [8, 1]\n",
      "i = 9 , j+1 = 3\n",
      "i = 9 , j+1 = 9\n",
      "thtn [3, 9]\n",
      "i = 10 , j+1 = 1\n",
      "i = 10 , j+1 = 2\n",
      "thtn [1, 2]\n",
      "i = 10 , j+1 = 5\n",
      "i = 10 , j+1 = 10\n",
      "thtn [5, 10]\n"
     ]
    }
   ],
   "source": [
    "thtn = []\n",
    "thtndla = []\n",
    "for i in range(2, testn+1):\n",
    "    for j in range(i):\n",
    "        if i % (j+1) == 0:\n",
    "            thtn.append(j+1)\n",
    "            print(\"i =\",i,\",\", \"j+1 =\",j+1)\n",
    "            if len(thtn) == 2:\n",
    "                print(\"thtn\", thtn)\n",
    "                thtndla.append(thtn[-1])\n",
    "                thtn = []\n",
    "                \n",
    "# thtn 의 길이가 2가 될때마다 실행됨.. 이렇게 하고싶은게 아님..."
   ]
  },
  {
   "cell_type": "code",
   "execution_count": 42,
   "id": "97f86171",
   "metadata": {},
   "outputs": [
    {
     "name": "stdout",
     "output_type": "stream",
     "text": [
      "i = 2 , j+1 = 1\n",
      "i = 2 , j+1 = 2\n",
      "thtn [1, 2]\n",
      "i = 3 , j+1 = 1\n",
      "i = 3 , j+1 = 3\n",
      "thtn [1, 3]\n",
      "i = 4 , j+1 = 1\n",
      "i = 4 , j+1 = 2\n",
      "i = 4 , j+1 = 4\n",
      "i = 5 , j+1 = 1\n",
      "i = 5 , j+1 = 5\n",
      "thtn [1, 5]\n",
      "i = 6 , j+1 = 1\n",
      "i = 6 , j+1 = 2\n",
      "i = 6 , j+1 = 3\n",
      "i = 6 , j+1 = 6\n",
      "i = 7 , j+1 = 1\n",
      "i = 7 , j+1 = 7\n",
      "thtn [1, 7]\n",
      "i = 8 , j+1 = 1\n",
      "i = 8 , j+1 = 2\n",
      "i = 8 , j+1 = 4\n",
      "i = 8 , j+1 = 8\n",
      "i = 9 , j+1 = 1\n",
      "i = 9 , j+1 = 3\n",
      "i = 9 , j+1 = 9\n",
      "i = 10 , j+1 = 1\n",
      "i = 10 , j+1 = 2\n",
      "i = 10 , j+1 = 5\n",
      "i = 10 , j+1 = 10\n"
     ]
    }
   ],
   "source": [
    "thtn = []\n",
    "thtndla = []\n",
    "for i in range(2, testn+1):\n",
    "    for j in range(i):\n",
    "        if i % (j+1) == 0:\n",
    "            thtn.append(j+1)\n",
    "            print(\"i =\",i,\",\", \"j+1 =\",j+1)\n",
    "    if len(thtn) == 2:\n",
    "        print(\"thtn\", thtn)\n",
    "        thtndla.append(thtn[-1])\n",
    "    thtn = []"
   ]
  },
  {
   "cell_type": "code",
   "execution_count": 43,
   "id": "e4fe5bdd",
   "metadata": {},
   "outputs": [
    {
     "data": {
      "text/plain": [
       "[2, 3, 5, 7]"
      ]
     },
     "execution_count": 43,
     "metadata": {},
     "output_type": "execute_result"
    }
   ],
   "source": [
    "thtndla"
   ]
  },
  {
   "cell_type": "markdown",
   "id": "51fe3336",
   "metadata": {},
   "source": [
    "## 답 제출1\n",
    "- 숫자가 크면 너무 오래걸려서 좋지않은 코드."
   ]
  },
  {
   "cell_type": "code",
   "execution_count": null,
   "id": "d3c4493a",
   "metadata": {},
   "outputs": [],
   "source": [
    "def solution(n):\n",
    "    listone = []\n",
    "    PrimeN = []\n",
    "    for i in range(2, n+1):\n",
    "        for j in range(i):\n",
    "            if i % (j+1) == 0:\n",
    "                listone.append(j+1)\n",
    "        if len(listone) == 2:\n",
    "            PrimeN.append(listone[-1])\n",
    "        listone = []\n",
    "    return len(PrimeN)"
   ]
  },
  {
   "cell_type": "markdown",
   "id": "a755d602",
   "metadata": {},
   "source": [
    "## 다시"
   ]
  },
  {
   "cell_type": "markdown",
   "id": "b7820724",
   "metadata": {},
   "source": [
    "## 검색해서 얻은 코드"
   ]
  },
  {
   "cell_type": "code",
   "execution_count": null,
   "id": "483e08de",
   "metadata": {},
   "outputs": [],
   "source": [
    "def solution(n):\n",
    "    num=set(range(2,n+1)) # 2부터 n+1까지의 집합\n",
    "\n",
    "    for i in range(2,n+1): # 2부터 n까지 반복문\n",
    "        if i in num: # 만약 i가 num 집합에 있다면\n",
    "            num-=set(range(2*i,n+1,i)) # i의 배수는 num 집합에서 제외\n",
    "    return len(num) # num에 남아있는 숫자의 개수가 소수의 개수"
   ]
  },
  {
   "cell_type": "code",
   "execution_count": null,
   "id": "af782700",
   "metadata": {},
   "outputs": [],
   "source": []
  },
  {
   "cell_type": "code",
   "execution_count": 51,
   "id": "0e676738",
   "metadata": {},
   "outputs": [
    {
     "name": "stdout",
     "output_type": "stream",
     "text": [
      "i= 2 n= 10 set= {8, 10, 4, 6}\n",
      "i= 3 n= 10 set= {9, 6}\n",
      "i= 5 n= 10 set= {10}\n",
      "i= 7 n= 10 set= set()\n",
      "4\n"
     ]
    }
   ],
   "source": [
    "n = 10\n",
    "num=set(range(2,n+1)) # 2부터 n+1까지의 집합\n",
    "\n",
    "for i in range(2,n+1): # 2부터 n까지 반복문\n",
    "    if i in num: # 만약 i가 num 집합에 있다면\n",
    "        \n",
    "        print(\"i=\", i, \"n=\", n, \"set=\", set(range(2*i,n+1,i)))\n",
    "        num-=set(range(2*i,n+1,i)) # i의 배수는 num 집합에서 제외\n",
    "print(len(num)) # num에 남아있는 숫자의 개수가 소수의 개수"
   ]
  },
  {
   "cell_type": "markdown",
   "id": "b2e57d36",
   "metadata": {},
   "source": [
    "set(range(2*i,n+1,i)) 를 처음보는데 보면 <br>\n",
    "i의 배수를 구할건데, 범위는 n+1까지. 즉 원래의 n값 까지 <br>\n",
    "n범위까지 i의 배수를 구하는 코드다.\n",
    "자기 자신 i는 없음."
   ]
  },
  {
   "cell_type": "markdown",
   "id": "b5ef9fcc",
   "metadata": {},
   "source": [
    "어떤수의 배수를 다 지워버리고 남은 수의 집합을 구하는 코드 라고 해석."
   ]
  },
  {
   "cell_type": "code",
   "execution_count": null,
   "id": "c852fc99",
   "metadata": {},
   "outputs": [],
   "source": []
  }
 ],
 "metadata": {
  "kernelspec": {
   "display_name": "Python 3 (ipykernel)",
   "language": "python",
   "name": "python3"
  },
  "language_info": {
   "codemirror_mode": {
    "name": "ipython",
    "version": 3
   },
   "file_extension": ".py",
   "mimetype": "text/x-python",
   "name": "python",
   "nbconvert_exporter": "python",
   "pygments_lexer": "ipython3",
   "version": "3.9.7"
  }
 },
 "nbformat": 4,
 "nbformat_minor": 5
}
