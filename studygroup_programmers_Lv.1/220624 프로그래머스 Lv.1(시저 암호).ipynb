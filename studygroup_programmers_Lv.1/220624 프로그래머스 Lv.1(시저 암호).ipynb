{
 "cells": [
  {
   "cell_type": "markdown",
   "id": "f80fe269",
   "metadata": {},
   "source": [
    "## 시저 암호"
   ]
  },
  {
   "cell_type": "markdown",
   "id": "23b03fff",
   "metadata": {},
   "source": [
    "문제 설명<br>\n",
    "어떤 문장의 각 알파벳을 일정한 거리만큼 밀어서 다른 알파벳으로 바꾸는 암호화 방식을 시저 암호라고 합니다. 예를 들어 \"AB\"는 1만큼 밀면 \"BC\"가 되고, 3만큼 밀면 \"DE\"가 됩니다. \"z\"는 1만큼 밀면 \"a\"가 됩니다. 문자열 s와 거리 n을 입력받아 s를 n만큼 민 암호문을 만드는 함수, solution을 완성해 보세요."
   ]
  },
  {
   "cell_type": "markdown",
   "id": "f5358ab4",
   "metadata": {},
   "source": [
    "제한 조건 <br>\n",
    "공백은 아무리 밀어도 공백입니다.<br>\n",
    "s는 알파벳 소문자, 대문자, 공백으로만 이루어져 있습니다.<br>\n",
    "s의 길이는 8000이하입니다.<br>\n",
    "n은 1 이상, 25이하인 자연수입니다."
   ]
  },
  {
   "cell_type": "markdown",
   "id": "12790ecd",
   "metadata": {},
   "source": [
    "입출력 예 <br>\n",
    "s \tn\tresult<br>\n",
    "\"AB\"\t1\t\"BC\"<br>\n",
    "\"z\"\t1\t\"a\"<br>\n",
    "\"a B z\"\t4\t\"e F d\""
   ]
  },
  {
   "cell_type": "code",
   "execution_count": 3,
   "id": "9fe7a15e",
   "metadata": {},
   "outputs": [],
   "source": [
    "alpab = [\"a\", \"b\", \"c\", \"d\", \"e\", \"f\", \"g\", \"h\", \"i\", \"j\", \"k\", \"l\", \"m\", \"n\", \"o\", \"p\", \"q\", \"r\", \"s\", \"t\", \"u\", \"v\", \"w\", \"x\", \"y\", \"z\"]"
   ]
  },
  {
   "cell_type": "code",
   "execution_count": 4,
   "id": "e18182b1",
   "metadata": {},
   "outputs": [
    {
     "data": {
      "text/plain": [
       "26"
      ]
     },
     "execution_count": 4,
     "metadata": {},
     "output_type": "execute_result"
    }
   ],
   "source": [
    "len(alpab)"
   ]
  },
  {
   "cell_type": "code",
   "execution_count": 5,
   "id": "cad422fb",
   "metadata": {},
   "outputs": [],
   "source": [
    "asdf = \"a B z\""
   ]
  },
  {
   "cell_type": "code",
   "execution_count": 14,
   "id": "1001a741",
   "metadata": {},
   "outputs": [
    {
     "data": {
      "text/plain": [
       "['a', ' ', 'B', ' ', 'z']"
      ]
     },
     "execution_count": 14,
     "metadata": {},
     "output_type": "execute_result"
    }
   ],
   "source": [
    "list(\"\".join(asdf))"
   ]
  },
  {
   "cell_type": "code",
   "execution_count": 21,
   "id": "e8c257c8",
   "metadata": {},
   "outputs": [
    {
     "data": {
      "text/plain": [
       "'a'"
      ]
     },
     "execution_count": 21,
     "metadata": {},
     "output_type": "execute_result"
    }
   ],
   "source": [
    "list(\"\".join(asdf))[0]"
   ]
  },
  {
   "cell_type": "code",
   "execution_count": 16,
   "id": "65e0ba23",
   "metadata": {},
   "outputs": [
    {
     "data": {
      "text/plain": [
       "True"
      ]
     },
     "execution_count": 16,
     "metadata": {},
     "output_type": "execute_result"
    }
   ],
   "source": [
    "list(\"\".join(asdf))[0].islower()"
   ]
  },
  {
   "cell_type": "code",
   "execution_count": 20,
   "id": "b5179d24",
   "metadata": {},
   "outputs": [
    {
     "data": {
      "text/plain": [
       "True"
      ]
     },
     "execution_count": 20,
     "metadata": {},
     "output_type": "execute_result"
    }
   ],
   "source": [
    "\"a\" in alpab"
   ]
  },
  {
   "cell_type": "code",
   "execution_count": 22,
   "id": "1edc53c9",
   "metadata": {},
   "outputs": [
    {
     "data": {
      "text/plain": [
       "True"
      ]
     },
     "execution_count": 22,
     "metadata": {},
     "output_type": "execute_result"
    }
   ],
   "source": [
    "list(\"\".join(asdf))[0] in alpab"
   ]
  },
  {
   "cell_type": "code",
   "execution_count": 23,
   "id": "064bcfd5",
   "metadata": {},
   "outputs": [
    {
     "data": {
      "text/plain": [
       "0"
      ]
     },
     "execution_count": 23,
     "metadata": {},
     "output_type": "execute_result"
    }
   ],
   "source": [
    "alpab.index('a')"
   ]
  },
  {
   "cell_type": "code",
   "execution_count": 24,
   "id": "f49c78bd",
   "metadata": {},
   "outputs": [
    {
     "data": {
      "text/plain": [
       "0"
      ]
     },
     "execution_count": 24,
     "metadata": {},
     "output_type": "execute_result"
    }
   ],
   "source": [
    "alpab.index(list(\"\".join(asdf))[0])"
   ]
  },
  {
   "cell_type": "code",
   "execution_count": 26,
   "id": "786140af",
   "metadata": {},
   "outputs": [
    {
     "data": {
      "text/plain": [
       "False"
      ]
     },
     "execution_count": 26,
     "metadata": {},
     "output_type": "execute_result"
    }
   ],
   "source": [
    "\" \".isupper()"
   ]
  },
  {
   "cell_type": "code",
   "execution_count": 31,
   "id": "2cc8cca0",
   "metadata": {},
   "outputs": [
    {
     "data": {
      "text/plain": [
       "'e'"
      ]
     },
     "execution_count": 31,
     "metadata": {},
     "output_type": "execute_result"
    }
   ],
   "source": [
    "alpab[alpab.index(list(\"\".join(asdf))[0])+4]"
   ]
  },
  {
   "cell_type": "code",
   "execution_count": 35,
   "id": "467858ec",
   "metadata": {},
   "outputs": [
    {
     "data": {
      "text/plain": [
       "'b'"
      ]
     },
     "execution_count": 35,
     "metadata": {},
     "output_type": "execute_result"
    }
   ],
   "source": [
    "list(\"\".join(asdf))[2].lower()"
   ]
  },
  {
   "cell_type": "code",
   "execution_count": 39,
   "id": "6d6e5ad4",
   "metadata": {},
   "outputs": [
    {
     "ename": "IndexError",
     "evalue": "list index out of range",
     "output_type": "error",
     "traceback": [
      "\u001b[1;31m---------------------------------------------------------------------------\u001b[0m",
      "\u001b[1;31mIndexError\u001b[0m                                Traceback (most recent call last)",
      "\u001b[1;32m~\\AppData\\Local\\Temp/ipykernel_20928/3470597735.py\u001b[0m in \u001b[0;36m<module>\u001b[1;34m\u001b[0m\n\u001b[0;32m      6\u001b[0m         \u001b[1;32mif\u001b[0m \u001b[0malpab\u001b[0m\u001b[1;33m.\u001b[0m\u001b[0mindex\u001b[0m\u001b[1;33m(\u001b[0m\u001b[0mlistone\u001b[0m\u001b[1;33m[\u001b[0m\u001b[0mi\u001b[0m\u001b[1;33m]\u001b[0m\u001b[1;33m)\u001b[0m\u001b[1;33m+\u001b[0m\u001b[0mn\u001b[0m \u001b[1;33m>\u001b[0m \u001b[1;36m26\u001b[0m \u001b[1;33m:\u001b[0m\u001b[1;33m\u001b[0m\u001b[1;33m\u001b[0m\u001b[0m\n\u001b[0;32m      7\u001b[0m             \u001b[0malpab\u001b[0m\u001b[1;33m.\u001b[0m\u001b[0mindex\u001b[0m\u001b[1;33m(\u001b[0m\u001b[0mlistone\u001b[0m\u001b[1;33m[\u001b[0m\u001b[0mi\u001b[0m\u001b[1;33m]\u001b[0m\u001b[1;33m)\u001b[0m\u001b[1;33m+\u001b[0m\u001b[0mn\u001b[0m \u001b[1;33m-\u001b[0m \u001b[1;36m26\u001b[0m\u001b[1;33m\u001b[0m\u001b[1;33m\u001b[0m\u001b[0m\n\u001b[1;32m----> 8\u001b[1;33m         \u001b[0mlistresult\u001b[0m\u001b[1;33m.\u001b[0m\u001b[0mappend\u001b[0m\u001b[1;33m(\u001b[0m\u001b[0malpab\u001b[0m\u001b[1;33m[\u001b[0m\u001b[0malpab\u001b[0m\u001b[1;33m.\u001b[0m\u001b[0mindex\u001b[0m\u001b[1;33m(\u001b[0m\u001b[0mlistone\u001b[0m\u001b[1;33m[\u001b[0m\u001b[0mi\u001b[0m\u001b[1;33m]\u001b[0m\u001b[1;33m)\u001b[0m\u001b[1;33m+\u001b[0m\u001b[0mn\u001b[0m\u001b[1;33m]\u001b[0m\u001b[1;33m)\u001b[0m\u001b[1;33m\u001b[0m\u001b[1;33m\u001b[0m\u001b[0m\n\u001b[0m\u001b[0;32m      9\u001b[0m     \u001b[1;32melse\u001b[0m\u001b[1;33m:\u001b[0m\u001b[1;33m\u001b[0m\u001b[1;33m\u001b[0m\u001b[0m\n\u001b[0;32m     10\u001b[0m         \u001b[1;32mif\u001b[0m \u001b[0mlistone\u001b[0m\u001b[1;33m[\u001b[0m\u001b[0mi\u001b[0m\u001b[1;33m]\u001b[0m \u001b[1;33m==\u001b[0m \u001b[1;34m\" \"\u001b[0m\u001b[1;33m:\u001b[0m\u001b[1;33m\u001b[0m\u001b[1;33m\u001b[0m\u001b[0m\n",
      "\u001b[1;31mIndexError\u001b[0m: list index out of range"
     ]
    }
   ],
   "source": [
    "listone = list(\"\".join(asdf))\n",
    "n = 4\n",
    "listresult = []\n",
    "for i in range(len(listone)):\n",
    "    if listone[i].islower():\n",
    "        if alpab.index(listone[i])+n > 26:\n",
    "            alpab.index(listone[i])+n - 26\n",
    "        else:\n",
    "            listresult.append(alpab[alpab.index(listone[i])+n])\n",
    "    else:\n",
    "        if alpab.index(listone[i].lower())+n > 26:\n",
    "            alpab.index(listone[i].lower())+n - 26\n",
    "        \n",
    "        if listone[i] == \" \":\n",
    "            listresult.append(\" \")\n",
    "        else :\n",
    "            listresult.append(alpab[alpab.index(listone[i].lower())+n].upper())"
   ]
  },
  {
   "cell_type": "code",
   "execution_count": 42,
   "id": "0c8ce520",
   "metadata": {},
   "outputs": [],
   "source": [
    "listone = list(\"\".join(asdf))\n",
    "n = 4\n",
    "listresult = []\n",
    "for i in range(len(listone)):\n",
    "    if listone[i].islower():\n",
    "        try:\n",
    "            listresult.append(alpab[alpab.index(listone[i])+n])\n",
    "        except:\n",
    "            listresult.append(alpab[alpab.index(listone[i])+n-26])\n",
    "    else:\n",
    "        if listone[i] == \" \":\n",
    "            listresult.append(\" \")\n",
    "        else:\n",
    "            try:\n",
    "                listresult.append(alpab[alpab.index(listone[i].lower())+n].upper())\n",
    "            except:\n",
    "                listresult.append(alpab[alpab.index(listone[i].lower())+n-26].upper())"
   ]
  },
  {
   "cell_type": "code",
   "execution_count": 44,
   "id": "4681126c",
   "metadata": {},
   "outputs": [
    {
     "data": {
      "text/plain": [
       "'e F d'"
      ]
     },
     "execution_count": 44,
     "metadata": {},
     "output_type": "execute_result"
    }
   ],
   "source": [
    "\"\".join(listresult)"
   ]
  },
  {
   "cell_type": "markdown",
   "id": "bc670ded",
   "metadata": {},
   "source": [
    "## 답 제출"
   ]
  },
  {
   "cell_type": "code",
   "execution_count": null,
   "id": "277459fe",
   "metadata": {},
   "outputs": [],
   "source": [
    "def solution(s, n):\n",
    "    listone = list(\"\".join(s))\n",
    "    answer = []\n",
    "    for i in range(len(listone)):\n",
    "        if listone[i].islower():\n",
    "            try:\n",
    "                answer.append(alpab[alpab.index(listone[i])+n])\n",
    "            except:\n",
    "                answer.append(alpab[alpab.index(listone[i])+n-26])\n",
    "        else:\n",
    "            if listone[i] == \" \":\n",
    "                answer.append(\" \")\n",
    "            else:\n",
    "                try:\n",
    "                    answer.append(alpab[alpab.index(listone[i].lower())+n].upper())\n",
    "                except:\n",
    "                    answer.append(alpab[alpab.index(listone[i].lower())+n-26].upper())\n",
    "    return \"\".join(answer)"
   ]
  }
 ],
 "metadata": {
  "kernelspec": {
   "display_name": "Python 3 (ipykernel)",
   "language": "python",
   "name": "python3"
  },
  "language_info": {
   "codemirror_mode": {
    "name": "ipython",
    "version": 3
   },
   "file_extension": ".py",
   "mimetype": "text/x-python",
   "name": "python",
   "nbconvert_exporter": "python",
   "pygments_lexer": "ipython3",
   "version": "3.9.7"
  }
 },
 "nbformat": 4,
 "nbformat_minor": 5
}
