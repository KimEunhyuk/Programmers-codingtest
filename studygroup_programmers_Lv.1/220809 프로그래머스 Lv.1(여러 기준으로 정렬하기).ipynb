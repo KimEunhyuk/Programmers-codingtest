{
 "cells": [
  {
   "cell_type": "markdown",
   "id": "9a9469bf",
   "metadata": {},
   "source": [
    "## 여러 기준으로 정렬하기"
   ]
  },
  {
   "cell_type": "markdown",
   "id": "75630219",
   "metadata": {},
   "source": [
    "### 문제 설명"
   ]
  },
  {
   "cell_type": "markdown",
   "id": "e7f525fd",
   "metadata": {},
   "source": [
    "ANIMAL_INS 테이블은 동물 보호소에 들어온 동물의 정보를 담은 테이블입니다. ANIMAL_INS 테이블 구조는 다음과 같으며, ANIMAL_ID, ANIMAL_TYPE, DATETIME, INTAKE_CONDITION, NAME, SEX_UPON_INTAKE는 각각 동물의 아이디, 생물 종, 보호 시작일, 보호 시작 시 상태, 이름, 성별 및 중성화 여부를 나타냅니다."
   ]
  },
  {
   "cell_type": "code",
   "execution_count": 2,
   "id": "7cd46aea",
   "metadata": {},
   "outputs": [],
   "source": [
    "import pandas as pd"
   ]
  },
  {
   "cell_type": "code",
   "execution_count": 3,
   "id": "d3213f18",
   "metadata": {},
   "outputs": [
    {
     "data": {
      "text/html": [
       "<div>\n",
       "<style scoped>\n",
       "    .dataframe tbody tr th:only-of-type {\n",
       "        vertical-align: middle;\n",
       "    }\n",
       "\n",
       "    .dataframe tbody tr th {\n",
       "        vertical-align: top;\n",
       "    }\n",
       "\n",
       "    .dataframe thead th {\n",
       "        text-align: right;\n",
       "    }\n",
       "</style>\n",
       "<table border=\"1\" class=\"dataframe\">\n",
       "  <thead>\n",
       "    <tr style=\"text-align: right;\">\n",
       "      <th></th>\n",
       "      <th>NAME</th>\n",
       "      <th>TYPE</th>\n",
       "      <th>NULLABLE</th>\n",
       "    </tr>\n",
       "  </thead>\n",
       "  <tbody>\n",
       "    <tr>\n",
       "      <th>0</th>\n",
       "      <td>ANIMAL_ID</td>\n",
       "      <td>VARCHAR(N)</td>\n",
       "      <td>FALSE</td>\n",
       "    </tr>\n",
       "    <tr>\n",
       "      <th>1</th>\n",
       "      <td>ANIMAL_TYPE</td>\n",
       "      <td>VARCHAR(N)</td>\n",
       "      <td>FALSE</td>\n",
       "    </tr>\n",
       "    <tr>\n",
       "      <th>2</th>\n",
       "      <td>DATETIME</td>\n",
       "      <td>DATETIME</td>\n",
       "      <td>FALSE</td>\n",
       "    </tr>\n",
       "    <tr>\n",
       "      <th>3</th>\n",
       "      <td>INTAKE_CONDITION</td>\n",
       "      <td>VARCHAR(N)</td>\n",
       "      <td>FALSE</td>\n",
       "    </tr>\n",
       "    <tr>\n",
       "      <th>4</th>\n",
       "      <td>NAME</td>\n",
       "      <td>VARCHAR(N)</td>\n",
       "      <td>TRUE</td>\n",
       "    </tr>\n",
       "    <tr>\n",
       "      <th>5</th>\n",
       "      <td>SEX_UPON_INTAKE</td>\n",
       "      <td>VARCHAR(N)</td>\n",
       "      <td>FALSE</td>\n",
       "    </tr>\n",
       "  </tbody>\n",
       "</table>\n",
       "</div>"
      ],
      "text/plain": [
       "               NAME        TYPE NULLABLE\n",
       "0         ANIMAL_ID  VARCHAR(N)    FALSE\n",
       "1       ANIMAL_TYPE  VARCHAR(N)    FALSE\n",
       "2          DATETIME    DATETIME    FALSE\n",
       "3  INTAKE_CONDITION  VARCHAR(N)    FALSE\n",
       "4              NAME  VARCHAR(N)     TRUE\n",
       "5   SEX_UPON_INTAKE  VARCHAR(N)    FALSE"
      ]
     },
     "execution_count": 3,
     "metadata": {},
     "output_type": "execute_result"
    }
   ],
   "source": [
    "pd.DataFrame({\"NAME\":[\"ANIMAL_ID\", \"ANIMAL_TYPE\", \"DATETIME\", \"INTAKE_CONDITION\", \"NAME\", \"SEX_UPON_INTAKE\"],\n",
    "             \"TYPE\":[\"VARCHAR(N)\", \"VARCHAR(N)\", \"DATETIME\", \"VARCHAR(N)\", \"VARCHAR(N)\", \"VARCHAR(N)\"],\n",
    "             \"NULLABLE\":[\"FALSE\", \"FALSE\", \"FALSE\", \"FALSE\", \"TRUE\", \"FALSE\"]})"
   ]
  },
  {
   "cell_type": "markdown",
   "id": "72826167",
   "metadata": {},
   "source": [
    "동물 보호소에 들어온 모든 동물의 아이디와 이름, 보호 시작일을 이름 순으로 조회하는 SQL문을 작성해주세요. 단, 이름이 같은 동물 중에서는 보호를 나중에 시작한 동물을 먼저 보여줘야 합니다."
   ]
  },
  {
   "cell_type": "markdown",
   "id": "7c428dd5",
   "metadata": {},
   "source": [
    "예를 들어, ANIMAL_INS 테이블이 다음과 같다면"
   ]
  },
  {
   "cell_type": "code",
   "execution_count": 4,
   "id": "97dd8717",
   "metadata": {},
   "outputs": [
    {
     "data": {
      "text/html": [
       "<div>\n",
       "<style scoped>\n",
       "    .dataframe tbody tr th:only-of-type {\n",
       "        vertical-align: middle;\n",
       "    }\n",
       "\n",
       "    .dataframe tbody tr th {\n",
       "        vertical-align: top;\n",
       "    }\n",
       "\n",
       "    .dataframe thead th {\n",
       "        text-align: right;\n",
       "    }\n",
       "</style>\n",
       "<table border=\"1\" class=\"dataframe\">\n",
       "  <thead>\n",
       "    <tr style=\"text-align: right;\">\n",
       "      <th></th>\n",
       "      <th>ANIMAL_ID</th>\n",
       "      <th>ANIMAL_TYPE</th>\n",
       "      <th>DATETIME</th>\n",
       "      <th>INTAKE_CONDITION</th>\n",
       "      <th>NAME</th>\n",
       "      <th>SEX_UPON_INTAKE</th>\n",
       "    </tr>\n",
       "  </thead>\n",
       "  <tbody>\n",
       "    <tr>\n",
       "      <th>0</th>\n",
       "      <td>A349996</td>\n",
       "      <td>Cat</td>\n",
       "      <td>2018-01-22 14:32:00</td>\n",
       "      <td>Normal</td>\n",
       "      <td>Sugar</td>\n",
       "      <td>Neutered Male</td>\n",
       "    </tr>\n",
       "    <tr>\n",
       "      <th>1</th>\n",
       "      <td>A350276</td>\n",
       "      <td>Cat</td>\n",
       "      <td>2017-08-13 13:50:00</td>\n",
       "      <td>Normal</td>\n",
       "      <td>Jewel</td>\n",
       "      <td>Spayed Female</td>\n",
       "    </tr>\n",
       "    <tr>\n",
       "      <th>2</th>\n",
       "      <td>A396810</td>\n",
       "      <td>Dog</td>\n",
       "      <td>2016-08-22 16:13:00</td>\n",
       "      <td>Injured</td>\n",
       "      <td>Raven</td>\n",
       "      <td>Spayed Female</td>\n",
       "    </tr>\n",
       "    <tr>\n",
       "      <th>3</th>\n",
       "      <td>A410668</td>\n",
       "      <td>Cat</td>\n",
       "      <td>2015-11-19 13:41:00</td>\n",
       "      <td>Normal</td>\n",
       "      <td>Raven</td>\n",
       "      <td>Spayed Female</td>\n",
       "    </tr>\n",
       "  </tbody>\n",
       "</table>\n",
       "</div>"
      ],
      "text/plain": [
       "  ANIMAL_ID ANIMAL_TYPE             DATETIME INTAKE_CONDITION   NAME  \\\n",
       "0   A349996         Cat  2018-01-22 14:32:00           Normal  Sugar   \n",
       "1   A350276         Cat  2017-08-13 13:50:00           Normal  Jewel   \n",
       "2   A396810         Dog  2016-08-22 16:13:00          Injured  Raven   \n",
       "3   A410668         Cat  2015-11-19 13:41:00           Normal  Raven   \n",
       "\n",
       "  SEX_UPON_INTAKE  \n",
       "0   Neutered Male  \n",
       "1   Spayed Female  \n",
       "2   Spayed Female  \n",
       "3   Spayed Female  "
      ]
     },
     "execution_count": 4,
     "metadata": {},
     "output_type": "execute_result"
    }
   ],
   "source": [
    "pd.DataFrame({\"ANIMAL_ID\":[\"A349996\", \"A350276\", \"A396810\", \"A410668\"],\n",
    "             \"ANIMAL_TYPE\":[\"Cat\", \"Cat\", \"Dog\", \"Cat\"],\n",
    "             \"DATETIME\":[\"2018-01-22 14:32:00\", \"2017-08-13 13:50:00\", \"2016-08-22 16:13:00\", \"2015-11-19 13:41:00\"],\n",
    "             \"INTAKE_CONDITION\":[\"Normal\", \"Normal\", \"Injured\", \"Normal\"],\n",
    "             \"NAME\":[\"Sugar\", \"Jewel\", \"Raven\", \"Raven\"],\n",
    "             \"SEX_UPON_INTAKE\":[\"Neutered Male\", \"Spayed Female\", \"Spayed Female\", \"Spayed Female\"]})"
   ]
  },
  {
   "cell_type": "markdown",
   "id": "0b913312",
   "metadata": {},
   "source": [
    "이름을 사전 순으로 정렬하면 다음과 같으며, 'Jewel', 'Raven', 'Sugar'\n",
    "'Raven'이라는 이름을 가진 개와 고양이가 있으므로, 이 중에서는 보호를 나중에 시작한 개를 먼저 조회합니다."
   ]
  },
  {
   "cell_type": "markdown",
   "id": "73bd60bd",
   "metadata": {},
   "source": [
    "따라서 SQL문을 실행하면 다음과 같이 나와야 합니다."
   ]
  },
  {
   "cell_type": "markdown",
   "id": "abebd75e",
   "metadata": {},
   "source": [
    "    ANIMAL_ID\tNAME\tDATETIME\n",
    "    A350276\tJewel\t2017-08-13 13:50:00\n",
    "    A396810\tRaven\t2016-08-22 16:13:00\n",
    "    A410668\tRaven\t2015-11-19 13:41:00\n",
    "    A349996\tSugar\t2018-01-22 14:32:00"
   ]
  },
  {
   "attachments": {
    "image.png": {
     "image/png": "[encoded data removed]"
    }
   },
   "cell_type": "markdown",
   "id": "63bcdc9d",
   "metadata": {},
   "source": [
    "![image.png](attachment:image.png)"
   ]
  },
  {
   "cell_type": "code",
   "execution_count": null,
   "id": "8deff241",
   "metadata": {},
   "outputs": [],
   "source": []
  }
 ],
 "metadata": {
  "kernelspec": {
   "display_name": "Python 3 (ipykernel)",
   "language": "python",
   "name": "python3"
  },
  "language_info": {
   "codemirror_mode": {
    "name": "ipython",
    "version": 3
   },
   "file_extension": ".py",
   "mimetype": "text/x-python",
   "name": "python",
   "nbconvert_exporter": "python",
   "pygments_lexer": "ipython3",
   "version": "3.9.7"
  }
 },
 "nbformat": 4,
 "nbformat_minor": 5
}
