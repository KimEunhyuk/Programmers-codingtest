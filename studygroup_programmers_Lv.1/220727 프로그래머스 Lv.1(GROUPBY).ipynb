{
 "cells": [
  {
   "cell_type": "markdown",
   "id": "9c363b75",
   "metadata": {},
   "source": [
    "## 6번. 고양이와개는 몇 마리 있을까"
   ]
  },
  {
   "cell_type": "markdown",
   "id": "99c60c3c",
   "metadata": {},
   "source": [
    "동물 보호소에 들어온 동물 중 고양이와 개가 각각 몇 마리인지 조회하는 SQL문을 작성해주세요. 이때 고양이를 개보다 먼저 조회해주세요."
   ]
  },
  {
   "cell_type": "markdown",
   "id": "90270a6c",
   "metadata": {},
   "source": [
    "고양이는 2마리, 개는 1마리 들어왔습니다. 따라서 SQL문을 실행하면 다음과 같이 나와야 합니다."
   ]
  },
  {
   "cell_type": "markdown",
   "id": "8db15b4d",
   "metadata": {},
   "source": [
    "    ANIMAL_TYPE\tcount\n",
    "    Cat\t2\n",
    "    Dog\t1"
   ]
  },
  {
   "cell_type": "code",
   "execution_count": null,
   "id": "9f6ea0a2",
   "metadata": {},
   "outputs": [],
   "source": [
    "create table animal_ins3 as select * from animal_ins where 1=2;\n",
    "\n",
    "insert into animal_ins3 values('A373219', 'Cat', '2014-07-29 11:43:00', 'Normal', 'Ella', 'Spayed Female');\n",
    "insert into animal_ins3 values('A377750', 'Dog', '2017-10-25 17:17:00', 'Normal', 'Lucy', 'Spayed Female');\n",
    "insert into animal_ins3 values('A354540', 'Cat', '2014-12-11 11:48:00', 'Normal', 'Tux', 'Neutered Male');"
   ]
  },
  {
   "cell_type": "markdown",
   "id": "7aae2f82",
   "metadata": {},
   "source": [
    "SELECT ANIMAL_TYPE, COUNT(ANIMAL_TYPE)\n",
    "FROM ANIMAL_INS3\n",
    "GROUP BY ANIMAL_TYPE\n",
    "ORDER BY ANIMAL_TYPE;"
   ]
  },
  {
   "attachments": {
    "image.png": {
     "image/png": "[encoded data removed]"
    }
   },
   "cell_type": "markdown",
   "id": "da5c3a98",
   "metadata": {},
   "source": [
    "![image.png](attachment:image.png)"
   ]
  },
  {
   "cell_type": "markdown",
   "id": "29de64e7",
   "metadata": {},
   "source": [
    "## 7번. 동명 동물 수 찾기"
   ]
  },
  {
   "cell_type": "markdown",
   "id": "5138c81e",
   "metadata": {},
   "source": [
    "동물 보호소에 들어온 동물 이름 중 두 번 이상 쓰인 이름과 해당 이름이 쓰인 횟수를 조회하는 SQL문을 작성해주세요. 이때 결과는 이름이 없는 동물은 집계에서 제외하며, 결과는 이름 순으로 조회해주세요."
   ]
  },
  {
   "cell_type": "code",
   "execution_count": null,
   "id": "391c8514",
   "metadata": {},
   "outputs": [],
   "source": [
    "create table animal_ins4 as select * from animal_ins where 1=2;\n",
    "\n",
    "insert into animal_ins4 values('A396810', 'Dog', '2016-08-22 16:13:00', 'Injured', 'Raven', 'Spayed Female');\n",
    "insert into animal_ins4 values('A377750', 'Dog', '2017-10-25 17:17:00', 'Normal', 'Lucy', 'Spayed Female');\n",
    "insert into animal_ins4 values('A355688', 'Dog', '2014-01-26 13:48:00', 'Normal', 'Shadow', 'Neutered Male');\n",
    "insert into animal_ins4 values('A399421', 'Dog', '2015-08-25 14:08:00', 'Normal', 'Lucy', 'Spayed Female');\n",
    "insert into animal_ins4 values('A400680', 'Dog', '2017-06-17 13:29:00', 'Normal', 'Lucy', 'Spayed Female');\n",
    "insert into animal_ins4 values('A410668', 'Cat', '2015-11-19 13:41:00', 'Normal', 'Raven', 'Spayed Female');"
   ]
  },
  {
   "cell_type": "markdown",
   "id": "6ab7f333",
   "metadata": {},
   "source": [
    "SELECT NAME, COUNT(NAME)\n",
    "FROM ANIMAL_INS4\n",
    "WHERE NAME IS NOT NULL \n",
    "GROUP BY NAME\n",
    "HAVING COUNT(NAME)>1\n",
    "ORDER BY NAME;"
   ]
  },
  {
   "attachments": {
    "image.png": {
     "image/png": "[encoded data removed]"
    }
   },
   "cell_type": "markdown",
   "id": "483a0eff",
   "metadata": {},
   "source": [
    "![image.png](attachment:image.png)"
   ]
  },
  {
   "cell_type": "code",
   "execution_count": null,
   "id": "fb5ef0de",
   "metadata": {},
   "outputs": [],
   "source": []
  },
  {
   "cell_type": "code",
   "execution_count": null,
   "id": "4fc3aae6",
   "metadata": {},
   "outputs": [],
   "source": []
  },
  {
   "cell_type": "markdown",
   "id": "72a0c794",
   "metadata": {},
   "source": [
    "## 8번. 입양 시각 구하기(1)"
   ]
  },
  {
   "cell_type": "code",
   "execution_count": null,
   "id": "c5831a48",
   "metadata": {},
   "outputs": [],
   "source": [
    "create table animal_ins5 as select * from animal_ins where 1=2;\n",
    "alter table animal_ins5 drop intake_condition;"
   ]
  },
  {
   "cell_type": "markdown",
   "id": "7958500d",
   "metadata": {},
   "source": [
    "### 이문제는 테이블 예시가 없네요..?\n",
    "- 테이블 구조 만들었는데..\n",
    "- 테스트 해보지 못하고 코드짜고 바로 실행 고고"
   ]
  },
  {
   "cell_type": "code",
   "execution_count": null,
   "id": "9b4da474",
   "metadata": {},
   "outputs": [],
   "source": [
    "SELECT HOUR(DATETIME) HOUR, COUNT(DATETIME) COUNT\n",
    "FROM ANIMAL_OUTS\n",
    "GROUP BY HOUR(DATETIME)\n",
    "HAVING HOUR >= 9 and HOUR <= 19\n",
    "ORDER BY HOUR;"
   ]
  },
  {
   "attachments": {
    "image.png": {
     "image/png": "[encoded data removed]"
    }
   },
   "cell_type": "markdown",
   "id": "105c7ee5",
   "metadata": {},
   "source": [
    "![image.png](attachment:image.png)"
   ]
  },
  {
   "cell_type": "markdown",
   "id": "1e6e7907",
   "metadata": {},
   "source": [
    "보호소에서는 몇 시에 입양이 가장 활발하게 일어나는지 알아보려 합니다. 0시부터 23시까지, 각 시간대별로 입양이 몇 건이나 발생했는지 조회하는 SQL문을 작성해주세요. 이때 결과는 시간대 순으로 정렬해야 합니다."
   ]
  },
  {
   "cell_type": "code",
   "execution_count": null,
   "id": "2c8f73dd",
   "metadata": {},
   "outputs": [],
   "source": [
    "SELECT HOUR(DATETIME) HOUR, COUNT(DATETIME) COUNT\n",
    "FROM ANIMAL_OUTS\n",
    "GROUP BY HOUR(DATETIME)\n",
    "HAVING HOUR >= 0 and HOUR <= 23\n",
    "ORDER BY HOUR;\n",
    "# 7~19시 까지밖에 안나온다"
   ]
  },
  {
   "cell_type": "markdown",
   "id": "2b431c29",
   "metadata": {},
   "source": [
    "### 검색으로 찾은 코드↓"
   ]
  },
  {
   "cell_type": "code",
   "execution_count": null,
   "id": "78567ede",
   "metadata": {},
   "outputs": [],
   "source": [
    "SET @hour := -1;\n",
    "\n",
    "SELECT (@hour := @hour + 1) as HOUR,\n",
    "(SELECT COUNT(*) FROM ANIMAL_OUTS WHERE HOUR(DATETIME) = @hour) as COUNT\n",
    "FROM ANIMAL_OUTS\n",
    "WHERE @hour < 23\n",
    "ORDER BY HOUR;"
   ]
  },
  {
   "cell_type": "markdown",
   "id": "0016512b",
   "metadata": {},
   "source": [
    "set으로 옆에 변수명과 초기값을 설정할 수 있다고 하고\n",
    "\n",
    "@hour 초기값을 -1 로 설정( :=은 비교연산자 , = 과 혼동 피하기 위한 대입연산)\n",
    "SELECT (@hour := @hour +1) 은 @hour의 값에 1씩 증가시키면서 SELECT 문 전체를 실행하게 됩니다.\n",
    "\n",
    "이 때 처음에 @hour 값이 -1 인데, 이 식에 의해 +1 이 되어 0이 저장됩니다\n",
    "- HOUR 값이 0부터 시작할 수 있습니다.\n",
    "- WHERE @hour < 23일 때까지, @hour 값이 계속 + 1씩 증가합니다."
   ]
  },
  {
   "cell_type": "code",
   "execution_count": null,
   "id": "10b9edc2",
   "metadata": {},
   "outputs": [],
   "source": []
  }
 ],
 "metadata": {
  "kernelspec": {
   "display_name": "Python 3 (ipykernel)",
   "language": "python",
   "name": "python3"
  },
  "language_info": {
   "codemirror_mode": {
    "name": "ipython",
    "version": 3
   },
   "file_extension": ".py",
   "mimetype": "text/x-python",
   "name": "python",
   "nbconvert_exporter": "python",
   "pygments_lexer": "ipython3",
   "version": "3.9.7"
  }
 },
 "nbformat": 4,
 "nbformat_minor": 5
}
