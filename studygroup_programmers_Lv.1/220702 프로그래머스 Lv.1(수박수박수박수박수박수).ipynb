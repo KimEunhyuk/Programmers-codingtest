{
 "cells": [
  {
   "cell_type": "markdown",
   "id": "db11568d",
   "metadata": {},
   "source": [
    "## 수박수박수박수박수박수?"
   ]
  },
  {
   "cell_type": "markdown",
   "id": "f717fb0b",
   "metadata": {},
   "source": [
    "### 문제 설명\n",
    "길이가 n이고, \"수박수박수박수....\"와 같은 패턴을 유지하는 문자열을 리턴하는 함수, solution을 완성하세요. <br>예를들어 n이 4이면 \"수박수박\"을 리턴하고 3이라면 \"수박수\"를 리턴하면 됩니다."
   ]
  },
  {
   "cell_type": "markdown",
   "id": "0457f223",
   "metadata": {},
   "source": [
    "### 입출력 예\n",
    "- n\treturn\n",
    "- 3\t\"수박수\"\n",
    "- 4\t\"수박수박\""
   ]
  },
  {
   "cell_type": "code",
   "execution_count": null,
   "id": "d965d401",
   "metadata": {},
   "outputs": [],
   "source": [
    "def solution(n):\n",
    "    answer = ''\n",
    "    return answer"
   ]
  },
  {
   "cell_type": "code",
   "execution_count": null,
   "id": "27dd8bf3",
   "metadata": {},
   "outputs": [],
   "source": []
  },
  {
   "cell_type": "code",
   "execution_count": 1,
   "id": "103bef8a",
   "metadata": {},
   "outputs": [],
   "source": [
    "watermel = \"수박\""
   ]
  },
  {
   "cell_type": "code",
   "execution_count": 8,
   "id": "6397d565",
   "metadata": {},
   "outputs": [
    {
     "data": {
      "text/plain": [
       "'수박수박'"
      ]
     },
     "execution_count": 8,
     "metadata": {},
     "output_type": "execute_result"
    }
   ],
   "source": [
    "round(3/2)*watermel"
   ]
  },
  {
   "cell_type": "code",
   "execution_count": 12,
   "id": "612e968f",
   "metadata": {},
   "outputs": [],
   "source": [
    "testn = 4"
   ]
  },
  {
   "cell_type": "code",
   "execution_count": 13,
   "id": "a767150f",
   "metadata": {},
   "outputs": [],
   "source": [
    "watermel = round(testn)*\"수박\""
   ]
  },
  {
   "cell_type": "code",
   "execution_count": 15,
   "id": "be96a378",
   "metadata": {},
   "outputs": [
    {
     "data": {
      "text/plain": [
       "'수박수박'"
      ]
     },
     "execution_count": 15,
     "metadata": {},
     "output_type": "execute_result"
    }
   ],
   "source": [
    "watermel[:4]"
   ]
  },
  {
   "cell_type": "code",
   "execution_count": 20,
   "id": "e7a4bf7d",
   "metadata": {},
   "outputs": [
    {
     "data": {
      "text/plain": [
       "6"
      ]
     },
     "execution_count": 20,
     "metadata": {},
     "output_type": "execute_result"
    }
   ],
   "source": [
    "round(11/2)"
   ]
  },
  {
   "cell_type": "code",
   "execution_count": 28,
   "id": "0f32897c",
   "metadata": {},
   "outputs": [],
   "source": [
    "asd = 6*\"수박\""
   ]
  },
  {
   "cell_type": "code",
   "execution_count": 31,
   "id": "4323b421",
   "metadata": {},
   "outputs": [
    {
     "data": {
      "text/plain": [
       "'수박수박수박수박수박수'"
      ]
     },
     "execution_count": 31,
     "metadata": {},
     "output_type": "execute_result"
    }
   ],
   "source": [
    "asd[:11]"
   ]
  },
  {
   "cell_type": "code",
   "execution_count": null,
   "id": "791fbc1b",
   "metadata": {},
   "outputs": [],
   "source": []
  },
  {
   "cell_type": "code",
   "execution_count": 42,
   "id": "6105a4be",
   "metadata": {},
   "outputs": [],
   "source": [
    "testn=5"
   ]
  },
  {
   "cell_type": "code",
   "execution_count": 48,
   "id": "571b08c2",
   "metadata": {},
   "outputs": [],
   "source": [
    "watermel = round(testn/2)*\"수박\""
   ]
  },
  {
   "cell_type": "code",
   "execution_count": 49,
   "id": "214834c4",
   "metadata": {},
   "outputs": [
    {
     "data": {
      "text/plain": [
       "'수박수박'"
      ]
     },
     "execution_count": 49,
     "metadata": {},
     "output_type": "execute_result"
    }
   ],
   "source": [
    "watermel"
   ]
  },
  {
   "cell_type": "code",
   "execution_count": 47,
   "id": "532a7743",
   "metadata": {},
   "outputs": [
    {
     "data": {
      "text/plain": [
       "2"
      ]
     },
     "execution_count": 47,
     "metadata": {},
     "output_type": "execute_result"
    }
   ],
   "source": [
    "round(5/2)\n",
    "# 3이 아니라 2네..?"
   ]
  },
  {
   "cell_type": "code",
   "execution_count": 52,
   "id": "12d805c4",
   "metadata": {},
   "outputs": [],
   "source": [
    "watermel = round((testn+0.1)/2)*\"수박\""
   ]
  },
  {
   "cell_type": "code",
   "execution_count": 53,
   "id": "fda4ea13",
   "metadata": {},
   "outputs": [
    {
     "data": {
      "text/plain": [
       "'수박수박수박'"
      ]
     },
     "execution_count": 53,
     "metadata": {},
     "output_type": "execute_result"
    }
   ],
   "source": [
    "watermel"
   ]
  },
  {
   "cell_type": "markdown",
   "id": "8a029eb0",
   "metadata": {},
   "source": [
    "## 답 제출"
   ]
  },
  {
   "cell_type": "code",
   "execution_count": null,
   "id": "2d572c47",
   "metadata": {},
   "outputs": [],
   "source": [
    "def solution(n):\n",
    "    watermel = round(n)*\"수박\"\n",
    "    return watermel[:n]\n",
    "# 실수로 이걸 제출해 버렸다. 그럼 watermel의 길이가 너무 길어지는데\n",
    "# 위에선 /2 를 사용했는데 섣불렀다."
   ]
  },
  {
   "cell_type": "code",
   "execution_count": null,
   "id": "d3116cff",
   "metadata": {},
   "outputs": [],
   "source": [
    "def solution(n):\n",
    "    watermel = round((n+0.1)/2)*\"수박\"\n",
    "    return watermel[:n]\n",
    "# 수정한 답"
   ]
  }
 ],
 "metadata": {
  "kernelspec": {
   "display_name": "Python 3 (ipykernel)",
   "language": "python",
   "name": "python3"
  },
  "language_info": {
   "codemirror_mode": {
    "name": "ipython",
    "version": 3
   },
   "file_extension": ".py",
   "mimetype": "text/x-python",
   "name": "python",
   "nbconvert_exporter": "python",
   "pygments_lexer": "ipython3",
   "version": "3.9.7"
  }
 },
 "nbformat": 4,
 "nbformat_minor": 5
}
