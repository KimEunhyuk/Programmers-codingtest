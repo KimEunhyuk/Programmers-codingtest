{
 "cells": [
  {
   "cell_type": "markdown",
   "id": "5689f551",
   "metadata": {},
   "source": [
    "## 문자열 내 p와 y의 개수"
   ]
  },
  {
   "cell_type": "markdown",
   "id": "286cf5a7",
   "metadata": {},
   "source": [
    "### 문제 설명\n",
    "대문자와 소문자가 섞여있는 문자열 s가 주어집니다. s에 'p'의 개수와 'y'의 개수를 비교해 같으면 True, 다르면 False를 return 하는 solution를 완성하세요. 'p', 'y' 모두 하나도 없는 경우는 항상 True를 리턴합니다. 단, 개수를 비교할 때 대문자와 소문자는 구별하지 않습니다.\n",
    "\n",
    "예를 들어 s가 \"pPoooyY\"면 true를 return하고 \"Pyy\"라면 false를 return합니다."
   ]
  },
  {
   "cell_type": "markdown",
   "id": "3eba830e",
   "metadata": {},
   "source": [
    "### 제한사항\n",
    "- 문자열 s의 길이 : 50 이하의 자연수\n",
    "- 문자열 s는 알파벳으로만 이루어져 있습니다."
   ]
  },
  {
   "cell_type": "markdown",
   "id": "683d8493",
   "metadata": {},
   "source": [
    "### 입출력 예\n",
    "    s\tanswer\n",
    "    \"pPoooyY\"\ttrue\n",
    "    \"Pyy\"\tfalse"
   ]
  },
  {
   "cell_type": "markdown",
   "id": "60923ea2",
   "metadata": {},
   "source": [
    "### 입출력 예 설명\n",
    "입출력 예 #1 <br>\n",
    "'p'의 개수 2개, 'y'의 개수 2개로 같으므로 true를 return 합니다.\n",
    "\n",
    "입출력 예 #2 <br>\n",
    "'p'의 개수 1개, 'y'의 개수 2개로 다르므로 false를 return 합니다.\n",
    "\n",
    "※ 공지 - 2021년 8월 23일 테스트케이스가 추가되었습니다."
   ]
  },
  {
   "cell_type": "markdown",
   "id": "ad2aa7a3",
   "metadata": {},
   "source": [
    "### 코딩처음 접했을 때 풀었던 java 코드"
   ]
  },
  {
   "cell_type": "code",
   "execution_count": null,
   "id": "a66e0d97",
   "metadata": {},
   "outputs": [],
   "source": [
    "class Solution {\n",
    "    boolean solution(String s) {\n",
    "        boolean answer = true;\n",
    "        int cnt = 0;\n",
    "        char py = '\\u0000';\n",
    "        \n",
    "            for(int i=0; i<s.length(); i++){\n",
    "                py = s.charAt(i);\n",
    "                if(py == 'p' || py == 'P'){\n",
    "                    cnt++;\n",
    "                }                \n",
    "                else if(py == 'y' || py == 'Y'){\n",
    "                    cnt--;\n",
    "                }                              \n",
    "            }\n",
    "        if(cnt == 0){\n",
    "            answer = true;\n",
    "        }\n",
    "        else{\n",
    "            answer = false;\n",
    "        }\n",
    "        return answer;\n",
    "    }\n",
    "}"
   ]
  },
  {
   "cell_type": "markdown",
   "id": "662fde3e",
   "metadata": {},
   "source": [
    "### python"
   ]
  },
  {
   "cell_type": "code",
   "execution_count": null,
   "id": "ee99697d",
   "metadata": {},
   "outputs": [],
   "source": [
    "def solution(s):\n",
    "    answer = True\n",
    "    \n",
    "    # [실행] 버튼을 누르면 출력 값을 볼 수 있습니다.\n",
    "    print('Hello Python')\n",
    "\n",
    "    return True"
   ]
  },
  {
   "cell_type": "code",
   "execution_count": 2,
   "id": "ff1220e9",
   "metadata": {},
   "outputs": [],
   "source": [
    "ssss3 = \"pPoooyY\""
   ]
  },
  {
   "cell_type": "code",
   "execution_count": 6,
   "id": "54809f01",
   "metadata": {},
   "outputs": [],
   "source": [
    "ssss4 = ssss3.lower()"
   ]
  },
  {
   "cell_type": "code",
   "execution_count": 16,
   "id": "3e043d20",
   "metadata": {},
   "outputs": [
    {
     "data": {
      "text/plain": [
       "2"
      ]
     },
     "execution_count": 16,
     "metadata": {},
     "output_type": "execute_result"
    }
   ],
   "source": [
    "ssss4.count(\"p\")"
   ]
  },
  {
   "cell_type": "code",
   "execution_count": 17,
   "id": "df6c0e7b",
   "metadata": {},
   "outputs": [
    {
     "data": {
      "text/plain": [
       "3"
      ]
     },
     "execution_count": 17,
     "metadata": {},
     "output_type": "execute_result"
    }
   ],
   "source": [
    "ssss4.count(\"o\")"
   ]
  },
  {
   "cell_type": "code",
   "execution_count": 18,
   "id": "44ddb1be",
   "metadata": {},
   "outputs": [
    {
     "data": {
      "text/plain": [
       "2"
      ]
     },
     "execution_count": 18,
     "metadata": {},
     "output_type": "execute_result"
    }
   ],
   "source": [
    "ssss4.count(\"y\")"
   ]
  },
  {
   "cell_type": "code",
   "execution_count": 19,
   "id": "2aa08a70",
   "metadata": {},
   "outputs": [
    {
     "name": "stdout",
     "output_type": "stream",
     "text": [
      "True\n"
     ]
    }
   ],
   "source": [
    "if ssss4.count(\"p\") == ssss4.count(\"y\"):\n",
    "    print(\"True\")\n",
    "else:\n",
    "    print(\"False\")"
   ]
  },
  {
   "cell_type": "markdown",
   "id": "73a00d1b",
   "metadata": {},
   "source": [
    "### validation"
   ]
  },
  {
   "cell_type": "code",
   "execution_count": 22,
   "id": "f5607e77",
   "metadata": {},
   "outputs": [],
   "source": [
    "sss5 = \"oOoasDwasd\".lower()"
   ]
  },
  {
   "cell_type": "code",
   "execution_count": 23,
   "id": "6fb0ca2c",
   "metadata": {},
   "outputs": [
    {
     "data": {
      "text/plain": [
       "'oooasdwasd'"
      ]
     },
     "execution_count": 23,
     "metadata": {},
     "output_type": "execute_result"
    }
   ],
   "source": [
    "sss5"
   ]
  },
  {
   "cell_type": "code",
   "execution_count": 26,
   "id": "372d9ef4",
   "metadata": {},
   "outputs": [
    {
     "name": "stdout",
     "output_type": "stream",
     "text": [
      "0\n",
      "0\n",
      "True\n"
     ]
    }
   ],
   "source": [
    "if sss5.count(\"p\") == sss5.count(\"y\"):\n",
    "    print(sss5.count(\"p\"))\n",
    "    print(sss5.count(\"y\"))\n",
    "    print(\"True\")\n",
    "else:\n",
    "    print(sss5.count(\"p\"))\n",
    "    print(sss5.count(\"y\"))\n",
    "    print(\"False\")"
   ]
  },
  {
   "cell_type": "code",
   "execution_count": 28,
   "id": "f0cdc070",
   "metadata": {},
   "outputs": [],
   "source": [
    "sss6 = \"TTTtttttYYYYasdISdWK\".lower()"
   ]
  },
  {
   "cell_type": "code",
   "execution_count": 29,
   "id": "b7f9d991",
   "metadata": {},
   "outputs": [
    {
     "name": "stdout",
     "output_type": "stream",
     "text": [
      "0\n",
      "4\n",
      "False\n"
     ]
    }
   ],
   "source": [
    "if sss6.count(\"p\") == sss6.count(\"y\"):\n",
    "    print(sss6.count(\"p\"))\n",
    "    print(sss6.count(\"y\"))\n",
    "    print(\"True\")\n",
    "else:\n",
    "    print(sss6.count(\"p\"))\n",
    "    print(sss6.count(\"y\"))\n",
    "    print(\"False\")"
   ]
  },
  {
   "cell_type": "markdown",
   "id": "7bc13b15",
   "metadata": {},
   "source": [
    "## 답 제출"
   ]
  },
  {
   "cell_type": "code",
   "execution_count": null,
   "id": "1d2361cc",
   "metadata": {},
   "outputs": [],
   "source": [
    "def solution(s):\n",
    "    \n",
    "    if s.lower().count(\"p\") == s.lower().count(\"y\"):\n",
    "        return True\n",
    "    else:\n",
    "        return False\n"
   ]
  }
 ],
 "metadata": {
  "kernelspec": {
   "display_name": "Python 3 (ipykernel)",
   "language": "python",
   "name": "python3"
  },
  "language_info": {
   "codemirror_mode": {
    "name": "ipython",
    "version": 3
   },
   "file_extension": ".py",
   "mimetype": "text/x-python",
   "name": "python",
   "nbconvert_exporter": "python",
   "pygments_lexer": "ipython3",
   "version": "3.9.7"
  }
 },
 "nbformat": 4,
 "nbformat_minor": 5
}
