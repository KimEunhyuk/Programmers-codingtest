{
 "cells": [
  {
   "cell_type": "markdown",
   "id": "f64517b7",
   "metadata": {},
   "source": [
    "## 자연수 뒤집어 배열로 만들기"
   ]
  },
  {
   "cell_type": "markdown",
   "id": "c661a9a0",
   "metadata": {},
   "source": [
    "문제 설명\n",
    "자연수 n을 뒤집어 각 자리 숫자를 원소로 가지는 배열 형태로 리턴해주세요. 예를들어 n이 12345이면 [5,4,3,2,1]을 리턴합니다."
   ]
  },
  {
   "cell_type": "markdown",
   "id": "5c12bda9",
   "metadata": {},
   "source": [
    "입출력 예 <br>\n",
    "n\treturn <br>\n",
    "12345\t[5,4,3,2,1]"
   ]
  },
  {
   "cell_type": "code",
   "execution_count": null,
   "id": "5a57b4ff",
   "metadata": {},
   "outputs": [],
   "source": [
    "def solution(n):\n",
    "    answer = []\n",
    "    return answer"
   ]
  },
  {
   "cell_type": "code",
   "execution_count": 1,
   "id": "3040cdf0",
   "metadata": {},
   "outputs": [],
   "source": [
    "abc = 12345"
   ]
  },
  {
   "cell_type": "code",
   "execution_count": 75,
   "id": "99ff19de",
   "metadata": {
    "scrolled": true
   },
   "outputs": [
    {
     "data": {
      "text/plain": [
       "12345"
      ]
     },
     "execution_count": 75,
     "metadata": {},
     "output_type": "execute_result"
    }
   ],
   "source": [
    "abc"
   ]
  },
  {
   "cell_type": "code",
   "execution_count": 82,
   "id": "5bc259a3",
   "metadata": {},
   "outputs": [
    {
     "data": {
      "text/plain": [
       "'5'"
      ]
     },
     "execution_count": 82,
     "metadata": {},
     "output_type": "execute_result"
    }
   ],
   "source": [
    "str(abc)[4]"
   ]
  },
  {
   "cell_type": "code",
   "execution_count": 15,
   "id": "bef4ca8e",
   "metadata": {},
   "outputs": [],
   "source": [
    "asdfsf = [1,5,3,4,5]"
   ]
  },
  {
   "cell_type": "code",
   "execution_count": 16,
   "id": "fba84f60",
   "metadata": {},
   "outputs": [
    {
     "data": {
      "text/plain": [
       "[1, 5, 3, 4, 5]"
      ]
     },
     "execution_count": 16,
     "metadata": {},
     "output_type": "execute_result"
    }
   ],
   "source": [
    "asdfsf"
   ]
  },
  {
   "cell_type": "code",
   "execution_count": 22,
   "id": "1f4094fd",
   "metadata": {},
   "outputs": [
    {
     "data": {
      "text/plain": [
       "'1'"
      ]
     },
     "execution_count": 22,
     "metadata": {},
     "output_type": "execute_result"
    }
   ],
   "source": [
    "str(abc)[0]"
   ]
  },
  {
   "cell_type": "code",
   "execution_count": 94,
   "id": "e0d2dd7a",
   "metadata": {},
   "outputs": [
    {
     "data": {
      "text/plain": [
       "'54321'"
      ]
     },
     "execution_count": 94,
     "metadata": {},
     "output_type": "execute_result"
    }
   ],
   "source": [
    "str(abc)[::-1]"
   ]
  },
  {
   "cell_type": "code",
   "execution_count": 67,
   "id": "d8b2ba38",
   "metadata": {
    "scrolled": true
   },
   "outputs": [
    {
     "data": {
      "text/plain": [
       "range(0, 5)"
      ]
     },
     "execution_count": 67,
     "metadata": {},
     "output_type": "execute_result"
    }
   ],
   "source": [
    "range(len(str(abc)))"
   ]
  },
  {
   "cell_type": "code",
   "execution_count": 63,
   "id": "af47e777",
   "metadata": {},
   "outputs": [],
   "source": [
    "asdf = []"
   ]
  },
  {
   "cell_type": "code",
   "execution_count": 74,
   "id": "9520725a",
   "metadata": {},
   "outputs": [
    {
     "name": "stdout",
     "output_type": "stream",
     "text": [
      "1 -------\n",
      "0\n",
      "2 -------\n",
      "1\n",
      "3 -------\n",
      "2\n",
      "4 -------\n",
      "3\n",
      "5 -------\n",
      "4\n"
     ]
    }
   ],
   "source": [
    "asdf = []\n",
    "for i in range(len(str(abc))):\n",
    "    \n",
    "    print(str(abc)[i], \"-------\")\n",
    "    asdf.append(str(abc)[i])\n",
    "    asdf.reverse()\n",
    "    print(i)"
   ]
  },
  {
   "cell_type": "code",
   "execution_count": 61,
   "id": "ed4dc4b9",
   "metadata": {},
   "outputs": [],
   "source": [
    "asdf.reverse()"
   ]
  },
  {
   "cell_type": "code",
   "execution_count": 69,
   "id": "c6fc2564",
   "metadata": {},
   "outputs": [
    {
     "data": {
      "text/plain": [
       "['5', '3', '1', '2', '4']"
      ]
     },
     "execution_count": 69,
     "metadata": {},
     "output_type": "execute_result"
    }
   ],
   "source": [
    "asdf"
   ]
  },
  {
   "cell_type": "code",
   "execution_count": 85,
   "id": "62a0ba93",
   "metadata": {},
   "outputs": [
    {
     "name": "stdout",
     "output_type": "stream",
     "text": [
      "1 -------\n",
      "0\n",
      "2 -------\n",
      "1\n",
      "3 -------\n",
      "2\n",
      "4 -------\n",
      "3\n",
      "5 -------\n",
      "4\n"
     ]
    }
   ],
   "source": [
    "asdf = []\n",
    "for i in range(len(str(abc))):\n",
    "    asdf.append(str(abc)[i])"
   ]
  },
  {
   "cell_type": "code",
   "execution_count": 87,
   "id": "0fe18f81",
   "metadata": {},
   "outputs": [],
   "source": [
    "asdf.reverse()"
   ]
  },
  {
   "cell_type": "markdown",
   "id": "4113e5fa",
   "metadata": {},
   "source": [
    "## 답 제출"
   ]
  },
  {
   "cell_type": "code",
   "execution_count": 97,
   "id": "1f276805",
   "metadata": {},
   "outputs": [],
   "source": [
    "def solution(n):\n",
    "    answer = []\n",
    "    for i in range(len(str(n))):\n",
    "        answer.append(int(str(n)[i]))\n",
    "    answer.reverse()\n",
    "    return answer"
   ]
  },
  {
   "cell_type": "code",
   "execution_count": null,
   "id": "3c92d11e",
   "metadata": {},
   "outputs": [],
   "source": []
  }
 ],
 "metadata": {
  "kernelspec": {
   "display_name": "Python 3 (ipykernel)",
   "language": "python",
   "name": "python3"
  },
  "language_info": {
   "codemirror_mode": {
    "name": "ipython",
    "version": 3
   },
   "file_extension": ".py",
   "mimetype": "text/x-python",
   "name": "python",
   "nbconvert_exporter": "python",
   "pygments_lexer": "ipython3",
   "version": "3.9.7"
  }
 },
 "nbformat": 4,
 "nbformat_minor": 5
}
