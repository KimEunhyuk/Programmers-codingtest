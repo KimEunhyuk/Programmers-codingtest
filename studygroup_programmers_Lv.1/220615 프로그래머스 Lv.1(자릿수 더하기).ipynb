{
 "cells": [
  {
   "cell_type": "markdown",
   "id": "ee3a91ed",
   "metadata": {},
   "source": [
    "## 자릿수 더하기"
   ]
  },
  {
   "cell_type": "markdown",
   "id": "454f58cb",
   "metadata": {},
   "source": [
    "문제 설명\n",
    "자연수 N이 주어지면, N의 각 자릿수의 합을 구해서 return 하는 solution 함수를 만들어 주세요.\n",
    "예를들어 N = 123이면 1 + 2 + 3 = 6을 return 하면 됩니다."
   ]
  },
  {
   "cell_type": "markdown",
   "id": "6a249611",
   "metadata": {},
   "source": [
    "입출력 예 <br>\n",
    "N\tanswer <br>\n",
    "123\t6 <br>\n",
    "987\t24"
   ]
  },
  {
   "cell_type": "code",
   "execution_count": null,
   "id": "6259fb8a",
   "metadata": {},
   "outputs": [],
   "source": [
    "def solution(n):\n",
    "    answer = 0\n",
    "\n",
    "    # [실행] 버튼을 누르면 출력 값을 볼 수 있습니다.\n",
    "    print('Hello Python')\n",
    "\n",
    "    return answer"
   ]
  },
  {
   "cell_type": "code",
   "execution_count": 1,
   "id": "3b9a5786",
   "metadata": {},
   "outputs": [],
   "source": [
    "asd = 123"
   ]
  },
  {
   "cell_type": "code",
   "execution_count": 2,
   "id": "1cd1f80f",
   "metadata": {},
   "outputs": [
    {
     "data": {
      "text/plain": [
       "123"
      ]
     },
     "execution_count": 2,
     "metadata": {},
     "output_type": "execute_result"
    }
   ],
   "source": [
    "asd"
   ]
  },
  {
   "cell_type": "code",
   "execution_count": 5,
   "id": "8b87c834",
   "metadata": {},
   "outputs": [],
   "source": [
    "asds = ','.join(str(asd))"
   ]
  },
  {
   "cell_type": "code",
   "execution_count": 9,
   "id": "939c056c",
   "metadata": {},
   "outputs": [
    {
     "data": {
      "text/plain": [
       "'1,2,3'"
      ]
     },
     "execution_count": 9,
     "metadata": {},
     "output_type": "execute_result"
    }
   ],
   "source": [
    "asds"
   ]
  },
  {
   "cell_type": "code",
   "execution_count": 10,
   "id": "b1eed67a",
   "metadata": {},
   "outputs": [
    {
     "data": {
      "text/plain": [
       "'123'"
      ]
     },
     "execution_count": 10,
     "metadata": {},
     "output_type": "execute_result"
    }
   ],
   "source": [
    "str(asd)"
   ]
  },
  {
   "cell_type": "code",
   "execution_count": 12,
   "id": "26c23c83",
   "metadata": {},
   "outputs": [
    {
     "data": {
      "text/plain": [
       "'2'"
      ]
     },
     "execution_count": 12,
     "metadata": {},
     "output_type": "execute_result"
    }
   ],
   "source": [
    "str(asd)"
   ]
  },
  {
   "cell_type": "code",
   "execution_count": 14,
   "id": "89827de1",
   "metadata": {},
   "outputs": [
    {
     "data": {
      "text/plain": [
       "range(0, 3)"
      ]
     },
     "execution_count": 14,
     "metadata": {},
     "output_type": "execute_result"
    }
   ],
   "source": [
    "range(len(str(asd)))"
   ]
  },
  {
   "cell_type": "code",
   "execution_count": 19,
   "id": "ee2732f2",
   "metadata": {},
   "outputs": [],
   "source": [
    "aaaa = []\n",
    "for i in range(len(str(asd))):\n",
    "    aaaa.append(int(str(asd)[i]))"
   ]
  },
  {
   "cell_type": "code",
   "execution_count": 21,
   "id": "ac7a57bd",
   "metadata": {},
   "outputs": [
    {
     "data": {
      "text/plain": [
       "6"
      ]
     },
     "execution_count": 21,
     "metadata": {},
     "output_type": "execute_result"
    }
   ],
   "source": [
    "sum(aaaa)"
   ]
  },
  {
   "cell_type": "markdown",
   "id": "5a88d7fb",
   "metadata": {},
   "source": [
    "## 답 제출"
   ]
  },
  {
   "cell_type": "code",
   "execution_count": null,
   "id": "fedf68c2",
   "metadata": {},
   "outputs": [],
   "source": [
    "def solution(n):\n",
    "    answer = []\n",
    "    for i in range(len(str(n))):\n",
    "        answer.append(int(str(n)[i]))\n",
    "    return sum(answer)"
   ]
  }
 ],
 "metadata": {
  "kernelspec": {
   "display_name": "Python 3 (ipykernel)",
   "language": "python",
   "name": "python3"
  },
  "language_info": {
   "codemirror_mode": {
    "name": "ipython",
    "version": 3
   },
   "file_extension": ".py",
   "mimetype": "text/x-python",
   "name": "python",
   "nbconvert_exporter": "python",
   "pygments_lexer": "ipython3",
   "version": "3.9.7"
  }
 },
 "nbformat": 4,
 "nbformat_minor": 5
}
