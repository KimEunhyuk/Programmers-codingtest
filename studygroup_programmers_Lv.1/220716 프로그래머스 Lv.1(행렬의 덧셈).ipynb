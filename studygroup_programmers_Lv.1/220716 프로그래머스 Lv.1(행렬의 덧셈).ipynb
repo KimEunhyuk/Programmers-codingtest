{
 "cells": [
  {
   "cell_type": "markdown",
   "id": "09893502",
   "metadata": {},
   "source": [
    "## 행렬의 덧셈"
   ]
  },
  {
   "cell_type": "markdown",
   "id": "017adf69",
   "metadata": {},
   "source": [
    "### 문제 설명\n",
    "행렬의 덧셈은 행과 열의 크기가 같은 두 행렬의 같은 행, 같은 열의 값을 서로 더한 결과가 됩니다. 2개의 행렬 arr1과 arr2를 입력받아, 행렬 덧셈의 결과를 반환하는 함수, solution을 완성해주세요."
   ]
  },
  {
   "cell_type": "markdown",
   "id": "5e5eab46",
   "metadata": {},
   "source": [
    "### 제한 조건\n",
    "- 행렬 arr1, arr2의 행과 열의 길이는 500을 넘지 않습니다."
   ]
  },
  {
   "cell_type": "markdown",
   "id": "2c2f0b1e",
   "metadata": {},
   "source": [
    "### 입출력 예\n",
    "    arr1\tarr2\treturn\n",
    "    [[1,2],[2,3]]\t[[3,4],[5,6]]\t[[4,6],[7,9]]\n",
    "    [[1],[2]]\t[[3],[4]]\t[[4],[6]]"
   ]
  },
  {
   "cell_type": "code",
   "execution_count": null,
   "id": "9b683b54",
   "metadata": {},
   "outputs": [],
   "source": [
    "def solution(arr1, arr2):\n",
    "    answer = [[]]\n",
    "    return answer"
   ]
  },
  {
   "cell_type": "code",
   "execution_count": 29,
   "id": "813e9be2",
   "metadata": {},
   "outputs": [
    {
     "data": {
      "text/plain": [
       "([[1, 2], [2, 3]], [[3, 4], [5, 6]])"
      ]
     },
     "execution_count": 29,
     "metadata": {},
     "output_type": "execute_result"
    }
   ],
   "source": [
    "arr1,arr2"
   ]
  },
  {
   "cell_type": "code",
   "execution_count": 4,
   "id": "f55362c2",
   "metadata": {},
   "outputs": [],
   "source": [
    "arr1 = [[1,2],[2,3]]\n",
    "arr2 = [[3,4],[5,6]]"
   ]
  },
  {
   "cell_type": "code",
   "execution_count": 20,
   "id": "f5238bc1",
   "metadata": {},
   "outputs": [
    {
     "data": {
      "text/plain": [
       "4"
      ]
     },
     "execution_count": 20,
     "metadata": {},
     "output_type": "execute_result"
    }
   ],
   "source": [
    "arr1[0][0] + arr2[0][0]"
   ]
  },
  {
   "cell_type": "code",
   "execution_count": 27,
   "id": "b4d2f7ed",
   "metadata": {},
   "outputs": [
    {
     "name": "stdout",
     "output_type": "stream",
     "text": [
      "1\n",
      "3\n"
     ]
    }
   ],
   "source": [
    "for i in arr1,arr2:\n",
    "    print(i[0][0])"
   ]
  },
  {
   "cell_type": "code",
   "execution_count": 31,
   "id": "21a24731",
   "metadata": {},
   "outputs": [],
   "source": [
    "arr3 = [[1],[2]]\n",
    "arr4 = [[3],[4]]"
   ]
  },
  {
   "cell_type": "code",
   "execution_count": 38,
   "id": "efad3f1c",
   "metadata": {},
   "outputs": [
    {
     "data": {
      "text/plain": [
       "2"
      ]
     },
     "execution_count": 38,
     "metadata": {},
     "output_type": "execute_result"
    }
   ],
   "source": [
    "len(arr1)"
   ]
  },
  {
   "cell_type": "code",
   "execution_count": 40,
   "id": "9843fecb",
   "metadata": {},
   "outputs": [
    {
     "data": {
      "text/plain": [
       "2"
      ]
     },
     "execution_count": 40,
     "metadata": {},
     "output_type": "execute_result"
    }
   ],
   "source": [
    "len(arr3)"
   ]
  },
  {
   "cell_type": "code",
   "execution_count": 43,
   "id": "a547bc06",
   "metadata": {},
   "outputs": [
    {
     "name": "stdout",
     "output_type": "stream",
     "text": [
      "0\n",
      "1\n"
     ]
    }
   ],
   "source": [
    "for i in range(len(arr1)):\n",
    "    print(i)"
   ]
  },
  {
   "cell_type": "code",
   "execution_count": 44,
   "id": "e75f63b8",
   "metadata": {},
   "outputs": [
    {
     "data": {
      "text/plain": [
       "2"
      ]
     },
     "execution_count": 44,
     "metadata": {},
     "output_type": "execute_result"
    }
   ],
   "source": [
    "len(arr1[0])"
   ]
  },
  {
   "cell_type": "code",
   "execution_count": 45,
   "id": "7d059fcf",
   "metadata": {},
   "outputs": [
    {
     "data": {
      "text/plain": [
       "1"
      ]
     },
     "execution_count": 45,
     "metadata": {},
     "output_type": "execute_result"
    }
   ],
   "source": [
    "len(arr3[0])"
   ]
  },
  {
   "cell_type": "code",
   "execution_count": 49,
   "id": "4a1d57b7",
   "metadata": {},
   "outputs": [
    {
     "name": "stdout",
     "output_type": "stream",
     "text": [
      "4\n",
      "6\n",
      "7\n",
      "9\n"
     ]
    }
   ],
   "source": [
    "for i in range(len(arr1)):\n",
    "    for j in range(len(arr1[i])):\n",
    "        print(arr1[i][j] + arr2[i][j]) "
   ]
  },
  {
   "cell_type": "code",
   "execution_count": 50,
   "id": "cfe7020a",
   "metadata": {},
   "outputs": [
    {
     "name": "stdout",
     "output_type": "stream",
     "text": [
      "4\n",
      "6\n"
     ]
    }
   ],
   "source": [
    "for i in range(len(arr3)):\n",
    "    for j in range(len(arr3[i])):\n",
    "        print(arr3[i][j] + arr4[i][j]) "
   ]
  },
  {
   "cell_type": "markdown",
   "id": "fd10da53",
   "metadata": {},
   "source": [
    "len(arr3[0]) 이게 핵심인듯 싶다."
   ]
  },
  {
   "cell_type": "code",
   "execution_count": null,
   "id": "4a27d030",
   "metadata": {},
   "outputs": [],
   "source": []
  },
  {
   "cell_type": "code",
   "execution_count": 51,
   "id": "e2f011ba",
   "metadata": {},
   "outputs": [],
   "source": [
    "second = []\n",
    "for i in range(len(arr1)):\n",
    "    first = []\n",
    "    for j in range(len(arr1[i])):\n",
    "        first.append(arr1[i][j] + arr2[i][j])\n",
    "    second.append(first)"
   ]
  },
  {
   "cell_type": "code",
   "execution_count": 52,
   "id": "d0aad7fe",
   "metadata": {},
   "outputs": [
    {
     "data": {
      "text/plain": [
       "[[4, 6], [7, 9]]"
      ]
     },
     "execution_count": 52,
     "metadata": {},
     "output_type": "execute_result"
    }
   ],
   "source": [
    "second"
   ]
  },
  {
   "cell_type": "markdown",
   "id": "4e5a0c5c",
   "metadata": {},
   "source": [
    "## 답 제출"
   ]
  },
  {
   "cell_type": "code",
   "execution_count": null,
   "id": "8ee67efe",
   "metadata": {},
   "outputs": [],
   "source": [
    "def solution(arr1, arr2):\n",
    "    second = []\n",
    "    for i in range(len(arr1)):\n",
    "        first = []\n",
    "        for j in range(len(arr1[i])):\n",
    "            first.append(arr1[i][j] + arr2[i][j])\n",
    "        second.append(first)\n",
    "    return second"
   ]
  },
  {
   "cell_type": "code",
   "execution_count": null,
   "id": "edf95ce3",
   "metadata": {},
   "outputs": [],
   "source": []
  },
  {
   "cell_type": "code",
   "execution_count": null,
   "id": "c0e24b58",
   "metadata": {},
   "outputs": [],
   "source": []
  },
  {
   "cell_type": "markdown",
   "id": "70097084",
   "metadata": {},
   "source": [
    "## 다른 사람의 풀이"
   ]
  },
  {
   "cell_type": "code",
   "execution_count": 54,
   "id": "36147150",
   "metadata": {},
   "outputs": [
    {
     "data": {
      "text/plain": [
       "[[4, 6], [7, 9]]"
      ]
     },
     "execution_count": 54,
     "metadata": {},
     "output_type": "execute_result"
    }
   ],
   "source": [
    "[[c + d for c, d in zip(a, b)] for a, b in zip(arr1, arr2)]"
   ]
  },
  {
   "cell_type": "markdown",
   "id": "d1f3edef",
   "metadata": {},
   "source": [
    "arr1 = [[1,2],[2,3]] <br>\n",
    "arr2 = [[3,4],[5,6]]"
   ]
  },
  {
   "cell_type": "code",
   "execution_count": 58,
   "id": "9231d3a7",
   "metadata": {},
   "outputs": [
    {
     "name": "stdout",
     "output_type": "stream",
     "text": [
      "[1, 2]\n",
      "[2, 3]\n"
     ]
    }
   ],
   "source": [
    "for a, b in zip(arr1, arr2):\n",
    "    print(a)"
   ]
  },
  {
   "cell_type": "code",
   "execution_count": 59,
   "id": "e7bfaa8e",
   "metadata": {},
   "outputs": [
    {
     "name": "stdout",
     "output_type": "stream",
     "text": [
      "[1, 2] [3, 4]\n",
      "[2, 3] [5, 6]\n"
     ]
    }
   ],
   "source": [
    "for a, b in zip(arr1, arr2):\n",
    "    print(a, b)"
   ]
  },
  {
   "cell_type": "code",
   "execution_count": 74,
   "id": "e5f1fddc",
   "metadata": {},
   "outputs": [
    {
     "name": "stdout",
     "output_type": "stream",
     "text": [
      "1 3\n",
      "합 = 4\n",
      "2 4\n",
      "합 = 6\n",
      "[[4, 6]]\n",
      "2 5\n",
      "합 = 7\n",
      "3 6\n",
      "합 = 9\n",
      "[[4, 6], [7, 9]]\n"
     ]
    }
   ],
   "source": [
    "zxcv2 = []\n",
    "for a, b in zip(arr1, arr2):\n",
    "    zxcv = []\n",
    "    for c, d in zip(a, b):\n",
    "        print(c, d)\n",
    "        print(\"합 =\", c+d)\n",
    "        zxcv.append(c+d)\n",
    "    zxcv2.append(zxcv)\n",
    "    print(zxcv2)\n",
    "# 풀어헤치면 이거랑 같다"
   ]
  },
  {
   "cell_type": "code",
   "execution_count": null,
   "id": "7e86b8c9",
   "metadata": {},
   "outputs": [],
   "source": []
  }
 ],
 "metadata": {
  "kernelspec": {
   "display_name": "Python 3 (ipykernel)",
   "language": "python",
   "name": "python3"
  },
  "language_info": {
   "codemirror_mode": {
    "name": "ipython",
    "version": 3
   },
   "file_extension": ".py",
   "mimetype": "text/x-python",
   "name": "python",
   "nbconvert_exporter": "python",
   "pygments_lexer": "ipython3",
   "version": "3.9.7"
  }
 },
 "nbformat": 4,
 "nbformat_minor": 5
}
