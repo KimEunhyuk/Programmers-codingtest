{
 "cells": [
  {
   "cell_type": "markdown",
   "id": "0939159e",
   "metadata": {},
   "source": [
    "## 부족한 금액 계산하기"
   ]
  },
  {
   "cell_type": "markdown",
   "id": "ae0698f2",
   "metadata": {},
   "source": [
    "### 문제 설명"
   ]
  },
  {
   "cell_type": "markdown",
   "id": "56a612e5",
   "metadata": {},
   "source": [
    "새로 생긴 놀이기구는 인기가 매우 많아 줄이 끊이질 않습니다. 이 놀이기구의 원래 이용료는 price원 인데, 놀이기구를 N 번 째 이용한다면 원래 이용료의 N배를 받기로 하였습니다. 즉, 처음 이용료가 100이었다면 2번째에는 200, 3번째에는 300으로 요금이 인상됩니다.\n",
    "놀이기구를 count번 타게 되면 현재 자신이 가지고 있는 금액에서 얼마가 모자라는지를 return 하도록 solution 함수를 완성하세요.\n",
    "단, 금액이 부족하지 않으면 0을 return 하세요."
   ]
  },
  {
   "cell_type": "markdown",
   "id": "54c6f292",
   "metadata": {},
   "source": [
    "### 제한사항\n",
    "- 놀이기구의 이용료 price : 1 ≤ price ≤ 2,500, price는 자연수\n",
    "- 처음 가지고 있던금액 money : 1 ≤ money ≤ 1,000,000,000, money는 자연수\n",
    "- 놀이기구의 이용 횟수 count : 1 ≤ count ≤ 2,500, count는 자연수"
   ]
  },
  {
   "cell_type": "markdown",
   "id": "16ec1512",
   "metadata": {},
   "source": [
    "### 입출력 예\n",
    "    price\tmoney\tcount\tresult\n",
    "    3\t20\t4\t10"
   ]
  },
  {
   "cell_type": "markdown",
   "id": "a937d6a4",
   "metadata": {},
   "source": [
    "### 입출력 예 설명\n",
    "입출력 예 #1\n",
    "이용금액이 3인 놀이기구를 4번 타고 싶은 고객이 현재 가진 금액이 20이라면, 총 필요한 놀이기구의 이용 금액은 30 (= 3+6+9+12) 이 되어 10만큼 부족하므로 10을 return 합니다."
   ]
  },
  {
   "cell_type": "code",
   "execution_count": null,
   "id": "10ef36ec",
   "metadata": {},
   "outputs": [],
   "source": [
    "def solution(price, money, count):\n",
    "    answer = -1\n",
    "\n",
    "    return answer"
   ]
  },
  {
   "cell_type": "code",
   "execution_count": 1,
   "id": "baaca091",
   "metadata": {},
   "outputs": [],
   "source": [
    "price = 3\n",
    "money = 20\n",
    "count = 4"
   ]
  },
  {
   "cell_type": "code",
   "execution_count": 19,
   "id": "0357c077",
   "metadata": {},
   "outputs": [
    {
     "name": "stdout",
     "output_type": "stream",
     "text": [
      "3 1\n",
      "3 2\n",
      "3 3\n",
      "3 4\n"
     ]
    }
   ],
   "source": [
    "for i in range(1, count+1):\n",
    "    print(price, i)\n",
    "    a += price*i"
   ]
  },
  {
   "cell_type": "code",
   "execution_count": 32,
   "id": "5a8ece4c",
   "metadata": {},
   "outputs": [],
   "source": [
    "cost = 0\n",
    "for i in range(1, count+1):\n",
    "    cost += price*i"
   ]
  },
  {
   "cell_type": "code",
   "execution_count": 33,
   "id": "a4822504",
   "metadata": {},
   "outputs": [],
   "source": [
    "if cost > money:\n",
    "    cost = money\n",
    "# 테스트"
   ]
  },
  {
   "cell_type": "code",
   "execution_count": 34,
   "id": "6faa9175",
   "metadata": {},
   "outputs": [
    {
     "data": {
      "text/plain": [
       "20"
      ]
     },
     "execution_count": 34,
     "metadata": {},
     "output_type": "execute_result"
    }
   ],
   "source": [
    "cost"
   ]
  },
  {
   "cell_type": "markdown",
   "id": "163e6431",
   "metadata": {},
   "source": [
    "단, 금액이 부족하지 않으면 0을 return 하세요."
   ]
  },
  {
   "cell_type": "markdown",
   "id": "6fc6340a",
   "metadata": {},
   "source": [
    "## 답 제출"
   ]
  },
  {
   "cell_type": "code",
   "execution_count": null,
   "id": "5829ac04",
   "metadata": {},
   "outputs": [],
   "source": [
    "def solution(price, money, count):\n",
    "    cost = 0\n",
    "    answer = 0\n",
    "    for i in range(1, count+1):\n",
    "        cost += price*i\n",
    "    if cost < money:\n",
    "        cost = money\n",
    "    return cost-money"
   ]
  }
 ],
 "metadata": {
  "kernelspec": {
   "display_name": "Python 3 (ipykernel)",
   "language": "python",
   "name": "python3"
  },
  "language_info": {
   "codemirror_mode": {
    "name": "ipython",
    "version": 3
   },
   "file_extension": ".py",
   "mimetype": "text/x-python",
   "name": "python",
   "nbconvert_exporter": "python",
   "pygments_lexer": "ipython3",
   "version": "3.9.7"
  }
 },
 "nbformat": 4,
 "nbformat_minor": 5
}
