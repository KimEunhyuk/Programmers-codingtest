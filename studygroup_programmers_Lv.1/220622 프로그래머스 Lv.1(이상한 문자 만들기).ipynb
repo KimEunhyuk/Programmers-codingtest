{
 "cells": [
  {
   "cell_type": "markdown",
   "id": "1aa6747e",
   "metadata": {},
   "source": [
    "## 이상한 문자 만들기"
   ]
  },
  {
   "cell_type": "markdown",
   "id": "753f8e99",
   "metadata": {},
   "source": [
    "문제 설명 <br>\n",
    "문자열 s는 한 개 이상의 단어로 구성되어 있습니다. 각 단어는 하나 이상의 공백문자로 구분되어 있습니다. 각 단어의 짝수번째 알파벳은 대문자로, 홀수번째 알파벳은 소문자로 바꾼 문자열을 리턴하는 함수, solution을 완성하세요."
   ]
  },
  {
   "cell_type": "markdown",
   "id": "a1342d1d",
   "metadata": {},
   "source": [
    "제한 사항 <br>\n",
    "문자열 전체의 짝/홀수 인덱스가 아니라, 단어(공백을 기준)별로 짝/홀수 인덱스를 판단해야합니다.\n",
    "첫 번째 글자는 0번째 인덱스로 보아 짝수번째 알파벳으로 처리해야 합니다."
   ]
  },
  {
   "cell_type": "markdown",
   "id": "e1b15f52",
   "metadata": {},
   "source": [
    "입출력 예 <br>\n",
    "s\treturn <br>\n",
    "\"try hello world\"\t\"TrY HeLlO WoRlD\""
   ]
  },
  {
   "cell_type": "markdown",
   "id": "c6c4af35",
   "metadata": {},
   "source": [
    "입출력 예 설명 <br>\n",
    "\"try hello world\"는 세 단어 \"try\", \"hello\", \"world\"로 구성되어 있습니다. 각 단어의 짝수번째 문자를 대문자로, 홀수번째 문자를 소문자로 바꾸면 \"TrY\", \"HeLlO\", \"WoRlD\"입니다. 따라서 \"TrY HeLlO WoRlD\" 를 리턴합니다."
   ]
  },
  {
   "cell_type": "code",
   "execution_count": null,
   "id": "28044e40",
   "metadata": {},
   "outputs": [],
   "source": [
    "def solution(s):\n",
    "    answer = ''\n",
    "    return answer"
   ]
  },
  {
   "cell_type": "code",
   "execution_count": 1,
   "id": "180de014",
   "metadata": {},
   "outputs": [
    {
     "data": {
      "text/plain": [
       "'t'"
      ]
     },
     "execution_count": 1,
     "metadata": {},
     "output_type": "execute_result"
    }
   ],
   "source": [
    "\"try\"[0] # 이걸 대문자로."
   ]
  },
  {
   "cell_type": "code",
   "execution_count": 4,
   "id": "b89aceda",
   "metadata": {},
   "outputs": [
    {
     "data": {
      "text/plain": [
       "'T'"
      ]
     },
     "execution_count": 4,
     "metadata": {},
     "output_type": "execute_result"
    }
   ],
   "source": [
    "'t'.upper()"
   ]
  },
  {
   "cell_type": "code",
   "execution_count": null,
   "id": "d57ea8b0",
   "metadata": {},
   "outputs": [],
   "source": []
  },
  {
   "cell_type": "code",
   "execution_count": 5,
   "id": "395724e1",
   "metadata": {},
   "outputs": [],
   "source": [
    "test = \"try hello world\""
   ]
  },
  {
   "cell_type": "code",
   "execution_count": 12,
   "id": "a9c9ae3d",
   "metadata": {},
   "outputs": [
    {
     "data": {
      "text/plain": [
       "'hello'"
      ]
     },
     "execution_count": 12,
     "metadata": {},
     "output_type": "execute_result"
    }
   ],
   "source": [
    "test.split(\" \")[1]"
   ]
  },
  {
   "cell_type": "code",
   "execution_count": 15,
   "id": "954eb3d9",
   "metadata": {},
   "outputs": [
    {
     "data": {
      "text/plain": [
       "'e'"
      ]
     },
     "execution_count": 15,
     "metadata": {},
     "output_type": "execute_result"
    }
   ],
   "source": [
    "test.split(\" \")[1][1]"
   ]
  },
  {
   "cell_type": "code",
   "execution_count": 13,
   "id": "4a7d98d6",
   "metadata": {},
   "outputs": [
    {
     "data": {
      "text/plain": [
       "3"
      ]
     },
     "execution_count": 13,
     "metadata": {},
     "output_type": "execute_result"
    }
   ],
   "source": [
    "len(test.split(\" \"))"
   ]
  },
  {
   "cell_type": "code",
   "execution_count": 19,
   "id": "540f1a8f",
   "metadata": {},
   "outputs": [
    {
     "data": {
      "text/plain": [
       "5"
      ]
     },
     "execution_count": 19,
     "metadata": {},
     "output_type": "execute_result"
    }
   ],
   "source": [
    "len(test.split(\" \")[1])"
   ]
  },
  {
   "cell_type": "code",
   "execution_count": 18,
   "id": "4950a185",
   "metadata": {},
   "outputs": [
    {
     "ename": "AttributeError",
     "evalue": "'range' object has no attribute 'odd'",
     "output_type": "error",
     "traceback": [
      "\u001b[1;31m---------------------------------------------------------------------------\u001b[0m",
      "\u001b[1;31mAttributeError\u001b[0m                            Traceback (most recent call last)",
      "\u001b[1;32m~\\AppData\\Local\\Temp/ipykernel_21120/1476204572.py\u001b[0m in \u001b[0;36m<module>\u001b[1;34m\u001b[0m\n\u001b[1;32m----> 1\u001b[1;33m \u001b[0mrange\u001b[0m\u001b[1;33m(\u001b[0m\u001b[1;36m10\u001b[0m\u001b[1;33m)\u001b[0m\u001b[1;33m.\u001b[0m\u001b[0modd\u001b[0m\u001b[1;33m(\u001b[0m\u001b[1;33m)\u001b[0m\u001b[1;33m\u001b[0m\u001b[1;33m\u001b[0m\u001b[0m\n\u001b[0m",
      "\u001b[1;31mAttributeError\u001b[0m: 'range' object has no attribute 'odd'"
     ]
    }
   ],
   "source": [
    "range(10).odd()"
   ]
  },
  {
   "cell_type": "code",
   "execution_count": 25,
   "id": "07eed737",
   "metadata": {},
   "outputs": [],
   "source": [
    "testlist = []\n",
    "for i in range(len(test.split(\" \"))):\n",
    "    for j in range(len(test.split(\" \")[i])):\n",
    "        if j == 0 :\n",
    "            test.split(\" \")[i][j].upper\n",
    "        elif j % 2 == 0 :\n",
    "            test.split(\" \")[i][j].upper\n",
    "        else :\n",
    "            test.split(\" \")[i][j]\n",
    "        testlist.append(test.split(\" \")[i][j])"
   ]
  },
  {
   "cell_type": "code",
   "execution_count": 26,
   "id": "5395d5a9",
   "metadata": {},
   "outputs": [
    {
     "data": {
      "text/plain": [
       "['t', 'r', 'y', 'h', 'e', 'l', 'l', 'o', 'w', 'o', 'r', 'l', 'd']"
      ]
     },
     "execution_count": 26,
     "metadata": {},
     "output_type": "execute_result"
    }
   ],
   "source": [
    "testlist"
   ]
  },
  {
   "cell_type": "code",
   "execution_count": 27,
   "id": "8c9f6500",
   "metadata": {},
   "outputs": [
    {
     "name": "stdout",
     "output_type": "stream",
     "text": [
      "0\n",
      "1\n",
      "2\n",
      "0\n",
      "1\n",
      "2\n",
      "3\n",
      "4\n",
      "0\n",
      "1\n",
      "2\n",
      "3\n",
      "4\n"
     ]
    }
   ],
   "source": [
    "testlist = []\n",
    "for i in range(len(test.split(\" \"))):\n",
    "    for j in range(len(test.split(\" \")[i])):\n",
    "        print(j)"
   ]
  },
  {
   "cell_type": "code",
   "execution_count": 42,
   "id": "89929c6f",
   "metadata": {},
   "outputs": [],
   "source": [
    "testlist2 = []\n",
    "for i in range(len(test.split(\" \"))):\n",
    "    for j in range(len(test.split(\" \")[i])):\n",
    "        if j % 2 == 0 :\n",
    "            testlist2.append(test.split(\" \")[i][j].upper())\n",
    "        else :\n",
    "            testlist2.append(test.split(\" \")[i][j])"
   ]
  },
  {
   "cell_type": "code",
   "execution_count": 43,
   "id": "13775e5b",
   "metadata": {},
   "outputs": [
    {
     "data": {
      "text/plain": [
       "['T', 'r', 'Y', 'H', 'e', 'L', 'l', 'O', 'W', 'o', 'R', 'l', 'D']"
      ]
     },
     "execution_count": 43,
     "metadata": {},
     "output_type": "execute_result"
    }
   ],
   "source": [
    "testlist2"
   ]
  },
  {
   "cell_type": "markdown",
   "id": "97934740",
   "metadata": {},
   "source": [
    "음....... 이게 아니다 "
   ]
  },
  {
   "cell_type": "code",
   "execution_count": 49,
   "id": "dd368413",
   "metadata": {},
   "outputs": [
    {
     "data": {
      "text/plain": [
       "'try'"
      ]
     },
     "execution_count": 49,
     "metadata": {},
     "output_type": "execute_result"
    }
   ],
   "source": [
    "test.split(\" \")[0]"
   ]
  },
  {
   "cell_type": "code",
   "execution_count": 61,
   "id": "c2205589",
   "metadata": {},
   "outputs": [
    {
     "ename": "IndexError",
     "evalue": "list index out of range",
     "output_type": "error",
     "traceback": [
      "\u001b[1;31m---------------------------------------------------------------------------\u001b[0m",
      "\u001b[1;31mIndexError\u001b[0m                                Traceback (most recent call last)",
      "\u001b[1;32m~\\AppData\\Local\\Temp/ipykernel_21120/1385274905.py\u001b[0m in \u001b[0;36m<module>\u001b[1;34m\u001b[0m\n\u001b[0;32m      2\u001b[0m \u001b[1;32mfor\u001b[0m \u001b[0mi\u001b[0m \u001b[1;32min\u001b[0m \u001b[0mrange\u001b[0m\u001b[1;33m(\u001b[0m\u001b[0mlen\u001b[0m\u001b[1;33m(\u001b[0m\u001b[0mtest\u001b[0m\u001b[1;33m.\u001b[0m\u001b[0msplit\u001b[0m\u001b[1;33m(\u001b[0m\u001b[1;34m\" \"\u001b[0m\u001b[1;33m)\u001b[0m\u001b[1;33m[\u001b[0m\u001b[1;36m0\u001b[0m\u001b[1;33m]\u001b[0m\u001b[1;33m)\u001b[0m\u001b[1;33m)\u001b[0m\u001b[1;33m:\u001b[0m\u001b[1;33m\u001b[0m\u001b[1;33m\u001b[0m\u001b[0m\n\u001b[0;32m      3\u001b[0m     \u001b[1;32mif\u001b[0m \u001b[0mi\u001b[0m\u001b[1;33m%\u001b[0m\u001b[1;36m2\u001b[0m \u001b[1;33m==\u001b[0m\u001b[1;36m0\u001b[0m \u001b[1;33m:\u001b[0m\u001b[1;33m\u001b[0m\u001b[1;33m\u001b[0m\u001b[0m\n\u001b[1;32m----> 4\u001b[1;33m         \u001b[0mtestlist4\u001b[0m\u001b[1;33m[\u001b[0m\u001b[0mi\u001b[0m\u001b[1;33m]\u001b[0m\u001b[1;33m.\u001b[0m\u001b[0mappend\u001b[0m\u001b[1;33m(\u001b[0m\u001b[0mtest\u001b[0m\u001b[1;33m.\u001b[0m\u001b[0msplit\u001b[0m\u001b[1;33m(\u001b[0m\u001b[1;34m\" \"\u001b[0m\u001b[1;33m)\u001b[0m\u001b[1;33m[\u001b[0m\u001b[1;36m0\u001b[0m\u001b[1;33m]\u001b[0m\u001b[1;33m[\u001b[0m\u001b[0mi\u001b[0m\u001b[1;33m]\u001b[0m\u001b[1;33m.\u001b[0m\u001b[0mupper\u001b[0m\u001b[1;33m(\u001b[0m\u001b[1;33m)\u001b[0m\u001b[1;33m)\u001b[0m\u001b[1;33m\u001b[0m\u001b[1;33m\u001b[0m\u001b[0m\n\u001b[0m",
      "\u001b[1;31mIndexError\u001b[0m: list index out of range"
     ]
    }
   ],
   "source": [
    "testlist4 = []\n",
    "for i in range(len(test.split(\" \")[0])):\n",
    "    if i%2 ==0 :\n",
    "        testlist4[i].append(test.split(\" \")[0][i].upper())"
   ]
  },
  {
   "cell_type": "code",
   "execution_count": 71,
   "id": "32510a27",
   "metadata": {},
   "outputs": [],
   "source": [
    "testlist2 = []\n",
    "for i in range(len(test.split(\" \"))):\n",
    "    for j in range(len(test.split(\" \")[i])):\n",
    "        if j % 2 == 0 :\n",
    "            testlist2.append(test.split(\" \")[i][j].upper())\n",
    "        else :\n",
    "            testlist2.append(test.split(\" \")[i][j])\n",
    "    testlist2.append(\" \")"
   ]
  },
  {
   "cell_type": "code",
   "execution_count": 83,
   "id": "f3af1a6a",
   "metadata": {},
   "outputs": [],
   "source": [
    "testanwser = \"\".join(testlist2)[:-1]"
   ]
  },
  {
   "cell_type": "code",
   "execution_count": 77,
   "id": "44970667",
   "metadata": {},
   "outputs": [
    {
     "data": {
      "text/plain": [
       "'try hello world'"
      ]
     },
     "execution_count": 77,
     "metadata": {},
     "output_type": "execute_result"
    }
   ],
   "source": [
    "test"
   ]
  },
  {
   "cell_type": "code",
   "execution_count": 86,
   "id": "ab2db7cc",
   "metadata": {},
   "outputs": [
    {
     "data": {
      "text/plain": [
       "'TrY HeLlO WoRlD'"
      ]
     },
     "execution_count": 86,
     "metadata": {},
     "output_type": "execute_result"
    }
   ],
   "source": [
    "testanwser"
   ]
  },
  {
   "cell_type": "code",
   "execution_count": 90,
   "id": "b08309f6",
   "metadata": {},
   "outputs": [],
   "source": [
    "def solution(s):\n",
    "    listone = []\n",
    "    for i in range(len(s.split(\" \"))):\n",
    "        for j in range(len(s.split(\" \")[i])):\n",
    "            if j % 2 == 0 :\n",
    "                listone.append(s.split(\" \")[i][j].upper())\n",
    "            else :\n",
    "                listone.append(s.split(\" \")[i][j])\n",
    "        listone.append(\" \")\n",
    "    answer = \"\".join(listone)[:-1]\n",
    "    return answer"
   ]
  },
  {
   "cell_type": "code",
   "execution_count": 91,
   "id": "38129732",
   "metadata": {},
   "outputs": [
    {
     "data": {
      "text/plain": [
       "'AsDf'"
      ]
     },
     "execution_count": 91,
     "metadata": {},
     "output_type": "execute_result"
    }
   ],
   "source": [
    "solution(\"asdf\")"
   ]
  },
  {
   "cell_type": "markdown",
   "id": "f8f0d6fb",
   "metadata": {},
   "source": [
    "제출 했더니 테스트성공. 채점에서 에러남."
   ]
  },
  {
   "cell_type": "markdown",
   "id": "1545baa9",
   "metadata": {},
   "source": [
    "s에 원래 대문자인걸 넣고 날 괴롭히려는건가 싶어서 홀수번째에 lower()를 넣음."
   ]
  },
  {
   "cell_type": "code",
   "execution_count": null,
   "id": "556d54c4",
   "metadata": {},
   "outputs": [],
   "source": [
    "def solution(s):\n",
    "    listone = []\n",
    "    for i in range(len(s.split(\" \"))):\n",
    "        for j in range(len(s.split(\" \")[i])):\n",
    "            if j % 2 == 0 :\n",
    "                listone.append(s.split(\" \")[i][j].upper())\n",
    "            else :\n",
    "                listone.append(s.split(\" \")[i][j].lower())\n",
    "        listone.append(\" \")\n",
    "    answer = \"\".join(listone)[:-1]\n",
    "    return answer"
   ]
  },
  {
   "cell_type": "markdown",
   "id": "1f2d0024",
   "metadata": {},
   "source": [
    "정답!"
   ]
  },
  {
   "cell_type": "code",
   "execution_count": null,
   "id": "71ed53fa",
   "metadata": {},
   "outputs": [],
   "source": []
  }
 ],
 "metadata": {
  "kernelspec": {
   "display_name": "Python 3 (ipykernel)",
   "language": "python",
   "name": "python3"
  },
  "language_info": {
   "codemirror_mode": {
    "name": "ipython",
    "version": 3
   },
   "file_extension": ".py",
   "mimetype": "text/x-python",
   "name": "python",
   "nbconvert_exporter": "python",
   "pygments_lexer": "ipython3",
   "version": "3.9.7"
  }
 },
 "nbformat": 4,
 "nbformat_minor": 5
}
