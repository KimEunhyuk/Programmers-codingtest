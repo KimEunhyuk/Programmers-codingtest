{
 "cells": [
  {
   "cell_type": "markdown",
   "id": "d0d6622d",
   "metadata": {},
   "source": [
    "## 문자열 다루기 기본"
   ]
  },
  {
   "cell_type": "markdown",
   "id": "44fb8521",
   "metadata": {},
   "source": [
    "### 문제 설명\n",
    "문자열 s의 길이가 4 혹은 6이고, 숫자로만 구성돼있는지 확인해주는 함수, solution을 완성하세요. <br>\n",
    "예를 들어 s가 \"a234\"이면 False를 리턴하고 \"1234\"라면 True를 리턴하면 됩니다."
   ]
  },
  {
   "cell_type": "markdown",
   "id": "f667f410",
   "metadata": {},
   "source": [
    "### 제한 사항\n",
    "- s는 길이 1 이상, 길이 8 이하인 문자열입니다."
   ]
  },
  {
   "cell_type": "markdown",
   "id": "aa86fc29",
   "metadata": {},
   "source": [
    "### 입출력 예\n",
    "       s\t  return\n",
    "    \"a234\"\tfalse\n",
    "    \"1234\"\ttrue"
   ]
  },
  {
   "cell_type": "code",
   "execution_count": 1,
   "id": "98473e70",
   "metadata": {},
   "outputs": [],
   "source": [
    "s = \"1234\""
   ]
  },
  {
   "cell_type": "code",
   "execution_count": 3,
   "id": "439c202c",
   "metadata": {},
   "outputs": [
    {
     "data": {
      "text/plain": [
       "1234"
      ]
     },
     "execution_count": 3,
     "metadata": {},
     "output_type": "execute_result"
    }
   ],
   "source": [
    "int(s)"
   ]
  },
  {
   "cell_type": "code",
   "execution_count": 4,
   "id": "5e2a56eb",
   "metadata": {},
   "outputs": [],
   "source": [
    "s1 = \"a234\""
   ]
  },
  {
   "cell_type": "code",
   "execution_count": 6,
   "id": "8e8f8b0a",
   "metadata": {},
   "outputs": [
    {
     "ename": "ValueError",
     "evalue": "invalid literal for int() with base 10: 'a234'",
     "output_type": "error",
     "traceback": [
      "\u001b[1;31m---------------------------------------------------------------------------\u001b[0m",
      "\u001b[1;31mValueError\u001b[0m                                Traceback (most recent call last)",
      "\u001b[1;32m~\\AppData\\Local\\Temp/ipykernel_8240/1538595944.py\u001b[0m in \u001b[0;36m<module>\u001b[1;34m\u001b[0m\n\u001b[1;32m----> 1\u001b[1;33m \u001b[0mint\u001b[0m\u001b[1;33m(\u001b[0m\u001b[0ms1\u001b[0m\u001b[1;33m)\u001b[0m\u001b[1;33m\u001b[0m\u001b[1;33m\u001b[0m\u001b[0m\n\u001b[0m",
      "\u001b[1;31mValueError\u001b[0m: invalid literal for int() with base 10: 'a234'"
     ]
    }
   ],
   "source": [
    "int(s1)"
   ]
  },
  {
   "cell_type": "code",
   "execution_count": null,
   "id": "49f3920d",
   "metadata": {},
   "outputs": [],
   "source": [
    "def solution(s):\n",
    "    if len(s) == 4 or 6:\n",
    "        try:\n",
    "            int(s)\n",
    "            return True\n",
    "        except:\n",
    "            return False\n",
    "    else:\n",
    "        return False"
   ]
  },
  {
   "cell_type": "markdown",
   "id": "885313b4",
   "metadata": {},
   "source": [
    "2문제 에러남."
   ]
  },
  {
   "cell_type": "code",
   "execution_count": 9,
   "id": "f1fe0db1",
   "metadata": {},
   "outputs": [],
   "source": [
    "s = \"16845\""
   ]
  },
  {
   "cell_type": "code",
   "execution_count": 15,
   "id": "ef5008cf",
   "metadata": {},
   "outputs": [
    {
     "data": {
      "text/plain": [
       "5"
      ]
     },
     "execution_count": 15,
     "metadata": {},
     "output_type": "execute_result"
    }
   ],
   "source": [
    "len(s)"
   ]
  },
  {
   "cell_type": "code",
   "execution_count": 17,
   "id": "17188f3c",
   "metadata": {},
   "outputs": [
    {
     "name": "stdout",
     "output_type": "stream",
     "text": [
      "else 5\n"
     ]
    }
   ],
   "source": [
    "if len(s) == 4 or len(s) == 6:\n",
    "    print(\"if\", len(s))\n",
    "else:\n",
    "    print(\"else\", len(s))"
   ]
  },
  {
   "cell_type": "markdown",
   "id": "ba1ba785",
   "metadata": {},
   "source": [
    "or을 이렇게 써야하네"
   ]
  },
  {
   "cell_type": "markdown",
   "id": "2156ada7",
   "metadata": {},
   "source": [
    "## 답 제출"
   ]
  },
  {
   "cell_type": "code",
   "execution_count": null,
   "id": "e01954eb",
   "metadata": {},
   "outputs": [],
   "source": [
    "def solution(s):\n",
    "    if len(s) == 4 or len(s) == 6:\n",
    "        try:\n",
    "            int(s)\n",
    "            return True\n",
    "        except:\n",
    "            return False\n",
    "    else:\n",
    "        return False"
   ]
  }
 ],
 "metadata": {
  "kernelspec": {
   "display_name": "Python 3 (ipykernel)",
   "language": "python",
   "name": "python3"
  },
  "language_info": {
   "codemirror_mode": {
    "name": "ipython",
    "version": 3
   },
   "file_extension": ".py",
   "mimetype": "text/x-python",
   "name": "python",
   "nbconvert_exporter": "python",
   "pygments_lexer": "ipython3",
   "version": "3.9.7"
  }
 },
 "nbformat": 4,
 "nbformat_minor": 5
}
