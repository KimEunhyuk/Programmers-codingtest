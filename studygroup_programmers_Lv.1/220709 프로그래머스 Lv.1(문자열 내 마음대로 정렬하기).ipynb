{
 "cells": [
  {
   "cell_type": "markdown",
   "id": "aa70a8aa",
   "metadata": {},
   "source": [
    "## 문자열 내 마음대로 정렬하기"
   ]
  },
  {
   "cell_type": "markdown",
   "id": "22819c9b",
   "metadata": {},
   "source": [
    "### 문제 설명\n",
    "문자열로 구성된 리스트 strings와, 정수 n이 주어졌을 때, 각 문자열의 인덱스 n번째 글자를 기준으로 오름차순 정렬하려 합니다. 예를 들어 strings가 [\"sun\", \"bed\", \"car\"]이고 n이 1이면 각 단어의 인덱스 1의 문자 \"u\", \"e\", \"a\"로 strings를 정렬합니다."
   ]
  },
  {
   "cell_type": "markdown",
   "id": "8ae365fc",
   "metadata": {},
   "source": [
    "### 제한 조건\n",
    "- strings는 길이 1 이상, 50이하인 배열입니다.\n",
    "- strings의 원소는 소문자 알파벳으로 이루어져 있습니다.\n",
    "- strings의 원소는 길이 1 이상, 100이하인 문자열입니다.\n",
    "- 모든 strings의 원소의 길이는 n보다 큽니다.\n",
    "- 인덱스 1의 문자가 같은 문자열이 여럿 일 경우, 사전순으로 앞선 문자열이 앞쪽에 위치합니다."
   ]
  },
  {
   "cell_type": "markdown",
   "id": "254bae15",
   "metadata": {},
   "source": [
    "### 입출력 예\n",
    "    strings\tn\treturn\n",
    "    [\"sun\", \"bed\", \"car\"]\t1\t[\"car\", \"bed\", \"sun\"]\n",
    "    [\"abce\", \"abcd\", \"cdx\"]\t2\t[\"abcd\", \"abce\", \"cdx\"]"
   ]
  },
  {
   "cell_type": "markdown",
   "id": "471bbfeb",
   "metadata": {},
   "source": [
    "### 입출력 예 설명\n",
    "입출력 예 1 <br>\n",
    "\"sun\", \"bed\", \"car\"의 1번째 인덱스 값은 각각 \"u\", \"e\", \"a\" 입니다. 이를 기준으로 strings를 정렬하면 [\"car\", \"bed\", \"sun\"] 입니다.\n",
    "\n",
    "입출력 예 2<br>\n",
    "\"abce\"와 \"abcd\", \"cdx\"의 2번째 인덱스 값은 \"c\", \"c\", \"x\"입니다. 따라서 정렬 후에는 \"cdx\"가 가장 뒤에 위치합니다. \"abce\"와 \"abcd\"는 사전순으로 정렬하면 \"abcd\"가 우선하므로, 답은 [\"abcd\", \"abce\", \"cdx\"] 입니다."
   ]
  },
  {
   "cell_type": "code",
   "execution_count": null,
   "id": "44c26699",
   "metadata": {},
   "outputs": [],
   "source": [
    "def solution(strings, n):\n",
    "    answer = []\n",
    "    return answer"
   ]
  },
  {
   "cell_type": "code",
   "execution_count": null,
   "id": "e5ebeb9e",
   "metadata": {},
   "outputs": [],
   "source": []
  },
  {
   "cell_type": "code",
   "execution_count": 1,
   "id": "6ef50e2a",
   "metadata": {},
   "outputs": [],
   "source": [
    "strings1 = [\"sun\", \"bed\", \"car\"]"
   ]
  },
  {
   "cell_type": "code",
   "execution_count": 2,
   "id": "be7cee7c",
   "metadata": {},
   "outputs": [],
   "source": [
    "n = 1"
   ]
  },
  {
   "cell_type": "code",
   "execution_count": 24,
   "id": "1bf3fafb",
   "metadata": {},
   "outputs": [
    {
     "name": "stdout",
     "output_type": "stream",
     "text": [
      "u = i[n]\n",
      "u = j\n",
      "e = i[n]\n",
      "e = j\n",
      "a = i[n]\n",
      "a = j\n"
     ]
    }
   ],
   "source": [
    "for i in strings1:\n",
    "    print(i[n], \"= i[n]\")\n",
    "    for j in i[n]:\n",
    "        print(j, \"= j\")"
   ]
  },
  {
   "cell_type": "code",
   "execution_count": 12,
   "id": "ab5aaf4d",
   "metadata": {},
   "outputs": [],
   "source": [
    "asdfff = [\"u\", \"e\", \"a\"]"
   ]
  },
  {
   "cell_type": "code",
   "execution_count": 13,
   "id": "73550dc4",
   "metadata": {},
   "outputs": [],
   "source": [
    "asdfff.sort()"
   ]
  },
  {
   "cell_type": "code",
   "execution_count": 14,
   "id": "29b181e9",
   "metadata": {},
   "outputs": [
    {
     "data": {
      "text/plain": [
       "['a', 'e', 'u']"
      ]
     },
     "execution_count": 14,
     "metadata": {},
     "output_type": "execute_result"
    }
   ],
   "source": [
    "asdfff"
   ]
  },
  {
   "cell_type": "code",
   "execution_count": 18,
   "id": "b58a36e4",
   "metadata": {
    "scrolled": true
   },
   "outputs": [
    {
     "name": "stdout",
     "output_type": "stream",
     "text": [
      "<\n"
     ]
    }
   ],
   "source": [
    "if 'a' > 'e':\n",
    "    print(\">\")\n",
    "elif 'a' < 'e':\n",
    "    print(\"<\")\n",
    "    \n",
    "# 대소 비교가 되네?"
   ]
  },
  {
   "cell_type": "code",
   "execution_count": 20,
   "id": "f4908a8c",
   "metadata": {},
   "outputs": [
    {
     "data": {
      "text/plain": [
       "'e'"
      ]
     },
     "execution_count": 20,
     "metadata": {},
     "output_type": "execute_result"
    }
   ],
   "source": [
    "strings1[1][n]"
   ]
  },
  {
   "cell_type": "code",
   "execution_count": 36,
   "id": "b067afc7",
   "metadata": {},
   "outputs": [
    {
     "name": "stdout",
     "output_type": "stream",
     "text": [
      "u = i[n]\n",
      "['u'] = asdf\n",
      "e = i[n]\n",
      "['u', 'e'] = asdf\n",
      "a = i[n]\n",
      "['u', 'e', 'a'] = asdf\n",
      "['a', 'e', 'u'] = asdf.sort\n"
     ]
    }
   ],
   "source": [
    "asdf = []\n",
    "for i in strings1:\n",
    "    print(i[n], \"= i[n]\")\n",
    "    asdf.append(i[n])\n",
    "    print(asdf, \"= asdf\")\n",
    "asdf.sort()\n",
    "print(asdf, \"= asdf.sort\")\n",
    "\n",
    "# 중복 처리도 해야될 것 같음"
   ]
  },
  {
   "cell_type": "code",
   "execution_count": 38,
   "id": "eabfc9e8",
   "metadata": {},
   "outputs": [
    {
     "data": {
      "text/plain": [
       "3"
      ]
     },
     "execution_count": 38,
     "metadata": {},
     "output_type": "execute_result"
    }
   ],
   "source": [
    "len(strings1)"
   ]
  },
  {
   "cell_type": "code",
   "execution_count": 63,
   "id": "9dff77b5",
   "metadata": {},
   "outputs": [
    {
     "name": "stdout",
     "output_type": "stream",
     "text": [
      "u\n",
      "e\n",
      "a\n"
     ]
    }
   ],
   "source": [
    "for j in range(len(strings1)):\n",
    "    for i in strings1[j][n]:\n",
    "        print(i)"
   ]
  },
  {
   "cell_type": "code",
   "execution_count": 45,
   "id": "9064e54e",
   "metadata": {},
   "outputs": [
    {
     "data": {
      "text/plain": [
       "['a']"
      ]
     },
     "execution_count": 45,
     "metadata": {},
     "output_type": "execute_result"
    }
   ],
   "source": [
    "nindexj"
   ]
  },
  {
   "cell_type": "code",
   "execution_count": 67,
   "id": "dcd2cb49",
   "metadata": {},
   "outputs": [],
   "source": [
    "strings2 = [\"abce\", \"abcd\", \"cdx\"]\n",
    "n = 2"
   ]
  },
  {
   "cell_type": "code",
   "execution_count": 70,
   "id": "c672290e",
   "metadata": {},
   "outputs": [
    {
     "name": "stdout",
     "output_type": "stream",
     "text": [
      "c\n",
      "['c'] asdf\n",
      "c\n",
      "['c', 'c'] asdf\n",
      "x\n",
      "['c', 'c', 'x'] asdf\n"
     ]
    }
   ],
   "source": [
    "asdf = []\n",
    "for j in range(len(strings2)):\n",
    "    for i in strings2[j][n]:\n",
    "        print(i)\n",
    "        asdf.append(i)\n",
    "        print(asdf, \"asdf\")\n",
    "        "
   ]
  },
  {
   "cell_type": "code",
   "execution_count": 76,
   "id": "6f8f26aa",
   "metadata": {},
   "outputs": [
    {
     "data": {
      "text/plain": [
       "0"
      ]
     },
     "execution_count": 76,
     "metadata": {},
     "output_type": "execute_result"
    }
   ],
   "source": [
    "strings2[n].index(asdf[0])"
   ]
  },
  {
   "cell_type": "code",
   "execution_count": 77,
   "id": "8f3151ac",
   "metadata": {},
   "outputs": [
    {
     "data": {
      "text/plain": [
       "0"
      ]
     },
     "execution_count": 77,
     "metadata": {},
     "output_type": "execute_result"
    }
   ],
   "source": [
    "strings2[n].index(asdf[1])"
   ]
  },
  {
   "cell_type": "markdown",
   "id": "95dcf242",
   "metadata": {},
   "source": [
    "### 이렇게 하면 c가 어떤 단어인지 분간 불가능 어떻게 하지..?"
   ]
  },
  {
   "cell_type": "code",
   "execution_count": 82,
   "id": "780ad3b0",
   "metadata": {},
   "outputs": [],
   "source": [
    "strings2.sort()"
   ]
  },
  {
   "cell_type": "code",
   "execution_count": 137,
   "id": "cdd11705",
   "metadata": {},
   "outputs": [],
   "source": [
    "strings2 = [\"abce\", \"abcd\", \"cdx\"]"
   ]
  },
  {
   "cell_type": "code",
   "execution_count": 141,
   "id": "bf20016a",
   "metadata": {},
   "outputs": [
    {
     "name": "stdout",
     "output_type": "stream",
     "text": [
      "c\n",
      "i = abce\n",
      "cabce\n",
      "c\n",
      "i = abcd\n",
      "cabcd\n",
      "x\n",
      "i = cdx\n",
      "xcdx\n"
     ]
    }
   ],
   "source": [
    "asdf1 = []\n",
    "for i in strings2:\n",
    "    print(i[n])\n",
    "    print(\"i =\", i)\n",
    "    print(i[n] + i)\n",
    "    asdf1.append(i[n] + i)"
   ]
  },
  {
   "cell_type": "code",
   "execution_count": 143,
   "id": "3c9bb75e",
   "metadata": {},
   "outputs": [],
   "source": [
    "asdf1.sort()"
   ]
  },
  {
   "cell_type": "code",
   "execution_count": 144,
   "id": "816dc9db",
   "metadata": {},
   "outputs": [
    {
     "data": {
      "text/plain": [
       "['cabcd', 'cabce', 'xcdx']"
      ]
     },
     "execution_count": 144,
     "metadata": {},
     "output_type": "execute_result"
    }
   ],
   "source": [
    "asdf1"
   ]
  },
  {
   "cell_type": "markdown",
   "id": "b131294b",
   "metadata": {},
   "source": [
    "### 간단한 validation"
   ]
  },
  {
   "cell_type": "code",
   "execution_count": 151,
   "id": "2af5ac46",
   "metadata": {},
   "outputs": [],
   "source": [
    "strings3 = [\"abce\", \"abcd\", \"cdx\", \"abad\", \"abca\", \"xdc\"]\n",
    "n = 2"
   ]
  },
  {
   "cell_type": "code",
   "execution_count": 146,
   "id": "1c20d54d",
   "metadata": {},
   "outputs": [
    {
     "name": "stdout",
     "output_type": "stream",
     "text": [
      "c\n",
      "i = abce\n",
      "cabce\n",
      "c\n",
      "i = abcd\n",
      "cabcd\n",
      "x\n",
      "i = cdx\n",
      "xcdx\n",
      "a\n",
      "i = abad\n",
      "aabad\n",
      "c\n",
      "i = abca\n",
      "cabca\n",
      "c\n",
      "i = xdc\n",
      "cxdc\n"
     ]
    }
   ],
   "source": [
    "asdf2 = []\n",
    "for i in strings3:\n",
    "    print(i[n])\n",
    "    print(\"i =\", i)\n",
    "    print(i[n] + i)\n",
    "    asdf2.append(i[n] + i)"
   ]
  },
  {
   "cell_type": "code",
   "execution_count": 147,
   "id": "f5b28607",
   "metadata": {},
   "outputs": [
    {
     "data": {
      "text/plain": [
       "['cabce', 'cabcd', 'xcdx', 'aabad', 'cabca', 'cxdc']"
      ]
     },
     "execution_count": 147,
     "metadata": {},
     "output_type": "execute_result"
    }
   ],
   "source": [
    "asdf2"
   ]
  },
  {
   "cell_type": "code",
   "execution_count": 148,
   "id": "a51e06c0",
   "metadata": {},
   "outputs": [],
   "source": [
    "asdf2.sort()"
   ]
  },
  {
   "cell_type": "code",
   "execution_count": 149,
   "id": "b66ec7c0",
   "metadata": {},
   "outputs": [
    {
     "data": {
      "text/plain": [
       "['aabad', 'cabca', 'cabcd', 'cabce', 'cxdc', 'xcdx']"
      ]
     },
     "execution_count": 149,
     "metadata": {},
     "output_type": "execute_result"
    }
   ],
   "source": [
    "asdf2"
   ]
  },
  {
   "cell_type": "code",
   "execution_count": 167,
   "id": "45a841bc",
   "metadata": {},
   "outputs": [
    {
     "name": "stdout",
     "output_type": "stream",
     "text": [
      "abad\n",
      "abca\n",
      "abcd\n",
      "abce\n",
      "xdc\n",
      "cdx\n"
     ]
    }
   ],
   "source": [
    "asdf2 = []\n",
    "for i in strings3:\n",
    "    asdf2.append(i[n] + i)\n",
    "asdf2.sort()\n",
    "for j in asdf2:\n",
    "    print(j[1:])"
   ]
  },
  {
   "cell_type": "markdown",
   "id": "1c30883b",
   "metadata": {},
   "source": [
    "## 답 제출"
   ]
  },
  {
   "cell_type": "code",
   "execution_count": null,
   "id": "c0bb21f8",
   "metadata": {},
   "outputs": [],
   "source": [
    "def solution(strings, n):\n",
    "    answer1 = []\n",
    "    answer2 = []\n",
    "    for i in strings:\n",
    "        answer1.append(i[n] + i)\n",
    "    answer1.sort()\n",
    "    for j in answer1:\n",
    "        answer2.append(j[1:])\n",
    "    return answer2"
   ]
  }
 ],
 "metadata": {
  "kernelspec": {
   "display_name": "Python 3 (ipykernel)",
   "language": "python",
   "name": "python3"
  },
  "language_info": {
   "codemirror_mode": {
    "name": "ipython",
    "version": 3
   },
   "file_extension": ".py",
   "mimetype": "text/x-python",
   "name": "python",
   "nbconvert_exporter": "python",
   "pygments_lexer": "ipython3",
   "version": "3.9.7"
  }
 },
 "nbformat": 4,
 "nbformat_minor": 5
}
