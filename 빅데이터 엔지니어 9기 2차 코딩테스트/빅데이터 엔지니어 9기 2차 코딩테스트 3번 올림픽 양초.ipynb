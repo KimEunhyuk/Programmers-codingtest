{
 "cells": [
  {
   "cell_type": "markdown",
   "id": "673982e3",
   "metadata": {},
   "source": [
    "문제 설명\n",
    "생각 경시 대회를 축하하기 위해서 전통적으로 초에 불을 붙인다. 대회 첫째날밤에는 하나의 초에 불을 붙인다. 저녁이 끝나면 불을 끈다. 다음날마다 전날보다 불을 붙이는 초의 개수를 하나씩 늘려서 (1을 기준으로) n번째날 밤에는 n개의 초에 불을 붙인다 (아침에는 모든 초의 불을 끈다). 매일밤 불을 붙일때마다 초의 높이는 1씩 줄어든다. 높이가 0이 되면 더 이상 사용할 수 없다.\n",
    "\n",
    "주어진 candles의 i번째 요소는 i번째 양초의 높이는 나타낸다. 새로운 양초를 구입하지 않고 최대 며칠밤을 축하할 수 있는지 구하여라. 예를 들어, 높이 2의 초 3개를 가지고 있다면, 첫째날 초 하나를 밝히고, 나머지 두개를 둘째날 밝히고, 셋째날에 모든 초를 밝혀 3일동안 축하할 수 있다."
   ]
  },
  {
   "cell_type": "code",
   "execution_count": null,
   "id": "03f79cb9",
   "metadata": {},
   "outputs": [],
   "source": [
    "candles는 1개 이상, 50개 이하의 요소를 가진다.\n",
    "candles의 각 요소는 1 이상, 100 이하이다."
   ]
  },
  {
   "cell_type": "code",
   "execution_count": null,
   "id": "28af8d39",
   "metadata": {},
   "outputs": [],
   "source": [
    "candles = [2,2,2]\n",
    "리턴(정답): 3\n",
    "    \n",
    "candles = [2,2,2,4]\n",
    "리턴(정답): 4\n",
    "    \n",
    "candles = [5,2,2,1]\n",
    "리턴(정답): 3\n",
    "    \n",
    "candles = [1,2,3,4,5,6]\n",
    "리턴(정답): 6\n",
    "    \n",
    "candles = [4,5,2]\n",
    "리턴(정답): 3"
   ]
  },
  {
   "cell_type": "code",
   "execution_count": null,
   "id": "7ee7eada",
   "metadata": {},
   "outputs": [],
   "source": [
    "어떻게 해야 리턴이 나오는지 알아내었지만 알고리즘을 짜지 못하겠습니다."
   ]
  },
  {
   "cell_type": "code",
   "execution_count": null,
   "id": "da01c530",
   "metadata": {},
   "outputs": [],
   "source": [
    "팀원들아 같이풀자"
   ]
  },
  {
   "cell_type": "code",
   "execution_count": null,
   "id": "6a13462b",
   "metadata": {},
   "outputs": [],
   "source": []
  }
 ],
 "metadata": {
  "kernelspec": {
   "display_name": "Python 3 (ipykernel)",
   "language": "python",
   "name": "python3"
  },
  "language_info": {
   "codemirror_mode": {
    "name": "ipython",
    "version": 3
   },
   "file_extension": ".py",
   "mimetype": "text/x-python",
   "name": "python",
   "nbconvert_exporter": "python",
   "pygments_lexer": "ipython3",
   "version": "3.9.7"
  }
 },
 "nbformat": 4,
 "nbformat_minor": 5
}
