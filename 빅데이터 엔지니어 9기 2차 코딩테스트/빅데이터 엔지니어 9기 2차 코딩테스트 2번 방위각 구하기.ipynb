{
 "cells": [
  {
   "cell_type": "code",
   "execution_count": null,
   "id": "13a70145",
   "metadata": {},
   "outputs": [],
   "source": [
    "방위각 구하기"
   ]
  },
  {
   "cell_type": "code",
   "execution_count": null,
   "id": "b78f08e7",
   "metadata": {},
   "outputs": [],
   "source": [
    "문제 설명\n",
    "로봇이 평면 위에서 다음과 같은 명령을 받아서 움직이고 있다.\n",
    "LEFT – 왼쪽으로 90도 회전\n",
    "RIGHT – 오른쪽으로 90도 회전\n",
    "TURN AROUND – 반 바퀴 회전 (180도 회전)\n",
    "LEFT X – 왼쪽으로 X도 회전 (X는 양의 정수)\n",
    "RIGHT X – 오른쪽으로 X도 회전 (X는 양의 정수)\n",
    "HALT – 명령어를 수행 중지, 앞으로 모든 명령을 수행하지 않는다\n",
    "\n",
    "로봇의 명령어는 문자열의 배열 instructions 로 주어진다. 명령을 전부 수행 한 다음에 로봇의 방위각을 구하시오.\n",
    "(방위각은 북쪽을 기존으로 로봇이 바라보는 각도이며, 방위각은 시계방향으로 측정이 된다. 즉, 로봇이 서쪽을 바라보고 있다면 방위각은 270이 된다.)"
   ]
  },
  {
   "cell_type": "code",
   "execution_count": null,
   "id": "286b40e8",
   "metadata": {},
   "outputs": [],
   "source": [
    "참고 / 제약 사항\n",
    "명령어는 총 1개 이상, 50개 이하다.\n",
    "각 명령어는 위에 언급한대로 유효한 명령어다\n",
    "LEFT X, RIGHT X에서 1 <= X <= 179"
   ]
  },
  {
   "cell_type": "code",
   "execution_count": null,
   "id": "56d8dd5d",
   "metadata": {},
   "outputs": [],
   "source": [
    "테스트 케이스\n",
    "    instructions = [\"RIGHT\"]\n",
    "    리턴(정답): 90\n",
    "    \n",
    "    instructions = [\"LEFT\",\"LEFT\",\"TURN AROUND\"]\n",
    "    리턴(정답): 0"
   ]
  },
  {
   "cell_type": "code",
   "execution_count": null,
   "id": "676d42c0",
   "metadata": {},
   "outputs": [],
   "source": [
    "#핵심 소스코드의 설명을 주석으로 작성하면 평가에 큰 도움이 됩니다.\n",
    "class Solution:\n",
    "    def solution(self, instructions):\n",
    "        return 0"
   ]
  },
  {
   "cell_type": "code",
   "execution_count": null,
   "id": "741d69ee",
   "metadata": {},
   "outputs": [],
   "source": []
  },
  {
   "cell_type": "code",
   "execution_count": 12,
   "id": "8007424f",
   "metadata": {},
   "outputs": [
    {
     "data": {
      "text/plain": [
       "90"
      ]
     },
     "execution_count": 12,
     "metadata": {},
     "output_type": "execute_result"
    }
   ],
   "source": [
    "score = 0\n",
    "x = \"RIGHT\"\n",
    "if x == \"RIGHT\":\n",
    "    score += 90\n",
    "score"
   ]
  },
  {
   "cell_type": "code",
   "execution_count": 10,
   "id": "647d1ba2",
   "metadata": {},
   "outputs": [
    {
     "data": {
      "text/plain": [
       "5"
      ]
     },
     "execution_count": 10,
     "metadata": {},
     "output_type": "execute_result"
    }
   ],
   "source": [
    "score = 0\n",
    "x = \"RIGHT 5\"\n",
    "if x == \"RIGHT 5\":\n",
    "    score += 5\n",
    "score"
   ]
  },
  {
   "cell_type": "code",
   "execution_count": 24,
   "id": "681bb3a5",
   "metadata": {},
   "outputs": [
    {
     "data": {
      "text/plain": [
       "5"
      ]
     },
     "execution_count": 24,
     "metadata": {},
     "output_type": "execute_result"
    }
   ],
   "source": [
    "score = 0\n",
    "x = \"RIGHT 5\"\n",
    "if x[:5] == \"RIGHT\":\n",
    "    if x[]\n",
    "    score += int(x[6:])\n",
    "score"
   ]
  },
  {
   "cell_type": "code",
   "execution_count": 44,
   "id": "09787dc2",
   "metadata": {},
   "outputs": [
    {
     "data": {
      "text/plain": [
       "16"
      ]
     },
     "execution_count": 44,
     "metadata": {},
     "output_type": "execute_result"
    }
   ],
   "source": [
    "score = 0\n",
    "x = \"RIGHT 16\"\n",
    "if x[:5] == \"RIGHT\":\n",
    "    if len(x) == 5:\n",
    "        score +=90\n",
    "    else :\n",
    "        score += int(x[6:])\n",
    "score"
   ]
  },
  {
   "cell_type": "code",
   "execution_count": 46,
   "id": "409b4a5d",
   "metadata": {},
   "outputs": [
    {
     "data": {
      "text/plain": [
       "13"
      ]
     },
     "execution_count": 46,
     "metadata": {},
     "output_type": "execute_result"
    }
   ],
   "source": [
    "score = 0\n",
    "y = \"LEFT 13\"\n",
    "if y[:4] == \"LEFT\":\n",
    "    if len(y) == 4:\n",
    "        score +=90\n",
    "    else :\n",
    "        score += int(y[5:])\n",
    "score"
   ]
  },
  {
   "cell_type": "code",
   "execution_count": null,
   "id": "ba202946",
   "metadata": {},
   "outputs": [],
   "source": []
  },
  {
   "cell_type": "code",
   "execution_count": 43,
   "id": "d055d6ec",
   "metadata": {},
   "outputs": [
    {
     "data": {
      "text/plain": [
       "5"
      ]
     },
     "execution_count": 43,
     "metadata": {},
     "output_type": "execute_result"
    }
   ],
   "source": [
    "len(x)"
   ]
  },
  {
   "cell_type": "code",
   "execution_count": 22,
   "id": "dd67b066",
   "metadata": {},
   "outputs": [
    {
     "data": {
      "text/plain": [
       "'5'"
      ]
     },
     "execution_count": 22,
     "metadata": {},
     "output_type": "execute_result"
    }
   ],
   "source": [
    "x[6:]"
   ]
  },
  {
   "cell_type": "code",
   "execution_count": null,
   "id": "dd6bce5a",
   "metadata": {},
   "outputs": [],
   "source": []
  },
  {
   "cell_type": "code",
   "execution_count": 48,
   "id": "bd9bc00b",
   "metadata": {},
   "outputs": [
    {
     "data": {
      "text/plain": [
       "99"
      ]
     },
     "execution_count": 48,
     "metadata": {},
     "output_type": "execute_result"
    }
   ],
   "source": [
    "abs(-99)"
   ]
  },
  {
   "cell_type": "markdown",
   "id": "2259c3aa",
   "metadata": {},
   "source": [
    "## 제출"
   ]
  },
  {
   "cell_type": "code",
   "execution_count": 47,
   "id": "b97ceda7",
   "metadata": {},
   "outputs": [],
   "source": [
    "# 우선 문제를 읽고 왼쪽으로가면 마이너스, 오른쪽으로가면 플러스 해서 구해야겠다 생각했습니다.\n",
    "class Solution:\n",
    "    def solution(self, instructions):\n",
    "        score=0                                         # score 라는 변수를 만들었습니다. 여기에 점수를 넣으려고 합니다.\n",
    "        for x in instructions:                          #instructions을 x에 넣어줬습니다.\n",
    "            if x[:5] == \"RIGHT\":                        # x에 5까지의 글자가 RIGHT면 실행합니다\n",
    "                if len(x) == 5:                         # x가 RIGHT일때를 생각했습니다.\n",
    "                    score +=90                          # x가 RIGHT 만 있을때 90을 더해줍니다.\n",
    "                else :                                  \n",
    "                    score += int(x[6:])                 # x가 RIGHT와 숫자가 같이 있을때 RIGHT뒤에있는 숫자를 score에 합산합니다.\n",
    "            elif x[:4] == \"LEFT\":                       # RIGHT와 같은 방법으로 LEFT일때 진행합니다.\n",
    "                if len(x) == 4:\n",
    "                    score -=90\n",
    "                else :\n",
    "                    score -= int(x[5:])                 # 처음 생각과 같이 LEFT일때 score 값에 마이너스 해주었습니다\n",
    "            elif x == \"TURN AROUND\":                    # TURN AROUND일때 180 더해줬습니다.\n",
    "                score +=180\n",
    "            elif x == \"HALT\":                           # HALT일때 for문을 탈출시킵니다.\n",
    "                break \n",
    "        if score < 0:                                   # score가 음수일때 360에서 그만큼 서쪽을 본것처럼 만들었습니다.\n",
    "            return (360+score)%360\n",
    "        else :                                          # 음수가 아니라면 스코어에서 360을 나눈 나머지를 리턴합니다.\n",
    "            return score%360                "
   ]
  },
  {
   "cell_type": "code",
   "execution_count": 51,
   "id": "d543ea9f",
   "metadata": {},
   "outputs": [
    {
     "data": {
      "text/plain": [
       "205"
      ]
     },
     "execution_count": 51,
     "metadata": {},
     "output_type": "execute_result"
    }
   ],
   "source": [
    "925 % 360"
   ]
  },
  {
   "cell_type": "code",
   "execution_count": 50,
   "id": "b27f0818",
   "metadata": {},
   "outputs": [
    {
     "data": {
      "text/plain": [
       "188"
      ]
     },
     "execution_count": 50,
     "metadata": {},
     "output_type": "execute_result"
    }
   ],
   "source": [
    "548-360"
   ]
  },
  {
   "cell_type": "code",
   "execution_count": 53,
   "id": "fb50de74",
   "metadata": {},
   "outputs": [
    {
     "data": {
      "text/plain": [
       "246"
      ]
     },
     "execution_count": 53,
     "metadata": {},
     "output_type": "execute_result"
    }
   ],
   "source": [
    "abs(-966)%360"
   ]
  },
  {
   "cell_type": "code",
   "execution_count": null,
   "id": "56e7459c",
   "metadata": {},
   "outputs": [],
   "source": []
  },
  {
   "cell_type": "code",
   "execution_count": null,
   "id": "ebe3455e",
   "metadata": {},
   "outputs": [],
   "source": []
  },
  {
   "cell_type": "code",
   "execution_count": null,
   "id": "b70abc33",
   "metadata": {},
   "outputs": [],
   "source": []
  },
  {
   "cell_type": "code",
   "execution_count": null,
   "id": "574de15a",
   "metadata": {},
   "outputs": [],
   "source": []
  }
 ],
 "metadata": {
  "kernelspec": {
   "display_name": "Python 3 (ipykernel)",
   "language": "python",
   "name": "python3"
  },
  "language_info": {
   "codemirror_mode": {
    "name": "ipython",
    "version": 3
   },
   "file_extension": ".py",
   "mimetype": "text/x-python",
   "name": "python",
   "nbconvert_exporter": "python",
   "pygments_lexer": "ipython3",
   "version": "3.9.7"
  }
 },
 "nbformat": 4,
 "nbformat_minor": 5
}
