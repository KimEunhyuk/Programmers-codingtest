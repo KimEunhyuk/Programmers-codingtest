{
 "cells": [
  {
   "cell_type": "code",
   "execution_count": null,
   "id": "e21ec813",
   "metadata": {},
   "outputs": [],
   "source": [
    "#핵심 소스코드의 설명을 주석으로 작성하면 평가에 큰 도움이 됩니다.\n",
    "class Solution:\n",
    "    def solution(self, code, message):\n",
    "        return 0"
   ]
  },
  {
   "cell_type": "markdown",
   "id": "cb0d0d0a",
   "metadata": {},
   "source": [
    "문제 설명\n",
    "당신에게 적군의 코드를 해석하라는 비밀 미션이 주어졌다. 당신은 그들이 메세지를 다음과 같은 방법으로 암호화한다는 것을 이미 알아냈다. 'a'와 'z'사이의 알파벳을 두자리수 01과 26 사이의 숫자에 할당한다. 메세지는 각 알파벳을 할당된 숫자로 변환하여 암호화된다. 예를 들어, 't'는 20에 할당되고, 'e'는 05에 할당되고, 's'는 19에 할당되어 \"test\"는 \"20051920\"으로 암호화된다. 모든 원본 메세지는 소문자만으로 구성되어 있다.\n",
    "\n",
    "주어진 code에는 숫자와 문자의 할당이 나타나 있다. 첫번째 문자는 01에 할당되고, 두번째 문자는 02에 할당되는 식으로 26까지 이어진다. 또한 주어진 message에는 암호화되지 않은 원본 메세지 혹은 암호화된 메시지가 있다. 만약 원본 메세지가 주어졌다면 메세지를 암호화하여 반환하고, 암호화된 메세지가 주어졌다면 원본 메세지를 반환하라."
   ]
  },
  {
   "cell_type": "markdown",
   "id": "b73db61c",
   "metadata": {},
   "source": [
    "참고 / 제약 사항\n",
    "* code는 정확히 26개의 문자를 가진다.\n",
    "* 'a'에서부터 'z'까지의 소문자는 code에 정확히 한번만 나타난다.\n",
    "* message는 최소 1개, 최대 50개의 문자를 가진다.\n",
    "* message는 오직 소문자만을 가지거나 ('a'-'z') 혹은 오직 숫자만을 가진다 ('0'-'9').\n",
    "* 만약 message가 오직 숫자만으로 구성되어있다면, 이는 01부터 26까지의 두자리 숫자의 연속적인 결합이다."
   ]
  },
  {
   "cell_type": "markdown",
   "id": "7c841d0d",
   "metadata": {},
   "source": [
    "테스트 케이스"
   ]
  },
  {
   "cell_type": "markdown",
   "id": "00c785de",
   "metadata": {},
   "source": [
    "* code = \"abcdefghijklmnopqrstuvwxyz\"\n",
    "* message = \"test\"\n",
    "* 리턴(정답): \"20051920\""
   ]
  },
  {
   "cell_type": "markdown",
   "id": "efa3860c",
   "metadata": {},
   "source": [
    "* code = \"abcdefghijklmnopqrstuvwxyz\"\n",
    "* message = \"20051920\"\n",
    "* 리턴(정답): \"test\""
   ]
  },
  {
   "cell_type": "code",
   "execution_count": null,
   "id": "acf2e5bf",
   "metadata": {},
   "outputs": [],
   "source": [
    "a b c d e f g h i j k l m n o p q r s t u v w x y z"
   ]
  },
  {
   "cell_type": "code",
   "execution_count": 1,
   "id": "1f258bb2",
   "metadata": {},
   "outputs": [],
   "source": [
    "alphabet = [\"a\",\"b\",\"c\",\"d\",\"e\",\"f\",\"g\",\"h\",\"i\",\"j\",\"k\",\"l\",\"m\",\"n\",\"o\",\"p\",\"q\",\"r\",\"s\",\"t\",\"u\",\"v\",\"w\",\"x\",\"y\",\"z\"]"
   ]
  },
  {
   "cell_type": "code",
   "execution_count": 176,
   "id": "71cfb2be",
   "metadata": {},
   "outputs": [],
   "source": [
    "code = \"abcdefghijklmnopqrstuvwxyz\""
   ]
  },
  {
   "cell_type": "code",
   "execution_count": 177,
   "id": "78c17f0f",
   "metadata": {},
   "outputs": [
    {
     "data": {
      "text/plain": [
       "['a',\n",
       " 'b',\n",
       " 'c',\n",
       " 'd',\n",
       " 'e',\n",
       " 'f',\n",
       " 'g',\n",
       " 'h',\n",
       " 'i',\n",
       " 'j',\n",
       " 'k',\n",
       " 'l',\n",
       " 'm',\n",
       " 'n',\n",
       " 'o',\n",
       " 'p',\n",
       " 'q',\n",
       " 'r',\n",
       " 's',\n",
       " 't',\n",
       " 'u',\n",
       " 'v',\n",
       " 'w',\n",
       " 'x',\n",
       " 'y',\n",
       " 'z']"
      ]
     },
     "execution_count": 177,
     "metadata": {},
     "output_type": "execute_result"
    }
   ],
   "source": [
    "list(code)"
   ]
  },
  {
   "cell_type": "code",
   "execution_count": 2,
   "id": "c9559fb3",
   "metadata": {},
   "outputs": [
    {
     "data": {
      "text/plain": [
       "26"
      ]
     },
     "execution_count": 2,
     "metadata": {},
     "output_type": "execute_result"
    }
   ],
   "source": [
    "len(alphabet)"
   ]
  },
  {
   "cell_type": "code",
   "execution_count": 37,
   "id": "68c42c35",
   "metadata": {},
   "outputs": [
    {
     "ename": "SyntaxError",
     "evalue": "invalid syntax (Temp/ipykernel_19368/3411757493.py, line 4)",
     "output_type": "error",
     "traceback": [
      "\u001b[1;36m  File \u001b[1;32m\"C:\\Users\\82103\\AppData\\Local\\Temp/ipykernel_19368/3411757493.py\"\u001b[1;36m, line \u001b[1;32m4\u001b[0m\n\u001b[1;33m    number_alphabet.append(str(x+1).zfill(2) : y)\u001b[0m\n\u001b[1;37m                                             ^\u001b[0m\n\u001b[1;31mSyntaxError\u001b[0m\u001b[1;31m:\u001b[0m invalid syntax\n"
     ]
    }
   ],
   "source": [
    "number_alphabet = {}\n",
    "for x, y in zip(range(26), alphabet):\n",
    "    print(str(x+1).zfill(2), y)\n",
    "    number_alphabet.append(str(x+1).zfill(2) : y)"
   ]
  },
  {
   "cell_type": "code",
   "execution_count": 47,
   "id": "93fd3516",
   "metadata": {},
   "outputs": [],
   "source": [
    "number_alphabet = { str(x+1).zfill(2):y for x,y in zip(range(26), alphabet)}"
   ]
  },
  {
   "cell_type": "code",
   "execution_count": 48,
   "id": "e4781f20",
   "metadata": {},
   "outputs": [
    {
     "data": {
      "text/plain": [
       "{'01': 'a',\n",
       " '02': 'b',\n",
       " '03': 'c',\n",
       " '04': 'd',\n",
       " '05': 'e',\n",
       " '06': 'f',\n",
       " '07': 'g',\n",
       " '08': 'h',\n",
       " '09': 'i',\n",
       " '10': 'j',\n",
       " '11': 'k',\n",
       " '12': 'l',\n",
       " '13': 'm',\n",
       " '14': 'n',\n",
       " '15': 'o',\n",
       " '16': 'p',\n",
       " '17': 'q',\n",
       " '18': 'r',\n",
       " '19': 's',\n",
       " '20': 't',\n",
       " '21': 'u',\n",
       " '22': 'v',\n",
       " '23': 'w',\n",
       " '24': 'x',\n",
       " '25': 'y',\n",
       " '26': 'z'}"
      ]
     },
     "execution_count": 48,
     "metadata": {},
     "output_type": "execute_result"
    }
   ],
   "source": [
    "number_alphabet"
   ]
  },
  {
   "cell_type": "code",
   "execution_count": 56,
   "id": "d579bbb5",
   "metadata": {},
   "outputs": [
    {
     "data": {
      "text/plain": [
       "dict_values(['a', 'b', 'c', 'd', 'e', 'f', 'g', 'h', 'i', 'j', 'k', 'l', 'm', 'n', 'o', 'p', 'q', 'r', 's', 't', 'u', 'v', 'w', 'x', 'y', 'z'])"
      ]
     },
     "execution_count": 56,
     "metadata": {},
     "output_type": "execute_result"
    }
   ],
   "source": [
    "number_alphabet.values()"
   ]
  },
  {
   "cell_type": "code",
   "execution_count": 68,
   "id": "a72a62df",
   "metadata": {},
   "outputs": [
    {
     "data": {
      "text/plain": [
       "dict_keys(['01', '02', '03', '04', '05', '06', '07', '08', '09', '10', '11', '12', '13', '14', '15', '16', '17', '18', '19', '20', '21', '22', '23', '24', '25', '26'])"
      ]
     },
     "execution_count": 68,
     "metadata": {},
     "output_type": "execute_result"
    }
   ],
   "source": [
    "number_alphabet.keys()"
   ]
  },
  {
   "cell_type": "code",
   "execution_count": 76,
   "id": "9ed1f890",
   "metadata": {},
   "outputs": [
    {
     "data": {
      "text/plain": [
       "'a'"
      ]
     },
     "execution_count": 76,
     "metadata": {},
     "output_type": "execute_result"
    }
   ],
   "source": [
    "number_alphabet.get('01')"
   ]
  },
  {
   "cell_type": "code",
   "execution_count": 74,
   "id": "213ae4bb",
   "metadata": {},
   "outputs": [],
   "source": [
    "number_alphabet.get('a')"
   ]
  },
  {
   "cell_type": "code",
   "execution_count": 80,
   "id": "080fce01",
   "metadata": {},
   "outputs": [
    {
     "ename": "KeyError",
     "evalue": "'a'",
     "output_type": "error",
     "traceback": [
      "\u001b[1;31m---------------------------------------------------------------------------\u001b[0m",
      "\u001b[1;31mKeyError\u001b[0m                                  Traceback (most recent call last)",
      "\u001b[1;32m~\\AppData\\Local\\Temp/ipykernel_19368/1060227338.py\u001b[0m in \u001b[0;36m<module>\u001b[1;34m\u001b[0m\n\u001b[1;32m----> 1\u001b[1;33m \u001b[0mnumber_alphabet\u001b[0m\u001b[1;33m[\u001b[0m\u001b[1;34m'a'\u001b[0m\u001b[1;33m]\u001b[0m\u001b[1;33m\u001b[0m\u001b[1;33m\u001b[0m\u001b[0m\n\u001b[0m",
      "\u001b[1;31mKeyError\u001b[0m: 'a'"
     ]
    }
   ],
   "source": [
    "number_alphabet['a']"
   ]
  },
  {
   "cell_type": "code",
   "execution_count": 79,
   "id": "2e532c85",
   "metadata": {},
   "outputs": [
    {
     "name": "stdout",
     "output_type": "stream",
     "text": [
      "a\n",
      "b\n",
      "c\n",
      "d\n",
      "e\n",
      "f\n",
      "g\n",
      "h\n",
      "i\n",
      "j\n",
      "k\n",
      "l\n",
      "m\n",
      "n\n",
      "o\n",
      "p\n",
      "q\n",
      "r\n",
      "s\n",
      "t\n",
      "u\n",
      "v\n",
      "w\n",
      "x\n",
      "y\n",
      "z\n"
     ]
    }
   ],
   "source": [
    "for x in list(number_alphabet.keys()):\n",
    "    print(number_alphabet.get(x))"
   ]
  },
  {
   "cell_type": "code",
   "execution_count": 81,
   "id": "a076e6f6",
   "metadata": {},
   "outputs": [
    {
     "data": {
      "text/plain": [
       "dict_items([('01', 'a'), ('02', 'b'), ('03', 'c'), ('04', 'd'), ('05', 'e'), ('06', 'f'), ('07', 'g'), ('08', 'h'), ('09', 'i'), ('10', 'j'), ('11', 'k'), ('12', 'l'), ('13', 'm'), ('14', 'n'), ('15', 'o'), ('16', 'p'), ('17', 'q'), ('18', 'r'), ('19', 's'), ('20', 't'), ('21', 'u'), ('22', 'v'), ('23', 'w'), ('24', 'x'), ('25', 'y'), ('26', 'z')])"
      ]
     },
     "execution_count": 81,
     "metadata": {},
     "output_type": "execute_result"
    }
   ],
   "source": [
    "number_alphabet.items()"
   ]
  },
  {
   "cell_type": "code",
   "execution_count": 86,
   "id": "30e4b045",
   "metadata": {},
   "outputs": [
    {
     "name": "stdout",
     "output_type": "stream",
     "text": [
      "01\n"
     ]
    }
   ],
   "source": [
    "for key, value in number_alphabet.items():\n",
    "    if value == 'a':\n",
    "        print(key)"
   ]
  },
  {
   "cell_type": "code",
   "execution_count": 97,
   "id": "f4637c10",
   "metadata": {},
   "outputs": [],
   "source": [
    "alphabet_number= dict(map(reversed,number_alphabet.items()))"
   ]
  },
  {
   "cell_type": "code",
   "execution_count": 105,
   "id": "24750d21",
   "metadata": {},
   "outputs": [
    {
     "data": {
      "text/plain": [
       "{'a': '01',\n",
       " 'b': '02',\n",
       " 'c': '03',\n",
       " 'd': '04',\n",
       " 'e': '05',\n",
       " 'f': '06',\n",
       " 'g': '07',\n",
       " 'h': '08',\n",
       " 'i': '09',\n",
       " 'j': '10',\n",
       " 'k': '11',\n",
       " 'l': '12',\n",
       " 'm': '13',\n",
       " 'n': '14',\n",
       " 'o': '15',\n",
       " 'p': '16',\n",
       " 'q': '17',\n",
       " 'r': '18',\n",
       " 's': '19',\n",
       " 't': '20',\n",
       " 'u': '21',\n",
       " 'v': '22',\n",
       " 'w': '23',\n",
       " 'x': '24',\n",
       " 'y': '25',\n",
       " 'z': '26'}"
      ]
     },
     "execution_count": 105,
     "metadata": {},
     "output_type": "execute_result"
    }
   ],
   "source": [
    "alphabet_number"
   ]
  },
  {
   "cell_type": "code",
   "execution_count": 101,
   "id": "784cdfc2",
   "metadata": {},
   "outputs": [
    {
     "data": {
      "text/plain": [
       "'01'"
      ]
     },
     "execution_count": 101,
     "metadata": {},
     "output_type": "execute_result"
    }
   ],
   "source": [
    "alphabet_number.get('a')"
   ]
  },
  {
   "cell_type": "code",
   "execution_count": 107,
   "id": "9c3d3bb9",
   "metadata": {},
   "outputs": [
    {
     "name": "stdout",
     "output_type": "stream",
     "text": [
      "01\n",
      "02\n",
      "03\n",
      "04\n",
      "05\n",
      "06\n",
      "07\n",
      "08\n",
      "09\n",
      "10\n",
      "11\n",
      "12\n",
      "13\n",
      "14\n",
      "15\n",
      "16\n",
      "17\n",
      "18\n",
      "19\n",
      "20\n",
      "21\n",
      "22\n",
      "23\n",
      "24\n",
      "25\n",
      "26\n"
     ]
    }
   ],
   "source": [
    "for al in alphabet:\n",
    "    print(alphabet_number.get(al))"
   ]
  },
  {
   "cell_type": "code",
   "execution_count": 108,
   "id": "f548a992",
   "metadata": {},
   "outputs": [],
   "source": [
    "message = \"test\""
   ]
  },
  {
   "cell_type": "code",
   "execution_count": 109,
   "id": "98f6b414",
   "metadata": {},
   "outputs": [
    {
     "data": {
      "text/plain": [
       "['t', 'e', 's', 't']"
      ]
     },
     "execution_count": 109,
     "metadata": {},
     "output_type": "execute_result"
    }
   ],
   "source": [
    "list(message)"
   ]
  },
  {
   "cell_type": "code",
   "execution_count": 112,
   "id": "21e71253",
   "metadata": {},
   "outputs": [
    {
     "name": "stdout",
     "output_type": "stream",
     "text": [
      "20\n",
      "05\n",
      "19\n",
      "20\n"
     ]
    },
    {
     "data": {
      "text/plain": [
       "['20', '05', '19', '20']"
      ]
     },
     "execution_count": 112,
     "metadata": {},
     "output_type": "execute_result"
    }
   ],
   "source": [
    "list_message = []\n",
    "for al in list(message):\n",
    "    print(alphabet_number.get(al))\n",
    "    list_message.append(alphabet_number.get(al))\n",
    "list_message"
   ]
  },
  {
   "cell_type": "code",
   "execution_count": 119,
   "id": "2718245a",
   "metadata": {},
   "outputs": [
    {
     "data": {
      "text/plain": [
       "'20051920'"
      ]
     },
     "execution_count": 119,
     "metadata": {},
     "output_type": "execute_result"
    }
   ],
   "source": [
    "\"\".join(list_message)"
   ]
  },
  {
   "cell_type": "code",
   "execution_count": 120,
   "id": "e11710d1",
   "metadata": {},
   "outputs": [],
   "source": [
    "message1 = \"20051920\""
   ]
  },
  {
   "cell_type": "code",
   "execution_count": 130,
   "id": "e1b1f0f5",
   "metadata": {},
   "outputs": [
    {
     "data": {
      "text/plain": [
       "['2', '0', '0', '5', '1', '9', '2', '0']"
      ]
     },
     "execution_count": 130,
     "metadata": {},
     "output_type": "execute_result"
    }
   ],
   "source": [
    "list(message1)"
   ]
  },
  {
   "cell_type": "code",
   "execution_count": 166,
   "id": "8862efb1",
   "metadata": {},
   "outputs": [
    {
     "data": {
      "text/plain": [
       "'20'"
      ]
     },
     "execution_count": 166,
     "metadata": {},
     "output_type": "execute_result"
    }
   ],
   "source": [
    "\"\".join(list(message1)[0:2])"
   ]
  },
  {
   "cell_type": "code",
   "execution_count": 121,
   "id": "6284c7c0",
   "metadata": {},
   "outputs": [
    {
     "name": "stdout",
     "output_type": "stream",
     "text": [
      "None\n",
      "None\n",
      "None\n",
      "None\n",
      "None\n",
      "None\n",
      "None\n",
      "None\n"
     ]
    },
    {
     "data": {
      "text/plain": [
       "[None, None, None, None, None, None, None, None]"
      ]
     },
     "execution_count": 121,
     "metadata": {},
     "output_type": "execute_result"
    }
   ],
   "source": [
    "list_message1 = []\n",
    "for al in list(message1):\n",
    "    print(number_alphabet.get(al))\n",
    "    list_message1.append(number_alphabet.get(al))\n",
    "list_message1"
   ]
  },
  {
   "cell_type": "code",
   "execution_count": 139,
   "id": "5bde7f6f",
   "metadata": {},
   "outputs": [],
   "source": [
    "asdfasdf = []\n",
    "for x in range(20):\n",
    "    asdfasdf.append(x*2)"
   ]
  },
  {
   "cell_type": "code",
   "execution_count": 140,
   "id": "e1a82be5",
   "metadata": {},
   "outputs": [
    {
     "data": {
      "text/plain": [
       "[0, 2, 4, 6, 8, 10, 12, 14, 16, 18, 20, 22, 24, 26, 28, 30, 32, 34, 36, 38]"
      ]
     },
     "execution_count": 140,
     "metadata": {},
     "output_type": "execute_result"
    }
   ],
   "source": [
    "asdfasdf"
   ]
  },
  {
   "cell_type": "code",
   "execution_count": 141,
   "id": "eb5ed3e7",
   "metadata": {},
   "outputs": [
    {
     "data": {
      "text/plain": [
       "'t'"
      ]
     },
     "execution_count": 141,
     "metadata": {},
     "output_type": "execute_result"
    }
   ],
   "source": [
    "number_alphabet.get('20')"
   ]
  },
  {
   "cell_type": "code",
   "execution_count": null,
   "id": "2aa6817e",
   "metadata": {},
   "outputs": [],
   "source": [
    "for al in "
   ]
  },
  {
   "cell_type": "code",
   "execution_count": 162,
   "id": "b34b4dea",
   "metadata": {},
   "outputs": [
    {
     "name": "stdout",
     "output_type": "stream",
     "text": [
      "0\n",
      "2\n",
      "4\n",
      "6\n"
     ]
    }
   ],
   "source": [
    "even_m = range(int(len(message1)/2))\n",
    "for x in even_m:\n",
    "    print(x*2)"
   ]
  },
  {
   "cell_type": "code",
   "execution_count": 161,
   "id": "c65b8337",
   "metadata": {},
   "outputs": [
    {
     "data": {
      "text/plain": [
       "range(0, 4)"
      ]
     },
     "execution_count": 161,
     "metadata": {},
     "output_type": "execute_result"
    }
   ],
   "source": [
    "range(int(len(message1)/2))"
   ]
  },
  {
   "cell_type": "code",
   "execution_count": 168,
   "id": "f537b7eb",
   "metadata": {},
   "outputs": [
    {
     "data": {
      "text/plain": [
       "2"
      ]
     },
     "execution_count": 168,
     "metadata": {},
     "output_type": "execute_result"
    }
   ],
   "source": [
    "(0+1)*2"
   ]
  },
  {
   "cell_type": "code",
   "execution_count": 170,
   "id": "754c6176",
   "metadata": {},
   "outputs": [],
   "source": [
    "even_m = range(int(len(message1)/2))\n",
    "list_message1 = []\n",
    "for x in even_m:\n",
    "    message1_2 = \"\".join(list(message1)[x*2:(x+1)*2])\n",
    "    list_message1.append(number_alphabet.get(message1_2))"
   ]
  },
  {
   "cell_type": "code",
   "execution_count": 172,
   "id": "44f6e246",
   "metadata": {},
   "outputs": [
    {
     "data": {
      "text/plain": [
       "'test'"
      ]
     },
     "execution_count": 172,
     "metadata": {},
     "output_type": "execute_result"
    }
   ],
   "source": [
    "\"\".join(list_message1)"
   ]
  },
  {
   "cell_type": "code",
   "execution_count": null,
   "id": "151a17c2",
   "metadata": {},
   "outputs": [],
   "source": [
    "list_message = []\n",
    "for al in list(message):\n",
    "    print(alphabet_number.get(al))\n",
    "    list_message.append(alphabet_number.get(al))\n",
    "list_message"
   ]
  },
  {
   "cell_type": "code",
   "execution_count": null,
   "id": "fe427394",
   "metadata": {},
   "outputs": [],
   "source": []
  },
  {
   "cell_type": "code",
   "execution_count": 175,
   "id": "53b35804",
   "metadata": {},
   "outputs": [
    {
     "data": {
      "text/plain": [
       "True"
      ]
     },
     "execution_count": 175,
     "metadata": {},
     "output_type": "execute_result"
    }
   ],
   "source": [
    "message.isalpha()"
   ]
  },
  {
   "cell_type": "code",
   "execution_count": null,
   "id": "fafaacb5",
   "metadata": {},
   "outputs": [],
   "source": [
    "class Solution:\n",
    "    def solution(self, code, message):\n",
    "        if \n",
    "        return 0"
   ]
  },
  {
   "cell_type": "code",
   "execution_count": 178,
   "id": "eed22ceb",
   "metadata": {},
   "outputs": [
    {
     "data": {
      "text/plain": [
       "False"
      ]
     },
     "execution_count": 178,
     "metadata": {},
     "output_type": "execute_result"
    }
   ],
   "source": [
    "message1.isalpha()"
   ]
  },
  {
   "cell_type": "code",
   "execution_count": 179,
   "id": "d49f3886",
   "metadata": {},
   "outputs": [],
   "source": [
    "class Solution:\n",
    "    def solution(self, code, message):\n",
    "        number_alphabet = {str(x+1).zfill(2):y for x,y in zip(range(26), list(code))}\n",
    "        alphabet_number= dict(map(reversed,number_alphabet.items()))\n",
    "        if message.isalpha() :\n",
    "            list_message = []\n",
    "            for al in list(message):\n",
    "                list_message.append(alphabet_number.get(al))\n",
    "            return list_message\n",
    "        else :\n",
    "            even_m = range(int(len(message)/2))\n",
    "            list_message = []\n",
    "            for x in even_m:\n",
    "                message_2 = \"\".join(list(message)[x*2:(x+1)*2])\n",
    "                list_message.append(number_alphabet.get(message_2))\n",
    "            return \"\".join(list_message)"
   ]
  },
  {
   "cell_type": "code",
   "execution_count": 184,
   "id": "f42c1aba",
   "metadata": {},
   "outputs": [
    {
     "ename": "NameError",
     "evalue": "name 'self' is not defined",
     "output_type": "error",
     "traceback": [
      "\u001b[1;31m---------------------------------------------------------------------------\u001b[0m",
      "\u001b[1;31mNameError\u001b[0m                                 Traceback (most recent call last)",
      "\u001b[1;32m~\\AppData\\Local\\Temp/ipykernel_19368/494661102.py\u001b[0m in \u001b[0;36m<module>\u001b[1;34m\u001b[0m\n\u001b[1;32m----> 1\u001b[1;33m \u001b[0mSolution\u001b[0m\u001b[1;33m.\u001b[0m\u001b[0msolution\u001b[0m\u001b[1;33m(\u001b[0m\u001b[0mself\u001b[0m\u001b[1;33m,\u001b[0m \u001b[1;34m\"abcdefghijklmnopqrstuvwxyz\"\u001b[0m\u001b[1;33m,\u001b[0m \u001b[1;34m\"test\"\u001b[0m\u001b[1;33m)\u001b[0m\u001b[1;33m\u001b[0m\u001b[1;33m\u001b[0m\u001b[0m\n\u001b[0m",
      "\u001b[1;31mNameError\u001b[0m: name 'self' is not defined"
     ]
    }
   ],
   "source": [
    "Solution.solution(self, \"abcdefghijklmnopqrstuvwxyz\", \"test\")"
   ]
  },
  {
   "cell_type": "markdown",
   "id": "b71d98e9",
   "metadata": {},
   "source": [
    "## 제출"
   ]
  },
  {
   "cell_type": "code",
   "execution_count": null,
   "id": "bda13e6a",
   "metadata": {},
   "outputs": [],
   "source": [
    "class Solution:\n",
    "    def solution(self, code, message):\n",
    "        number_alphabet = {str(x+1).zfill(2):y for x,y in zip(range(26), list(code))}   # 숫자가 1이면 01로 채워지기때문에 zfill(2)로 두자릿수를 만들어주었고 01~26과 code를 맵핑 하였습니다.\n",
    "        alphabet_number= dict(map(reversed,number_alphabet.items()))    # dic에서 key로 value를 가져오는게 쉬운방법이었습니다 test가 영어일때, 숫자일때가 있기때문에 키와 밸류를 바꾸었습니다.\n",
    "        if message.isalpha() : # message가 알파벳이면\n",
    "            list_message = []\n",
    "            for al in list(message):\n",
    "                list_message.append(alphabet_number.get(al))    # message의 알파벳에 해당하는 숫자를 list에 담았습니다\n",
    "            return \"\".join(list_message)    # 리턴은 str이기때문에 리스트를 str으로 바꾸었습니다.\n",
    "        else :  # message가 숫자일때 방법은 동일합니다\n",
    "            even_m = range(int(len(message)/2))     # 밑에서 2배인 숫자를 사용하기위해 2로 나누었습니다\n",
    "            list_message = []\n",
    "            for x in even_m:\n",
    "                message_2 = \"\".join(list(message)[x*2:(x+1)*2])     # 숫자가 01,26 처럼 두자릿수이기때문에 list[0:2], list[2:4] 처럼 두개를 사용하고싶어 이렇게 했습니다.\n",
    "                list_message.append(number_alphabet.get(message_2))\n",
    "            return \"\".join(list_message)    # if문과 동일한 방법으로 답을 구했습니다.\n",
    "            \n",
    "            "
   ]
  }
 ],
 "metadata": {
  "kernelspec": {
   "display_name": "Python 3 (ipykernel)",
   "language": "python",
   "name": "python3"
  },
  "language_info": {
   "codemirror_mode": {
    "name": "ipython",
    "version": 3
   },
   "file_extension": ".py",
   "mimetype": "text/x-python",
   "name": "python",
   "nbconvert_exporter": "python",
   "pygments_lexer": "ipython3",
   "version": "3.9.7"
  }
 },
 "nbformat": 4,
 "nbformat_minor": 5
}
