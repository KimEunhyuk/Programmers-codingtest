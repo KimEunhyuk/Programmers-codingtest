{
 "cells": [
  {
   "cell_type": "markdown",
   "id": "73a70b70",
   "metadata": {},
   "source": [
    "다음과 같은 숫자로 이루어진 삼각형이 있다. <br>\n",
    "\n",
    "74932<br>\n",
    "1325<br>\n",
    "457<br>\n",
    "92<br>\n",
    "1<br>\n",
    "가장 위의 행에 있는 숫자들을 제외하고, 각 숫자는 위와 오른쪽위에 있는 숫자의 합의 마<br>지막 자리수이다."
   ]
  },
  {
   "cell_type": "markdown",
   "id": "dea326f2",
   "metadata": {},
   "source": [
    "vector<string> tri에 숫자와 함께 알 수 없는 숫자 ? 가 주어 진다. <br>\n",
    "(명확한 설명을 위해 예제 1을 참조하라). <br>\n",
    "tri의 각 요소는 삼각형의 행을 의미하며 가장 위의 행부터 아래의 순서로 주어진다. <br>\n",
    "각 요소는 정확히 한자리 숫자만을 ('0' - '9') 포함하며 나머지 문자는 모두 '?'이다. <br>\n",
    "삼각형을 복원시켜 '?'가 없는 문자열 배열을 반환하여라."
   ]
  },
  {
   "cell_type": "markdown",
   "id": "c8d76421",
   "metadata": {},
   "source": [
    "tri은 1개 이상, 50개 이하의 요소를 가진다.<br>\n",
    "(0을 기준으로) tri의 i번째 요소는 정확히 n-i개의 문자를 가진다. 이 때, n은 tri의 요소의 개수이다.<br>\n",
    "tri의 각 요소는 정확히 하나의 숫자만을 ('0'-'9') 가지며 나머지 문자는 모두 '?'이다."
   ]
  },
  {
   "cell_type": "markdown",
   "id": "0bae11d9",
   "metadata": {},
   "source": [
    "1.<br>\n",
    "vector<string> tri = [\"4??\",\"?2\",\"1\"]<br>\n",
    "리턴(정답): [\"457\",\"92\",\"1\"]<br>\n",
    "    \n",
    "2.\n",
    "vector<string> tri = [\"1\"]<br>\n",
    "리턴(정답): [\"1\"]<br>"
   ]
  },
  {
   "cell_type": "markdown",
   "id": "11713d63",
   "metadata": {},
   "source": [
    "74932,1325,457,92,1"
   ]
  },
  {
   "cell_type": "code",
   "execution_count": null,
   "id": "935c4503",
   "metadata": {},
   "outputs": [],
   "source": [
    "for x in [\"4??\",\"?2\",\"1\"]:\n",
    "    x"
   ]
  },
  {
   "cell_type": "code",
   "execution_count": 109,
   "id": "632bc252",
   "metadata": {},
   "outputs": [],
   "source": [
    "test_tri = [\"4??\",\"?2\",\"1\"]"
   ]
  },
  {
   "cell_type": "code",
   "execution_count": 10,
   "id": "2dd2151d",
   "metadata": {},
   "outputs": [
    {
     "data": {
      "text/plain": [
       "3"
      ]
     },
     "execution_count": 10,
     "metadata": {},
     "output_type": "execute_result"
    }
   ],
   "source": [
    "len(test_tri[0])"
   ]
  },
  {
   "cell_type": "code",
   "execution_count": 17,
   "id": "1884405e",
   "metadata": {},
   "outputs": [
    {
     "data": {
      "text/plain": [
       "'?'"
      ]
     },
     "execution_count": 17,
     "metadata": {},
     "output_type": "execute_result"
    }
   ],
   "source": [
    "test_tri[0][-len(test_tri[0])+1]"
   ]
  },
  {
   "cell_type": "code",
   "execution_count": 18,
   "id": "84b7da9d",
   "metadata": {
    "scrolled": true
   },
   "outputs": [
    {
     "name": "stdout",
     "output_type": "stream",
     "text": [
      "없음\n"
     ]
    }
   ],
   "source": [
    "if \"?\" in test_tri:\n",
    "    print(\"예\")\n",
    "else :\n",
    "    print(\"없음\")"
   ]
  },
  {
   "cell_type": "code",
   "execution_count": 29,
   "id": "ea4fb593",
   "metadata": {},
   "outputs": [
    {
     "data": {
      "text/plain": [
       "range(0, 3)"
      ]
     },
     "execution_count": 29,
     "metadata": {},
     "output_type": "execute_result"
    }
   ],
   "source": [
    "range(len(test_tri[0]))"
   ]
  },
  {
   "cell_type": "code",
   "execution_count": 24,
   "id": "3695a35e",
   "metadata": {},
   "outputs": [
    {
     "data": {
      "text/plain": [
       "'?'"
      ]
     },
     "execution_count": 24,
     "metadata": {},
     "output_type": "execute_result"
    }
   ],
   "source": [
    "test_tri[0][2]"
   ]
  },
  {
   "cell_type": "code",
   "execution_count": 26,
   "id": "de2b4c52",
   "metadata": {},
   "outputs": [],
   "source": [
    "test_tri = [\"4??\",\"?2\",\"1\"]"
   ]
  },
  {
   "cell_type": "code",
   "execution_count": 36,
   "id": "b675e543",
   "metadata": {
    "scrolled": true
   },
   "outputs": [
    {
     "data": {
      "text/plain": [
       "['4', '?', '?', '?', '2', '1']"
      ]
     },
     "execution_count": 36,
     "metadata": {},
     "output_type": "execute_result"
    }
   ],
   "source": [
    "asdf = []\n",
    "for x in test_tri:\n",
    "    for y in range(len(x)):\n",
    "        asdf.append(x[y])\n",
    "asdf"
   ]
  },
  {
   "cell_type": "code",
   "execution_count": 40,
   "id": "42968085",
   "metadata": {},
   "outputs": [
    {
     "data": {
      "text/plain": [
       "3"
      ]
     },
     "execution_count": 40,
     "metadata": {},
     "output_type": "execute_result"
    }
   ],
   "source": [
    "len(test_tri[0])"
   ]
  },
  {
   "cell_type": "code",
   "execution_count": 46,
   "id": "46a77faf",
   "metadata": {},
   "outputs": [
    {
     "data": {
      "text/plain": [
       "'?'"
      ]
     },
     "execution_count": 46,
     "metadata": {},
     "output_type": "execute_result"
    }
   ],
   "source": [
    "(test_tri[0][0] + test_tri[0][1])[-1]"
   ]
  },
  {
   "cell_type": "code",
   "execution_count": 45,
   "id": "bb5e903e",
   "metadata": {},
   "outputs": [
    {
     "data": {
      "text/plain": [
       "'?'"
      ]
     },
     "execution_count": 45,
     "metadata": {},
     "output_type": "execute_result"
    }
   ],
   "source": [
    "test_tri[1][0]"
   ]
  },
  {
   "cell_type": "code",
   "execution_count": 50,
   "id": "4cc179e4",
   "metadata": {},
   "outputs": [
    {
     "data": {
      "text/plain": [
       "'1'"
      ]
     },
     "execution_count": 50,
     "metadata": {},
     "output_type": "execute_result"
    }
   ],
   "source": [
    "test_tri[2]"
   ]
  },
  {
   "cell_type": "code",
   "execution_count": 68,
   "id": "23e6443b",
   "metadata": {},
   "outputs": [
    {
     "data": {
      "text/plain": [
       "'?'"
      ]
     },
     "execution_count": 68,
     "metadata": {},
     "output_type": "execute_result"
    }
   ],
   "source": [
    "test_tri[1][0]"
   ]
  },
  {
   "cell_type": "code",
   "execution_count": 69,
   "id": "cdc1c7e0",
   "metadata": {},
   "outputs": [
    {
     "data": {
      "text/plain": [
       "'2'"
      ]
     },
     "execution_count": 69,
     "metadata": {},
     "output_type": "execute_result"
    }
   ],
   "source": [
    "test_tri[1][1]"
   ]
  },
  {
   "cell_type": "code",
   "execution_count": 51,
   "id": "86331875",
   "metadata": {},
   "outputs": [
    {
     "data": {
      "text/plain": [
       "'?2'"
      ]
     },
     "execution_count": 51,
     "metadata": {},
     "output_type": "execute_result"
    }
   ],
   "source": [
    "test_tri[1][0] + test_tri[1][1]"
   ]
  },
  {
   "cell_type": "code",
   "execution_count": 70,
   "id": "c085331b",
   "metadata": {},
   "outputs": [
    {
     "data": {
      "text/plain": [
       "'2?'"
      ]
     },
     "execution_count": 70,
     "metadata": {},
     "output_type": "execute_result"
    }
   ],
   "source": [
    "test_tri[1][1] + test_tri[1][0]"
   ]
  },
  {
   "cell_type": "code",
   "execution_count": null,
   "id": "653fa186",
   "metadata": {},
   "outputs": [],
   "source": []
  },
  {
   "cell_type": "code",
   "execution_count": 60,
   "id": "096105b4",
   "metadata": {},
   "outputs": [
    {
     "ename": "SyntaxError",
     "evalue": "cannot assign to literal (Temp/ipykernel_2384/852142672.py, line 1)",
     "output_type": "error",
     "traceback": [
      "\u001b[1;36m  File \u001b[1;32m\"C:\\Users\\82103\\AppData\\Local\\Temp/ipykernel_2384/852142672.py\"\u001b[1;36m, line \u001b[1;32m1\u001b[0m\n\u001b[1;33m    1 = a+2\u001b[0m\n\u001b[1;37m    ^\u001b[0m\n\u001b[1;31mSyntaxError\u001b[0m\u001b[1;31m:\u001b[0m cannot assign to literal\n"
     ]
    }
   ],
   "source": [
    "1 = a+2"
   ]
  },
  {
   "cell_type": "code",
   "execution_count": 66,
   "id": "83070a17",
   "metadata": {},
   "outputs": [
    {
     "ename": "ValueError",
     "evalue": "invalid literal for int() with base 10: 'a2'",
     "output_type": "error",
     "traceback": [
      "\u001b[1;31m---------------------------------------------------------------------------\u001b[0m",
      "\u001b[1;31mValueError\u001b[0m                                Traceback (most recent call last)",
      "\u001b[1;32m~\\AppData\\Local\\Temp/ipykernel_2384/979568617.py\u001b[0m in \u001b[0;36m<module>\u001b[1;34m\u001b[0m\n\u001b[1;32m----> 1\u001b[1;33m \u001b[0mint\u001b[0m\u001b[1;33m(\u001b[0m\u001b[1;34m\"a\"\u001b[0m\u001b[1;33m+\u001b[0m\u001b[1;34m\"2\"\u001b[0m\u001b[1;33m)\u001b[0m\u001b[1;33m\u001b[0m\u001b[1;33m\u001b[0m\u001b[0m\n\u001b[0m",
      "\u001b[1;31mValueError\u001b[0m: invalid literal for int() with base 10: 'a2'"
     ]
    }
   ],
   "source": [
    "int(\"a\"+\"2\")"
   ]
  },
  {
   "cell_type": "code",
   "execution_count": 67,
   "id": "7b4ee9b0",
   "metadata": {},
   "outputs": [
    {
     "ename": "TypeError",
     "evalue": "unsupported operand type(s) for -: 'str' and 'str'",
     "output_type": "error",
     "traceback": [
      "\u001b[1;31m---------------------------------------------------------------------------\u001b[0m",
      "\u001b[1;31mTypeError\u001b[0m                                 Traceback (most recent call last)",
      "\u001b[1;32m~\\AppData\\Local\\Temp/ipykernel_2384/865504872.py\u001b[0m in \u001b[0;36m<module>\u001b[1;34m\u001b[0m\n\u001b[1;32m----> 1\u001b[1;33m \u001b[0mtest_tri\u001b[0m\u001b[1;33m[\u001b[0m\u001b[1;36m2\u001b[0m\u001b[1;33m]\u001b[0m \u001b[1;33m-\u001b[0m \u001b[0mtest_tri\u001b[0m\u001b[1;33m[\u001b[0m\u001b[1;36m1\u001b[0m\u001b[1;33m]\u001b[0m\u001b[1;33m[\u001b[0m\u001b[1;36m1\u001b[0m\u001b[1;33m]\u001b[0m\u001b[1;33m\u001b[0m\u001b[1;33m\u001b[0m\u001b[0m\n\u001b[0m",
      "\u001b[1;31mTypeError\u001b[0m: unsupported operand type(s) for -: 'str' and 'str'"
     ]
    }
   ],
   "source": [
    "test_tri[2] - test_tri[1][1]"
   ]
  },
  {
   "cell_type": "code",
   "execution_count": 88,
   "id": "9c38db61",
   "metadata": {},
   "outputs": [
    {
     "ename": "SyntaxError",
     "evalue": "cannot assign to literal (Temp/ipykernel_2384/4027367332.py, line 1)",
     "output_type": "error",
     "traceback": [
      "\u001b[1;36m  File \u001b[1;32m\"C:\\Users\\82103\\AppData\\Local\\Temp/ipykernel_2384/4027367332.py\"\u001b[1;36m, line \u001b[1;32m1\u001b[0m\n\u001b[1;33m    \"a\" = 0\u001b[0m\n\u001b[1;37m    ^\u001b[0m\n\u001b[1;31mSyntaxError\u001b[0m\u001b[1;31m:\u001b[0m cannot assign to literal\n"
     ]
    }
   ],
   "source": [
    "\"a\" = 0"
   ]
  },
  {
   "cell_type": "code",
   "execution_count": 87,
   "id": "751f048f",
   "metadata": {},
   "outputs": [
    {
     "ename": "SyntaxError",
     "evalue": "cannot assign to literal (Temp/ipykernel_2384/2997375310.py, line 1)",
     "output_type": "error",
     "traceback": [
      "\u001b[1;36m  File \u001b[1;32m\"C:\\Users\\82103\\AppData\\Local\\Temp/ipykernel_2384/2997375310.py\"\u001b[1;36m, line \u001b[1;32m1\u001b[0m\n\u001b[1;33m    \"?\"=0\u001b[0m\n\u001b[1;37m    ^\u001b[0m\n\u001b[1;31mSyntaxError\u001b[0m\u001b[1;31m:\u001b[0m cannot assign to literal\n"
     ]
    }
   ],
   "source": [
    "\"?\"=\n",
    "\"?\"=int(test_tri[2])-int(test_tri[1][1])"
   ]
  },
  {
   "cell_type": "code",
   "execution_count": 75,
   "id": "979fe085",
   "metadata": {},
   "outputs": [
    {
     "data": {
      "text/plain": [
       "'1'"
      ]
     },
     "execution_count": 75,
     "metadata": {},
     "output_type": "execute_result"
    }
   ],
   "source": [
    "test_tri[2]"
   ]
  },
  {
   "cell_type": "code",
   "execution_count": 76,
   "id": "4e3aa4f1",
   "metadata": {},
   "outputs": [
    {
     "data": {
      "text/plain": [
       "'2'"
      ]
     },
     "execution_count": 76,
     "metadata": {},
     "output_type": "execute_result"
    }
   ],
   "source": [
    "test_tri[1][1]"
   ]
  },
  {
   "cell_type": "code",
   "execution_count": 92,
   "id": "58391f66",
   "metadata": {},
   "outputs": [
    {
     "ename": "TypeError",
     "evalue": "'str' object does not support item assignment",
     "output_type": "error",
     "traceback": [
      "\u001b[1;31m---------------------------------------------------------------------------\u001b[0m",
      "\u001b[1;31mTypeError\u001b[0m                                 Traceback (most recent call last)",
      "\u001b[1;32m~\\AppData\\Local\\Temp/ipykernel_2384/2125324662.py\u001b[0m in \u001b[0;36m<module>\u001b[1;34m\u001b[0m\n\u001b[1;32m----> 1\u001b[1;33m \u001b[0mtest_tri\u001b[0m\u001b[1;33m[\u001b[0m\u001b[1;36m1\u001b[0m\u001b[1;33m]\u001b[0m\u001b[1;33m[\u001b[0m\u001b[1;36m0\u001b[0m\u001b[1;33m]\u001b[0m \u001b[1;33m=\u001b[0m \u001b[0ma\u001b[0m\u001b[1;33m\u001b[0m\u001b[1;33m\u001b[0m\u001b[0m\n\u001b[0m",
      "\u001b[1;31mTypeError\u001b[0m: 'str' object does not support item assignment"
     ]
    }
   ],
   "source": [
    "test_tri[1][0] = a"
   ]
  },
  {
   "cell_type": "code",
   "execution_count": 129,
   "id": "a34db961",
   "metadata": {},
   "outputs": [
    {
     "data": {
      "text/plain": [
       "False"
      ]
     },
     "execution_count": 129,
     "metadata": {},
     "output_type": "execute_result"
    }
   ],
   "source": [
    "test_tri1[1][0].isdigit()"
   ]
  },
  {
   "cell_type": "code",
   "execution_count": 97,
   "id": "b9e6eb03",
   "metadata": {},
   "outputs": [],
   "source": [
    "test_tri1 = [\"4??\",\"?2\",\"1\"]"
   ]
  },
  {
   "cell_type": "code",
   "execution_count": 98,
   "id": "90173a80",
   "metadata": {},
   "outputs": [],
   "source": [
    "test_tri1[0] = 5"
   ]
  },
  {
   "cell_type": "code",
   "execution_count": 102,
   "id": "ae7a367a",
   "metadata": {},
   "outputs": [
    {
     "data": {
      "text/plain": [
       "[5, '?2', '1']"
      ]
     },
     "execution_count": 102,
     "metadata": {},
     "output_type": "execute_result"
    }
   ],
   "source": [
    "test_tri1"
   ]
  },
  {
   "cell_type": "code",
   "execution_count": 107,
   "id": "9d8cb248",
   "metadata": {},
   "outputs": [],
   "source": [
    "test_tri1[1] = \"a2\""
   ]
  },
  {
   "cell_type": "code",
   "execution_count": 108,
   "id": "5b94db91",
   "metadata": {
    "scrolled": true
   },
   "outputs": [
    {
     "data": {
      "text/plain": [
       "[5, 'a2', '1']"
      ]
     },
     "execution_count": 108,
     "metadata": {},
     "output_type": "execute_result"
    }
   ],
   "source": [
    "test_tri1"
   ]
  },
  {
   "cell_type": "code",
   "execution_count": 112,
   "id": "65d595ca",
   "metadata": {},
   "outputs": [
    {
     "data": {
      "text/plain": [
       "'4??'"
      ]
     },
     "execution_count": 112,
     "metadata": {},
     "output_type": "execute_result"
    }
   ],
   "source": [
    "test_tri[0]"
   ]
  },
  {
   "cell_type": "code",
   "execution_count": 116,
   "id": "afcc50b8",
   "metadata": {},
   "outputs": [
    {
     "data": {
      "text/plain": [
       "3"
      ]
     },
     "execution_count": 116,
     "metadata": {},
     "output_type": "execute_result"
    }
   ],
   "source": [
    "len(test_tri[0])"
   ]
  },
  {
   "cell_type": "code",
   "execution_count": 122,
   "id": "b8c4ce11",
   "metadata": {},
   "outputs": [
    {
     "data": {
      "text/plain": [
       "range(0, 2)"
      ]
     },
     "execution_count": 122,
     "metadata": {},
     "output_type": "execute_result"
    }
   ],
   "source": [
    "range(len(test_tri[0])-1)"
   ]
  },
  {
   "cell_type": "code",
   "execution_count": null,
   "id": "73eef234",
   "metadata": {},
   "outputs": [],
   "source": [
    "0,1,2"
   ]
  },
  {
   "cell_type": "code",
   "execution_count": 115,
   "id": "4b783ee4",
   "metadata": {},
   "outputs": [
    {
     "data": {
      "text/plain": [
       "2"
      ]
     },
     "execution_count": 115,
     "metadata": {},
     "output_type": "execute_result"
    }
   ],
   "source": [
    "len(test_tri[1])"
   ]
  },
  {
   "cell_type": "code",
   "execution_count": 121,
   "id": "4917ad11",
   "metadata": {},
   "outputs": [
    {
     "data": {
      "text/plain": [
       "range(0, 2)"
      ]
     },
     "execution_count": 121,
     "metadata": {},
     "output_type": "execute_result"
    }
   ],
   "source": [
    "range(3-1)"
   ]
  },
  {
   "cell_type": "code",
   "execution_count": null,
   "id": "3252d480",
   "metadata": {},
   "outputs": [],
   "source": [
    "test_tri[0][0] + test_tri[0][1]\n",
    "test_tri[0][1] + test_tri[0][2]"
   ]
  },
  {
   "cell_type": "code",
   "execution_count": 133,
   "id": "c5f3e3d0",
   "metadata": {},
   "outputs": [
    {
     "data": {
      "text/plain": [
       "['4??', '?2', '1']"
      ]
     },
     "execution_count": 133,
     "metadata": {},
     "output_type": "execute_result"
    }
   ],
   "source": [
    "test_tri"
   ]
  },
  {
   "cell_type": "code",
   "execution_count": 141,
   "id": "630e93fe",
   "metadata": {},
   "outputs": [
    {
     "data": {
      "text/plain": [
       "range(0, 2)"
      ]
     },
     "execution_count": 141,
     "metadata": {},
     "output_type": "execute_result"
    }
   ],
   "source": [
    "range(len(test_tri[0])-1)"
   ]
  },
  {
   "cell_type": "code",
   "execution_count": 148,
   "id": "df1fab5b",
   "metadata": {},
   "outputs": [
    {
     "name": "stdout",
     "output_type": "stream",
     "text": [
      "4?\n",
      "??\n",
      "?2\n"
     ]
    }
   ],
   "source": [
    "for x in test_tri:\n",
    "    for y in range(len(x)-1):\n",
    "        print(x[y] + x[y+1])"
   ]
  },
  {
   "cell_type": "markdown",
   "id": "a9c160e6",
   "metadata": {},
   "source": [
    "테스트 시간 종료.............. 모르겠다\n",
    "어떻게 ?마다 알파벳을 매핑하고\n",
    "그 더한걸 다음인덱스의 값과 같은지 비교를 못하겠다"
   ]
  }
 ],
 "metadata": {
  "kernelspec": {
   "display_name": "Python 3 (ipykernel)",
   "language": "python",
   "name": "python3"
  },
  "language_info": {
   "codemirror_mode": {
    "name": "ipython",
    "version": 3
   },
   "file_extension": ".py",
   "mimetype": "text/x-python",
   "name": "python",
   "nbconvert_exporter": "python",
   "pygments_lexer": "ipython3",
   "version": "3.9.7"
  }
 },
 "nbformat": 4,
 "nbformat_minor": 5
}
