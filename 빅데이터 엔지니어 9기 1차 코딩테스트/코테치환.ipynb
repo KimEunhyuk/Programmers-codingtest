{
 "cells": [
  {
   "cell_type": "code",
   "execution_count": 6,
   "id": "4df89a0b",
   "metadata": {},
   "outputs": [],
   "source": [
    "number = [1,2,3,4,5,6,7,8,9]"
   ]
  },
  {
   "cell_type": "code",
   "execution_count": 109,
   "id": "0ea6bada",
   "metadata": {},
   "outputs": [],
   "source": [
    "dictionary = ['is there anybody out there']"
   ]
  },
  {
   "cell_type": "code",
   "execution_count": 53,
   "id": "a0f025ae",
   "metadata": {},
   "outputs": [],
   "source": [
    "dd = ','.join(dictionary).split(' ')"
   ]
  },
  {
   "cell_type": "code",
   "execution_count": 56,
   "id": "483c7806",
   "metadata": {},
   "outputs": [
    {
     "data": {
      "text/plain": [
       "['is', 'out', 'there', 'there', 'anybody']"
      ]
     },
     "execution_count": 56,
     "metadata": {},
     "output_type": "execute_result"
    }
   ],
   "source": [
    "dd.sort(key = len)\n",
    "dd"
   ]
  },
  {
   "cell_type": "code",
   "execution_count": 122,
   "id": "29b5c891",
   "metadata": {},
   "outputs": [],
   "source": [
    "ff = [\"may\",\"i\",\"have\",\"a\",\"large\",\"container\",\"of\",\"coffee\"]\n"
   ]
  },
  {
   "cell_type": "code",
   "execution_count": 69,
   "id": "6412abb9",
   "metadata": {},
   "outputs": [
    {
     "data": {
      "text/plain": [
       "['i', 'a', 'of', 'may', 'have', 'large', 'coffee', 'container']"
      ]
     },
     "execution_count": 69,
     "metadata": {},
     "output_type": "execute_result"
    }
   ],
   "source": [
    "ff.sort(key = len)\n",
    "ff"
   ]
  },
  {
   "cell_type": "code",
   "execution_count": 70,
   "id": "a59c047b",
   "metadata": {},
   "outputs": [
    {
     "data": {
      "text/plain": [
       "3"
      ]
     },
     "execution_count": 70,
     "metadata": {},
     "output_type": "execute_result"
    }
   ],
   "source": [
    "len(ff[3])"
   ]
  },
  {
   "cell_type": "code",
   "execution_count": 81,
   "id": "524dadbd",
   "metadata": {},
   "outputs": [
    {
     "data": {
      "text/plain": [
       "['i', 'a', 'of', 'may', 'have', 'large', 'coffee', 'container']"
      ]
     },
     "execution_count": 81,
     "metadata": {},
     "output_type": "execute_result"
    }
   ],
   "source": [
    "ff.sort(key=len)\n",
    "ff"
   ]
  },
  {
   "cell_type": "code",
   "execution_count": 123,
   "id": "f118fcf2",
   "metadata": {},
   "outputs": [
    {
     "data": {
      "text/plain": [
       "['a', 'coffee', 'container', 'have', 'i', 'large', 'may', 'of']"
      ]
     },
     "execution_count": 123,
     "metadata": {},
     "output_type": "execute_result"
    }
   ],
   "source": [
    "ff2 = sorted(ff)\n",
    "ff2"
   ]
  },
  {
   "cell_type": "code",
   "execution_count": 124,
   "id": "6c70aa15",
   "metadata": {},
   "outputs": [
    {
     "data": {
      "text/plain": [
       "['a', 'i', 'of', 'may', 'have', 'large', 'coffee', 'container']"
      ]
     },
     "execution_count": 124,
     "metadata": {},
     "output_type": "execute_result"
    }
   ],
   "source": [
    "ff2.sort(key=len)\n",
    "ff2"
   ]
  },
  {
   "cell_type": "code",
   "execution_count": 119,
   "id": "5c66eca3",
   "metadata": {
    "scrolled": true
   },
   "outputs": [
    {
     "data": {
      "text/plain": [
       "1"
      ]
     },
     "execution_count": 119,
     "metadata": {},
     "output_type": "execute_result"
    }
   ],
   "source": [
    "len(ff2[0])"
   ]
  },
  {
   "cell_type": "code",
   "execution_count": 125,
   "id": "64fa22f4",
   "metadata": {},
   "outputs": [
    {
     "data": {
      "text/plain": [
       "range(0, 8)"
      ]
     },
     "execution_count": 125,
     "metadata": {},
     "output_type": "execute_result"
    }
   ],
   "source": [
    "range(len(ff2))"
   ]
  },
  {
   "cell_type": "code",
   "execution_count": 222,
   "id": "2f5b3224",
   "metadata": {
    "scrolled": true
   },
   "outputs": [
    {
     "data": {
      "text/plain": [
       "'11234569'"
      ]
     },
     "execution_count": 222,
     "metadata": {},
     "output_type": "execute_result"
    }
   ],
   "source": [
    "num = []\n",
    "for x in range(len(ff2)):\n",
    "    num.append(len(ff2[x]))\n",
    "snum = str(num).replace('[', \"\").replace(']', \"\").replace(\",\", \"\").replace(\" \",\"\")\n",
    "snum"
   ]
  },
  {
   "cell_type": "code",
   "execution_count": 185,
   "id": "45008861",
   "metadata": {},
   "outputs": [
    {
     "data": {
      "text/plain": [
       "'2'"
      ]
     },
     "execution_count": 185,
     "metadata": {},
     "output_type": "execute_result"
    }
   ],
   "source": [
    "snum[2]"
   ]
  },
  {
   "cell_type": "code",
   "execution_count": 196,
   "id": "6171d4c2",
   "metadata": {},
   "outputs": [],
   "source": [
    "zipnf = list(zip(snum, ff2))"
   ]
  },
  {
   "cell_type": "code",
   "execution_count": 197,
   "id": "1489a84b",
   "metadata": {},
   "outputs": [
    {
     "data": {
      "text/plain": [
       "[('1', 'a'),\n",
       " ('1', 'i'),\n",
       " ('2', 'of'),\n",
       " ('3', 'may'),\n",
       " ('4', 'have'),\n",
       " ('5', 'large'),\n",
       " ('6', 'coffee'),\n",
       " ('9', 'container')]"
      ]
     },
     "execution_count": 197,
     "metadata": {},
     "output_type": "execute_result"
    }
   ],
   "source": [
    "zipnf"
   ]
  },
  {
   "cell_type": "code",
   "execution_count": 206,
   "id": "a88ce6eb",
   "metadata": {},
   "outputs": [
    {
     "data": {
      "text/plain": [
       "'have'"
      ]
     },
     "execution_count": 206,
     "metadata": {},
     "output_type": "execute_result"
    }
   ],
   "source": [
    "zipnf[4][1]"
   ]
  },
  {
   "cell_type": "code",
   "execution_count": 143,
   "id": "9ab2ed99",
   "metadata": {},
   "outputs": [],
   "source": [
    "num = []\n",
    "def test(number, dictionary):\n",
    "    dictionary2 = sorted(dictionary)\n",
    "    dictionary2.sort(key=len)\n",
    "    for x in range(len(ff2)):\n",
    "        num.append(len(ff2[x]))\n",
    "    num\n",
    "    zipp = list(zip(num, dictionary2))\n",
    "    return zipp(number)[1]"
   ]
  },
  {
   "cell_type": "code",
   "execution_count": 145,
   "id": "0eee34d8",
   "metadata": {},
   "outputs": [
    {
     "ename": "TypeError",
     "evalue": "'list' object is not callable",
     "output_type": "error",
     "traceback": [
      "\u001b[1;31m---------------------------------------------------------------------------\u001b[0m",
      "\u001b[1;31mTypeError\u001b[0m                                 Traceback (most recent call last)",
      "\u001b[1;32m~\\AppData\\Local\\Temp/ipykernel_18292/1821556608.py\u001b[0m in \u001b[0;36m<module>\u001b[1;34m\u001b[0m\n\u001b[1;32m----> 1\u001b[1;33m \u001b[0mtest\u001b[0m\u001b[1;33m(\u001b[0m\u001b[1;36m23557\u001b[0m\u001b[1;33m,\u001b[0m \u001b[1;33m[\u001b[0m\u001b[1;34m'is there anybody out there'\u001b[0m\u001b[1;33m]\u001b[0m\u001b[1;33m)\u001b[0m\u001b[1;33m\u001b[0m\u001b[1;33m\u001b[0m\u001b[0m\n\u001b[0m",
      "\u001b[1;32m~\\AppData\\Local\\Temp/ipykernel_18292/3803621579.py\u001b[0m in \u001b[0;36mtest\u001b[1;34m(number, dictionary)\u001b[0m\n\u001b[0;32m      7\u001b[0m     \u001b[0mnum\u001b[0m\u001b[1;33m\u001b[0m\u001b[1;33m\u001b[0m\u001b[0m\n\u001b[0;32m      8\u001b[0m     \u001b[0mzipp\u001b[0m \u001b[1;33m=\u001b[0m \u001b[0mlist\u001b[0m\u001b[1;33m(\u001b[0m\u001b[0mzip\u001b[0m\u001b[1;33m(\u001b[0m\u001b[0mnum\u001b[0m\u001b[1;33m,\u001b[0m \u001b[0mdictionary2\u001b[0m\u001b[1;33m)\u001b[0m\u001b[1;33m)\u001b[0m\u001b[1;33m\u001b[0m\u001b[1;33m\u001b[0m\u001b[0m\n\u001b[1;32m----> 9\u001b[1;33m     \u001b[1;32mreturn\u001b[0m \u001b[0mzipp\u001b[0m\u001b[1;33m(\u001b[0m\u001b[0mnumber\u001b[0m\u001b[1;33m)\u001b[0m\u001b[1;33m[\u001b[0m\u001b[1;36m1\u001b[0m\u001b[1;33m]\u001b[0m\u001b[1;33m\u001b[0m\u001b[1;33m\u001b[0m\u001b[0m\n\u001b[0m",
      "\u001b[1;31mTypeError\u001b[0m: 'list' object is not callable"
     ]
    }
   ],
   "source": [
    "test(23557, ['is there anybody out there'])"
   ]
  },
  {
   "cell_type": "code",
   "execution_count": 218,
   "id": "7594f97b",
   "metadata": {},
   "outputs": [],
   "source": [
    "dic1 = ['is there anybody out there']\n",
    "def sss(number3):\n",
    "    for i in range(len(dic1)):\n",
    "        number3[i] = zipnf[i][1]"
   ]
  },
  {
   "cell_type": "code",
   "execution_count": 221,
   "id": "76c8acbb",
   "metadata": {},
   "outputs": [
    {
     "ename": "TypeError",
     "evalue": "'int' object does not support item assignment",
     "output_type": "error",
     "traceback": [
      "\u001b[1;31m---------------------------------------------------------------------------\u001b[0m",
      "\u001b[1;31mTypeError\u001b[0m                                 Traceback (most recent call last)",
      "\u001b[1;32m~\\AppData\\Local\\Temp/ipykernel_18292/3716533773.py\u001b[0m in \u001b[0;36m<module>\u001b[1;34m\u001b[0m\n\u001b[1;32m----> 1\u001b[1;33m \u001b[0msss\u001b[0m\u001b[1;33m(\u001b[0m\u001b[1;36m2\u001b[0m\u001b[1;33m)\u001b[0m\u001b[1;33m\u001b[0m\u001b[1;33m\u001b[0m\u001b[0m\n\u001b[0m",
      "\u001b[1;32m~\\AppData\\Local\\Temp/ipykernel_18292/4042405842.py\u001b[0m in \u001b[0;36msss\u001b[1;34m(number3)\u001b[0m\n\u001b[0;32m      2\u001b[0m \u001b[1;32mdef\u001b[0m \u001b[0msss\u001b[0m\u001b[1;33m(\u001b[0m\u001b[0mnumber3\u001b[0m\u001b[1;33m)\u001b[0m\u001b[1;33m:\u001b[0m\u001b[1;33m\u001b[0m\u001b[1;33m\u001b[0m\u001b[0m\n\u001b[0;32m      3\u001b[0m     \u001b[1;32mfor\u001b[0m \u001b[0mi\u001b[0m \u001b[1;32min\u001b[0m \u001b[0mrange\u001b[0m\u001b[1;33m(\u001b[0m\u001b[0mlen\u001b[0m\u001b[1;33m(\u001b[0m\u001b[0mdic1\u001b[0m\u001b[1;33m)\u001b[0m\u001b[1;33m)\u001b[0m\u001b[1;33m:\u001b[0m\u001b[1;33m\u001b[0m\u001b[1;33m\u001b[0m\u001b[0m\n\u001b[1;32m----> 4\u001b[1;33m         \u001b[0mnumber3\u001b[0m\u001b[1;33m[\u001b[0m\u001b[0mi\u001b[0m\u001b[1;33m]\u001b[0m \u001b[1;33m=\u001b[0m \u001b[0mzipnf\u001b[0m\u001b[1;33m[\u001b[0m\u001b[0mi\u001b[0m\u001b[1;33m]\u001b[0m\u001b[1;33m[\u001b[0m\u001b[1;36m1\u001b[0m\u001b[1;33m]\u001b[0m\u001b[1;33m\u001b[0m\u001b[1;33m\u001b[0m\u001b[0m\n\u001b[0m",
      "\u001b[1;31mTypeError\u001b[0m: 'int' object does not support item assignment"
     ]
    }
   ],
   "source": [
    "sss(2)"
   ]
  },
  {
   "cell_type": "code",
   "execution_count": null,
   "id": "cd48cb20",
   "metadata": {},
   "outputs": [],
   "source": []
  }
 ],
 "metadata": {
  "kernelspec": {
   "display_name": "Python 3 (ipykernel)",
   "language": "python",
   "name": "python3"
  },
  "language_info": {
   "codemirror_mode": {
    "name": "ipython",
    "version": 3
   },
   "file_extension": ".py",
   "mimetype": "text/x-python",
   "name": "python",
   "nbconvert_exporter": "python",
   "pygments_lexer": "ipython3",
   "version": "3.9.7"
  }
 },
 "nbformat": 4,
 "nbformat_minor": 5
}
