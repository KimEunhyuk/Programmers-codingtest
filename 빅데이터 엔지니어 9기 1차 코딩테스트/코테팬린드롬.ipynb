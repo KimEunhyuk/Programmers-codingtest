{
 "cells": [
  {
   "cell_type": "code",
   "execution_count": 1,
   "id": "b1052961",
   "metadata": {},
   "outputs": [
    {
     "name": "stdout",
     "output_type": "stream",
     "text": [
      "0\n"
     ]
    }
   ],
   "source": [
    "import sys\n",
    "\n",
    "name = list(map(str, sys.stdin.readline().strip()))\n",
    "idx = 0\n",
    "\n",
    "\n",
    "def check_Palindrome(string_list):\n",
    "    start, end = 0, len(string_list)-1\n",
    "\n",
    "    while start < end:\n",
    "        if string_list[start] != string_list[end]:\n",
    "            return False\n",
    "        start += 1\n",
    "        end -= 1\n",
    "    return True\n",
    "\n",
    "\n",
    "while not check_Palindrome(name[idx:]):\n",
    "    idx += 1\n",
    "\n",
    "print(len(name)+idx)"
   ]
  },
  {
   "cell_type": "code",
   "execution_count": 8,
   "id": "79cca77c",
   "metadata": {},
   "outputs": [
    {
     "data": {
      "text/plain": [
       "True"
      ]
     },
     "execution_count": 8,
     "metadata": {},
     "output_type": "execute_result"
    }
   ],
   "source": [
    "check_Palindrome('ababa')"
   ]
  },
  {
   "cell_type": "code",
   "execution_count": 16,
   "id": "b1509637",
   "metadata": {},
   "outputs": [
    {
     "name": "stdout",
     "output_type": "stream",
     "text": [
      "0\n"
     ]
    }
   ],
   "source": [
    "import sys\n",
    "\n",
    "\n",
    "s = sys.stdin.readline().rstrip('\\n')\n",
    "s_list = list(s)\n",
    "s_list.reverse()\n",
    "ok_counter = False\n",
    "reverse_s = ''.join(s_list)\n",
    "if s == reverse_s:\n",
    "    print(len(s))\n",
    "else:\n",
    "    for i in range(1,len(s)):\n",
    "        q = list(s[0:i])\n",
    "        q.reverse()\n",
    "        a = ''.join(q)\n",
    "\n",
    "        tmp_s = s + a\n",
    "        tmp_s_list = list(tmp_s)\n",
    "        tmp_s_list.reverse()\n",
    "        reverse_tmp = ''.join(tmp_s_list)\n",
    "        if tmp_s == reverse_tmp:\n",
    "            ok_counter = True\n",
    "            print(len(tmp_s))\n",
    "            break\n",
    "    if ok_counter == False:\n",
    "        print(len(tmp_s))"
   ]
  },
  {
   "cell_type": "code",
   "execution_count": 2,
   "id": "2e7e3b82",
   "metadata": {},
   "outputs": [
    {
     "name": "stdout",
     "output_type": "stream",
     "text": [
      "aewscvasef\n",
      "19\n"
     ]
    }
   ],
   "source": [
    "def is_pallindrome(str):\n",
    "    reversed_str = list(reversed(str))\n",
    "    for i in range(len(str)):\n",
    "        if str[i] == reversed_str[i]:\n",
    "            continue\n",
    "        else:\n",
    "            return False\n",
    "    return True\n",
    "\n",
    "\n",
    "if __name__ == \"__main__\":\n",
    "    s = input()\n",
    "    if is_pallindrome(s):\n",
    "        print(len(s)) \n",
    "    else:           \n",
    "        reversed_str = list(reversed(s))         \n",
    "        for i in range(len(s) - 1, 0, -1): \n",
    "            if is_pallindrome(reversed_str[:i]):\n",
    "                print(len(s) * 2 - i) \n",
    "                break\n",
    "            elif i == 1:\n",
    "                print(len(s) * 2) "
   ]
  },
  {
   "cell_type": "code",
   "execution_count": null,
   "id": "bd7669ff",
   "metadata": {},
   "outputs": [],
   "source": []
  }
 ],
 "metadata": {
  "kernelspec": {
   "display_name": "Python 3 (ipykernel)",
   "language": "python",
   "name": "python3"
  },
  "language_info": {
   "codemirror_mode": {
    "name": "ipython",
    "version": 3
   },
   "file_extension": ".py",
   "mimetype": "text/x-python",
   "name": "python",
   "nbconvert_exporter": "python",
   "pygments_lexer": "ipython3",
   "version": "3.9.7"
  }
 },
 "nbformat": 4,
 "nbformat_minor": 5
}
